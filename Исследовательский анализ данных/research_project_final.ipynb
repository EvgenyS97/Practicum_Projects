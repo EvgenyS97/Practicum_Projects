{
 "cells": [
  {
   "cell_type": "markdown",
   "id": "86c40ea4",
   "metadata": {},
   "source": [
    "В распоряжении данные сервиса Яндекс Недвижимость — архив объявлений за несколько лет о продаже квартир в Санкт-Петербурге и соседних населённых пунктах.\n",
    "О каждой квартире в базе содержится два типа данных: добавленные пользователем и картографические. Например, к первому типу относятся площадь квартиры, её этаж и количество балконов, ко второму — расстояния до центра города, аэропорта и ближайшего парка.\n",
    "\n",
    "Задача: найти интересные особенности и зависимости, которые существуют на рынке недвижимости.\n",
    "\n",
    "Описание данных:\n",
    "* airports_nearest — расстояние до ближайшего аэропорта в метрах (м)\n",
    "* balcony — число балконов\n",
    "* ceiling_height — высота потолков (м)\n",
    "* cityCenters_nearest — расстояние до центра города (м)\n",
    "* days_exposition — сколько дней было размещено объявление (от публикации до снятия)\n",
    "* first_day_exposition — дата публикации\n",
    "* floor — этаж\n",
    "* floors_total — всего этажей в доме\n",
    "* is_apartment — апартаменты (булев тип)\n",
    "* kitchen_area — площадь кухни в квадратных метрах (м²)\n",
    "* last_price — цена на момент снятия с публикации\n",
    "* living_area — жилая площадь в квадратных метрах (м²)\n",
    "* locality_name — название населённого пункта\n",
    "* open_plan — свободная планировка (булев тип)\n",
    "* parks_around3000 — число парков в радиусе 3 км\n",
    "* parks_nearest — расстояние до ближайшего парка (м)\n",
    "* ponds_around3000 — число водоёмов в радиусе 3 км\n",
    "* ponds_nearest — расстояние до ближайшего водоёма (м)\n",
    "* rooms — число комнат\n",
    "* studio — квартира-студия (булев тип)\n",
    "* total_area — общая площадь квартиры в квадратных метрах (м²)\n",
    "* total_images — число фотографий квартиры в объявлении\n"
   ]
  },
  {
   "cell_type": "code",
   "execution_count": 1,
   "id": "177df22f",
   "metadata": {},
   "outputs": [],
   "source": [
    "import pandas as pd\n",
    "import seaborn as sns\n",
    "import numpy as np\n",
    "import matplotlib.pyplot as plt\n",
    "from collections import Counter\n",
    "pd.options.mode.chained_assignment = None  # отключаем предупреждения Pandas\n",
    "import warnings \n",
    "warnings.filterwarnings('ignore') # отключаем предупреждения"
   ]
  },
  {
   "cell_type": "markdown",
   "id": "def1cc26",
   "metadata": {},
   "source": [
    "# ШАГ 1 ознакомление с данными"
   ]
  },
  {
   "cell_type": "code",
   "execution_count": 2,
   "id": "378c2520",
   "metadata": {},
   "outputs": [],
   "source": [
    "try:\n",
    "    data = pd.read_csv('/datasets/real_estate_data.csv', sep='\\t')\n",
    "except:\n",
    "    data = pd.read_csv('real_estate_data.csv', sep='\\t')"
   ]
  },
  {
   "cell_type": "code",
   "execution_count": 3,
   "id": "957d6235",
   "metadata": {},
   "outputs": [
    {
     "data": {
      "text/html": [
       "<div>\n",
       "<style scoped>\n",
       "    .dataframe tbody tr th:only-of-type {\n",
       "        vertical-align: middle;\n",
       "    }\n",
       "\n",
       "    .dataframe tbody tr th {\n",
       "        vertical-align: top;\n",
       "    }\n",
       "\n",
       "    .dataframe thead th {\n",
       "        text-align: right;\n",
       "    }\n",
       "</style>\n",
       "<table border=\"1\" class=\"dataframe\">\n",
       "  <thead>\n",
       "    <tr style=\"text-align: right;\">\n",
       "      <th></th>\n",
       "      <th>total_images</th>\n",
       "      <th>last_price</th>\n",
       "      <th>total_area</th>\n",
       "      <th>first_day_exposition</th>\n",
       "      <th>rooms</th>\n",
       "      <th>ceiling_height</th>\n",
       "      <th>floors_total</th>\n",
       "      <th>living_area</th>\n",
       "      <th>floor</th>\n",
       "      <th>is_apartment</th>\n",
       "      <th>...</th>\n",
       "      <th>kitchen_area</th>\n",
       "      <th>balcony</th>\n",
       "      <th>locality_name</th>\n",
       "      <th>airports_nearest</th>\n",
       "      <th>cityCenters_nearest</th>\n",
       "      <th>parks_around3000</th>\n",
       "      <th>parks_nearest</th>\n",
       "      <th>ponds_around3000</th>\n",
       "      <th>ponds_nearest</th>\n",
       "      <th>days_exposition</th>\n",
       "    </tr>\n",
       "  </thead>\n",
       "  <tbody>\n",
       "    <tr>\n",
       "      <th>0</th>\n",
       "      <td>20</td>\n",
       "      <td>13000000.0</td>\n",
       "      <td>108.00</td>\n",
       "      <td>2019-03-07T00:00:00</td>\n",
       "      <td>3</td>\n",
       "      <td>2.70</td>\n",
       "      <td>16.0</td>\n",
       "      <td>51.00</td>\n",
       "      <td>8</td>\n",
       "      <td>NaN</td>\n",
       "      <td>...</td>\n",
       "      <td>25.00</td>\n",
       "      <td>NaN</td>\n",
       "      <td>Санкт-Петербург</td>\n",
       "      <td>18863.0</td>\n",
       "      <td>16028.0</td>\n",
       "      <td>1.0</td>\n",
       "      <td>482.0</td>\n",
       "      <td>2.0</td>\n",
       "      <td>755.0</td>\n",
       "      <td>NaN</td>\n",
       "    </tr>\n",
       "    <tr>\n",
       "      <th>1</th>\n",
       "      <td>7</td>\n",
       "      <td>3350000.0</td>\n",
       "      <td>40.40</td>\n",
       "      <td>2018-12-04T00:00:00</td>\n",
       "      <td>1</td>\n",
       "      <td>NaN</td>\n",
       "      <td>11.0</td>\n",
       "      <td>18.60</td>\n",
       "      <td>1</td>\n",
       "      <td>NaN</td>\n",
       "      <td>...</td>\n",
       "      <td>11.00</td>\n",
       "      <td>2.0</td>\n",
       "      <td>посёлок Шушары</td>\n",
       "      <td>12817.0</td>\n",
       "      <td>18603.0</td>\n",
       "      <td>0.0</td>\n",
       "      <td>NaN</td>\n",
       "      <td>0.0</td>\n",
       "      <td>NaN</td>\n",
       "      <td>81.0</td>\n",
       "    </tr>\n",
       "    <tr>\n",
       "      <th>2</th>\n",
       "      <td>10</td>\n",
       "      <td>5196000.0</td>\n",
       "      <td>56.00</td>\n",
       "      <td>2015-08-20T00:00:00</td>\n",
       "      <td>2</td>\n",
       "      <td>NaN</td>\n",
       "      <td>5.0</td>\n",
       "      <td>34.30</td>\n",
       "      <td>4</td>\n",
       "      <td>NaN</td>\n",
       "      <td>...</td>\n",
       "      <td>8.30</td>\n",
       "      <td>0.0</td>\n",
       "      <td>Санкт-Петербург</td>\n",
       "      <td>21741.0</td>\n",
       "      <td>13933.0</td>\n",
       "      <td>1.0</td>\n",
       "      <td>90.0</td>\n",
       "      <td>2.0</td>\n",
       "      <td>574.0</td>\n",
       "      <td>558.0</td>\n",
       "    </tr>\n",
       "    <tr>\n",
       "      <th>3</th>\n",
       "      <td>0</td>\n",
       "      <td>64900000.0</td>\n",
       "      <td>159.00</td>\n",
       "      <td>2015-07-24T00:00:00</td>\n",
       "      <td>3</td>\n",
       "      <td>NaN</td>\n",
       "      <td>14.0</td>\n",
       "      <td>NaN</td>\n",
       "      <td>9</td>\n",
       "      <td>NaN</td>\n",
       "      <td>...</td>\n",
       "      <td>NaN</td>\n",
       "      <td>0.0</td>\n",
       "      <td>Санкт-Петербург</td>\n",
       "      <td>28098.0</td>\n",
       "      <td>6800.0</td>\n",
       "      <td>2.0</td>\n",
       "      <td>84.0</td>\n",
       "      <td>3.0</td>\n",
       "      <td>234.0</td>\n",
       "      <td>424.0</td>\n",
       "    </tr>\n",
       "    <tr>\n",
       "      <th>4</th>\n",
       "      <td>2</td>\n",
       "      <td>10000000.0</td>\n",
       "      <td>100.00</td>\n",
       "      <td>2018-06-19T00:00:00</td>\n",
       "      <td>2</td>\n",
       "      <td>3.03</td>\n",
       "      <td>14.0</td>\n",
       "      <td>32.00</td>\n",
       "      <td>13</td>\n",
       "      <td>NaN</td>\n",
       "      <td>...</td>\n",
       "      <td>41.00</td>\n",
       "      <td>NaN</td>\n",
       "      <td>Санкт-Петербург</td>\n",
       "      <td>31856.0</td>\n",
       "      <td>8098.0</td>\n",
       "      <td>2.0</td>\n",
       "      <td>112.0</td>\n",
       "      <td>1.0</td>\n",
       "      <td>48.0</td>\n",
       "      <td>121.0</td>\n",
       "    </tr>\n",
       "    <tr>\n",
       "      <th>5</th>\n",
       "      <td>10</td>\n",
       "      <td>2890000.0</td>\n",
       "      <td>30.40</td>\n",
       "      <td>2018-09-10T00:00:00</td>\n",
       "      <td>1</td>\n",
       "      <td>NaN</td>\n",
       "      <td>12.0</td>\n",
       "      <td>14.40</td>\n",
       "      <td>5</td>\n",
       "      <td>NaN</td>\n",
       "      <td>...</td>\n",
       "      <td>9.10</td>\n",
       "      <td>NaN</td>\n",
       "      <td>городской посёлок Янино-1</td>\n",
       "      <td>NaN</td>\n",
       "      <td>NaN</td>\n",
       "      <td>NaN</td>\n",
       "      <td>NaN</td>\n",
       "      <td>NaN</td>\n",
       "      <td>NaN</td>\n",
       "      <td>55.0</td>\n",
       "    </tr>\n",
       "    <tr>\n",
       "      <th>6</th>\n",
       "      <td>6</td>\n",
       "      <td>3700000.0</td>\n",
       "      <td>37.30</td>\n",
       "      <td>2017-11-02T00:00:00</td>\n",
       "      <td>1</td>\n",
       "      <td>NaN</td>\n",
       "      <td>26.0</td>\n",
       "      <td>10.60</td>\n",
       "      <td>6</td>\n",
       "      <td>NaN</td>\n",
       "      <td>...</td>\n",
       "      <td>14.40</td>\n",
       "      <td>1.0</td>\n",
       "      <td>посёлок Парголово</td>\n",
       "      <td>52996.0</td>\n",
       "      <td>19143.0</td>\n",
       "      <td>0.0</td>\n",
       "      <td>NaN</td>\n",
       "      <td>0.0</td>\n",
       "      <td>NaN</td>\n",
       "      <td>155.0</td>\n",
       "    </tr>\n",
       "    <tr>\n",
       "      <th>7</th>\n",
       "      <td>5</td>\n",
       "      <td>7915000.0</td>\n",
       "      <td>71.60</td>\n",
       "      <td>2019-04-18T00:00:00</td>\n",
       "      <td>2</td>\n",
       "      <td>NaN</td>\n",
       "      <td>24.0</td>\n",
       "      <td>NaN</td>\n",
       "      <td>22</td>\n",
       "      <td>NaN</td>\n",
       "      <td>...</td>\n",
       "      <td>18.90</td>\n",
       "      <td>2.0</td>\n",
       "      <td>Санкт-Петербург</td>\n",
       "      <td>23982.0</td>\n",
       "      <td>11634.0</td>\n",
       "      <td>0.0</td>\n",
       "      <td>NaN</td>\n",
       "      <td>0.0</td>\n",
       "      <td>NaN</td>\n",
       "      <td>NaN</td>\n",
       "    </tr>\n",
       "    <tr>\n",
       "      <th>8</th>\n",
       "      <td>20</td>\n",
       "      <td>2900000.0</td>\n",
       "      <td>33.16</td>\n",
       "      <td>2018-05-23T00:00:00</td>\n",
       "      <td>1</td>\n",
       "      <td>NaN</td>\n",
       "      <td>27.0</td>\n",
       "      <td>15.43</td>\n",
       "      <td>26</td>\n",
       "      <td>NaN</td>\n",
       "      <td>...</td>\n",
       "      <td>8.81</td>\n",
       "      <td>NaN</td>\n",
       "      <td>посёлок Мурино</td>\n",
       "      <td>NaN</td>\n",
       "      <td>NaN</td>\n",
       "      <td>NaN</td>\n",
       "      <td>NaN</td>\n",
       "      <td>NaN</td>\n",
       "      <td>NaN</td>\n",
       "      <td>189.0</td>\n",
       "    </tr>\n",
       "    <tr>\n",
       "      <th>9</th>\n",
       "      <td>18</td>\n",
       "      <td>5400000.0</td>\n",
       "      <td>61.00</td>\n",
       "      <td>2017-02-26T00:00:00</td>\n",
       "      <td>3</td>\n",
       "      <td>2.50</td>\n",
       "      <td>9.0</td>\n",
       "      <td>43.60</td>\n",
       "      <td>7</td>\n",
       "      <td>NaN</td>\n",
       "      <td>...</td>\n",
       "      <td>6.50</td>\n",
       "      <td>2.0</td>\n",
       "      <td>Санкт-Петербург</td>\n",
       "      <td>50898.0</td>\n",
       "      <td>15008.0</td>\n",
       "      <td>0.0</td>\n",
       "      <td>NaN</td>\n",
       "      <td>0.0</td>\n",
       "      <td>NaN</td>\n",
       "      <td>289.0</td>\n",
       "    </tr>\n",
       "    <tr>\n",
       "      <th>10</th>\n",
       "      <td>5</td>\n",
       "      <td>5050000.0</td>\n",
       "      <td>39.60</td>\n",
       "      <td>2017-11-16T00:00:00</td>\n",
       "      <td>1</td>\n",
       "      <td>2.67</td>\n",
       "      <td>12.0</td>\n",
       "      <td>20.30</td>\n",
       "      <td>3</td>\n",
       "      <td>NaN</td>\n",
       "      <td>...</td>\n",
       "      <td>8.50</td>\n",
       "      <td>NaN</td>\n",
       "      <td>Санкт-Петербург</td>\n",
       "      <td>38357.0</td>\n",
       "      <td>13878.0</td>\n",
       "      <td>1.0</td>\n",
       "      <td>310.0</td>\n",
       "      <td>2.0</td>\n",
       "      <td>553.0</td>\n",
       "      <td>137.0</td>\n",
       "    </tr>\n",
       "    <tr>\n",
       "      <th>11</th>\n",
       "      <td>9</td>\n",
       "      <td>3300000.0</td>\n",
       "      <td>44.00</td>\n",
       "      <td>2018-08-27T00:00:00</td>\n",
       "      <td>2</td>\n",
       "      <td>NaN</td>\n",
       "      <td>5.0</td>\n",
       "      <td>31.00</td>\n",
       "      <td>4</td>\n",
       "      <td>False</td>\n",
       "      <td>...</td>\n",
       "      <td>6.00</td>\n",
       "      <td>1.0</td>\n",
       "      <td>Ломоносов</td>\n",
       "      <td>48252.0</td>\n",
       "      <td>51677.0</td>\n",
       "      <td>0.0</td>\n",
       "      <td>NaN</td>\n",
       "      <td>0.0</td>\n",
       "      <td>NaN</td>\n",
       "      <td>7.0</td>\n",
       "    </tr>\n",
       "    <tr>\n",
       "      <th>12</th>\n",
       "      <td>10</td>\n",
       "      <td>3890000.0</td>\n",
       "      <td>54.00</td>\n",
       "      <td>2016-06-30T00:00:00</td>\n",
       "      <td>2</td>\n",
       "      <td>NaN</td>\n",
       "      <td>5.0</td>\n",
       "      <td>30.00</td>\n",
       "      <td>5</td>\n",
       "      <td>NaN</td>\n",
       "      <td>...</td>\n",
       "      <td>9.00</td>\n",
       "      <td>0.0</td>\n",
       "      <td>Сертолово</td>\n",
       "      <td>NaN</td>\n",
       "      <td>NaN</td>\n",
       "      <td>NaN</td>\n",
       "      <td>NaN</td>\n",
       "      <td>NaN</td>\n",
       "      <td>NaN</td>\n",
       "      <td>90.0</td>\n",
       "    </tr>\n",
       "    <tr>\n",
       "      <th>13</th>\n",
       "      <td>20</td>\n",
       "      <td>3550000.0</td>\n",
       "      <td>42.80</td>\n",
       "      <td>2017-07-01T00:00:00</td>\n",
       "      <td>2</td>\n",
       "      <td>2.56</td>\n",
       "      <td>5.0</td>\n",
       "      <td>27.00</td>\n",
       "      <td>5</td>\n",
       "      <td>NaN</td>\n",
       "      <td>...</td>\n",
       "      <td>5.20</td>\n",
       "      <td>1.0</td>\n",
       "      <td>Петергоф</td>\n",
       "      <td>37868.0</td>\n",
       "      <td>33058.0</td>\n",
       "      <td>1.0</td>\n",
       "      <td>294.0</td>\n",
       "      <td>3.0</td>\n",
       "      <td>298.0</td>\n",
       "      <td>366.0</td>\n",
       "    </tr>\n",
       "    <tr>\n",
       "      <th>14</th>\n",
       "      <td>1</td>\n",
       "      <td>4400000.0</td>\n",
       "      <td>36.00</td>\n",
       "      <td>2016-06-23T00:00:00</td>\n",
       "      <td>1</td>\n",
       "      <td>NaN</td>\n",
       "      <td>6.0</td>\n",
       "      <td>17.00</td>\n",
       "      <td>1</td>\n",
       "      <td>NaN</td>\n",
       "      <td>...</td>\n",
       "      <td>8.00</td>\n",
       "      <td>0.0</td>\n",
       "      <td>Пушкин</td>\n",
       "      <td>20782.0</td>\n",
       "      <td>30759.0</td>\n",
       "      <td>0.0</td>\n",
       "      <td>NaN</td>\n",
       "      <td>1.0</td>\n",
       "      <td>96.0</td>\n",
       "      <td>203.0</td>\n",
       "    </tr>\n",
       "    <tr>\n",
       "      <th>15</th>\n",
       "      <td>16</td>\n",
       "      <td>4650000.0</td>\n",
       "      <td>39.00</td>\n",
       "      <td>2017-11-18T00:00:00</td>\n",
       "      <td>1</td>\n",
       "      <td>NaN</td>\n",
       "      <td>14.0</td>\n",
       "      <td>20.50</td>\n",
       "      <td>5</td>\n",
       "      <td>NaN</td>\n",
       "      <td>...</td>\n",
       "      <td>7.60</td>\n",
       "      <td>1.0</td>\n",
       "      <td>Санкт-Петербург</td>\n",
       "      <td>12900.0</td>\n",
       "      <td>14259.0</td>\n",
       "      <td>1.0</td>\n",
       "      <td>590.0</td>\n",
       "      <td>1.0</td>\n",
       "      <td>296.0</td>\n",
       "      <td>19.0</td>\n",
       "    </tr>\n",
       "    <tr>\n",
       "      <th>16</th>\n",
       "      <td>11</td>\n",
       "      <td>6700000.0</td>\n",
       "      <td>82.00</td>\n",
       "      <td>2017-11-23T00:00:00</td>\n",
       "      <td>3</td>\n",
       "      <td>3.05</td>\n",
       "      <td>5.0</td>\n",
       "      <td>55.60</td>\n",
       "      <td>1</td>\n",
       "      <td>NaN</td>\n",
       "      <td>...</td>\n",
       "      <td>9.00</td>\n",
       "      <td>NaN</td>\n",
       "      <td>Санкт-Петербург</td>\n",
       "      <td>22108.0</td>\n",
       "      <td>10698.0</td>\n",
       "      <td>3.0</td>\n",
       "      <td>420.0</td>\n",
       "      <td>0.0</td>\n",
       "      <td>NaN</td>\n",
       "      <td>397.0</td>\n",
       "    </tr>\n",
       "    <tr>\n",
       "      <th>17</th>\n",
       "      <td>6</td>\n",
       "      <td>4180000.0</td>\n",
       "      <td>36.00</td>\n",
       "      <td>2016-09-09T00:00:00</td>\n",
       "      <td>1</td>\n",
       "      <td>NaN</td>\n",
       "      <td>17.0</td>\n",
       "      <td>16.50</td>\n",
       "      <td>7</td>\n",
       "      <td>NaN</td>\n",
       "      <td>...</td>\n",
       "      <td>11.00</td>\n",
       "      <td>1.0</td>\n",
       "      <td>Санкт-Петербург</td>\n",
       "      <td>33564.0</td>\n",
       "      <td>14616.0</td>\n",
       "      <td>0.0</td>\n",
       "      <td>NaN</td>\n",
       "      <td>1.0</td>\n",
       "      <td>859.0</td>\n",
       "      <td>571.0</td>\n",
       "    </tr>\n",
       "    <tr>\n",
       "      <th>18</th>\n",
       "      <td>8</td>\n",
       "      <td>3250000.0</td>\n",
       "      <td>31.00</td>\n",
       "      <td>2017-01-27T00:00:00</td>\n",
       "      <td>1</td>\n",
       "      <td>2.50</td>\n",
       "      <td>5.0</td>\n",
       "      <td>19.40</td>\n",
       "      <td>2</td>\n",
       "      <td>NaN</td>\n",
       "      <td>...</td>\n",
       "      <td>5.60</td>\n",
       "      <td>1.0</td>\n",
       "      <td>Санкт-Петербург</td>\n",
       "      <td>44060.0</td>\n",
       "      <td>10842.0</td>\n",
       "      <td>1.0</td>\n",
       "      <td>759.0</td>\n",
       "      <td>0.0</td>\n",
       "      <td>NaN</td>\n",
       "      <td>168.0</td>\n",
       "    </tr>\n",
       "    <tr>\n",
       "      <th>19</th>\n",
       "      <td>16</td>\n",
       "      <td>14200000.0</td>\n",
       "      <td>121.00</td>\n",
       "      <td>2019-01-09T00:00:00</td>\n",
       "      <td>3</td>\n",
       "      <td>2.75</td>\n",
       "      <td>16.0</td>\n",
       "      <td>76.00</td>\n",
       "      <td>8</td>\n",
       "      <td>NaN</td>\n",
       "      <td>...</td>\n",
       "      <td>12.00</td>\n",
       "      <td>NaN</td>\n",
       "      <td>Санкт-Петербург</td>\n",
       "      <td>38900.0</td>\n",
       "      <td>12843.0</td>\n",
       "      <td>0.0</td>\n",
       "      <td>NaN</td>\n",
       "      <td>0.0</td>\n",
       "      <td>NaN</td>\n",
       "      <td>97.0</td>\n",
       "    </tr>\n",
       "    <tr>\n",
       "      <th>20</th>\n",
       "      <td>12</td>\n",
       "      <td>6120000.0</td>\n",
       "      <td>80.00</td>\n",
       "      <td>2017-09-28T00:00:00</td>\n",
       "      <td>3</td>\n",
       "      <td>2.70</td>\n",
       "      <td>27.0</td>\n",
       "      <td>48.00</td>\n",
       "      <td>11</td>\n",
       "      <td>NaN</td>\n",
       "      <td>...</td>\n",
       "      <td>12.00</td>\n",
       "      <td>2.0</td>\n",
       "      <td>посёлок Парголово</td>\n",
       "      <td>53134.0</td>\n",
       "      <td>19311.0</td>\n",
       "      <td>0.0</td>\n",
       "      <td>NaN</td>\n",
       "      <td>0.0</td>\n",
       "      <td>NaN</td>\n",
       "      <td>74.0</td>\n",
       "    </tr>\n",
       "    <tr>\n",
       "      <th>21</th>\n",
       "      <td>13</td>\n",
       "      <td>3200000.0</td>\n",
       "      <td>31.60</td>\n",
       "      <td>2018-03-14T00:00:00</td>\n",
       "      <td>1</td>\n",
       "      <td>NaN</td>\n",
       "      <td>5.0</td>\n",
       "      <td>16.90</td>\n",
       "      <td>2</td>\n",
       "      <td>NaN</td>\n",
       "      <td>...</td>\n",
       "      <td>5.70</td>\n",
       "      <td>1.0</td>\n",
       "      <td>Санкт-Петербург</td>\n",
       "      <td>36064.0</td>\n",
       "      <td>9722.0</td>\n",
       "      <td>1.0</td>\n",
       "      <td>248.0</td>\n",
       "      <td>0.0</td>\n",
       "      <td>NaN</td>\n",
       "      <td>310.0</td>\n",
       "    </tr>\n",
       "    <tr>\n",
       "      <th>22</th>\n",
       "      <td>20</td>\n",
       "      <td>5000000.0</td>\n",
       "      <td>58.00</td>\n",
       "      <td>2017-04-24T00:00:00</td>\n",
       "      <td>2</td>\n",
       "      <td>2.75</td>\n",
       "      <td>25.0</td>\n",
       "      <td>30.00</td>\n",
       "      <td>15</td>\n",
       "      <td>NaN</td>\n",
       "      <td>...</td>\n",
       "      <td>11.00</td>\n",
       "      <td>2.0</td>\n",
       "      <td>деревня Кудрово</td>\n",
       "      <td>NaN</td>\n",
       "      <td>NaN</td>\n",
       "      <td>NaN</td>\n",
       "      <td>NaN</td>\n",
       "      <td>NaN</td>\n",
       "      <td>NaN</td>\n",
       "      <td>60.0</td>\n",
       "    </tr>\n",
       "    <tr>\n",
       "      <th>23</th>\n",
       "      <td>11</td>\n",
       "      <td>2950000.0</td>\n",
       "      <td>32.00</td>\n",
       "      <td>2016-10-29T00:00:00</td>\n",
       "      <td>1</td>\n",
       "      <td>2.60</td>\n",
       "      <td>9.0</td>\n",
       "      <td>17.70</td>\n",
       "      <td>9</td>\n",
       "      <td>NaN</td>\n",
       "      <td>...</td>\n",
       "      <td>6.10</td>\n",
       "      <td>NaN</td>\n",
       "      <td>Санкт-Петербург</td>\n",
       "      <td>15414.0</td>\n",
       "      <td>14211.0</td>\n",
       "      <td>2.0</td>\n",
       "      <td>517.0</td>\n",
       "      <td>1.0</td>\n",
       "      <td>190.0</td>\n",
       "      <td>615.0</td>\n",
       "    </tr>\n",
       "    <tr>\n",
       "      <th>24</th>\n",
       "      <td>8</td>\n",
       "      <td>6500000.0</td>\n",
       "      <td>97.20</td>\n",
       "      <td>2015-10-31T00:00:00</td>\n",
       "      <td>2</td>\n",
       "      <td>NaN</td>\n",
       "      <td>3.0</td>\n",
       "      <td>46.50</td>\n",
       "      <td>1</td>\n",
       "      <td>NaN</td>\n",
       "      <td>...</td>\n",
       "      <td>19.60</td>\n",
       "      <td>0.0</td>\n",
       "      <td>Санкт-Петербург</td>\n",
       "      <td>20052.0</td>\n",
       "      <td>2336.0</td>\n",
       "      <td>3.0</td>\n",
       "      <td>411.0</td>\n",
       "      <td>3.0</td>\n",
       "      <td>124.0</td>\n",
       "      <td>265.0</td>\n",
       "    </tr>\n",
       "    <tr>\n",
       "      <th>25</th>\n",
       "      <td>3</td>\n",
       "      <td>6800000.0</td>\n",
       "      <td>76.00</td>\n",
       "      <td>2015-10-01T00:00:00</td>\n",
       "      <td>2</td>\n",
       "      <td>2.75</td>\n",
       "      <td>23.0</td>\n",
       "      <td>39.00</td>\n",
       "      <td>18</td>\n",
       "      <td>False</td>\n",
       "      <td>...</td>\n",
       "      <td>15.00</td>\n",
       "      <td>2.0</td>\n",
       "      <td>Санкт-Петербург</td>\n",
       "      <td>34967.0</td>\n",
       "      <td>14640.0</td>\n",
       "      <td>0.0</td>\n",
       "      <td>NaN</td>\n",
       "      <td>1.0</td>\n",
       "      <td>564.0</td>\n",
       "      <td>300.0</td>\n",
       "    </tr>\n",
       "    <tr>\n",
       "      <th>26</th>\n",
       "      <td>6</td>\n",
       "      <td>4050000.0</td>\n",
       "      <td>60.00</td>\n",
       "      <td>2017-04-28T00:00:00</td>\n",
       "      <td>4</td>\n",
       "      <td>NaN</td>\n",
       "      <td>5.0</td>\n",
       "      <td>43.00</td>\n",
       "      <td>4</td>\n",
       "      <td>NaN</td>\n",
       "      <td>...</td>\n",
       "      <td>7.00</td>\n",
       "      <td>NaN</td>\n",
       "      <td>Санкт-Петербург</td>\n",
       "      <td>11580.0</td>\n",
       "      <td>10510.0</td>\n",
       "      <td>0.0</td>\n",
       "      <td>NaN</td>\n",
       "      <td>1.0</td>\n",
       "      <td>95.0</td>\n",
       "      <td>265.0</td>\n",
       "    </tr>\n",
       "    <tr>\n",
       "      <th>27</th>\n",
       "      <td>20</td>\n",
       "      <td>7100000.0</td>\n",
       "      <td>70.00</td>\n",
       "      <td>2017-05-12T00:00:00</td>\n",
       "      <td>3</td>\n",
       "      <td>2.60</td>\n",
       "      <td>17.0</td>\n",
       "      <td>49.00</td>\n",
       "      <td>11</td>\n",
       "      <td>NaN</td>\n",
       "      <td>...</td>\n",
       "      <td>9.20</td>\n",
       "      <td>0.0</td>\n",
       "      <td>Санкт-Петербург</td>\n",
       "      <td>29197.0</td>\n",
       "      <td>11456.0</td>\n",
       "      <td>2.0</td>\n",
       "      <td>452.0</td>\n",
       "      <td>1.0</td>\n",
       "      <td>779.0</td>\n",
       "      <td>151.0</td>\n",
       "    </tr>\n",
       "    <tr>\n",
       "      <th>28</th>\n",
       "      <td>8</td>\n",
       "      <td>4170000.0</td>\n",
       "      <td>44.00</td>\n",
       "      <td>2017-12-13T00:00:00</td>\n",
       "      <td>1</td>\n",
       "      <td>2.90</td>\n",
       "      <td>6.0</td>\n",
       "      <td>20.80</td>\n",
       "      <td>1</td>\n",
       "      <td>NaN</td>\n",
       "      <td>...</td>\n",
       "      <td>11.70</td>\n",
       "      <td>1.0</td>\n",
       "      <td>Пушкин</td>\n",
       "      <td>18557.0</td>\n",
       "      <td>30710.0</td>\n",
       "      <td>0.0</td>\n",
       "      <td>NaN</td>\n",
       "      <td>1.0</td>\n",
       "      <td>118.0</td>\n",
       "      <td>74.0</td>\n",
       "    </tr>\n",
       "    <tr>\n",
       "      <th>29</th>\n",
       "      <td>9</td>\n",
       "      <td>8600000.0</td>\n",
       "      <td>100.00</td>\n",
       "      <td>2016-04-09T00:00:00</td>\n",
       "      <td>3</td>\n",
       "      <td>NaN</td>\n",
       "      <td>19.0</td>\n",
       "      <td>52.00</td>\n",
       "      <td>15</td>\n",
       "      <td>False</td>\n",
       "      <td>...</td>\n",
       "      <td>11.00</td>\n",
       "      <td>0.0</td>\n",
       "      <td>Санкт-Петербург</td>\n",
       "      <td>30394.0</td>\n",
       "      <td>11526.0</td>\n",
       "      <td>1.0</td>\n",
       "      <td>532.0</td>\n",
       "      <td>1.0</td>\n",
       "      <td>896.0</td>\n",
       "      <td>125.0</td>\n",
       "    </tr>\n",
       "    <tr>\n",
       "      <th>30</th>\n",
       "      <td>12</td>\n",
       "      <td>2200000.0</td>\n",
       "      <td>32.80</td>\n",
       "      <td>2018-02-19T00:00:00</td>\n",
       "      <td>1</td>\n",
       "      <td>NaN</td>\n",
       "      <td>9.0</td>\n",
       "      <td>NaN</td>\n",
       "      <td>2</td>\n",
       "      <td>NaN</td>\n",
       "      <td>...</td>\n",
       "      <td>NaN</td>\n",
       "      <td>NaN</td>\n",
       "      <td>Коммунар</td>\n",
       "      <td>NaN</td>\n",
       "      <td>NaN</td>\n",
       "      <td>NaN</td>\n",
       "      <td>NaN</td>\n",
       "      <td>NaN</td>\n",
       "      <td>NaN</td>\n",
       "      <td>63.0</td>\n",
       "    </tr>\n",
       "    <tr>\n",
       "      <th>31</th>\n",
       "      <td>8</td>\n",
       "      <td>7200000.0</td>\n",
       "      <td>67.90</td>\n",
       "      <td>2017-10-26T00:00:00</td>\n",
       "      <td>2</td>\n",
       "      <td>2.80</td>\n",
       "      <td>16.0</td>\n",
       "      <td>38.10</td>\n",
       "      <td>4</td>\n",
       "      <td>NaN</td>\n",
       "      <td>...</td>\n",
       "      <td>13.40</td>\n",
       "      <td>2.0</td>\n",
       "      <td>Санкт-Петербург</td>\n",
       "      <td>32888.0</td>\n",
       "      <td>12944.0</td>\n",
       "      <td>0.0</td>\n",
       "      <td>NaN</td>\n",
       "      <td>0.0</td>\n",
       "      <td>NaN</td>\n",
       "      <td>112.0</td>\n",
       "    </tr>\n",
       "    <tr>\n",
       "      <th>32</th>\n",
       "      <td>7</td>\n",
       "      <td>4990000.0</td>\n",
       "      <td>60.00</td>\n",
       "      <td>2016-05-22T00:00:00</td>\n",
       "      <td>3</td>\n",
       "      <td>NaN</td>\n",
       "      <td>5.0</td>\n",
       "      <td>39.00</td>\n",
       "      <td>4</td>\n",
       "      <td>NaN</td>\n",
       "      <td>...</td>\n",
       "      <td>6.00</td>\n",
       "      <td>0.0</td>\n",
       "      <td>Санкт-Петербург</td>\n",
       "      <td>11349.0</td>\n",
       "      <td>12889.0</td>\n",
       "      <td>0.0</td>\n",
       "      <td>NaN</td>\n",
       "      <td>1.0</td>\n",
       "      <td>426.0</td>\n",
       "      <td>224.0</td>\n",
       "    </tr>\n",
       "    <tr>\n",
       "      <th>33</th>\n",
       "      <td>8</td>\n",
       "      <td>4800000.0</td>\n",
       "      <td>73.00</td>\n",
       "      <td>2018-10-15T00:00:00</td>\n",
       "      <td>4</td>\n",
       "      <td>NaN</td>\n",
       "      <td>9.0</td>\n",
       "      <td>51.60</td>\n",
       "      <td>5</td>\n",
       "      <td>NaN</td>\n",
       "      <td>...</td>\n",
       "      <td>6.50</td>\n",
       "      <td>NaN</td>\n",
       "      <td>Колпино</td>\n",
       "      <td>26535.0</td>\n",
       "      <td>32321.0</td>\n",
       "      <td>0.0</td>\n",
       "      <td>NaN</td>\n",
       "      <td>0.0</td>\n",
       "      <td>NaN</td>\n",
       "      <td>92.0</td>\n",
       "    </tr>\n",
       "    <tr>\n",
       "      <th>34</th>\n",
       "      <td>3</td>\n",
       "      <td>3290000.0</td>\n",
       "      <td>33.00</td>\n",
       "      <td>2018-02-04T00:00:00</td>\n",
       "      <td>1</td>\n",
       "      <td>2.55</td>\n",
       "      <td>16.0</td>\n",
       "      <td>14.00</td>\n",
       "      <td>3</td>\n",
       "      <td>NaN</td>\n",
       "      <td>...</td>\n",
       "      <td>8.00</td>\n",
       "      <td>NaN</td>\n",
       "      <td>Санкт-Петербург</td>\n",
       "      <td>13943.0</td>\n",
       "      <td>12739.0</td>\n",
       "      <td>0.0</td>\n",
       "      <td>NaN</td>\n",
       "      <td>0.0</td>\n",
       "      <td>NaN</td>\n",
       "      <td>15.0</td>\n",
       "    </tr>\n",
       "    <tr>\n",
       "      <th>35</th>\n",
       "      <td>6</td>\n",
       "      <td>15500000.0</td>\n",
       "      <td>149.00</td>\n",
       "      <td>2017-06-26T00:00:00</td>\n",
       "      <td>5</td>\n",
       "      <td>NaN</td>\n",
       "      <td>5.0</td>\n",
       "      <td>104.00</td>\n",
       "      <td>4</td>\n",
       "      <td>NaN</td>\n",
       "      <td>...</td>\n",
       "      <td>17.00</td>\n",
       "      <td>NaN</td>\n",
       "      <td>Санкт-Петербург</td>\n",
       "      <td>23670.0</td>\n",
       "      <td>3502.0</td>\n",
       "      <td>0.0</td>\n",
       "      <td>NaN</td>\n",
       "      <td>1.0</td>\n",
       "      <td>779.0</td>\n",
       "      <td>644.0</td>\n",
       "    </tr>\n",
       "    <tr>\n",
       "      <th>36</th>\n",
       "      <td>13</td>\n",
       "      <td>3790000.0</td>\n",
       "      <td>45.00</td>\n",
       "      <td>2017-01-25T00:00:00</td>\n",
       "      <td>2</td>\n",
       "      <td>NaN</td>\n",
       "      <td>9.0</td>\n",
       "      <td>27.00</td>\n",
       "      <td>9</td>\n",
       "      <td>False</td>\n",
       "      <td>...</td>\n",
       "      <td>6.30</td>\n",
       "      <td>2.0</td>\n",
       "      <td>Санкт-Петербург</td>\n",
       "      <td>49574.0</td>\n",
       "      <td>16461.0</td>\n",
       "      <td>1.0</td>\n",
       "      <td>459.0</td>\n",
       "      <td>0.0</td>\n",
       "      <td>NaN</td>\n",
       "      <td>139.0</td>\n",
       "    </tr>\n",
       "    <tr>\n",
       "      <th>37</th>\n",
       "      <td>10</td>\n",
       "      <td>1990000.0</td>\n",
       "      <td>45.80</td>\n",
       "      <td>2017-10-28T00:00:00</td>\n",
       "      <td>2</td>\n",
       "      <td>2.50</td>\n",
       "      <td>5.0</td>\n",
       "      <td>NaN</td>\n",
       "      <td>1</td>\n",
       "      <td>NaN</td>\n",
       "      <td>...</td>\n",
       "      <td>NaN</td>\n",
       "      <td>NaN</td>\n",
       "      <td>поселок городского типа Красный Бор</td>\n",
       "      <td>NaN</td>\n",
       "      <td>NaN</td>\n",
       "      <td>NaN</td>\n",
       "      <td>NaN</td>\n",
       "      <td>NaN</td>\n",
       "      <td>NaN</td>\n",
       "      <td>196.0</td>\n",
       "    </tr>\n",
       "    <tr>\n",
       "      <th>38</th>\n",
       "      <td>10</td>\n",
       "      <td>3150000.0</td>\n",
       "      <td>40.00</td>\n",
       "      <td>2018-03-29T00:00:00</td>\n",
       "      <td>1</td>\n",
       "      <td>2.75</td>\n",
       "      <td>18.0</td>\n",
       "      <td>16.30</td>\n",
       "      <td>9</td>\n",
       "      <td>NaN</td>\n",
       "      <td>...</td>\n",
       "      <td>11.60</td>\n",
       "      <td>NaN</td>\n",
       "      <td>посёлок Мурино</td>\n",
       "      <td>NaN</td>\n",
       "      <td>NaN</td>\n",
       "      <td>NaN</td>\n",
       "      <td>NaN</td>\n",
       "      <td>NaN</td>\n",
       "      <td>NaN</td>\n",
       "      <td>103.0</td>\n",
       "    </tr>\n",
       "    <tr>\n",
       "      <th>39</th>\n",
       "      <td>15</td>\n",
       "      <td>5200000.0</td>\n",
       "      <td>54.40</td>\n",
       "      <td>2018-11-29T00:00:00</td>\n",
       "      <td>2</td>\n",
       "      <td>2.75</td>\n",
       "      <td>9.0</td>\n",
       "      <td>29.70</td>\n",
       "      <td>2</td>\n",
       "      <td>NaN</td>\n",
       "      <td>...</td>\n",
       "      <td>8.80</td>\n",
       "      <td>2.0</td>\n",
       "      <td>Санкт-Петербург</td>\n",
       "      <td>13413.0</td>\n",
       "      <td>12209.0</td>\n",
       "      <td>0.0</td>\n",
       "      <td>NaN</td>\n",
       "      <td>1.0</td>\n",
       "      <td>1175.0</td>\n",
       "      <td>29.0</td>\n",
       "    </tr>\n",
       "    <tr>\n",
       "      <th>40</th>\n",
       "      <td>9</td>\n",
       "      <td>3590000.0</td>\n",
       "      <td>36.00</td>\n",
       "      <td>2017-03-15T00:00:00</td>\n",
       "      <td>1</td>\n",
       "      <td>2.60</td>\n",
       "      <td>26.0</td>\n",
       "      <td>15.00</td>\n",
       "      <td>22</td>\n",
       "      <td>NaN</td>\n",
       "      <td>...</td>\n",
       "      <td>10.00</td>\n",
       "      <td>2.0</td>\n",
       "      <td>посёлок Парголово</td>\n",
       "      <td>52996.0</td>\n",
       "      <td>19143.0</td>\n",
       "      <td>0.0</td>\n",
       "      <td>NaN</td>\n",
       "      <td>0.0</td>\n",
       "      <td>NaN</td>\n",
       "      <td>430.0</td>\n",
       "    </tr>\n",
       "    <tr>\n",
       "      <th>41</th>\n",
       "      <td>16</td>\n",
       "      <td>7900000.0</td>\n",
       "      <td>74.00</td>\n",
       "      <td>2016-05-04T00:00:00</td>\n",
       "      <td>3</td>\n",
       "      <td>NaN</td>\n",
       "      <td>14.0</td>\n",
       "      <td>59.00</td>\n",
       "      <td>8</td>\n",
       "      <td>False</td>\n",
       "      <td>...</td>\n",
       "      <td>12.00</td>\n",
       "      <td>5.0</td>\n",
       "      <td>Санкт-Петербург</td>\n",
       "      <td>37715.0</td>\n",
       "      <td>12612.0</td>\n",
       "      <td>1.0</td>\n",
       "      <td>725.0</td>\n",
       "      <td>1.0</td>\n",
       "      <td>759.0</td>\n",
       "      <td>179.0</td>\n",
       "    </tr>\n",
       "    <tr>\n",
       "      <th>42</th>\n",
       "      <td>13</td>\n",
       "      <td>22000000.0</td>\n",
       "      <td>161.80</td>\n",
       "      <td>2015-07-08T00:00:00</td>\n",
       "      <td>4</td>\n",
       "      <td>2.80</td>\n",
       "      <td>4.0</td>\n",
       "      <td>80.90</td>\n",
       "      <td>2</td>\n",
       "      <td>False</td>\n",
       "      <td>...</td>\n",
       "      <td>17.60</td>\n",
       "      <td>5.0</td>\n",
       "      <td>Петергоф</td>\n",
       "      <td>35416.0</td>\n",
       "      <td>30605.0</td>\n",
       "      <td>2.0</td>\n",
       "      <td>47.0</td>\n",
       "      <td>1.0</td>\n",
       "      <td>907.0</td>\n",
       "      <td>987.0</td>\n",
       "    </tr>\n",
       "    <tr>\n",
       "      <th>43</th>\n",
       "      <td>13</td>\n",
       "      <td>9330000.0</td>\n",
       "      <td>48.00</td>\n",
       "      <td>2017-01-10T00:00:00</td>\n",
       "      <td>2</td>\n",
       "      <td>3.00</td>\n",
       "      <td>4.0</td>\n",
       "      <td>28.00</td>\n",
       "      <td>4</td>\n",
       "      <td>NaN</td>\n",
       "      <td>...</td>\n",
       "      <td>7.50</td>\n",
       "      <td>NaN</td>\n",
       "      <td>Санкт-Петербург</td>\n",
       "      <td>15016.0</td>\n",
       "      <td>10822.0</td>\n",
       "      <td>0.0</td>\n",
       "      <td>NaN</td>\n",
       "      <td>1.0</td>\n",
       "      <td>492.0</td>\n",
       "      <td>763.0</td>\n",
       "    </tr>\n",
       "    <tr>\n",
       "      <th>44</th>\n",
       "      <td>13</td>\n",
       "      <td>5350000.0</td>\n",
       "      <td>40.00</td>\n",
       "      <td>2018-11-18T00:00:00</td>\n",
       "      <td>1</td>\n",
       "      <td>NaN</td>\n",
       "      <td>22.0</td>\n",
       "      <td>NaN</td>\n",
       "      <td>3</td>\n",
       "      <td>NaN</td>\n",
       "      <td>...</td>\n",
       "      <td>NaN</td>\n",
       "      <td>1.0</td>\n",
       "      <td>Санкт-Петербург</td>\n",
       "      <td>30471.0</td>\n",
       "      <td>11603.0</td>\n",
       "      <td>1.0</td>\n",
       "      <td>620.0</td>\n",
       "      <td>1.0</td>\n",
       "      <td>1152.0</td>\n",
       "      <td>NaN</td>\n",
       "    </tr>\n",
       "    <tr>\n",
       "      <th>45</th>\n",
       "      <td>17</td>\n",
       "      <td>5200000.0</td>\n",
       "      <td>50.60</td>\n",
       "      <td>2018-12-02T00:00:00</td>\n",
       "      <td>2</td>\n",
       "      <td>2.65</td>\n",
       "      <td>9.0</td>\n",
       "      <td>30.30</td>\n",
       "      <td>7</td>\n",
       "      <td>NaN</td>\n",
       "      <td>...</td>\n",
       "      <td>7.00</td>\n",
       "      <td>NaN</td>\n",
       "      <td>Санкт-Петербург</td>\n",
       "      <td>30011.0</td>\n",
       "      <td>12872.0</td>\n",
       "      <td>0.0</td>\n",
       "      <td>NaN</td>\n",
       "      <td>0.0</td>\n",
       "      <td>NaN</td>\n",
       "      <td>NaN</td>\n",
       "    </tr>\n",
       "    <tr>\n",
       "      <th>46</th>\n",
       "      <td>17</td>\n",
       "      <td>6600000.0</td>\n",
       "      <td>52.10</td>\n",
       "      <td>2019-01-31T00:00:00</td>\n",
       "      <td>2</td>\n",
       "      <td>2.60</td>\n",
       "      <td>24.0</td>\n",
       "      <td>29.70</td>\n",
       "      <td>9</td>\n",
       "      <td>NaN</td>\n",
       "      <td>...</td>\n",
       "      <td>8.30</td>\n",
       "      <td>2.0</td>\n",
       "      <td>Санкт-Петербург</td>\n",
       "      <td>15114.0</td>\n",
       "      <td>12702.0</td>\n",
       "      <td>0.0</td>\n",
       "      <td>NaN</td>\n",
       "      <td>0.0</td>\n",
       "      <td>NaN</td>\n",
       "      <td>NaN</td>\n",
       "    </tr>\n",
       "    <tr>\n",
       "      <th>47</th>\n",
       "      <td>17</td>\n",
       "      <td>3600000.0</td>\n",
       "      <td>56.10</td>\n",
       "      <td>2018-10-18T00:00:00</td>\n",
       "      <td>3</td>\n",
       "      <td>NaN</td>\n",
       "      <td>4.0</td>\n",
       "      <td>42.50</td>\n",
       "      <td>3</td>\n",
       "      <td>NaN</td>\n",
       "      <td>...</td>\n",
       "      <td>5.70</td>\n",
       "      <td>1.0</td>\n",
       "      <td>Гатчина</td>\n",
       "      <td>NaN</td>\n",
       "      <td>NaN</td>\n",
       "      <td>NaN</td>\n",
       "      <td>NaN</td>\n",
       "      <td>NaN</td>\n",
       "      <td>NaN</td>\n",
       "      <td>179.0</td>\n",
       "    </tr>\n",
       "    <tr>\n",
       "      <th>48</th>\n",
       "      <td>10</td>\n",
       "      <td>3600000.0</td>\n",
       "      <td>33.83</td>\n",
       "      <td>2017-10-03T00:00:00</td>\n",
       "      <td>1</td>\n",
       "      <td>NaN</td>\n",
       "      <td>24.0</td>\n",
       "      <td>15.35</td>\n",
       "      <td>6</td>\n",
       "      <td>NaN</td>\n",
       "      <td>...</td>\n",
       "      <td>9.50</td>\n",
       "      <td>NaN</td>\n",
       "      <td>Санкт-Петербург</td>\n",
       "      <td>21460.0</td>\n",
       "      <td>16788.0</td>\n",
       "      <td>0.0</td>\n",
       "      <td>NaN</td>\n",
       "      <td>1.0</td>\n",
       "      <td>170.0</td>\n",
       "      <td>322.0</td>\n",
       "    </tr>\n",
       "    <tr>\n",
       "      <th>49</th>\n",
       "      <td>1</td>\n",
       "      <td>3050000.0</td>\n",
       "      <td>30.80</td>\n",
       "      <td>2018-11-22T00:00:00</td>\n",
       "      <td>1</td>\n",
       "      <td>2.50</td>\n",
       "      <td>9.0</td>\n",
       "      <td>18.00</td>\n",
       "      <td>7</td>\n",
       "      <td>NaN</td>\n",
       "      <td>...</td>\n",
       "      <td>6.00</td>\n",
       "      <td>NaN</td>\n",
       "      <td>Санкт-Петербург</td>\n",
       "      <td>45341.0</td>\n",
       "      <td>16603.0</td>\n",
       "      <td>1.0</td>\n",
       "      <td>675.0</td>\n",
       "      <td>0.0</td>\n",
       "      <td>NaN</td>\n",
       "      <td>NaN</td>\n",
       "    </tr>\n",
       "  </tbody>\n",
       "</table>\n",
       "<p>50 rows × 22 columns</p>\n",
       "</div>"
      ],
      "text/plain": [
       "    total_images  last_price  total_area first_day_exposition  rooms  \\\n",
       "0             20  13000000.0      108.00  2019-03-07T00:00:00      3   \n",
       "1              7   3350000.0       40.40  2018-12-04T00:00:00      1   \n",
       "2             10   5196000.0       56.00  2015-08-20T00:00:00      2   \n",
       "3              0  64900000.0      159.00  2015-07-24T00:00:00      3   \n",
       "4              2  10000000.0      100.00  2018-06-19T00:00:00      2   \n",
       "5             10   2890000.0       30.40  2018-09-10T00:00:00      1   \n",
       "6              6   3700000.0       37.30  2017-11-02T00:00:00      1   \n",
       "7              5   7915000.0       71.60  2019-04-18T00:00:00      2   \n",
       "8             20   2900000.0       33.16  2018-05-23T00:00:00      1   \n",
       "9             18   5400000.0       61.00  2017-02-26T00:00:00      3   \n",
       "10             5   5050000.0       39.60  2017-11-16T00:00:00      1   \n",
       "11             9   3300000.0       44.00  2018-08-27T00:00:00      2   \n",
       "12            10   3890000.0       54.00  2016-06-30T00:00:00      2   \n",
       "13            20   3550000.0       42.80  2017-07-01T00:00:00      2   \n",
       "14             1   4400000.0       36.00  2016-06-23T00:00:00      1   \n",
       "15            16   4650000.0       39.00  2017-11-18T00:00:00      1   \n",
       "16            11   6700000.0       82.00  2017-11-23T00:00:00      3   \n",
       "17             6   4180000.0       36.00  2016-09-09T00:00:00      1   \n",
       "18             8   3250000.0       31.00  2017-01-27T00:00:00      1   \n",
       "19            16  14200000.0      121.00  2019-01-09T00:00:00      3   \n",
       "20            12   6120000.0       80.00  2017-09-28T00:00:00      3   \n",
       "21            13   3200000.0       31.60  2018-03-14T00:00:00      1   \n",
       "22            20   5000000.0       58.00  2017-04-24T00:00:00      2   \n",
       "23            11   2950000.0       32.00  2016-10-29T00:00:00      1   \n",
       "24             8   6500000.0       97.20  2015-10-31T00:00:00      2   \n",
       "25             3   6800000.0       76.00  2015-10-01T00:00:00      2   \n",
       "26             6   4050000.0       60.00  2017-04-28T00:00:00      4   \n",
       "27            20   7100000.0       70.00  2017-05-12T00:00:00      3   \n",
       "28             8   4170000.0       44.00  2017-12-13T00:00:00      1   \n",
       "29             9   8600000.0      100.00  2016-04-09T00:00:00      3   \n",
       "30            12   2200000.0       32.80  2018-02-19T00:00:00      1   \n",
       "31             8   7200000.0       67.90  2017-10-26T00:00:00      2   \n",
       "32             7   4990000.0       60.00  2016-05-22T00:00:00      3   \n",
       "33             8   4800000.0       73.00  2018-10-15T00:00:00      4   \n",
       "34             3   3290000.0       33.00  2018-02-04T00:00:00      1   \n",
       "35             6  15500000.0      149.00  2017-06-26T00:00:00      5   \n",
       "36            13   3790000.0       45.00  2017-01-25T00:00:00      2   \n",
       "37            10   1990000.0       45.80  2017-10-28T00:00:00      2   \n",
       "38            10   3150000.0       40.00  2018-03-29T00:00:00      1   \n",
       "39            15   5200000.0       54.40  2018-11-29T00:00:00      2   \n",
       "40             9   3590000.0       36.00  2017-03-15T00:00:00      1   \n",
       "41            16   7900000.0       74.00  2016-05-04T00:00:00      3   \n",
       "42            13  22000000.0      161.80  2015-07-08T00:00:00      4   \n",
       "43            13   9330000.0       48.00  2017-01-10T00:00:00      2   \n",
       "44            13   5350000.0       40.00  2018-11-18T00:00:00      1   \n",
       "45            17   5200000.0       50.60  2018-12-02T00:00:00      2   \n",
       "46            17   6600000.0       52.10  2019-01-31T00:00:00      2   \n",
       "47            17   3600000.0       56.10  2018-10-18T00:00:00      3   \n",
       "48            10   3600000.0       33.83  2017-10-03T00:00:00      1   \n",
       "49             1   3050000.0       30.80  2018-11-22T00:00:00      1   \n",
       "\n",
       "    ceiling_height  floors_total  living_area  floor is_apartment  ...  \\\n",
       "0             2.70          16.0        51.00      8          NaN  ...   \n",
       "1              NaN          11.0        18.60      1          NaN  ...   \n",
       "2              NaN           5.0        34.30      4          NaN  ...   \n",
       "3              NaN          14.0          NaN      9          NaN  ...   \n",
       "4             3.03          14.0        32.00     13          NaN  ...   \n",
       "5              NaN          12.0        14.40      5          NaN  ...   \n",
       "6              NaN          26.0        10.60      6          NaN  ...   \n",
       "7              NaN          24.0          NaN     22          NaN  ...   \n",
       "8              NaN          27.0        15.43     26          NaN  ...   \n",
       "9             2.50           9.0        43.60      7          NaN  ...   \n",
       "10            2.67          12.0        20.30      3          NaN  ...   \n",
       "11             NaN           5.0        31.00      4        False  ...   \n",
       "12             NaN           5.0        30.00      5          NaN  ...   \n",
       "13            2.56           5.0        27.00      5          NaN  ...   \n",
       "14             NaN           6.0        17.00      1          NaN  ...   \n",
       "15             NaN          14.0        20.50      5          NaN  ...   \n",
       "16            3.05           5.0        55.60      1          NaN  ...   \n",
       "17             NaN          17.0        16.50      7          NaN  ...   \n",
       "18            2.50           5.0        19.40      2          NaN  ...   \n",
       "19            2.75          16.0        76.00      8          NaN  ...   \n",
       "20            2.70          27.0        48.00     11          NaN  ...   \n",
       "21             NaN           5.0        16.90      2          NaN  ...   \n",
       "22            2.75          25.0        30.00     15          NaN  ...   \n",
       "23            2.60           9.0        17.70      9          NaN  ...   \n",
       "24             NaN           3.0        46.50      1          NaN  ...   \n",
       "25            2.75          23.0        39.00     18        False  ...   \n",
       "26             NaN           5.0        43.00      4          NaN  ...   \n",
       "27            2.60          17.0        49.00     11          NaN  ...   \n",
       "28            2.90           6.0        20.80      1          NaN  ...   \n",
       "29             NaN          19.0        52.00     15        False  ...   \n",
       "30             NaN           9.0          NaN      2          NaN  ...   \n",
       "31            2.80          16.0        38.10      4          NaN  ...   \n",
       "32             NaN           5.0        39.00      4          NaN  ...   \n",
       "33             NaN           9.0        51.60      5          NaN  ...   \n",
       "34            2.55          16.0        14.00      3          NaN  ...   \n",
       "35             NaN           5.0       104.00      4          NaN  ...   \n",
       "36             NaN           9.0        27.00      9        False  ...   \n",
       "37            2.50           5.0          NaN      1          NaN  ...   \n",
       "38            2.75          18.0        16.30      9          NaN  ...   \n",
       "39            2.75           9.0        29.70      2          NaN  ...   \n",
       "40            2.60          26.0        15.00     22          NaN  ...   \n",
       "41             NaN          14.0        59.00      8        False  ...   \n",
       "42            2.80           4.0        80.90      2        False  ...   \n",
       "43            3.00           4.0        28.00      4          NaN  ...   \n",
       "44             NaN          22.0          NaN      3          NaN  ...   \n",
       "45            2.65           9.0        30.30      7          NaN  ...   \n",
       "46            2.60          24.0        29.70      9          NaN  ...   \n",
       "47             NaN           4.0        42.50      3          NaN  ...   \n",
       "48             NaN          24.0        15.35      6          NaN  ...   \n",
       "49            2.50           9.0        18.00      7          NaN  ...   \n",
       "\n",
       "    kitchen_area  balcony                        locality_name  \\\n",
       "0          25.00      NaN                      Санкт-Петербург   \n",
       "1          11.00      2.0                       посёлок Шушары   \n",
       "2           8.30      0.0                      Санкт-Петербург   \n",
       "3            NaN      0.0                      Санкт-Петербург   \n",
       "4          41.00      NaN                      Санкт-Петербург   \n",
       "5           9.10      NaN            городской посёлок Янино-1   \n",
       "6          14.40      1.0                    посёлок Парголово   \n",
       "7          18.90      2.0                      Санкт-Петербург   \n",
       "8           8.81      NaN                       посёлок Мурино   \n",
       "9           6.50      2.0                      Санкт-Петербург   \n",
       "10          8.50      NaN                      Санкт-Петербург   \n",
       "11          6.00      1.0                            Ломоносов   \n",
       "12          9.00      0.0                            Сертолово   \n",
       "13          5.20      1.0                             Петергоф   \n",
       "14          8.00      0.0                               Пушкин   \n",
       "15          7.60      1.0                      Санкт-Петербург   \n",
       "16          9.00      NaN                      Санкт-Петербург   \n",
       "17         11.00      1.0                      Санкт-Петербург   \n",
       "18          5.60      1.0                      Санкт-Петербург   \n",
       "19         12.00      NaN                      Санкт-Петербург   \n",
       "20         12.00      2.0                    посёлок Парголово   \n",
       "21          5.70      1.0                      Санкт-Петербург   \n",
       "22         11.00      2.0                      деревня Кудрово   \n",
       "23          6.10      NaN                      Санкт-Петербург   \n",
       "24         19.60      0.0                      Санкт-Петербург   \n",
       "25         15.00      2.0                      Санкт-Петербург   \n",
       "26          7.00      NaN                      Санкт-Петербург   \n",
       "27          9.20      0.0                      Санкт-Петербург   \n",
       "28         11.70      1.0                               Пушкин   \n",
       "29         11.00      0.0                      Санкт-Петербург   \n",
       "30           NaN      NaN                             Коммунар   \n",
       "31         13.40      2.0                      Санкт-Петербург   \n",
       "32          6.00      0.0                      Санкт-Петербург   \n",
       "33          6.50      NaN                              Колпино   \n",
       "34          8.00      NaN                      Санкт-Петербург   \n",
       "35         17.00      NaN                      Санкт-Петербург   \n",
       "36          6.30      2.0                      Санкт-Петербург   \n",
       "37           NaN      NaN  поселок городского типа Красный Бор   \n",
       "38         11.60      NaN                       посёлок Мурино   \n",
       "39          8.80      2.0                      Санкт-Петербург   \n",
       "40         10.00      2.0                    посёлок Парголово   \n",
       "41         12.00      5.0                      Санкт-Петербург   \n",
       "42         17.60      5.0                             Петергоф   \n",
       "43          7.50      NaN                      Санкт-Петербург   \n",
       "44           NaN      1.0                      Санкт-Петербург   \n",
       "45          7.00      NaN                      Санкт-Петербург   \n",
       "46          8.30      2.0                      Санкт-Петербург   \n",
       "47          5.70      1.0                              Гатчина   \n",
       "48          9.50      NaN                      Санкт-Петербург   \n",
       "49          6.00      NaN                      Санкт-Петербург   \n",
       "\n",
       "    airports_nearest cityCenters_nearest  parks_around3000  parks_nearest  \\\n",
       "0            18863.0             16028.0               1.0          482.0   \n",
       "1            12817.0             18603.0               0.0            NaN   \n",
       "2            21741.0             13933.0               1.0           90.0   \n",
       "3            28098.0              6800.0               2.0           84.0   \n",
       "4            31856.0              8098.0               2.0          112.0   \n",
       "5                NaN                 NaN               NaN            NaN   \n",
       "6            52996.0             19143.0               0.0            NaN   \n",
       "7            23982.0             11634.0               0.0            NaN   \n",
       "8                NaN                 NaN               NaN            NaN   \n",
       "9            50898.0             15008.0               0.0            NaN   \n",
       "10           38357.0             13878.0               1.0          310.0   \n",
       "11           48252.0             51677.0               0.0            NaN   \n",
       "12               NaN                 NaN               NaN            NaN   \n",
       "13           37868.0             33058.0               1.0          294.0   \n",
       "14           20782.0             30759.0               0.0            NaN   \n",
       "15           12900.0             14259.0               1.0          590.0   \n",
       "16           22108.0             10698.0               3.0          420.0   \n",
       "17           33564.0             14616.0               0.0            NaN   \n",
       "18           44060.0             10842.0               1.0          759.0   \n",
       "19           38900.0             12843.0               0.0            NaN   \n",
       "20           53134.0             19311.0               0.0            NaN   \n",
       "21           36064.0              9722.0               1.0          248.0   \n",
       "22               NaN                 NaN               NaN            NaN   \n",
       "23           15414.0             14211.0               2.0          517.0   \n",
       "24           20052.0              2336.0               3.0          411.0   \n",
       "25           34967.0             14640.0               0.0            NaN   \n",
       "26           11580.0             10510.0               0.0            NaN   \n",
       "27           29197.0             11456.0               2.0          452.0   \n",
       "28           18557.0             30710.0               0.0            NaN   \n",
       "29           30394.0             11526.0               1.0          532.0   \n",
       "30               NaN                 NaN               NaN            NaN   \n",
       "31           32888.0             12944.0               0.0            NaN   \n",
       "32           11349.0             12889.0               0.0            NaN   \n",
       "33           26535.0             32321.0               0.0            NaN   \n",
       "34           13943.0             12739.0               0.0            NaN   \n",
       "35           23670.0              3502.0               0.0            NaN   \n",
       "36           49574.0             16461.0               1.0          459.0   \n",
       "37               NaN                 NaN               NaN            NaN   \n",
       "38               NaN                 NaN               NaN            NaN   \n",
       "39           13413.0             12209.0               0.0            NaN   \n",
       "40           52996.0             19143.0               0.0            NaN   \n",
       "41           37715.0             12612.0               1.0          725.0   \n",
       "42           35416.0             30605.0               2.0           47.0   \n",
       "43           15016.0             10822.0               0.0            NaN   \n",
       "44           30471.0             11603.0               1.0          620.0   \n",
       "45           30011.0             12872.0               0.0            NaN   \n",
       "46           15114.0             12702.0               0.0            NaN   \n",
       "47               NaN                 NaN               NaN            NaN   \n",
       "48           21460.0             16788.0               0.0            NaN   \n",
       "49           45341.0             16603.0               1.0          675.0   \n",
       "\n",
       "    ponds_around3000  ponds_nearest  days_exposition  \n",
       "0                2.0          755.0              NaN  \n",
       "1                0.0            NaN             81.0  \n",
       "2                2.0          574.0            558.0  \n",
       "3                3.0          234.0            424.0  \n",
       "4                1.0           48.0            121.0  \n",
       "5                NaN            NaN             55.0  \n",
       "6                0.0            NaN            155.0  \n",
       "7                0.0            NaN              NaN  \n",
       "8                NaN            NaN            189.0  \n",
       "9                0.0            NaN            289.0  \n",
       "10               2.0          553.0            137.0  \n",
       "11               0.0            NaN              7.0  \n",
       "12               NaN            NaN             90.0  \n",
       "13               3.0          298.0            366.0  \n",
       "14               1.0           96.0            203.0  \n",
       "15               1.0          296.0             19.0  \n",
       "16               0.0            NaN            397.0  \n",
       "17               1.0          859.0            571.0  \n",
       "18               0.0            NaN            168.0  \n",
       "19               0.0            NaN             97.0  \n",
       "20               0.0            NaN             74.0  \n",
       "21               0.0            NaN            310.0  \n",
       "22               NaN            NaN             60.0  \n",
       "23               1.0          190.0            615.0  \n",
       "24               3.0          124.0            265.0  \n",
       "25               1.0          564.0            300.0  \n",
       "26               1.0           95.0            265.0  \n",
       "27               1.0          779.0            151.0  \n",
       "28               1.0          118.0             74.0  \n",
       "29               1.0          896.0            125.0  \n",
       "30               NaN            NaN             63.0  \n",
       "31               0.0            NaN            112.0  \n",
       "32               1.0          426.0            224.0  \n",
       "33               0.0            NaN             92.0  \n",
       "34               0.0            NaN             15.0  \n",
       "35               1.0          779.0            644.0  \n",
       "36               0.0            NaN            139.0  \n",
       "37               NaN            NaN            196.0  \n",
       "38               NaN            NaN            103.0  \n",
       "39               1.0         1175.0             29.0  \n",
       "40               0.0            NaN            430.0  \n",
       "41               1.0          759.0            179.0  \n",
       "42               1.0          907.0            987.0  \n",
       "43               1.0          492.0            763.0  \n",
       "44               1.0         1152.0              NaN  \n",
       "45               0.0            NaN              NaN  \n",
       "46               0.0            NaN              NaN  \n",
       "47               NaN            NaN            179.0  \n",
       "48               1.0          170.0            322.0  \n",
       "49               0.0            NaN              NaN  \n",
       "\n",
       "[50 rows x 22 columns]"
      ]
     },
     "execution_count": 3,
     "metadata": {},
     "output_type": "execute_result"
    }
   ],
   "source": [
    "data.head(50) #посмотрим на данные"
   ]
  },
  {
   "cell_type": "code",
   "execution_count": 4,
   "id": "43b6b79d",
   "metadata": {},
   "outputs": [
    {
     "name": "stdout",
     "output_type": "stream",
     "text": [
      "<class 'pandas.core.frame.DataFrame'>\n",
      "RangeIndex: 23699 entries, 0 to 23698\n",
      "Data columns (total 22 columns):\n",
      " #   Column                Non-Null Count  Dtype  \n",
      "---  ------                --------------  -----  \n",
      " 0   total_images          23699 non-null  int64  \n",
      " 1   last_price            23699 non-null  float64\n",
      " 2   total_area            23699 non-null  float64\n",
      " 3   first_day_exposition  23699 non-null  object \n",
      " 4   rooms                 23699 non-null  int64  \n",
      " 5   ceiling_height        14504 non-null  float64\n",
      " 6   floors_total          23613 non-null  float64\n",
      " 7   living_area           21796 non-null  float64\n",
      " 8   floor                 23699 non-null  int64  \n",
      " 9   is_apartment          2775 non-null   object \n",
      " 10  studio                23699 non-null  bool   \n",
      " 11  open_plan             23699 non-null  bool   \n",
      " 12  kitchen_area          21421 non-null  float64\n",
      " 13  balcony               12180 non-null  float64\n",
      " 14  locality_name         23650 non-null  object \n",
      " 15  airports_nearest      18157 non-null  float64\n",
      " 16  cityCenters_nearest   18180 non-null  float64\n",
      " 17  parks_around3000      18181 non-null  float64\n",
      " 18  parks_nearest         8079 non-null   float64\n",
      " 19  ponds_around3000      18181 non-null  float64\n",
      " 20  ponds_nearest         9110 non-null   float64\n",
      " 21  days_exposition       20518 non-null  float64\n",
      "dtypes: bool(2), float64(14), int64(3), object(3)\n",
      "memory usage: 3.7+ MB\n"
     ]
    },
    {
     "data": {
      "text/plain": [
       "total_images                0\n",
       "open_plan                   0\n",
       "floor                       0\n",
       "rooms                       0\n",
       "studio                      0\n",
       "total_area                  0\n",
       "last_price                  0\n",
       "first_day_exposition        0\n",
       "locality_name              49\n",
       "floors_total               86\n",
       "living_area              1903\n",
       "kitchen_area             2278\n",
       "days_exposition          3181\n",
       "ponds_around3000         5518\n",
       "parks_around3000         5518\n",
       "cityCenters_nearest      5519\n",
       "airports_nearest         5542\n",
       "ceiling_height           9195\n",
       "balcony                 11519\n",
       "ponds_nearest           14589\n",
       "parks_nearest           15620\n",
       "is_apartment            20924\n",
       "dtype: int64"
      ]
     },
     "execution_count": 4,
     "metadata": {},
     "output_type": "execute_result"
    }
   ],
   "source": [
    "data.info()\n",
    "data.isna().sum().sort_values()"
   ]
  },
  {
   "cell_type": "code",
   "execution_count": 5,
   "id": "c6dacc35",
   "metadata": {},
   "outputs": [
    {
     "data": {
      "image/png": "[encoded data removed]",
      "text/plain": [
       "<Figure size 1080x1440 with 20 Axes>"
      ]
     },
     "metadata": {
      "needs_background": "light"
     },
     "output_type": "display_data"
    }
   ],
   "source": [
    "data.hist(figsize=(15, 20))\n",
    "plt.show(); #построим гистограммы для всех столбцов таблицы"
   ]
  },
  {
   "cell_type": "markdown",
   "id": "ca3baf0b",
   "metadata": {},
   "source": [
    "ШАГ 2"
   ]
  },
  {
   "cell_type": "code",
   "execution_count": 6,
   "id": "3061787a",
   "metadata": {},
   "outputs": [
    {
     "data": {
      "text/html": [
       "<div>\n",
       "<style scoped>\n",
       "    .dataframe tbody tr th:only-of-type {\n",
       "        vertical-align: middle;\n",
       "    }\n",
       "\n",
       "    .dataframe tbody tr th {\n",
       "        vertical-align: top;\n",
       "    }\n",
       "\n",
       "    .dataframe thead th {\n",
       "        text-align: right;\n",
       "    }\n",
       "</style>\n",
       "<table border=\"1\" class=\"dataframe\">\n",
       "  <thead>\n",
       "    <tr style=\"text-align: right;\">\n",
       "      <th></th>\n",
       "      <th>total_images</th>\n",
       "      <th>last_price</th>\n",
       "      <th>total_area</th>\n",
       "      <th>rooms</th>\n",
       "      <th>ceiling_height</th>\n",
       "      <th>floors_total</th>\n",
       "      <th>living_area</th>\n",
       "      <th>floor</th>\n",
       "      <th>kitchen_area</th>\n",
       "      <th>balcony</th>\n",
       "      <th>airports_nearest</th>\n",
       "      <th>cityCenters_nearest</th>\n",
       "      <th>parks_around3000</th>\n",
       "      <th>parks_nearest</th>\n",
       "      <th>ponds_around3000</th>\n",
       "      <th>ponds_nearest</th>\n",
       "      <th>days_exposition</th>\n",
       "    </tr>\n",
       "  </thead>\n",
       "  <tbody>\n",
       "    <tr>\n",
       "      <th>count</th>\n",
       "      <td>23699</td>\n",
       "      <td>23699</td>\n",
       "      <td>23699</td>\n",
       "      <td>23699</td>\n",
       "      <td>14504</td>\n",
       "      <td>23613</td>\n",
       "      <td>21796</td>\n",
       "      <td>23699</td>\n",
       "      <td>21421</td>\n",
       "      <td>12180</td>\n",
       "      <td>18157</td>\n",
       "      <td>18180</td>\n",
       "      <td>18181</td>\n",
       "      <td>8079</td>\n",
       "      <td>18181</td>\n",
       "      <td>9110</td>\n",
       "      <td>20518</td>\n",
       "    </tr>\n",
       "    <tr>\n",
       "      <th>mean</th>\n",
       "      <td>9</td>\n",
       "      <td>6541548</td>\n",
       "      <td>60</td>\n",
       "      <td>2</td>\n",
       "      <td>2</td>\n",
       "      <td>10</td>\n",
       "      <td>34</td>\n",
       "      <td>5</td>\n",
       "      <td>10</td>\n",
       "      <td>1</td>\n",
       "      <td>28793</td>\n",
       "      <td>14191</td>\n",
       "      <td>0</td>\n",
       "      <td>490</td>\n",
       "      <td>0</td>\n",
       "      <td>517</td>\n",
       "      <td>180</td>\n",
       "    </tr>\n",
       "    <tr>\n",
       "      <th>std</th>\n",
       "      <td>5</td>\n",
       "      <td>10887013</td>\n",
       "      <td>35</td>\n",
       "      <td>1</td>\n",
       "      <td>1</td>\n",
       "      <td>6</td>\n",
       "      <td>22</td>\n",
       "      <td>4</td>\n",
       "      <td>5</td>\n",
       "      <td>1</td>\n",
       "      <td>12630</td>\n",
       "      <td>8608</td>\n",
       "      <td>0</td>\n",
       "      <td>342</td>\n",
       "      <td>0</td>\n",
       "      <td>277</td>\n",
       "      <td>219</td>\n",
       "    </tr>\n",
       "    <tr>\n",
       "      <th>min</th>\n",
       "      <td>0</td>\n",
       "      <td>12190</td>\n",
       "      <td>12</td>\n",
       "      <td>0</td>\n",
       "      <td>1</td>\n",
       "      <td>1</td>\n",
       "      <td>2</td>\n",
       "      <td>1</td>\n",
       "      <td>1</td>\n",
       "      <td>0</td>\n",
       "      <td>0</td>\n",
       "      <td>181</td>\n",
       "      <td>0</td>\n",
       "      <td>1</td>\n",
       "      <td>0</td>\n",
       "      <td>13</td>\n",
       "      <td>1</td>\n",
       "    </tr>\n",
       "    <tr>\n",
       "      <th>25%</th>\n",
       "      <td>6</td>\n",
       "      <td>3400000</td>\n",
       "      <td>40</td>\n",
       "      <td>1</td>\n",
       "      <td>2</td>\n",
       "      <td>5</td>\n",
       "      <td>18</td>\n",
       "      <td>2</td>\n",
       "      <td>7</td>\n",
       "      <td>0</td>\n",
       "      <td>18585</td>\n",
       "      <td>9238</td>\n",
       "      <td>0</td>\n",
       "      <td>288</td>\n",
       "      <td>0</td>\n",
       "      <td>294</td>\n",
       "      <td>45</td>\n",
       "    </tr>\n",
       "    <tr>\n",
       "      <th>50%</th>\n",
       "      <td>9</td>\n",
       "      <td>4650000</td>\n",
       "      <td>52</td>\n",
       "      <td>2</td>\n",
       "      <td>2</td>\n",
       "      <td>9</td>\n",
       "      <td>30</td>\n",
       "      <td>4</td>\n",
       "      <td>9</td>\n",
       "      <td>1</td>\n",
       "      <td>26726</td>\n",
       "      <td>13098</td>\n",
       "      <td>0</td>\n",
       "      <td>455</td>\n",
       "      <td>1</td>\n",
       "      <td>502</td>\n",
       "      <td>95</td>\n",
       "    </tr>\n",
       "    <tr>\n",
       "      <th>75%</th>\n",
       "      <td>14</td>\n",
       "      <td>6800000</td>\n",
       "      <td>69</td>\n",
       "      <td>3</td>\n",
       "      <td>2</td>\n",
       "      <td>16</td>\n",
       "      <td>42</td>\n",
       "      <td>8</td>\n",
       "      <td>12</td>\n",
       "      <td>2</td>\n",
       "      <td>37273</td>\n",
       "      <td>16293</td>\n",
       "      <td>1</td>\n",
       "      <td>612</td>\n",
       "      <td>1</td>\n",
       "      <td>729</td>\n",
       "      <td>232</td>\n",
       "    </tr>\n",
       "    <tr>\n",
       "      <th>max</th>\n",
       "      <td>50</td>\n",
       "      <td>763000000</td>\n",
       "      <td>900</td>\n",
       "      <td>19</td>\n",
       "      <td>100</td>\n",
       "      <td>60</td>\n",
       "      <td>409</td>\n",
       "      <td>33</td>\n",
       "      <td>112</td>\n",
       "      <td>5</td>\n",
       "      <td>84869</td>\n",
       "      <td>65968</td>\n",
       "      <td>3</td>\n",
       "      <td>3190</td>\n",
       "      <td>3</td>\n",
       "      <td>1344</td>\n",
       "      <td>1580</td>\n",
       "    </tr>\n",
       "  </tbody>\n",
       "</table>\n",
       "</div>"
      ],
      "text/plain": [
       "       total_images  last_price  total_area  rooms  ceiling_height  \\\n",
       "count         23699       23699       23699  23699           14504   \n",
       "mean              9     6541548          60      2               2   \n",
       "std               5    10887013          35      1               1   \n",
       "min               0       12190          12      0               1   \n",
       "25%               6     3400000          40      1               2   \n",
       "50%               9     4650000          52      2               2   \n",
       "75%              14     6800000          69      3               2   \n",
       "max              50   763000000         900     19             100   \n",
       "\n",
       "       floors_total  living_area  floor  kitchen_area  balcony  \\\n",
       "count         23613        21796  23699         21421    12180   \n",
       "mean             10           34      5            10        1   \n",
       "std               6           22      4             5        1   \n",
       "min               1            2      1             1        0   \n",
       "25%               5           18      2             7        0   \n",
       "50%               9           30      4             9        1   \n",
       "75%              16           42      8            12        2   \n",
       "max              60          409     33           112        5   \n",
       "\n",
       "       airports_nearest  cityCenters_nearest  parks_around3000  parks_nearest  \\\n",
       "count             18157                18180             18181           8079   \n",
       "mean              28793                14191                 0            490   \n",
       "std               12630                 8608                 0            342   \n",
       "min                   0                  181                 0              1   \n",
       "25%               18585                 9238                 0            288   \n",
       "50%               26726                13098                 0            455   \n",
       "75%               37273                16293                 1            612   \n",
       "max               84869                65968                 3           3190   \n",
       "\n",
       "       ponds_around3000  ponds_nearest  days_exposition  \n",
       "count             18181           9110            20518  \n",
       "mean                  0            517              180  \n",
       "std                   0            277              219  \n",
       "min                   0             13                1  \n",
       "25%                   0            294               45  \n",
       "50%                   1            502               95  \n",
       "75%                   1            729              232  \n",
       "max                   3           1344             1580  "
      ]
     },
     "execution_count": 6,
     "metadata": {},
     "output_type": "execute_result"
    }
   ],
   "source": [
    "data.describe().astype(int)\n"
   ]
  },
  {
   "cell_type": "code",
   "execution_count": 7,
   "id": "96c838d4",
   "metadata": {},
   "outputs": [],
   "source": [
    "# построим описательную таблицу знаечний \n",
    "def nan_col_data(data):\n",
    "    \n",
    "    values = pd.DataFrame()\n",
    "    \n",
    "    for column in data.columns:\n",
    "        values[column] = [data[column].unique(), data[column].dtypes, data[column].nunique()]\n",
    "\n",
    "    return values.transpose().sort_values(by=1, ascending=True).rename(\n",
    "        {0: 'значения', 1: 'тип данных', 2: 'кол-во уникальных значений', 3: 'Процент пропущенных'}, axis=1)"
   ]
  },
  {
   "cell_type": "code",
   "execution_count": 8,
   "id": "8d7671fb",
   "metadata": {},
   "outputs": [
    {
     "data": {
      "text/html": [
       "<div>\n",
       "<style scoped>\n",
       "    .dataframe tbody tr th:only-of-type {\n",
       "        vertical-align: middle;\n",
       "    }\n",
       "\n",
       "    .dataframe tbody tr th {\n",
       "        vertical-align: top;\n",
       "    }\n",
       "\n",
       "    .dataframe thead th {\n",
       "        text-align: right;\n",
       "    }\n",
       "</style>\n",
       "<table border=\"1\" class=\"dataframe\">\n",
       "  <thead>\n",
       "    <tr style=\"text-align: right;\">\n",
       "      <th></th>\n",
       "      <th>количество пропущенных</th>\n",
       "      <th>доля пропущенных, %</th>\n",
       "      <th>значения</th>\n",
       "      <th>тип данных</th>\n",
       "      <th>кол-во уникальных значений</th>\n",
       "    </tr>\n",
       "    <tr>\n",
       "      <th>название столбца</th>\n",
       "      <th></th>\n",
       "      <th></th>\n",
       "      <th></th>\n",
       "      <th></th>\n",
       "      <th></th>\n",
       "    </tr>\n",
       "  </thead>\n",
       "  <tbody>\n",
       "    <tr>\n",
       "      <th>is_apartment</th>\n",
       "      <td>20924</td>\n",
       "      <td>88.0</td>\n",
       "      <td>[nan, False, True]</td>\n",
       "      <td>object</td>\n",
       "      <td>2</td>\n",
       "    </tr>\n",
       "    <tr>\n",
       "      <th>parks_nearest</th>\n",
       "      <td>15620</td>\n",
       "      <td>66.0</td>\n",
       "      <td>[482.0, nan, 90.0, 84.0, 112.0, 310.0, 294.0, ...</td>\n",
       "      <td>float64</td>\n",
       "      <td>995</td>\n",
       "    </tr>\n",
       "    <tr>\n",
       "      <th>ponds_nearest</th>\n",
       "      <td>14589</td>\n",
       "      <td>62.0</td>\n",
       "      <td>[755.0, nan, 574.0, 234.0, 48.0, 553.0, 298.0,...</td>\n",
       "      <td>float64</td>\n",
       "      <td>1096</td>\n",
       "    </tr>\n",
       "    <tr>\n",
       "      <th>balcony</th>\n",
       "      <td>11519</td>\n",
       "      <td>49.0</td>\n",
       "      <td>[nan, 2.0, 0.0, 1.0, 5.0, 4.0, 3.0]</td>\n",
       "      <td>float64</td>\n",
       "      <td>6</td>\n",
       "    </tr>\n",
       "    <tr>\n",
       "      <th>ceiling_height</th>\n",
       "      <td>9195</td>\n",
       "      <td>39.0</td>\n",
       "      <td>[2.7, nan, 3.03, 2.5, 2.67, 2.56, 3.05, 2.75, ...</td>\n",
       "      <td>float64</td>\n",
       "      <td>183</td>\n",
       "    </tr>\n",
       "    <tr>\n",
       "      <th>ponds_around3000</th>\n",
       "      <td>5518</td>\n",
       "      <td>23.0</td>\n",
       "      <td>[2.0, 0.0, 3.0, 1.0, nan]</td>\n",
       "      <td>float64</td>\n",
       "      <td>4</td>\n",
       "    </tr>\n",
       "    <tr>\n",
       "      <th>parks_around3000</th>\n",
       "      <td>5518</td>\n",
       "      <td>23.0</td>\n",
       "      <td>[1.0, 0.0, 2.0, nan, 3.0]</td>\n",
       "      <td>float64</td>\n",
       "      <td>4</td>\n",
       "    </tr>\n",
       "    <tr>\n",
       "      <th>cityCenters_nearest</th>\n",
       "      <td>5519</td>\n",
       "      <td>23.0</td>\n",
       "      <td>[16028.0, 18603.0, 13933.0, 6800.0, 8098.0, na...</td>\n",
       "      <td>float64</td>\n",
       "      <td>7642</td>\n",
       "    </tr>\n",
       "    <tr>\n",
       "      <th>airports_nearest</th>\n",
       "      <td>5542</td>\n",
       "      <td>23.0</td>\n",
       "      <td>[18863.0, 12817.0, 21741.0, 28098.0, 31856.0, ...</td>\n",
       "      <td>float64</td>\n",
       "      <td>8275</td>\n",
       "    </tr>\n",
       "    <tr>\n",
       "      <th>days_exposition</th>\n",
       "      <td>3181</td>\n",
       "      <td>13.0</td>\n",
       "      <td>[nan, 81.0, 558.0, 424.0, 121.0, 55.0, 155.0, ...</td>\n",
       "      <td>float64</td>\n",
       "      <td>1141</td>\n",
       "    </tr>\n",
       "    <tr>\n",
       "      <th>kitchen_area</th>\n",
       "      <td>2278</td>\n",
       "      <td>10.0</td>\n",
       "      <td>[25.0, 11.0, 8.3, nan, 41.0, 9.1, 14.4, 18.9, ...</td>\n",
       "      <td>float64</td>\n",
       "      <td>971</td>\n",
       "    </tr>\n",
       "    <tr>\n",
       "      <th>living_area</th>\n",
       "      <td>1903</td>\n",
       "      <td>8.0</td>\n",
       "      <td>[51.0, 18.6, 34.3, nan, 32.0, 14.4, 10.6, 15.4...</td>\n",
       "      <td>float64</td>\n",
       "      <td>1782</td>\n",
       "    </tr>\n",
       "    <tr>\n",
       "      <th>locality_name</th>\n",
       "      <td>49</td>\n",
       "      <td>0.0</td>\n",
       "      <td>[Санкт-Петербург, посёлок Шушары, городской по...</td>\n",
       "      <td>object</td>\n",
       "      <td>364</td>\n",
       "    </tr>\n",
       "    <tr>\n",
       "      <th>total_images</th>\n",
       "      <td>0</td>\n",
       "      <td>0.0</td>\n",
       "      <td>[20, 7, 10, 0, 2, 6, 5, 18, 9, 1, 16, 11, 8, 1...</td>\n",
       "      <td>int64</td>\n",
       "      <td>38</td>\n",
       "    </tr>\n",
       "    <tr>\n",
       "      <th>last_price</th>\n",
       "      <td>0</td>\n",
       "      <td>0.0</td>\n",
       "      <td>[13000000.0, 3350000.0, 5196000.0, 64900000.0,...</td>\n",
       "      <td>float64</td>\n",
       "      <td>2978</td>\n",
       "    </tr>\n",
       "    <tr>\n",
       "      <th>studio</th>\n",
       "      <td>0</td>\n",
       "      <td>0.0</td>\n",
       "      <td>[False, True]</td>\n",
       "      <td>bool</td>\n",
       "      <td>2</td>\n",
       "    </tr>\n",
       "    <tr>\n",
       "      <th>floor</th>\n",
       "      <td>0</td>\n",
       "      <td>0.0</td>\n",
       "      <td>[8, 1, 4, 9, 13, 5, 6, 22, 26, 7, 3, 2, 11, 15...</td>\n",
       "      <td>int64</td>\n",
       "      <td>33</td>\n",
       "    </tr>\n",
       "    <tr>\n",
       "      <th>floors_total</th>\n",
       "      <td>86</td>\n",
       "      <td>0.0</td>\n",
       "      <td>[16.0, 11.0, 5.0, 14.0, 12.0, 26.0, 24.0, 27.0...</td>\n",
       "      <td>float64</td>\n",
       "      <td>36</td>\n",
       "    </tr>\n",
       "    <tr>\n",
       "      <th>rooms</th>\n",
       "      <td>0</td>\n",
       "      <td>0.0</td>\n",
       "      <td>[3, 1, 2, 4, 5, 6, 0, 7, 11, 8, 14, 10, 15, 9,...</td>\n",
       "      <td>int64</td>\n",
       "      <td>17</td>\n",
       "    </tr>\n",
       "    <tr>\n",
       "      <th>first_day_exposition</th>\n",
       "      <td>0</td>\n",
       "      <td>0.0</td>\n",
       "      <td>[2019-03-07T00:00:00, 2018-12-04T00:00:00, 201...</td>\n",
       "      <td>object</td>\n",
       "      <td>1491</td>\n",
       "    </tr>\n",
       "    <tr>\n",
       "      <th>total_area</th>\n",
       "      <td>0</td>\n",
       "      <td>0.0</td>\n",
       "      <td>[108.0, 40.4, 56.0, 159.0, 100.0, 30.4, 37.3, ...</td>\n",
       "      <td>float64</td>\n",
       "      <td>2182</td>\n",
       "    </tr>\n",
       "    <tr>\n",
       "      <th>open_plan</th>\n",
       "      <td>0</td>\n",
       "      <td>0.0</td>\n",
       "      <td>[False, True]</td>\n",
       "      <td>bool</td>\n",
       "      <td>2</td>\n",
       "    </tr>\n",
       "  </tbody>\n",
       "</table>\n",
       "</div>"
      ],
      "text/plain": [
       "                      количество пропущенных  доля пропущенных, %  \\\n",
       "название столбца                                                    \n",
       "is_apartment                           20924                 88.0   \n",
       "parks_nearest                          15620                 66.0   \n",
       "ponds_nearest                          14589                 62.0   \n",
       "balcony                                11519                 49.0   \n",
       "ceiling_height                          9195                 39.0   \n",
       "ponds_around3000                        5518                 23.0   \n",
       "parks_around3000                        5518                 23.0   \n",
       "cityCenters_nearest                     5519                 23.0   \n",
       "airports_nearest                        5542                 23.0   \n",
       "days_exposition                         3181                 13.0   \n",
       "kitchen_area                            2278                 10.0   \n",
       "living_area                             1903                  8.0   \n",
       "locality_name                             49                  0.0   \n",
       "total_images                               0                  0.0   \n",
       "last_price                                 0                  0.0   \n",
       "studio                                     0                  0.0   \n",
       "floor                                      0                  0.0   \n",
       "floors_total                              86                  0.0   \n",
       "rooms                                      0                  0.0   \n",
       "first_day_exposition                       0                  0.0   \n",
       "total_area                                 0                  0.0   \n",
       "open_plan                                  0                  0.0   \n",
       "\n",
       "                                                               значения  \\\n",
       "название столбца                                                          \n",
       "is_apartment                                         [nan, False, True]   \n",
       "parks_nearest         [482.0, nan, 90.0, 84.0, 112.0, 310.0, 294.0, ...   \n",
       "ponds_nearest         [755.0, nan, 574.0, 234.0, 48.0, 553.0, 298.0,...   \n",
       "balcony                             [nan, 2.0, 0.0, 1.0, 5.0, 4.0, 3.0]   \n",
       "ceiling_height        [2.7, nan, 3.03, 2.5, 2.67, 2.56, 3.05, 2.75, ...   \n",
       "ponds_around3000                              [2.0, 0.0, 3.0, 1.0, nan]   \n",
       "parks_around3000                              [1.0, 0.0, 2.0, nan, 3.0]   \n",
       "cityCenters_nearest   [16028.0, 18603.0, 13933.0, 6800.0, 8098.0, na...   \n",
       "airports_nearest      [18863.0, 12817.0, 21741.0, 28098.0, 31856.0, ...   \n",
       "days_exposition       [nan, 81.0, 558.0, 424.0, 121.0, 55.0, 155.0, ...   \n",
       "kitchen_area          [25.0, 11.0, 8.3, nan, 41.0, 9.1, 14.4, 18.9, ...   \n",
       "living_area           [51.0, 18.6, 34.3, nan, 32.0, 14.4, 10.6, 15.4...   \n",
       "locality_name         [Санкт-Петербург, посёлок Шушары, городской по...   \n",
       "total_images          [20, 7, 10, 0, 2, 6, 5, 18, 9, 1, 16, 11, 8, 1...   \n",
       "last_price            [13000000.0, 3350000.0, 5196000.0, 64900000.0,...   \n",
       "studio                                                    [False, True]   \n",
       "floor                 [8, 1, 4, 9, 13, 5, 6, 22, 26, 7, 3, 2, 11, 15...   \n",
       "floors_total          [16.0, 11.0, 5.0, 14.0, 12.0, 26.0, 24.0, 27.0...   \n",
       "rooms                 [3, 1, 2, 4, 5, 6, 0, 7, 11, 8, 14, 10, 15, 9,...   \n",
       "first_day_exposition  [2019-03-07T00:00:00, 2018-12-04T00:00:00, 201...   \n",
       "total_area            [108.0, 40.4, 56.0, 159.0, 100.0, 30.4, 37.3, ...   \n",
       "open_plan                                                 [False, True]   \n",
       "\n",
       "                     тип данных кол-во уникальных значений  \n",
       "название столбца                                            \n",
       "is_apartment             object                          2  \n",
       "parks_nearest           float64                        995  \n",
       "ponds_nearest           float64                       1096  \n",
       "balcony                 float64                          6  \n",
       "ceiling_height          float64                        183  \n",
       "ponds_around3000        float64                          4  \n",
       "parks_around3000        float64                          4  \n",
       "cityCenters_nearest     float64                       7642  \n",
       "airports_nearest        float64                       8275  \n",
       "days_exposition         float64                       1141  \n",
       "kitchen_area            float64                        971  \n",
       "living_area             float64                       1782  \n",
       "locality_name            object                        364  \n",
       "total_images              int64                         38  \n",
       "last_price              float64                       2978  \n",
       "studio                     bool                          2  \n",
       "floor                     int64                         33  \n",
       "floors_total            float64                         36  \n",
       "rooms                     int64                         17  \n",
       "first_day_exposition     object                       1491  \n",
       "total_area              float64                       2182  \n",
       "open_plan                  bool                          2  "
      ]
     },
     "execution_count": 8,
     "metadata": {},
     "output_type": "execute_result"
    }
   ],
   "source": [
    "#построим таблицу пустых значений и их долей в столбцах датафрейма и объединим с описательной таблицей\n",
    "def missing_data_percantage(data):\n",
    "    count_missing = data.isna().sum()\n",
    "    percent_missing = round(data.isna().sum() * 100 / len(data))\n",
    "    \n",
    "    missing_value_data = pd.DataFrame({'название столбца': data.columns,\n",
    "                                     'количество пропущенных': count_missing,\n",
    "                                     'доля пропущенных, %': percent_missing})\n",
    "    \n",
    "    return missing_value_data\n",
    "missing_data_percantage(data)\n",
    "\n",
    "df_missing = missing_data_percantage(data).join(nan_col_data(data))\n",
    "df_missing.set_index('название столбца', inplace=True)\n",
    "df_missing.sort_values(by='доля пропущенных, %', ascending=False)"
   ]
  },
  {
   "cell_type": "markdown",
   "id": "cc21e4c9",
   "metadata": {},
   "source": [
    "Первые наблюдения:\n",
    "\n",
    "1) название столбцов cityCenters_nearest, ponds_around3000, parks_around3000 нужно изменить в соответствии с требованиями PEP8;\n",
    "\n",
    "2) сразу видно большое количество пропусков в переменной is_apartment. Так как это булев тип данных, то можно предположить, что True - это квратиры. В таком случае квартир в выборке гораздо меньше, чем апартаментов, что кажется странным, учитывая, что в переменной kitchen_area нулевых знаечний меньше (нулевая площадь кухни как раз может быть в апартаментах), а также медианное значение переменной rooms - 2 комнаты. Также по некоторым наблюдениям есть четкий False, что может означать, что многие из NaN - квартиры. \n",
    "\n",
    "3) также странным выглядит множественное количество нулевых значений в переменной ceiling_height, так как высота потолков в метрах не может быть нулевой;\n",
    "\n",
    "4) 49 наблюдений остались без имени населенного пункта. Учитывая малое количество пропусков, можно предположить, что продавцы специально не указывают наименование пункта, так как уверены, что если выбран раздел \"Санкт-Петербург\", то и квартира в Санкт-Петербурге, не уточняя, что это может быть и Лен. область. С учетом малого количества пропусков предлагается просту их удалить из таблицы.\n",
    "\n",
    "5) в переменной lastprice имеется аномальное минимальное значение;\n",
    "\n",
    "6) есть нулевые значения в перменной airports_nearest; \n",
    "\n",
    "7) переменнные ponds_nearest и parks_nearest совершенно пустые и, скорее всего, неинформативные (как качественно, ведь наличие парков и прудов рядом обычно вторично при выборе квартиры (особенно информация об удаленности в метрах), так и количественно). К тому же данный параметр заполняется системой, ввиду чего скорее всего не имеет смысла заострять внимание на этих переменных. Предлагается не заполнять пропуски и не брать столбцы в анализ.\n",
    "\n",
    "8) переменная living_area также имеет пропуски. Возможно это связано с тем, что поиск работает по общей площади и покупатель в основном ищет квартиру по общей площади, а не жилой; \n",
    "\n",
    "9) есть пустые значения в перменных airports_nearest и cityCenters_nearest, которые заполняются автоматически системой. Пропуски могут быть вызваны тем, что система искала аэропорты и центр города в радиусе относительно определенной выбранной точки на карте и если не находила, то возвращала ноль;\n",
    "\n",
    "10) parks_nearest и ponds_nearest имееют пустые пропуски, как и ponds_around3000 и parks_around3000.\n",
    "\n",
    "11) Пропуски в days_exposition очень неприятны, так как параметр довольно-таки интересный (всегда интересно посмотреть квартиры какой ценовой категории \"отрывают\" с руками, а какие висят бремененм мертвого груза на собственниках. Особенности спроса, отражающие косвенно социально-экономическую обстановку региона все-таки). Они могут быть вызваны тем, что продавец не передал сервису информациб о закрывшейся сделке."
   ]
  },
  {
   "cell_type": "code",
   "execution_count": 9,
   "id": "91d3b1cc",
   "metadata": {},
   "outputs": [],
   "source": [
    "data.rename(columns={'cityCenters_nearest' : 'city_centers_nearest', 'ponds_around3000': 'ponds_around_3000', 'parks_around3000': 'parks_around_3000' }, inplace=True)"
   ]
  },
  {
   "cell_type": "code",
   "execution_count": 10,
   "id": "6831c44d",
   "metadata": {},
   "outputs": [],
   "source": [
    "#переведем столбец с датой в формат даты без времени, т.к. время не указано\n",
    "data['first_day_exposition'] = pd.to_datetime(data['first_day_exposition'], format = '%Y-%m-%d')\n"
   ]
  },
  {
   "cell_type": "code",
   "execution_count": 11,
   "id": "876969b6",
   "metadata": {
    "scrolled": true
   },
   "outputs": [
    {
     "data": {
      "text/html": [
       "<div>\n",
       "<style scoped>\n",
       "    .dataframe tbody tr th:only-of-type {\n",
       "        vertical-align: middle;\n",
       "    }\n",
       "\n",
       "    .dataframe tbody tr th {\n",
       "        vertical-align: top;\n",
       "    }\n",
       "\n",
       "    .dataframe thead th {\n",
       "        text-align: right;\n",
       "    }\n",
       "</style>\n",
       "<table border=\"1\" class=\"dataframe\">\n",
       "  <thead>\n",
       "    <tr style=\"text-align: right;\">\n",
       "      <th></th>\n",
       "      <th>total_images</th>\n",
       "      <th>last_price</th>\n",
       "      <th>total_area</th>\n",
       "      <th>first_day_exposition</th>\n",
       "      <th>rooms</th>\n",
       "      <th>ceiling_height</th>\n",
       "      <th>floors_total</th>\n",
       "      <th>living_area</th>\n",
       "      <th>floor</th>\n",
       "      <th>is_apartment</th>\n",
       "      <th>...</th>\n",
       "      <th>kitchen_area</th>\n",
       "      <th>balcony</th>\n",
       "      <th>locality_name</th>\n",
       "      <th>airports_nearest</th>\n",
       "      <th>city_centers_nearest</th>\n",
       "      <th>parks_around_3000</th>\n",
       "      <th>parks_nearest</th>\n",
       "      <th>ponds_around_3000</th>\n",
       "      <th>ponds_nearest</th>\n",
       "      <th>days_exposition</th>\n",
       "    </tr>\n",
       "  </thead>\n",
       "  <tbody>\n",
       "    <tr>\n",
       "      <th>0</th>\n",
       "      <td>20</td>\n",
       "      <td>13000000.0</td>\n",
       "      <td>108.00</td>\n",
       "      <td>2019-03-07</td>\n",
       "      <td>3</td>\n",
       "      <td>2.70</td>\n",
       "      <td>16.0</td>\n",
       "      <td>51.0</td>\n",
       "      <td>8</td>\n",
       "      <td>NaN</td>\n",
       "      <td>...</td>\n",
       "      <td>25.00</td>\n",
       "      <td>NaN</td>\n",
       "      <td>Санкт-Петербург</td>\n",
       "      <td>18863.0</td>\n",
       "      <td>16028.0</td>\n",
       "      <td>1.0</td>\n",
       "      <td>482.0</td>\n",
       "      <td>2.0</td>\n",
       "      <td>755.0</td>\n",
       "      <td>NaN</td>\n",
       "    </tr>\n",
       "    <tr>\n",
       "      <th>1</th>\n",
       "      <td>7</td>\n",
       "      <td>3350000.0</td>\n",
       "      <td>40.40</td>\n",
       "      <td>2018-12-04</td>\n",
       "      <td>1</td>\n",
       "      <td>NaN</td>\n",
       "      <td>11.0</td>\n",
       "      <td>18.6</td>\n",
       "      <td>1</td>\n",
       "      <td>NaN</td>\n",
       "      <td>...</td>\n",
       "      <td>11.00</td>\n",
       "      <td>2.0</td>\n",
       "      <td>посёлок Шушары</td>\n",
       "      <td>12817.0</td>\n",
       "      <td>18603.0</td>\n",
       "      <td>0.0</td>\n",
       "      <td>NaN</td>\n",
       "      <td>0.0</td>\n",
       "      <td>NaN</td>\n",
       "      <td>81.0</td>\n",
       "    </tr>\n",
       "    <tr>\n",
       "      <th>2</th>\n",
       "      <td>10</td>\n",
       "      <td>5196000.0</td>\n",
       "      <td>56.00</td>\n",
       "      <td>2015-08-20</td>\n",
       "      <td>2</td>\n",
       "      <td>NaN</td>\n",
       "      <td>5.0</td>\n",
       "      <td>34.3</td>\n",
       "      <td>4</td>\n",
       "      <td>NaN</td>\n",
       "      <td>...</td>\n",
       "      <td>8.30</td>\n",
       "      <td>0.0</td>\n",
       "      <td>Санкт-Петербург</td>\n",
       "      <td>21741.0</td>\n",
       "      <td>13933.0</td>\n",
       "      <td>1.0</td>\n",
       "      <td>90.0</td>\n",
       "      <td>2.0</td>\n",
       "      <td>574.0</td>\n",
       "      <td>558.0</td>\n",
       "    </tr>\n",
       "    <tr>\n",
       "      <th>3</th>\n",
       "      <td>0</td>\n",
       "      <td>64900000.0</td>\n",
       "      <td>159.00</td>\n",
       "      <td>2015-07-24</td>\n",
       "      <td>3</td>\n",
       "      <td>NaN</td>\n",
       "      <td>14.0</td>\n",
       "      <td>NaN</td>\n",
       "      <td>9</td>\n",
       "      <td>NaN</td>\n",
       "      <td>...</td>\n",
       "      <td>NaN</td>\n",
       "      <td>0.0</td>\n",
       "      <td>Санкт-Петербург</td>\n",
       "      <td>28098.0</td>\n",
       "      <td>6800.0</td>\n",
       "      <td>2.0</td>\n",
       "      <td>84.0</td>\n",
       "      <td>3.0</td>\n",
       "      <td>234.0</td>\n",
       "      <td>424.0</td>\n",
       "    </tr>\n",
       "    <tr>\n",
       "      <th>4</th>\n",
       "      <td>2</td>\n",
       "      <td>10000000.0</td>\n",
       "      <td>100.00</td>\n",
       "      <td>2018-06-19</td>\n",
       "      <td>2</td>\n",
       "      <td>3.03</td>\n",
       "      <td>14.0</td>\n",
       "      <td>32.0</td>\n",
       "      <td>13</td>\n",
       "      <td>NaN</td>\n",
       "      <td>...</td>\n",
       "      <td>41.00</td>\n",
       "      <td>NaN</td>\n",
       "      <td>Санкт-Петербург</td>\n",
       "      <td>31856.0</td>\n",
       "      <td>8098.0</td>\n",
       "      <td>2.0</td>\n",
       "      <td>112.0</td>\n",
       "      <td>1.0</td>\n",
       "      <td>48.0</td>\n",
       "      <td>121.0</td>\n",
       "    </tr>\n",
       "    <tr>\n",
       "      <th>...</th>\n",
       "      <td>...</td>\n",
       "      <td>...</td>\n",
       "      <td>...</td>\n",
       "      <td>...</td>\n",
       "      <td>...</td>\n",
       "      <td>...</td>\n",
       "      <td>...</td>\n",
       "      <td>...</td>\n",
       "      <td>...</td>\n",
       "      <td>...</td>\n",
       "      <td>...</td>\n",
       "      <td>...</td>\n",
       "      <td>...</td>\n",
       "      <td>...</td>\n",
       "      <td>...</td>\n",
       "      <td>...</td>\n",
       "      <td>...</td>\n",
       "      <td>...</td>\n",
       "      <td>...</td>\n",
       "      <td>...</td>\n",
       "      <td>...</td>\n",
       "    </tr>\n",
       "    <tr>\n",
       "      <th>23694</th>\n",
       "      <td>9</td>\n",
       "      <td>9700000.0</td>\n",
       "      <td>133.81</td>\n",
       "      <td>2017-03-21</td>\n",
       "      <td>3</td>\n",
       "      <td>3.70</td>\n",
       "      <td>5.0</td>\n",
       "      <td>73.3</td>\n",
       "      <td>3</td>\n",
       "      <td>NaN</td>\n",
       "      <td>...</td>\n",
       "      <td>13.83</td>\n",
       "      <td>NaN</td>\n",
       "      <td>Санкт-Петербург</td>\n",
       "      <td>24665.0</td>\n",
       "      <td>4232.0</td>\n",
       "      <td>1.0</td>\n",
       "      <td>796.0</td>\n",
       "      <td>3.0</td>\n",
       "      <td>381.0</td>\n",
       "      <td>NaN</td>\n",
       "    </tr>\n",
       "    <tr>\n",
       "      <th>23695</th>\n",
       "      <td>14</td>\n",
       "      <td>3100000.0</td>\n",
       "      <td>59.00</td>\n",
       "      <td>2018-01-15</td>\n",
       "      <td>3</td>\n",
       "      <td>NaN</td>\n",
       "      <td>5.0</td>\n",
       "      <td>38.0</td>\n",
       "      <td>4</td>\n",
       "      <td>NaN</td>\n",
       "      <td>...</td>\n",
       "      <td>8.50</td>\n",
       "      <td>NaN</td>\n",
       "      <td>Тосно</td>\n",
       "      <td>NaN</td>\n",
       "      <td>NaN</td>\n",
       "      <td>NaN</td>\n",
       "      <td>NaN</td>\n",
       "      <td>NaN</td>\n",
       "      <td>NaN</td>\n",
       "      <td>45.0</td>\n",
       "    </tr>\n",
       "    <tr>\n",
       "      <th>23696</th>\n",
       "      <td>18</td>\n",
       "      <td>2500000.0</td>\n",
       "      <td>56.70</td>\n",
       "      <td>2018-02-11</td>\n",
       "      <td>2</td>\n",
       "      <td>NaN</td>\n",
       "      <td>3.0</td>\n",
       "      <td>29.7</td>\n",
       "      <td>1</td>\n",
       "      <td>NaN</td>\n",
       "      <td>...</td>\n",
       "      <td>NaN</td>\n",
       "      <td>NaN</td>\n",
       "      <td>село Рождествено</td>\n",
       "      <td>NaN</td>\n",
       "      <td>NaN</td>\n",
       "      <td>NaN</td>\n",
       "      <td>NaN</td>\n",
       "      <td>NaN</td>\n",
       "      <td>NaN</td>\n",
       "      <td>NaN</td>\n",
       "    </tr>\n",
       "    <tr>\n",
       "      <th>23697</th>\n",
       "      <td>13</td>\n",
       "      <td>11475000.0</td>\n",
       "      <td>76.75</td>\n",
       "      <td>2017-03-28</td>\n",
       "      <td>2</td>\n",
       "      <td>3.00</td>\n",
       "      <td>17.0</td>\n",
       "      <td>NaN</td>\n",
       "      <td>12</td>\n",
       "      <td>NaN</td>\n",
       "      <td>...</td>\n",
       "      <td>23.30</td>\n",
       "      <td>2.0</td>\n",
       "      <td>Санкт-Петербург</td>\n",
       "      <td>39140.0</td>\n",
       "      <td>10364.0</td>\n",
       "      <td>2.0</td>\n",
       "      <td>173.0</td>\n",
       "      <td>3.0</td>\n",
       "      <td>196.0</td>\n",
       "      <td>602.0</td>\n",
       "    </tr>\n",
       "    <tr>\n",
       "      <th>23698</th>\n",
       "      <td>4</td>\n",
       "      <td>1350000.0</td>\n",
       "      <td>32.30</td>\n",
       "      <td>2017-07-21</td>\n",
       "      <td>1</td>\n",
       "      <td>2.50</td>\n",
       "      <td>5.0</td>\n",
       "      <td>12.3</td>\n",
       "      <td>1</td>\n",
       "      <td>NaN</td>\n",
       "      <td>...</td>\n",
       "      <td>9.00</td>\n",
       "      <td>NaN</td>\n",
       "      <td>поселок Новый Учхоз</td>\n",
       "      <td>NaN</td>\n",
       "      <td>NaN</td>\n",
       "      <td>NaN</td>\n",
       "      <td>NaN</td>\n",
       "      <td>NaN</td>\n",
       "      <td>NaN</td>\n",
       "      <td>NaN</td>\n",
       "    </tr>\n",
       "  </tbody>\n",
       "</table>\n",
       "<p>23699 rows × 22 columns</p>\n",
       "</div>"
      ],
      "text/plain": [
       "       total_images  last_price  total_area first_day_exposition  rooms  \\\n",
       "0                20  13000000.0      108.00           2019-03-07      3   \n",
       "1                 7   3350000.0       40.40           2018-12-04      1   \n",
       "2                10   5196000.0       56.00           2015-08-20      2   \n",
       "3                 0  64900000.0      159.00           2015-07-24      3   \n",
       "4                 2  10000000.0      100.00           2018-06-19      2   \n",
       "...             ...         ...         ...                  ...    ...   \n",
       "23694             9   9700000.0      133.81           2017-03-21      3   \n",
       "23695            14   3100000.0       59.00           2018-01-15      3   \n",
       "23696            18   2500000.0       56.70           2018-02-11      2   \n",
       "23697            13  11475000.0       76.75           2017-03-28      2   \n",
       "23698             4   1350000.0       32.30           2017-07-21      1   \n",
       "\n",
       "       ceiling_height  floors_total  living_area  floor is_apartment  ...  \\\n",
       "0                2.70          16.0         51.0      8          NaN  ...   \n",
       "1                 NaN          11.0         18.6      1          NaN  ...   \n",
       "2                 NaN           5.0         34.3      4          NaN  ...   \n",
       "3                 NaN          14.0          NaN      9          NaN  ...   \n",
       "4                3.03          14.0         32.0     13          NaN  ...   \n",
       "...               ...           ...          ...    ...          ...  ...   \n",
       "23694            3.70           5.0         73.3      3          NaN  ...   \n",
       "23695             NaN           5.0         38.0      4          NaN  ...   \n",
       "23696             NaN           3.0         29.7      1          NaN  ...   \n",
       "23697            3.00          17.0          NaN     12          NaN  ...   \n",
       "23698            2.50           5.0         12.3      1          NaN  ...   \n",
       "\n",
       "       kitchen_area  balcony        locality_name  airports_nearest  \\\n",
       "0             25.00      NaN      Санкт-Петербург           18863.0   \n",
       "1             11.00      2.0       посёлок Шушары           12817.0   \n",
       "2              8.30      0.0      Санкт-Петербург           21741.0   \n",
       "3               NaN      0.0      Санкт-Петербург           28098.0   \n",
       "4             41.00      NaN      Санкт-Петербург           31856.0   \n",
       "...             ...      ...                  ...               ...   \n",
       "23694         13.83      NaN      Санкт-Петербург           24665.0   \n",
       "23695          8.50      NaN                Тосно               NaN   \n",
       "23696           NaN      NaN     село Рождествено               NaN   \n",
       "23697         23.30      2.0      Санкт-Петербург           39140.0   \n",
       "23698          9.00      NaN  поселок Новый Учхоз               NaN   \n",
       "\n",
       "      city_centers_nearest  parks_around_3000  parks_nearest  \\\n",
       "0                  16028.0                1.0          482.0   \n",
       "1                  18603.0                0.0            NaN   \n",
       "2                  13933.0                1.0           90.0   \n",
       "3                   6800.0                2.0           84.0   \n",
       "4                   8098.0                2.0          112.0   \n",
       "...                    ...                ...            ...   \n",
       "23694               4232.0                1.0          796.0   \n",
       "23695                  NaN                NaN            NaN   \n",
       "23696                  NaN                NaN            NaN   \n",
       "23697              10364.0                2.0          173.0   \n",
       "23698                  NaN                NaN            NaN   \n",
       "\n",
       "       ponds_around_3000  ponds_nearest  days_exposition  \n",
       "0                    2.0          755.0              NaN  \n",
       "1                    0.0            NaN             81.0  \n",
       "2                    2.0          574.0            558.0  \n",
       "3                    3.0          234.0            424.0  \n",
       "4                    1.0           48.0            121.0  \n",
       "...                  ...            ...              ...  \n",
       "23694                3.0          381.0              NaN  \n",
       "23695                NaN            NaN             45.0  \n",
       "23696                NaN            NaN              NaN  \n",
       "23697                3.0          196.0            602.0  \n",
       "23698                NaN            NaN              NaN  \n",
       "\n",
       "[23699 rows x 22 columns]"
      ]
     },
     "execution_count": 11,
     "metadata": {},
     "output_type": "execute_result"
    }
   ],
   "source": [
    "#Проверим таблицу\n",
    "data"
   ]
  },
  {
   "cell_type": "markdown",
   "id": "c59e2f72",
   "metadata": {},
   "source": [
    "###  удаление неявных дубликатов"
   ]
  },
  {
   "cell_type": "code",
   "execution_count": 12,
   "id": "f9876e12",
   "metadata": {},
   "outputs": [
    {
     "data": {
      "text/plain": [
       "array(['Санкт-Петербург', 'посёлок Шушары', 'городской посёлок Янино-1',\n",
       "       'посёлок Парголово', 'посёлок Мурино', 'Ломоносов', 'Сертолово',\n",
       "       'Петергоф', 'Пушкин', 'деревня Кудрово', 'Коммунар', 'Колпино',\n",
       "       'поселок городского типа Красный Бор', 'Гатчина', 'поселок Мурино',\n",
       "       'деревня Фёдоровское', 'Выборг', 'Кронштадт', 'Кировск',\n",
       "       'деревня Новое Девяткино', 'посёлок Металлострой',\n",
       "       'посёлок городского типа Лебяжье',\n",
       "       'посёлок городского типа Сиверский', 'поселок Молодцово',\n",
       "       'поселок городского типа Кузьмоловский',\n",
       "       'садовое товарищество Новая Ропша', 'Павловск',\n",
       "       'деревня Пикколово', 'Всеволожск', 'Волхов', 'Кингисепп',\n",
       "       'Приозерск', 'Сестрорецк', 'деревня Куттузи', 'посёлок Аннино',\n",
       "       'поселок городского типа Ефимовский', 'посёлок Плодовое',\n",
       "       'деревня Заклинье', 'поселок Торковичи', 'поселок Первомайское',\n",
       "       'Красное Село', 'посёлок Понтонный', 'Сясьстрой', 'деревня Старая',\n",
       "       'деревня Лесколово', 'посёлок Новый Свет', 'Сланцы',\n",
       "       'село Путилово', 'Ивангород', 'Мурино', 'Шлиссельбург',\n",
       "       'Никольское', 'Зеленогорск', 'Сосновый Бор', 'поселок Новый Свет',\n",
       "       'деревня Оржицы', 'деревня Кальтино', 'Кудрово',\n",
       "       'поселок Романовка', 'посёлок Бугры', 'поселок Бугры',\n",
       "       'поселок городского типа Рощино', 'Кириши', 'Луга', 'Волосово',\n",
       "       'Отрадное', 'село Павлово', 'поселок Оредеж', 'село Копорье',\n",
       "       'посёлок городского типа Красный Бор', 'посёлок Молодёжное',\n",
       "       'Тихвин', 'посёлок Победа', 'деревня Нурма',\n",
       "       'поселок городского типа Синявино', 'Тосно',\n",
       "       'посёлок городского типа Кузьмоловский', 'посёлок Стрельна',\n",
       "       'Бокситогорск', 'посёлок Александровская', 'деревня Лопухинка',\n",
       "       'Пикалёво', 'поселок Терволово',\n",
       "       'поселок городского типа Советский', 'Подпорожье',\n",
       "       'посёлок Петровское', 'посёлок городского типа Токсово',\n",
       "       'поселок Сельцо', 'посёлок городского типа Вырица',\n",
       "       'деревня Кипень', 'деревня Келози', 'деревня Вартемяги',\n",
       "       'посёлок Тельмана', 'поселок Севастьяново',\n",
       "       'городской поселок Большая Ижора', nan,\n",
       "       'городской посёлок Павлово', 'деревня Агалатово',\n",
       "       'посёлок Новогорелово', 'городской посёлок Лесогорский',\n",
       "       'деревня Лаголово', 'поселок Цвелодубово',\n",
       "       'поселок городского типа Рахья', 'поселок городского типа Вырица',\n",
       "       'деревня Белогорка', 'поселок Заводской',\n",
       "       'городской посёлок Новоселье', 'деревня Большие Колпаны',\n",
       "       'деревня Горбунки', 'деревня Батово', 'деревня Заневка',\n",
       "       'деревня Иссад', 'Приморск', 'городской посёлок Фёдоровское',\n",
       "       'деревня Мистолово', 'Новая Ладога', 'поселок Зимитицы',\n",
       "       'поселок Барышево', 'деревня Разметелево',\n",
       "       'поселок городского типа имени Свердлова', 'деревня Пеники',\n",
       "       'поселок Рябово', 'деревня Пудомяги', 'поселок станции Корнево',\n",
       "       'деревня Низино', 'деревня Бегуницы', 'посёлок Поляны',\n",
       "       'городской посёлок Мга', 'поселок Елизаветино',\n",
       "       'посёлок городского типа Кузнечное', 'деревня Колтуши',\n",
       "       'поселок Запорожское', 'посёлок городского типа Рощино',\n",
       "       'деревня Гостилицы', 'деревня Малое Карлино',\n",
       "       'посёлок Мичуринское', 'посёлок городского типа имени Морозова',\n",
       "       'посёлок Песочный', 'посёлок Сосново', 'деревня Аро',\n",
       "       'поселок Ильичёво', 'посёлок городского типа Тайцы',\n",
       "       'деревня Малое Верево', 'деревня Извара', 'поселок станции Вещево',\n",
       "       'село Паша', 'деревня Калитино',\n",
       "       'посёлок городского типа Ульяновка', 'деревня Чудской Бор',\n",
       "       'поселок городского типа Дубровка', 'деревня Мины',\n",
       "       'поселок Войсковицы', 'посёлок городского типа имени Свердлова',\n",
       "       'деревня Коркино', 'посёлок Ропша',\n",
       "       'поселок городского типа Приладожский', 'посёлок Щеглово',\n",
       "       'посёлок Гаврилово', 'Лодейное Поле', 'деревня Рабитицы',\n",
       "       'поселок городского типа Никольский', 'деревня Кузьмолово',\n",
       "       'деревня Малые Колпаны', 'поселок Тельмана',\n",
       "       'посёлок Петро-Славянка', 'городской посёлок Назия',\n",
       "       'посёлок Репино', 'посёлок Ильичёво', 'поселок Углово',\n",
       "       'поселок Старая Малукса', 'садовое товарищество Рахья',\n",
       "       'поселок Аннино', 'поселок Победа', 'деревня Меньково',\n",
       "       'деревня Старые Бегуницы', 'посёлок Сапёрный', 'поселок Семрино',\n",
       "       'поселок Гаврилово', 'поселок Глажево', 'поселок Кобринское',\n",
       "       'деревня Гарболово', 'деревня Юкки',\n",
       "       'поселок станции Приветнинское', 'деревня Мануйлово',\n",
       "       'деревня Пчева', 'поселок Поляны', 'поселок Цвылёво',\n",
       "       'поселок Мельниково', 'посёлок Пудость', 'посёлок Усть-Луга',\n",
       "       'Светогорск', 'Любань', 'поселок Селезнёво',\n",
       "       'поселок городского типа Рябово', 'Каменногорск', 'деревня Кривко',\n",
       "       'поселок Глебычево', 'деревня Парицы', 'поселок Жилпосёлок',\n",
       "       'посёлок городского типа Мга', 'городской поселок Янино-1',\n",
       "       'посёлок Войскорово', 'село Никольское', 'посёлок Терволово',\n",
       "       'поселок Стеклянный', 'посёлок городского типа Важины',\n",
       "       'посёлок Мыза-Ивановка', 'село Русско-Высоцкое',\n",
       "       'поселок городского типа Лебяжье',\n",
       "       'поселок городского типа Форносово', 'село Старая Ладога',\n",
       "       'поселок Житково', 'городской посёлок Виллози', 'деревня Лампово',\n",
       "       'деревня Шпаньково', 'деревня Лаврики', 'посёлок Сумино',\n",
       "       'посёлок Возрождение', 'деревня Старосиверская',\n",
       "       'посёлок Кикерино', 'поселок Возрождение',\n",
       "       'деревня Старое Хинколово', 'посёлок Пригородный',\n",
       "       'посёлок Торфяное', 'городской посёлок Будогощь',\n",
       "       'поселок Суходолье', 'поселок Красная Долина', 'деревня Хапо-Ое',\n",
       "       'поселок городского типа Дружная Горка', 'поселок Лисий Нос',\n",
       "       'деревня Яльгелево', 'посёлок Стеклянный', 'село Рождествено',\n",
       "       'деревня Старополье', 'посёлок Левашово', 'деревня Сяськелево',\n",
       "       'деревня Камышовка',\n",
       "       'садоводческое некоммерческое товарищество Лесная Поляна',\n",
       "       'деревня Хязельки', 'поселок Жилгородок',\n",
       "       'посёлок городского типа Павлово', 'деревня Ялгино',\n",
       "       'поселок Новый Учхоз', 'городской посёлок Рощино',\n",
       "       'поселок Гончарово', 'поселок Почап', 'посёлок Сапёрное',\n",
       "       'посёлок Платформа 69-й километр', 'поселок Каложицы',\n",
       "       'деревня Фалилеево', 'деревня Пельгора',\n",
       "       'поселок городского типа Лесогорский', 'деревня Торошковичи',\n",
       "       'посёлок Белоостров', 'посёлок Алексеевка', 'поселок Серебрянский',\n",
       "       'поселок Лукаши', 'поселок Петровское', 'деревня Щеглово',\n",
       "       'поселок Мичуринское', 'деревня Тарасово', 'поселок Кингисеппский',\n",
       "       'посёлок при железнодорожной станции Вещево', 'поселок Ушаки',\n",
       "       'деревня Котлы', 'деревня Сижно', 'деревня Торосово',\n",
       "       'посёлок Форт Красная Горка', 'поселок городского типа Токсово',\n",
       "       'деревня Новолисино', 'посёлок станции Громово', 'деревня Глинка',\n",
       "       'посёлок Мельниково', 'поселок городского типа Назия',\n",
       "       'деревня Старая Пустошь', 'поселок Коммунары', 'поселок Починок',\n",
       "       'посёлок городского типа Вознесенье', 'деревня Разбегаево',\n",
       "       'посёлок городского типа Рябово', 'поселок Гладкое',\n",
       "       'посёлок при железнодорожной станции Приветнинское',\n",
       "       'поселок Тёсово-4', 'посёлок Жилгородок', 'деревня Бор',\n",
       "       'посёлок Коробицыно', 'деревня Большая Вруда', 'деревня Курковицы',\n",
       "       'посёлок Лисий Нос', 'городской посёлок Советский',\n",
       "       'посёлок Кобралово', 'деревня Суоранда', 'поселок Кобралово',\n",
       "       'поселок городского типа Кондратьево',\n",
       "       'коттеджный поселок Счастье', 'поселок Любань', 'деревня Реброво',\n",
       "       'деревня Зимитицы', 'деревня Тойворово', 'поселок Семиозерье',\n",
       "       'поселок Лесное', 'поселок Совхозный', 'поселок Усть-Луга',\n",
       "       'посёлок Ленинское', 'посёлок Суйда',\n",
       "       'посёлок городского типа Форносово', 'деревня Нижние Осельки',\n",
       "       'посёлок станции Свирь', 'поселок Перово', 'Высоцк',\n",
       "       'поселок Гарболово', 'село Шум', 'поселок Котельский',\n",
       "       'поселок станции Лужайка', 'деревня Большая Пустомержа',\n",
       "       'поселок Красносельское', 'деревня Вахнова Кара', 'деревня Пижма',\n",
       "       'коттеджный поселок Кивеннапа Север', 'поселок Коробицыно',\n",
       "       'поселок Ромашки', 'посёлок Перово', 'деревня Каськово',\n",
       "       'деревня Куровицы', 'посёлок Плоское', 'поселок Сумино',\n",
       "       'поселок городского типа Большая Ижора', 'поселок Кирпичное',\n",
       "       'деревня Ям-Тесово', 'деревня Раздолье', 'деревня Терпилицы',\n",
       "       'посёлок Шугозеро', 'деревня Ваганово', 'поселок Пушное',\n",
       "       'садовое товарищество Садко', 'посёлок Усть-Ижора',\n",
       "       'деревня Выскатка', 'городской посёлок Свирьстрой',\n",
       "       'поселок Громово', 'деревня Кисельня', 'посёлок Старая Малукса',\n",
       "       'деревня Трубников Бор', 'поселок Калитино',\n",
       "       'посёлок Высокоключевой', 'садовое товарищество Приладожский',\n",
       "       'посёлок Пансионат Зелёный Бор', 'деревня Ненимяки',\n",
       "       'поселок Пансионат Зелёный Бор', 'деревня Снегирёвка',\n",
       "       'деревня Рапполово', 'деревня Пустынка', 'поселок Рабитицы',\n",
       "       'деревня Большой Сабск', 'деревня Русско', 'деревня Лупполово',\n",
       "       'деревня Большое Рейзино', 'деревня Малая Романовка',\n",
       "       'поселок Дружноселье', 'поселок Пчевжа', 'поселок Володарское',\n",
       "       'деревня Нижняя', 'коттеджный посёлок Лесное', 'деревня Тихковицы',\n",
       "       'деревня Борисова Грива', 'посёлок Дзержинского'], dtype=object)"
      ]
     },
     "execution_count": 12,
     "metadata": {},
     "output_type": "execute_result"
    }
   ],
   "source": [
    "\n",
    "data['locality_name'].unique()"
   ]
  },
  {
   "cell_type": "code",
   "execution_count": 13,
   "id": "536e1e7a",
   "metadata": {},
   "outputs": [],
   "source": [
    "#в данных видно, что имеются неявные дубликаты с буквами е и ё в типах населенных пунктов (поселок, город и тд).\n",
    "#поскольку нам неважен тип населенного пункта, то можно его просто удалить перед названием\n",
    "replace_dict = ['поселок ', 'городского типа ', 'городской ',  'деревня ', \n",
    "                'коттеджный ', 'село ', 'посёлок ', 'при железнодорожной станции ',\n",
    "                'станции ', 'садоводческое некоммерческое товарищество ', 'садовое товарищество ']\n",
    "for value in replace_dict:\n",
    "    data['locality_name'] = data['locality_name'].str.replace(value, '')"
   ]
  },
  {
   "cell_type": "code",
   "execution_count": 14,
   "id": "9465d02a",
   "metadata": {},
   "outputs": [
    {
     "data": {
      "text/plain": [
       "Санкт-Петербург    15721\n",
       "Мурино               590\n",
       "Кудрово              472\n",
       "Шушары               440\n",
       "Всеволожск           398\n",
       "                   ...  \n",
       "Дружноселье            1\n",
       "Дзержинского           1\n",
       "Вахнова Кара           1\n",
       "Реброво                1\n",
       "Цвылёво                1\n",
       "Name: locality_name, Length: 305, dtype: int64"
      ]
     },
     "execution_count": 14,
     "metadata": {},
     "output_type": "execute_result"
    }
   ],
   "source": [
    "data['locality_name'].value_counts()"
   ]
  },
  {
   "cell_type": "code",
   "execution_count": 15,
   "id": "b9c460e3",
   "metadata": {},
   "outputs": [
    {
     "data": {
      "text/plain": [
       "array(['Санкт-Петербург', 'Шушары', 'Янино-1', 'Парголово', 'Мурино',\n",
       "       'Ломоносов', 'Сертолово', 'Петергоф', 'Пушкин', 'Кудрово',\n",
       "       'Коммунар', 'Колпино', 'Красный Бор', 'Гатчина', 'Фёдоровское',\n",
       "       'Выборг', 'Кронштадт', 'Кировск', 'Новое Девяткино',\n",
       "       'Металлострой', 'Лебяжье', 'Сиверский', 'Молодцово',\n",
       "       'Кузьмоловский', 'Новая Ропша', 'Павловск', 'Пикколово',\n",
       "       'Всеволожск', 'Волхов', 'Кингисепп', 'Приозерск', 'Сестрорецк',\n",
       "       'Куттузи', 'Аннино', 'Ефимовский', 'Плодовое', 'Заклинье',\n",
       "       'Торковичи', 'Первомайское', 'Красное Село', 'Понтонный',\n",
       "       'Сясьстрой', 'Старая', 'Лесколово', 'Новый Свет', 'Сланцы',\n",
       "       'Путилово', 'Ивангород', 'Шлиссельбург', 'Никольское',\n",
       "       'Зеленогорск', 'Сосновый Бор', 'Оржицы', 'Кальтино', 'Романовка',\n",
       "       'Бугры', 'Рощино', 'Кириши', 'Луга', 'Волосово', 'Отрадное',\n",
       "       'Павлово', 'Оредеж', 'Копорье', 'Молодёжное', 'Тихвин', 'Победа',\n",
       "       'Нурма', 'Синявино', 'Тосно', 'Стрельна', 'Бокситогорск',\n",
       "       'Александровская', 'Лопухинка', 'Пикалёво', 'Терволово',\n",
       "       'Советский', 'Подпорожье', 'Петровское', 'Токсово', 'Сельцо',\n",
       "       'Вырица', 'Кипень', 'Келози', 'Вартемяги', 'Тельмана',\n",
       "       'Севастьяново', 'Большая Ижора', nan, 'Агалатово', 'Новогорелово',\n",
       "       'Лесогорский', 'Лаголово', 'Цвелодубово', 'Рахья', 'Белогорка',\n",
       "       'Заводской', 'Новоселье', 'Большие Колпаны', 'Горбунки', 'Батово',\n",
       "       'Заневка', 'Иссад', 'Приморск', 'Мистолово', 'Новая Ладога',\n",
       "       'Зимитицы', 'Барышево', 'Разметелево', 'имени Свердлова', 'Пеники',\n",
       "       'Рябово', 'Пудомяги', 'Корнево', 'Низино', 'Бегуницы', 'Поляны',\n",
       "       'Мга', 'Елизаветино', 'Кузнечное', 'Колтуши', 'Запорожское',\n",
       "       'Гостилицы', 'Малое Карлино', 'Мичуринское', 'имени Морозова',\n",
       "       'Песочный', 'Сосново', 'Аро', 'Ильичёво', 'Тайцы', 'Малое Верево',\n",
       "       'Извара', 'Вещево', 'Паша', 'Калитино', 'Ульяновка', 'Чудской Бор',\n",
       "       'Дубровка', 'Мины', 'Войсковицы', 'Коркино', 'Ропша',\n",
       "       'Приладожский', 'Щеглово', 'Гаврилово', 'Лодейное Поле',\n",
       "       'Рабитицы', 'Никольский', 'Кузьмолово', 'Малые Колпаны',\n",
       "       'Петро-Славянка', 'Назия', 'Репино', 'Углово', 'Старая Малукса',\n",
       "       'Меньково', 'Старые Бегуницы', 'Сапёрный', 'Семрино', 'Глажево',\n",
       "       'Кобринское', 'Гарболово', 'Юкки', 'Приветнинское', 'Мануйлово',\n",
       "       'Пчева', 'Цвылёво', 'Мельниково', 'Пудость', 'Усть-Луга',\n",
       "       'Светогорск', 'Любань', 'Селезнёво', 'Каменногорск', 'Кривко',\n",
       "       'Глебычево', 'Парицы', 'Жилпосёлок', 'Войскорово', 'Стеклянный',\n",
       "       'Важины', 'Мыза-Ивановка', 'Русско-Высоцкое', 'Форносово',\n",
       "       'Старая Ладога', 'Житково', 'Виллози', 'Лампово', 'Шпаньково',\n",
       "       'Лаврики', 'Сумино', 'Возрождение', 'Старосиверская', 'Кикерино',\n",
       "       'Старое Хинколово', 'Пригородный', 'Торфяное', 'Будогощь',\n",
       "       'Суходолье', 'Красная Долина', 'Хапо-Ое', 'Дружная Горка',\n",
       "       'Лисий Нос', 'Яльгелево', 'Рождествено', 'Старополье', 'Левашово',\n",
       "       'Сяськелево', 'Камышовка', 'Лесная Поляна', 'Хязельки',\n",
       "       'Жилгородок', 'Ялгино', 'Новый Учхоз', 'Гончарово', 'Почап',\n",
       "       'Сапёрное', 'Платформа 69-й километр', 'Каложицы', 'Фалилеево',\n",
       "       'Пельгора', 'Торошковичи', 'Белоостров', 'Алексеевка',\n",
       "       'Серебрянский', 'Лукаши', 'Тарасово', 'Кингисеппский', 'Ушаки',\n",
       "       'Котлы', 'Сижно', 'Торосово', 'Форт Красная Горка', 'Новолисино',\n",
       "       'Громово', 'Глинка', 'Старая Пустошь', 'Коммунары', 'Починок',\n",
       "       'Вознесенье', 'Разбегаево', 'Гладкое', 'Тёсово-4', 'Бор',\n",
       "       'Коробицыно', 'Большая Вруда', 'Курковицы', 'Кобралово',\n",
       "       'Суоранда', 'Кондратьево', 'Счастье', 'Реброво', 'Тойворово',\n",
       "       'Семиозерье', 'Лесное', 'Совхозный', 'Ленинское', 'Суйда',\n",
       "       'Нижние Осельки', 'Свирь', 'Перово', 'Высоцк', 'Шум', 'Котельский',\n",
       "       'Лужайка', 'Большая Пустомержа', 'Красносельское', 'Вахнова Кара',\n",
       "       'Пижма', 'Кивеннапа Север', 'Ромашки', 'Каськово', 'Куровицы',\n",
       "       'Плоское', 'Кирпичное', 'Ям-Тесово', 'Раздолье', 'Терпилицы',\n",
       "       'Шугозеро', 'Ваганово', 'Пушное', 'Садко', 'Усть-Ижора',\n",
       "       'Выскатка', 'Свирьстрой', 'Кисельня', 'Трубников Бор',\n",
       "       'Высокоключевой', 'Пансионат Зелёный Бор', 'Ненимяки',\n",
       "       'Снегирёвка', 'Рапполово', 'Пустынка', 'Большой Сабск', 'Русско',\n",
       "       'Лупполово', 'Большое Рейзино', 'Малая Романовка', 'Дружноселье',\n",
       "       'Пчевжа', 'Володарское', 'Нижняя', 'Тихковицы', 'Борисова Грива',\n",
       "       'Дзержинского'], dtype=object)"
      ]
     },
     "execution_count": 15,
     "metadata": {},
     "output_type": "execute_result"
    }
   ],
   "source": [
    "list_of_localities = data['locality_name'].unique()\n",
    "(list_of_localities)"
   ]
  },
  {
   "cell_type": "code",
   "execution_count": 16,
   "id": "99dcea7a",
   "metadata": {},
   "outputs": [
    {
     "name": "stdout",
     "output_type": "stream",
     "text": [
      "{}\n"
     ]
    }
   ],
   "source": [
    "#проверим были ли разные типы населенныз пунктов с одинаковыми названиями\n",
    "#например, поселок Зайчики и деревня Зайчики\n",
    "counter = {}\n",
    "for elem in list_of_localities:\n",
    "    counter[elem] = counter.get(elem, 0) + 1\n",
    "\n",
    "doubles = {element: count for element, count in counter.items() if count > 1}\n",
    "\n",
    "print(doubles)\n"
   ]
  },
  {
   "cell_type": "code",
   "execution_count": 17,
   "id": "8a7822f6",
   "metadata": {},
   "outputs": [],
   "source": [
    "#возвращается пустой список, значит не было населенных пунктов разного типа с одни названием"
   ]
  },
  {
   "cell_type": "markdown",
   "id": "f542193e",
   "metadata": {},
   "source": [
    "# ШАГ 2"
   ]
  },
  {
   "cell_type": "markdown",
   "id": "04d3caa3",
   "metadata": {},
   "source": [
    "## 2.1 Заменяем пропуски"
   ]
  },
  {
   "cell_type": "code",
   "execution_count": 18,
   "id": "83bec46c",
   "metadata": {},
   "outputs": [],
   "source": [
    "#Поскольку будем поочередно рассматривать каждый из столбцов в одной и той же логике, то напишем функцию для быстрого получения необходимых данных\n",
    "\n",
    "def column_info(column):\n",
    "    print('тип данных:', data[column].dtypes)\n",
    "    print('количество пропусков:',data[column].isna().sum())\n",
    "    if data[column].dtypes != 'object':\n",
    "        print('минимальное значение:',data[column].min(), 'максимальное значение:', data[column].max() )\n",
    "    print('уникальные значения:','\\n', data[column].value_counts())"
   ]
  },
  {
   "cell_type": "markdown",
   "id": "724e835f",
   "metadata": {},
   "source": [
    "### 2.1.1 Столбец is_apartment"
   ]
  },
  {
   "cell_type": "code",
   "execution_count": 19,
   "id": "00055bd4",
   "metadata": {},
   "outputs": [
    {
     "name": "stdout",
     "output_type": "stream",
     "text": [
      "тип данных: object\n",
      "количество пропусков: 20924\n",
      "уникальные значения: \n",
      " False    2725\n",
      "True       50\n",
      "Name: is_apartment, dtype: int64\n"
     ]
    }
   ],
   "source": [
    "#Начнем со столбца с самым большим количесвтом пропусков в долях\n",
    "column_info('is_apartment')"
   ]
  },
  {
   "cell_type": "code",
   "execution_count": 20,
   "id": "bdee33cb",
   "metadata": {},
   "outputs": [
    {
     "data": {
      "text/html": [
       "<div>\n",
       "<style scoped>\n",
       "    .dataframe tbody tr th:only-of-type {\n",
       "        vertical-align: middle;\n",
       "    }\n",
       "\n",
       "    .dataframe tbody tr th {\n",
       "        vertical-align: top;\n",
       "    }\n",
       "\n",
       "    .dataframe thead th {\n",
       "        text-align: right;\n",
       "    }\n",
       "</style>\n",
       "<table border=\"1\" class=\"dataframe\">\n",
       "  <thead>\n",
       "    <tr style=\"text-align: right;\">\n",
       "      <th>rooms</th>\n",
       "      <th>0</th>\n",
       "      <th>1</th>\n",
       "      <th>2</th>\n",
       "      <th>3</th>\n",
       "      <th>4</th>\n",
       "      <th>5</th>\n",
       "      <th>6</th>\n",
       "      <th>7</th>\n",
       "      <th>9</th>\n",
       "      <th>Total</th>\n",
       "    </tr>\n",
       "    <tr>\n",
       "      <th>is_apartment</th>\n",
       "      <th></th>\n",
       "      <th></th>\n",
       "      <th></th>\n",
       "      <th></th>\n",
       "      <th></th>\n",
       "      <th></th>\n",
       "      <th></th>\n",
       "      <th></th>\n",
       "      <th></th>\n",
       "      <th></th>\n",
       "    </tr>\n",
       "  </thead>\n",
       "  <tbody>\n",
       "    <tr>\n",
       "      <th>False</th>\n",
       "      <td>6.0</td>\n",
       "      <td>907.0</td>\n",
       "      <td>938.0</td>\n",
       "      <td>667.0</td>\n",
       "      <td>149.0</td>\n",
       "      <td>48.0</td>\n",
       "      <td>6.0</td>\n",
       "      <td>3.0</td>\n",
       "      <td>1.0</td>\n",
       "      <td>2725</td>\n",
       "    </tr>\n",
       "    <tr>\n",
       "      <th>True</th>\n",
       "      <td>NaN</td>\n",
       "      <td>20.0</td>\n",
       "      <td>13.0</td>\n",
       "      <td>14.0</td>\n",
       "      <td>1.0</td>\n",
       "      <td>1.0</td>\n",
       "      <td>NaN</td>\n",
       "      <td>1.0</td>\n",
       "      <td>NaN</td>\n",
       "      <td>50</td>\n",
       "    </tr>\n",
       "    <tr>\n",
       "      <th>Total</th>\n",
       "      <td>6.0</td>\n",
       "      <td>927.0</td>\n",
       "      <td>951.0</td>\n",
       "      <td>681.0</td>\n",
       "      <td>150.0</td>\n",
       "      <td>49.0</td>\n",
       "      <td>6.0</td>\n",
       "      <td>4.0</td>\n",
       "      <td>1.0</td>\n",
       "      <td>2775</td>\n",
       "    </tr>\n",
       "  </tbody>\n",
       "</table>\n",
       "</div>"
      ],
      "text/plain": [
       "rooms           0      1      2      3      4     5    6    7    9  Total\n",
       "is_apartment                                                             \n",
       "False         6.0  907.0  938.0  667.0  149.0  48.0  6.0  3.0  1.0   2725\n",
       "True          NaN   20.0   13.0   14.0    1.0   1.0  NaN  1.0  NaN     50\n",
       "Total         6.0  927.0  951.0  681.0  150.0  49.0  6.0  4.0  1.0   2775"
      ]
     },
     "execution_count": 20,
     "metadata": {},
     "output_type": "execute_result"
    }
   ],
   "source": [
    "#оставим таблцицу с только заполненными значениями столбца и попробуем понять, где ставят False, а где - True\n",
    "df_is_apartment_not_nan = data[data['is_apartment'].notna()]\n",
    "df_is_apartment_not_nan.pivot_table(values='total_area',index='is_apartment', columns = 'rooms', aggfunc='count', margins=True, margins_name='Total')"
   ]
  },
  {
   "cell_type": "markdown",
   "id": "64e040ea",
   "metadata": {},
   "source": [
    "как видно из представленных данных, апартаментами называют не только однокомнатные квартиры. Таким образом, можно сделать вывод, что продавцы, которые продаю апартаменты точно это указывают, а значения NaN появляются из-за того, что продавцы квартир не считают необходимым дополнительно указывать, что у них не апартаменты. \n",
    "Таким образом, заполним NaN на False"
   ]
  },
  {
   "cell_type": "code",
   "execution_count": 21,
   "id": "2c888316",
   "metadata": {},
   "outputs": [],
   "source": [
    "data['is_apartment'] = data['is_apartment'].fillna('False')"
   ]
  },
  {
   "cell_type": "markdown",
   "id": "a4054396",
   "metadata": {},
   "source": [
    "### 2.1.2 Столбцы parks_nearest и ponds_nearest "
   ]
  },
  {
   "cell_type": "code",
   "execution_count": 22,
   "id": "8c12c80e",
   "metadata": {},
   "outputs": [
    {
     "name": "stdout",
     "output_type": "stream",
     "text": [
      "тип данных: float64\n",
      "количество пропусков: 0\n",
      "минимальное значение: 1.0 максимальное значение: 3190.0\n",
      "уникальные значения: \n",
      " 460.0     14503\n",
      "733.0       324\n",
      "393.0       218\n",
      "399.5       157\n",
      "367.0       136\n",
      "          ...  \n",
      "1073.0        1\n",
      "828.0         1\n",
      "1909.0        1\n",
      "1049.0        1\n",
      "929.0         1\n",
      "Name: parks_nearest, Length: 997, dtype: int64\n",
      "тип данных: float64\n",
      "количество пропусков: 0\n",
      "минимальное значение: 13.0 максимальное значение: 1344.0\n",
      "уникальные значения: \n",
      " 503.0     12750\n",
      "133.0       601\n",
      "593.0       293\n",
      "584.5       288\n",
      "444.0       212\n",
      "          ...  \n",
      "59.0          1\n",
      "1069.0        1\n",
      "1270.0        1\n",
      "395.0         1\n",
      "995.0         1\n",
      "Name: ponds_nearest, Length: 1098, dtype: int64\n"
     ]
    }
   ],
   "source": [
    "#заполним медианными значениями по населенным пунктам\n",
    "data['parks_nearest'] = data.groupby('locality_name')['parks_nearest'].apply(lambda x: x.fillna(x.median()))\n",
    "data['parks_nearest'].fillna(data['parks_nearest'].median(), inplace=True)\n",
    "column_info('parks_nearest')\n",
    "\n",
    "data['ponds_nearest'] = data.groupby('locality_name')['ponds_nearest'].apply(lambda x: x.fillna(x.median()))\n",
    "data['ponds_nearest'].fillna(data['ponds_nearest'].median(), inplace=True)\n",
    "column_info('ponds_nearest')\n"
   ]
  },
  {
   "cell_type": "markdown",
   "id": "4f554d07",
   "metadata": {},
   "source": [
    "### 2.1.3 Столбец balcony"
   ]
  },
  {
   "cell_type": "code",
   "execution_count": 23,
   "id": "d69f6b29",
   "metadata": {},
   "outputs": [
    {
     "name": "stdout",
     "output_type": "stream",
     "text": [
      "тип данных: float64\n",
      "количество пропусков: 11519\n",
      "минимальное значение: 0.0 максимальное значение: 5.0\n",
      "уникальные значения: \n",
      " 1.0    4195\n",
      "0.0    3758\n",
      "2.0    3659\n",
      "5.0     304\n",
      "4.0     183\n",
      "3.0      81\n",
      "Name: balcony, dtype: int64\n"
     ]
    }
   ],
   "source": [
    "column_info('balcony')"
   ]
  },
  {
   "cell_type": "code",
   "execution_count": 24,
   "id": "b65e3e8c",
   "metadata": {},
   "outputs": [],
   "source": [
    "#О наличии балкона явно сообщается продавцом, поэтому заполним пропуски значением 0:\n",
    "data['balcony'] = data['balcony'].fillna(0)"
   ]
  },
  {
   "cell_type": "markdown",
   "id": "aa8fe1f9",
   "metadata": {},
   "source": [
    "### 2.1.4 Столбец floors_total"
   ]
  },
  {
   "cell_type": "code",
   "execution_count": 25,
   "id": "335f2e0c",
   "metadata": {},
   "outputs": [
    {
     "name": "stdout",
     "output_type": "stream",
     "text": [
      "тип данных: float64\n",
      "количество пропусков: 86\n",
      "минимальное значение: 1.0 максимальное значение: 60.0\n",
      "уникальные значения: \n",
      " 5.0     5788\n",
      "9.0     3761\n",
      "16.0    1376\n",
      "12.0    1362\n",
      "4.0     1200\n",
      "10.0    1174\n",
      "25.0    1075\n",
      "6.0      914\n",
      "17.0     833\n",
      "3.0      668\n",
      "7.0      592\n",
      "14.0     553\n",
      "18.0     505\n",
      "24.0     469\n",
      "8.0      390\n",
      "2.0      383\n",
      "15.0     365\n",
      "23.0     352\n",
      "19.0     339\n",
      "22.0     286\n",
      "20.0     271\n",
      "13.0     229\n",
      "11.0     203\n",
      "27.0     164\n",
      "21.0     158\n",
      "26.0     124\n",
      "1.0       25\n",
      "35.0      24\n",
      "28.0      21\n",
      "36.0       3\n",
      "37.0       1\n",
      "34.0       1\n",
      "33.0       1\n",
      "60.0       1\n",
      "29.0       1\n",
      "52.0       1\n",
      "Name: floors_total, dtype: int64\n"
     ]
    }
   ],
   "source": [
    "column_info('floors_total')"
   ]
  },
  {
   "cell_type": "code",
   "execution_count": 26,
   "id": "ca86f9fd",
   "metadata": {},
   "outputs": [],
   "source": [
    "#ввиду небольшого количства пропусков (86) предлагается просто удалить их из выборки"
   ]
  },
  {
   "cell_type": "code",
   "execution_count": 27,
   "id": "846fbd81",
   "metadata": {},
   "outputs": [],
   "source": [
    "data = data.dropna(subset=['floors_total'])"
   ]
  },
  {
   "cell_type": "markdown",
   "id": "54bac694",
   "metadata": {},
   "source": [
    "### 2.1.5 Столбец locality_name"
   ]
  },
  {
   "cell_type": "code",
   "execution_count": 28,
   "id": "be3c99a2",
   "metadata": {},
   "outputs": [
    {
     "name": "stdout",
     "output_type": "stream",
     "text": [
      "тип данных: object\n",
      "количество пропусков: 48\n",
      "уникальные значения: \n",
      " Санкт-Петербург    15651\n",
      "Мурино               586\n",
      "Кудрово              470\n",
      "Шушары               439\n",
      "Всеволожск           398\n",
      "                   ...  \n",
      "Дружноселье            1\n",
      "Дзержинского           1\n",
      "Вахнова Кара           1\n",
      "Реброво                1\n",
      "Цвылёво                1\n",
      "Name: locality_name, Length: 305, dtype: int64\n"
     ]
    }
   ],
   "source": [
    "column_info('locality_name')"
   ]
  },
  {
   "cell_type": "code",
   "execution_count": 29,
   "id": "fcdb6115",
   "metadata": {},
   "outputs": [],
   "source": [
    "#ввиду небольшого количства пропусков (48) предлагается просто удалить их из выборки"
   ]
  },
  {
   "cell_type": "code",
   "execution_count": 30,
   "id": "25f6a6bd",
   "metadata": {},
   "outputs": [],
   "source": [
    "data = data.dropna(subset=['locality_name'])"
   ]
  },
  {
   "cell_type": "markdown",
   "id": "02db81a0",
   "metadata": {},
   "source": [
    "### 2.1.6 Столбец ceiling_height"
   ]
  },
  {
   "cell_type": "code",
   "execution_count": 31,
   "id": "2f438f40",
   "metadata": {},
   "outputs": [
    {
     "name": "stdout",
     "output_type": "stream",
     "text": [
      "тип данных: float64\n",
      "количество пропусков: 9084\n",
      "минимальное значение: 1.0 максимальное значение: 100.0\n",
      "уникальные значения: \n",
      " 2.50     3515\n",
      "2.60     1645\n",
      "2.70     1571\n",
      "3.00     1108\n",
      "2.80      988\n",
      "         ... \n",
      "4.25        1\n",
      "3.39        1\n",
      "3.93        1\n",
      "10.30       1\n",
      "4.65        1\n",
      "Name: ceiling_height, Length: 183, dtype: int64\n"
     ]
    }
   ],
   "source": [
    "column_info('ceiling_height')"
   ]
  },
  {
   "cell_type": "code",
   "execution_count": 32,
   "id": "73b190a0",
   "metadata": {},
   "outputs": [
    {
     "name": "stdout",
     "output_type": "stream",
     "text": [
      "тип данных: float64\n",
      "количество пропусков: 0\n",
      "минимальное значение: 1.0 максимальное значение: 100.0\n",
      "уникальные значения: \n",
      " 2.50     4334\n",
      "2.60     3540\n",
      "2.70     2967\n",
      "2.75     2103\n",
      "2.55     2101\n",
      "         ... \n",
      "2.25        1\n",
      "10.30       1\n",
      "8.30        1\n",
      "4.14        1\n",
      "4.65        1\n",
      "Name: ceiling_height, Length: 202, dtype: int64\n"
     ]
    }
   ],
   "source": [
    "#поскольку высота потолков стнадартизирована для каждого из типов домов (тип определяется этажностью, т.к. массовая застройка - Советские серии домов типовых 5-ти и 9-ти этажек, а также современных новостроек, в которых высота потолков определена классом дома) предлагается заполнить высоту медианным значением по группировке этажности и населенного пункта \n",
    "data['ceiling_height'] = data.groupby(['locality_name','floors_total'])['ceiling_height'].apply(lambda x: x.fillna(x.median()))\n",
    "data['ceiling_height'].fillna(data['ceiling_height'].median(), inplace=True)\n",
    "column_info('ceiling_height')"
   ]
  },
  {
   "cell_type": "markdown",
   "id": "5810c9c4",
   "metadata": {},
   "source": [
    "### 2.1.7 Столбец ponds_around_3000, parks_around_3000"
   ]
  },
  {
   "cell_type": "code",
   "execution_count": 33,
   "id": "2c51c93c",
   "metadata": {},
   "outputs": [
    {
     "name": "stdout",
     "output_type": "stream",
     "text": [
      "тип данных: float64\n",
      "количество пропусков: 5500\n",
      "минимальное значение: 0.0 максимальное значение: 3.0\n",
      "уникальные значения: \n",
      " 0.0    9029\n",
      "1.0    5662\n",
      "2.0    1883\n",
      "3.0    1491\n",
      "Name: ponds_around_3000, dtype: int64\n",
      "\n",
      "тип данных: float64\n",
      "количество пропусков: 5500\n",
      "минимальное значение: 0.0 максимальное значение: 3.0\n",
      "уникальные значения: \n",
      " 0.0    10039\n",
      "1.0     5647\n",
      "2.0     1736\n",
      "3.0      643\n",
      "Name: parks_around_3000, dtype: int64\n"
     ]
    }
   ],
   "source": [
    "column_info('ponds_around_3000')\n",
    "print()\n",
    "column_info('parks_around_3000')"
   ]
  },
  {
   "cell_type": "code",
   "execution_count": 34,
   "id": "cf2e6369",
   "metadata": {},
   "outputs": [],
   "source": [
    "#данные скорее всего берутся системой, которая ищет пруды в радиусе 3 км от выбранной точке\n",
    "#если их нет, то система не смогла их найти"
   ]
  },
  {
   "cell_type": "code",
   "execution_count": 35,
   "id": "b9096a0d",
   "metadata": {},
   "outputs": [
    {
     "data": {
      "text/html": [
       "<div>\n",
       "<style scoped>\n",
       "    .dataframe tbody tr th:only-of-type {\n",
       "        vertical-align: middle;\n",
       "    }\n",
       "\n",
       "    .dataframe tbody tr th {\n",
       "        vertical-align: top;\n",
       "    }\n",
       "\n",
       "    .dataframe thead th {\n",
       "        text-align: right;\n",
       "    }\n",
       "</style>\n",
       "<table border=\"1\" class=\"dataframe\">\n",
       "  <thead>\n",
       "    <tr style=\"text-align: right;\">\n",
       "      <th></th>\n",
       "      <th>total_images</th>\n",
       "      <th>last_price</th>\n",
       "      <th>total_area</th>\n",
       "      <th>first_day_exposition</th>\n",
       "      <th>rooms</th>\n",
       "      <th>ceiling_height</th>\n",
       "      <th>floors_total</th>\n",
       "      <th>living_area</th>\n",
       "      <th>floor</th>\n",
       "      <th>is_apartment</th>\n",
       "      <th>...</th>\n",
       "      <th>kitchen_area</th>\n",
       "      <th>balcony</th>\n",
       "      <th>locality_name</th>\n",
       "      <th>airports_nearest</th>\n",
       "      <th>city_centers_nearest</th>\n",
       "      <th>parks_around_3000</th>\n",
       "      <th>parks_nearest</th>\n",
       "      <th>ponds_around_3000</th>\n",
       "      <th>ponds_nearest</th>\n",
       "      <th>days_exposition</th>\n",
       "    </tr>\n",
       "  </thead>\n",
       "  <tbody>\n",
       "    <tr>\n",
       "      <th>5</th>\n",
       "      <td>10</td>\n",
       "      <td>2890000.0</td>\n",
       "      <td>30.40</td>\n",
       "      <td>2018-09-10</td>\n",
       "      <td>1</td>\n",
       "      <td>2.65</td>\n",
       "      <td>12.0</td>\n",
       "      <td>14.40</td>\n",
       "      <td>5</td>\n",
       "      <td>False</td>\n",
       "      <td>...</td>\n",
       "      <td>9.10</td>\n",
       "      <td>0.0</td>\n",
       "      <td>Янино-1</td>\n",
       "      <td>NaN</td>\n",
       "      <td>NaN</td>\n",
       "      <td>NaN</td>\n",
       "      <td>460.0</td>\n",
       "      <td>NaN</td>\n",
       "      <td>503.0</td>\n",
       "      <td>55.0</td>\n",
       "    </tr>\n",
       "    <tr>\n",
       "      <th>8</th>\n",
       "      <td>20</td>\n",
       "      <td>2900000.0</td>\n",
       "      <td>33.16</td>\n",
       "      <td>2018-05-23</td>\n",
       "      <td>1</td>\n",
       "      <td>2.65</td>\n",
       "      <td>27.0</td>\n",
       "      <td>15.43</td>\n",
       "      <td>26</td>\n",
       "      <td>False</td>\n",
       "      <td>...</td>\n",
       "      <td>8.81</td>\n",
       "      <td>0.0</td>\n",
       "      <td>Мурино</td>\n",
       "      <td>NaN</td>\n",
       "      <td>NaN</td>\n",
       "      <td>NaN</td>\n",
       "      <td>460.0</td>\n",
       "      <td>NaN</td>\n",
       "      <td>133.0</td>\n",
       "      <td>189.0</td>\n",
       "    </tr>\n",
       "    <tr>\n",
       "      <th>12</th>\n",
       "      <td>10</td>\n",
       "      <td>3890000.0</td>\n",
       "      <td>54.00</td>\n",
       "      <td>2016-06-30</td>\n",
       "      <td>2</td>\n",
       "      <td>2.55</td>\n",
       "      <td>5.0</td>\n",
       "      <td>30.00</td>\n",
       "      <td>5</td>\n",
       "      <td>False</td>\n",
       "      <td>...</td>\n",
       "      <td>9.00</td>\n",
       "      <td>0.0</td>\n",
       "      <td>Сертолово</td>\n",
       "      <td>NaN</td>\n",
       "      <td>NaN</td>\n",
       "      <td>NaN</td>\n",
       "      <td>460.0</td>\n",
       "      <td>NaN</td>\n",
       "      <td>503.0</td>\n",
       "      <td>90.0</td>\n",
       "    </tr>\n",
       "    <tr>\n",
       "      <th>22</th>\n",
       "      <td>20</td>\n",
       "      <td>5000000.0</td>\n",
       "      <td>58.00</td>\n",
       "      <td>2017-04-24</td>\n",
       "      <td>2</td>\n",
       "      <td>2.75</td>\n",
       "      <td>25.0</td>\n",
       "      <td>30.00</td>\n",
       "      <td>15</td>\n",
       "      <td>False</td>\n",
       "      <td>...</td>\n",
       "      <td>11.00</td>\n",
       "      <td>2.0</td>\n",
       "      <td>Кудрово</td>\n",
       "      <td>NaN</td>\n",
       "      <td>NaN</td>\n",
       "      <td>NaN</td>\n",
       "      <td>460.0</td>\n",
       "      <td>NaN</td>\n",
       "      <td>503.0</td>\n",
       "      <td>60.0</td>\n",
       "    </tr>\n",
       "    <tr>\n",
       "      <th>30</th>\n",
       "      <td>12</td>\n",
       "      <td>2200000.0</td>\n",
       "      <td>32.80</td>\n",
       "      <td>2018-02-19</td>\n",
       "      <td>1</td>\n",
       "      <td>2.55</td>\n",
       "      <td>9.0</td>\n",
       "      <td>NaN</td>\n",
       "      <td>2</td>\n",
       "      <td>False</td>\n",
       "      <td>...</td>\n",
       "      <td>NaN</td>\n",
       "      <td>0.0</td>\n",
       "      <td>Коммунар</td>\n",
       "      <td>NaN</td>\n",
       "      <td>NaN</td>\n",
       "      <td>NaN</td>\n",
       "      <td>460.0</td>\n",
       "      <td>NaN</td>\n",
       "      <td>503.0</td>\n",
       "      <td>63.0</td>\n",
       "    </tr>\n",
       "    <tr>\n",
       "      <th>...</th>\n",
       "      <td>...</td>\n",
       "      <td>...</td>\n",
       "      <td>...</td>\n",
       "      <td>...</td>\n",
       "      <td>...</td>\n",
       "      <td>...</td>\n",
       "      <td>...</td>\n",
       "      <td>...</td>\n",
       "      <td>...</td>\n",
       "      <td>...</td>\n",
       "      <td>...</td>\n",
       "      <td>...</td>\n",
       "      <td>...</td>\n",
       "      <td>...</td>\n",
       "      <td>...</td>\n",
       "      <td>...</td>\n",
       "      <td>...</td>\n",
       "      <td>...</td>\n",
       "      <td>...</td>\n",
       "      <td>...</td>\n",
       "      <td>...</td>\n",
       "    </tr>\n",
       "    <tr>\n",
       "      <th>23683</th>\n",
       "      <td>16</td>\n",
       "      <td>2100000.0</td>\n",
       "      <td>62.80</td>\n",
       "      <td>2018-09-18</td>\n",
       "      <td>4</td>\n",
       "      <td>2.50</td>\n",
       "      <td>5.0</td>\n",
       "      <td>45.50</td>\n",
       "      <td>3</td>\n",
       "      <td>False</td>\n",
       "      <td>...</td>\n",
       "      <td>5.50</td>\n",
       "      <td>0.0</td>\n",
       "      <td>Дзержинского</td>\n",
       "      <td>NaN</td>\n",
       "      <td>NaN</td>\n",
       "      <td>NaN</td>\n",
       "      <td>460.0</td>\n",
       "      <td>NaN</td>\n",
       "      <td>503.0</td>\n",
       "      <td>NaN</td>\n",
       "    </tr>\n",
       "    <tr>\n",
       "      <th>23692</th>\n",
       "      <td>2</td>\n",
       "      <td>1350000.0</td>\n",
       "      <td>30.00</td>\n",
       "      <td>2017-07-07</td>\n",
       "      <td>1</td>\n",
       "      <td>2.55</td>\n",
       "      <td>5.0</td>\n",
       "      <td>17.50</td>\n",
       "      <td>4</td>\n",
       "      <td>False</td>\n",
       "      <td>...</td>\n",
       "      <td>6.00</td>\n",
       "      <td>0.0</td>\n",
       "      <td>Тихвин</td>\n",
       "      <td>NaN</td>\n",
       "      <td>NaN</td>\n",
       "      <td>NaN</td>\n",
       "      <td>460.0</td>\n",
       "      <td>NaN</td>\n",
       "      <td>503.0</td>\n",
       "      <td>413.0</td>\n",
       "    </tr>\n",
       "    <tr>\n",
       "      <th>23695</th>\n",
       "      <td>14</td>\n",
       "      <td>3100000.0</td>\n",
       "      <td>59.00</td>\n",
       "      <td>2018-01-15</td>\n",
       "      <td>3</td>\n",
       "      <td>2.50</td>\n",
       "      <td>5.0</td>\n",
       "      <td>38.00</td>\n",
       "      <td>4</td>\n",
       "      <td>False</td>\n",
       "      <td>...</td>\n",
       "      <td>8.50</td>\n",
       "      <td>0.0</td>\n",
       "      <td>Тосно</td>\n",
       "      <td>NaN</td>\n",
       "      <td>NaN</td>\n",
       "      <td>NaN</td>\n",
       "      <td>460.0</td>\n",
       "      <td>NaN</td>\n",
       "      <td>503.0</td>\n",
       "      <td>45.0</td>\n",
       "    </tr>\n",
       "    <tr>\n",
       "      <th>23696</th>\n",
       "      <td>18</td>\n",
       "      <td>2500000.0</td>\n",
       "      <td>56.70</td>\n",
       "      <td>2018-02-11</td>\n",
       "      <td>2</td>\n",
       "      <td>2.65</td>\n",
       "      <td>3.0</td>\n",
       "      <td>29.70</td>\n",
       "      <td>1</td>\n",
       "      <td>False</td>\n",
       "      <td>...</td>\n",
       "      <td>NaN</td>\n",
       "      <td>0.0</td>\n",
       "      <td>Рождествено</td>\n",
       "      <td>NaN</td>\n",
       "      <td>NaN</td>\n",
       "      <td>NaN</td>\n",
       "      <td>460.0</td>\n",
       "      <td>NaN</td>\n",
       "      <td>503.0</td>\n",
       "      <td>NaN</td>\n",
       "    </tr>\n",
       "    <tr>\n",
       "      <th>23698</th>\n",
       "      <td>4</td>\n",
       "      <td>1350000.0</td>\n",
       "      <td>32.30</td>\n",
       "      <td>2017-07-21</td>\n",
       "      <td>1</td>\n",
       "      <td>2.50</td>\n",
       "      <td>5.0</td>\n",
       "      <td>12.30</td>\n",
       "      <td>1</td>\n",
       "      <td>False</td>\n",
       "      <td>...</td>\n",
       "      <td>9.00</td>\n",
       "      <td>0.0</td>\n",
       "      <td>Новый Учхоз</td>\n",
       "      <td>NaN</td>\n",
       "      <td>NaN</td>\n",
       "      <td>NaN</td>\n",
       "      <td>460.0</td>\n",
       "      <td>NaN</td>\n",
       "      <td>503.0</td>\n",
       "      <td>NaN</td>\n",
       "    </tr>\n",
       "  </tbody>\n",
       "</table>\n",
       "<p>5500 rows × 22 columns</p>\n",
       "</div>"
      ],
      "text/plain": [
       "       total_images  last_price  total_area first_day_exposition  rooms  \\\n",
       "5                10   2890000.0       30.40           2018-09-10      1   \n",
       "8                20   2900000.0       33.16           2018-05-23      1   \n",
       "12               10   3890000.0       54.00           2016-06-30      2   \n",
       "22               20   5000000.0       58.00           2017-04-24      2   \n",
       "30               12   2200000.0       32.80           2018-02-19      1   \n",
       "...             ...         ...         ...                  ...    ...   \n",
       "23683            16   2100000.0       62.80           2018-09-18      4   \n",
       "23692             2   1350000.0       30.00           2017-07-07      1   \n",
       "23695            14   3100000.0       59.00           2018-01-15      3   \n",
       "23696            18   2500000.0       56.70           2018-02-11      2   \n",
       "23698             4   1350000.0       32.30           2017-07-21      1   \n",
       "\n",
       "       ceiling_height  floors_total  living_area  floor is_apartment  ...  \\\n",
       "5                2.65          12.0        14.40      5        False  ...   \n",
       "8                2.65          27.0        15.43     26        False  ...   \n",
       "12               2.55           5.0        30.00      5        False  ...   \n",
       "22               2.75          25.0        30.00     15        False  ...   \n",
       "30               2.55           9.0          NaN      2        False  ...   \n",
       "...               ...           ...          ...    ...          ...  ...   \n",
       "23683            2.50           5.0        45.50      3        False  ...   \n",
       "23692            2.55           5.0        17.50      4        False  ...   \n",
       "23695            2.50           5.0        38.00      4        False  ...   \n",
       "23696            2.65           3.0        29.70      1        False  ...   \n",
       "23698            2.50           5.0        12.30      1        False  ...   \n",
       "\n",
       "       kitchen_area  balcony  locality_name  airports_nearest  \\\n",
       "5              9.10      0.0        Янино-1               NaN   \n",
       "8              8.81      0.0         Мурино               NaN   \n",
       "12             9.00      0.0      Сертолово               NaN   \n",
       "22            11.00      2.0        Кудрово               NaN   \n",
       "30              NaN      0.0       Коммунар               NaN   \n",
       "...             ...      ...            ...               ...   \n",
       "23683          5.50      0.0   Дзержинского               NaN   \n",
       "23692          6.00      0.0         Тихвин               NaN   \n",
       "23695          8.50      0.0          Тосно               NaN   \n",
       "23696           NaN      0.0    Рождествено               NaN   \n",
       "23698          9.00      0.0    Новый Учхоз               NaN   \n",
       "\n",
       "      city_centers_nearest  parks_around_3000  parks_nearest  \\\n",
       "5                      NaN                NaN          460.0   \n",
       "8                      NaN                NaN          460.0   \n",
       "12                     NaN                NaN          460.0   \n",
       "22                     NaN                NaN          460.0   \n",
       "30                     NaN                NaN          460.0   \n",
       "...                    ...                ...            ...   \n",
       "23683                  NaN                NaN          460.0   \n",
       "23692                  NaN                NaN          460.0   \n",
       "23695                  NaN                NaN          460.0   \n",
       "23696                  NaN                NaN          460.0   \n",
       "23698                  NaN                NaN          460.0   \n",
       "\n",
       "       ponds_around_3000  ponds_nearest  days_exposition  \n",
       "5                    NaN          503.0             55.0  \n",
       "8                    NaN          133.0            189.0  \n",
       "12                   NaN          503.0             90.0  \n",
       "22                   NaN          503.0             60.0  \n",
       "30                   NaN          503.0             63.0  \n",
       "...                  ...            ...              ...  \n",
       "23683                NaN          503.0              NaN  \n",
       "23692                NaN          503.0            413.0  \n",
       "23695                NaN          503.0             45.0  \n",
       "23696                NaN          503.0              NaN  \n",
       "23698                NaN          503.0              NaN  \n",
       "\n",
       "[5500 rows x 22 columns]"
      ]
     },
     "execution_count": 35,
     "metadata": {},
     "output_type": "execute_result"
    }
   ],
   "source": [
    "#посмотрим на строки с пропусками\n",
    "data[data['ponds_around_3000'].isna()]\n"
   ]
  },
  {
   "cell_type": "code",
   "execution_count": 36,
   "id": "5746fd93",
   "metadata": {},
   "outputs": [],
   "source": [
    "#предположение подкрепляется тем, что пропуски в переменной ponds_around_3000 сопровождаются пропусками в переменных, собираемых системой\n",
    "#для малых населенных пунктов пруд и парк скорее всего будет один, если он есть, а для Санкт-Петербурга зависит от района (не административный). Районирование в наших данных можно произвести по удаленности от центра\n",
    "#такая же логика и для аэропортов.\n"
   ]
  },
  {
   "cell_type": "code",
   "execution_count": 37,
   "id": "f17bec95",
   "metadata": {
    "scrolled": true
   },
   "outputs": [
    {
     "name": "stdout",
     "output_type": "stream",
     "text": [
      "тип данных: float64\n",
      "количество пропусков: 0\n",
      "минимальное значение: 0.0 максимальное значение: 3.0\n",
      "уникальные значения: \n",
      " 0.000000    9029\n",
      "1.000000    5662\n",
      "0.769454    5432\n",
      "2.000000    1883\n",
      "3.000000    1491\n",
      "0.770188      60\n",
      "0.348624       3\n",
      "0.091954       2\n",
      "1.128788       1\n",
      "0.997033       1\n",
      "1.936842       1\n",
      "Name: ponds_around_3000, dtype: int64\n",
      "\n",
      "тип данных: float64\n",
      "количество пропусков: 0\n",
      "минимальное значение: 0.0 максимальное значение: 3.0\n",
      "уникальные значения: \n",
      " 0.000000    10042\n",
      "1.000000     5647\n",
      "0.611547     5432\n",
      "2.000000     1736\n",
      "3.000000      643\n",
      "0.627606       60\n",
      "0.482759        2\n",
      "1.789474        1\n",
      "0.522255        1\n",
      "0.242424        1\n",
      "Name: parks_around_3000, dtype: int64\n"
     ]
    }
   ],
   "source": [
    "#заменим по этой логике пропуски в ponds_around_3000\n",
    "data['ponds_around_3000'] = data.groupby('locality_name')['ponds_around_3000'].apply(lambda x: x.fillna(x.mean()))\n",
    "data['ponds_around_3000'].fillna(data['ponds_around_3000'].mean(), inplace=True)\n",
    "\n",
    "\n",
    "#и в parks_around_3000\n",
    "data['parks_around_3000'] = data.groupby('locality_name')['parks_around_3000'].apply(lambda x: x.fillna(x.mean()))\n",
    "data['parks_around_3000'].fillna(data['parks_around_3000'].mean(), inplace=True)\n",
    "column_info('ponds_around_3000')\n",
    "print()\n",
    "column_info('parks_around_3000')"
   ]
  },
  {
   "cell_type": "markdown",
   "id": "7b33b3cd",
   "metadata": {},
   "source": [
    "### 2.1.8 Cтолбец airports_nearest"
   ]
  },
  {
   "cell_type": "code",
   "execution_count": 38,
   "id": "3dfa6a14",
   "metadata": {
    "scrolled": true
   },
   "outputs": [
    {
     "name": "stdout",
     "output_type": "stream",
     "text": [
      "тип данных: float64\n",
      "количество пропусков: 0\n",
      "минимальное значение: 0.0 максимальное значение: 84869.0\n",
      "уникальные значения: \n",
      " 26763.0    5517\n",
      "37434.0      61\n",
      "21928.0      32\n",
      "44870.0      30\n",
      "39946.0      30\n",
      "           ... \n",
      "24159.0       1\n",
      "42695.0       1\n",
      "53478.0       1\n",
      "20335.0       1\n",
      "20875.0       1\n",
      "Name: airports_nearest, Length: 8254, dtype: int64\n"
     ]
    }
   ],
   "source": [
    "\n",
    "data['airports_nearest'] = data.groupby('locality_name')['airports_nearest'].apply(lambda x: x.fillna(x.median()))\n",
    "data['airports_nearest'].fillna(data['airports_nearest'].median(), inplace=True)\n",
    "\n",
    "column_info('airports_nearest')"
   ]
  },
  {
   "cell_type": "markdown",
   "id": "896effae",
   "metadata": {},
   "source": [
    "### 2.1.9 Столбец days_exposition"
   ]
  },
  {
   "cell_type": "code",
   "execution_count": 39,
   "id": "800dd3db",
   "metadata": {},
   "outputs": [
    {
     "name": "stdout",
     "output_type": "stream",
     "text": [
      "тип данных: float64\n",
      "количество пропусков: 3171\n",
      "минимальное значение: 1.0 максимальное значение: 1580.0\n",
      "уникальные значения: \n",
      " 45.0      879\n",
      "60.0      538\n",
      "7.0       234\n",
      "30.0      208\n",
      "90.0      200\n",
      "         ... \n",
      "969.0       1\n",
      "1147.0      1\n",
      "1.0         1\n",
      "1148.0      1\n",
      "1174.0      1\n",
      "Name: days_exposition, Length: 1139, dtype: int64\n"
     ]
    }
   ],
   "source": [
    "column_info('days_exposition')"
   ]
  },
  {
   "cell_type": "code",
   "execution_count": 40,
   "id": "80f3b14c",
   "metadata": {},
   "outputs": [
    {
     "data": {
      "image/png": "[encoded data removed]",
      "text/plain": [
       "<Figure size 432x288 with 1 Axes>"
      ]
     },
     "metadata": {
      "needs_background": "light"
     },
     "output_type": "display_data"
    }
   ],
   "source": [
    "#построим гистограмму распределения количества объявлений по дате размещения\n",
    "day_na = data.query('days_exposition.isna()')\n",
    "day_na['first_day_exposition'].hist(bins=30).set(xlabel='дата размещения объявления',\n",
    "                              ylabel=' количество объявлений', \n",
    "                             title='Распределение количества объявлений с пропусками в days_exposition по датам размещения');\n"
   ]
  },
  {
   "cell_type": "markdown",
   "id": "cf36cb27",
   "metadata": {},
   "source": [
    "По гистограмме заметно, что чем позже дата размещения объявления, тем выше количество объявлений с пропусками. Т.е. пропуски связаны с тем, что владельцы объявлений их просто не закрывали на платформе. \n",
    "Срок размещения можно заполнить медианным сроком \"жизни\" объявления, сгруппировав по общей площади и метсности."
   ]
  },
  {
   "cell_type": "code",
   "execution_count": 41,
   "id": "b827232c",
   "metadata": {},
   "outputs": [
    {
     "name": "stdout",
     "output_type": "stream",
     "text": [
      "тип данных: float64\n",
      "количество пропусков: 0\n",
      "минимальное значение: 1.0 максимальное значение: 1580.0\n",
      "уникальные значения: \n",
      " 97.0      994\n",
      "45.0      919\n",
      "60.0      588\n",
      "90.0      266\n",
      "7.0       234\n",
      "         ... \n",
      "747.0       1\n",
      "1255.0      1\n",
      "890.0       1\n",
      "847.0       1\n",
      "1174.0      1\n",
      "Name: days_exposition, Length: 1312, dtype: int64\n"
     ]
    }
   ],
   "source": [
    "data['days_exposition'] = data.groupby(['locality_name', 'total_area'])['days_exposition'].apply(lambda x: x.fillna(x.median()))\n",
    "data['days_exposition'].fillna(data['days_exposition'].median(), inplace=True)\n",
    "\n",
    "column_info('days_exposition')"
   ]
  },
  {
   "cell_type": "markdown",
   "id": "0d8136d5",
   "metadata": {},
   "source": [
    "### 2.1.10 Столбец kitchen_area"
   ]
  },
  {
   "cell_type": "code",
   "execution_count": 42,
   "id": "93474f3a",
   "metadata": {
    "scrolled": true
   },
   "outputs": [
    {
     "name": "stdout",
     "output_type": "stream",
     "text": [
      "тип данных: float64\n",
      "количество пропусков: 0\n",
      "минимальное значение: 1.3 максимальное значение: 112.0\n",
      "уникальные значения: \n",
      " 7.00     1523\n",
      "6.00     1370\n",
      "10.00    1310\n",
      "9.00     1180\n",
      "8.00     1133\n",
      "         ... \n",
      "53.10       1\n",
      "13.41       1\n",
      "34.51       1\n",
      "8.18        1\n",
      "16.74       1\n",
      "Name: kitchen_area, Length: 996, dtype: int64\n"
     ]
    }
   ],
   "source": [
    "#для этого столбца применим такую же логику, как и к столбцу ceiling_height\n",
    "\n",
    "data['kitchen_area'] = data.groupby(['locality_name','floors_total'])['kitchen_area'].apply(lambda x: x.fillna(x.median()))\n",
    "data['kitchen_area'].fillna(data['kitchen_area'].median(), inplace=True)\n",
    "column_info('kitchen_area')"
   ]
  },
  {
   "cell_type": "markdown",
   "id": "6b10ef8a",
   "metadata": {},
   "source": [
    "### 2.1.11 Столбец living_area"
   ]
  },
  {
   "cell_type": "code",
   "execution_count": 43,
   "id": "9da3170b",
   "metadata": {
    "scrolled": true
   },
   "outputs": [
    {
     "name": "stdout",
     "output_type": "stream",
     "text": [
      "тип данных: float64\n",
      "количество пропусков: 0\n",
      "минимальное значение: 1.3 максимальное значение: 112.0\n",
      "уникальные значения: \n",
      " 7.00     1523\n",
      "6.00     1370\n",
      "10.00    1310\n",
      "9.00     1180\n",
      "8.00     1133\n",
      "         ... \n",
      "53.10       1\n",
      "13.41       1\n",
      "34.51       1\n",
      "8.18        1\n",
      "16.74       1\n",
      "Name: living_area, Length: 996, dtype: int64\n"
     ]
    }
   ],
   "source": [
    "#для этого столбца применим такую же логику, как и к столбцу ceiling_height\n",
    "data['living_area'] = data.groupby(['locality_name','floors_total'])['kitchen_area'].apply(lambda x: x.fillna(x.median()))\n",
    "data['living_area'].fillna(data['living_area'].median(), inplace=True)\n",
    "column_info('living_area')"
   ]
  },
  {
   "cell_type": "markdown",
   "id": "bc0d9851",
   "metadata": {},
   "source": [
    "### 2.1.12  столбец city_centers_nearest"
   ]
  },
  {
   "cell_type": "code",
   "execution_count": 44,
   "id": "42aa1589",
   "metadata": {},
   "outputs": [
    {
     "name": "stdout",
     "output_type": "stream",
     "text": [
      "тип данных: float64\n",
      "количество пропусков: 5501\n",
      "минимальное значение: 181.0 максимальное значение: 65968.0\n",
      "уникальные значения: \n",
      " 8460.0     61\n",
      "20802.0    32\n",
      "10720.0    30\n",
      "8434.0     27\n",
      "20444.0    27\n",
      "           ..\n",
      "8565.0      1\n",
      "5278.0      1\n",
      "11575.0     1\n",
      "3205.0      1\n",
      "4234.0      1\n",
      "Name: city_centers_nearest, Length: 7623, dtype: int64\n"
     ]
    }
   ],
   "source": [
    "column_info('city_centers_nearest')"
   ]
  },
  {
   "cell_type": "code",
   "execution_count": 45,
   "id": "0924a515",
   "metadata": {},
   "outputs": [
    {
     "name": "stdout",
     "output_type": "stream",
     "text": [
      "тип данных: float64\n",
      "количество пропусков: 0\n",
      "минимальное значение: 181.0 максимальное значение: 65968.0\n",
      "уникальные значения: \n",
      " 13073.0    5444\n",
      "12242.0      64\n",
      "8460.0       61\n",
      "20802.0      32\n",
      "10720.0      30\n",
      "           ... \n",
      "15882.0       1\n",
      "8565.0        1\n",
      "5278.0        1\n",
      "11575.0       1\n",
      "4234.0        1\n",
      "Name: city_centers_nearest, Length: 7626, dtype: int64\n"
     ]
    }
   ],
   "source": [
    "#заполняем значения city_centers_nearest медианными значениями по locality_name\n",
    "\n",
    "data['city_centers_nearest'] = data.groupby('locality_name')['city_centers_nearest'].apply(lambda x: x.fillna(x.median()))\n",
    "data['city_centers_nearest'].fillna(data['city_centers_nearest'].median(), inplace=True)\n",
    "column_info('city_centers_nearest')\n"
   ]
  },
  {
   "cell_type": "code",
   "execution_count": 46,
   "id": "cffe6732",
   "metadata": {},
   "outputs": [
    {
     "name": "stdout",
     "output_type": "stream",
     "text": [
      "<class 'pandas.core.frame.DataFrame'>\n",
      "Int64Index: 23565 entries, 0 to 23698\n",
      "Data columns (total 22 columns):\n",
      " #   Column                Non-Null Count  Dtype         \n",
      "---  ------                --------------  -----         \n",
      " 0   total_images          23565 non-null  int64         \n",
      " 1   last_price            23565 non-null  float64       \n",
      " 2   total_area            23565 non-null  float64       \n",
      " 3   first_day_exposition  23565 non-null  datetime64[ns]\n",
      " 4   rooms                 23565 non-null  int64         \n",
      " 5   ceiling_height        23565 non-null  float64       \n",
      " 6   floors_total          23565 non-null  float64       \n",
      " 7   living_area           23565 non-null  float64       \n",
      " 8   floor                 23565 non-null  int64         \n",
      " 9   is_apartment          23565 non-null  object        \n",
      " 10  studio                23565 non-null  bool          \n",
      " 11  open_plan             23565 non-null  bool          \n",
      " 12  kitchen_area          23565 non-null  float64       \n",
      " 13  balcony               23565 non-null  float64       \n",
      " 14  locality_name         23565 non-null  object        \n",
      " 15  airports_nearest      23565 non-null  float64       \n",
      " 16  city_centers_nearest  23565 non-null  float64       \n",
      " 17  parks_around_3000     23565 non-null  float64       \n",
      " 18  parks_nearest         23565 non-null  float64       \n",
      " 19  ponds_around_3000     23565 non-null  float64       \n",
      " 20  ponds_nearest         23565 non-null  float64       \n",
      " 21  days_exposition       23565 non-null  float64       \n",
      "dtypes: bool(2), datetime64[ns](1), float64(14), int64(3), object(2)\n",
      "memory usage: 3.8+ MB\n"
     ]
    }
   ],
   "source": [
    "data.info()"
   ]
  },
  {
   "cell_type": "markdown",
   "id": "e217612a",
   "metadata": {},
   "source": [
    "## 2.2 Рассмотрение типов данных"
   ]
  },
  {
   "cell_type": "markdown",
   "id": "4b3e825b",
   "metadata": {},
   "source": [
    "Заменим тип данных столбцов:\n",
    "\n",
    "из формата float в формат int:\n",
    "\n",
    "last_price\n",
    "floors_total\n",
    "balcony\n",
    "parks_around3000\n",
    "parks_nearest\n",
    "ponds_around3000\n",
    "ponds_nearest\n",
    "airports_nearest\n",
    "city_centers_nearest\n",
    "days_exposition\n",
    "данные столбца is_apartament из формата object в bool"
   ]
  },
  {
   "cell_type": "code",
   "execution_count": 47,
   "id": "3112f31b",
   "metadata": {},
   "outputs": [],
   "source": [
    "#список наименований столбцов, в которых нужно изменить формат\n",
    "data_format_change = ['last_price', 'floors_total', 'balcony', \n",
    "             'parks_around_3000', 'ponds_around_3000', \n",
    "           'airports_nearest', 'city_centers_nearest', 'days_exposition']\n",
    "\n",
    "#применяем метод astype() для изменения формата столбцов из df_format\n",
    "data[data_format_change] = data[data_format_change].astype('int64')\n",
    "\n"
   ]
  },
  {
   "cell_type": "code",
   "execution_count": 48,
   "id": "99350334",
   "metadata": {},
   "outputs": [],
   "source": [
    "# меняем формат из object в bool\n",
    "data['is_apartment'] = data['is_apartment'].astype('bool')"
   ]
  },
  {
   "cell_type": "code",
   "execution_count": 49,
   "id": "7cb689d3",
   "metadata": {},
   "outputs": [
    {
     "name": "stdout",
     "output_type": "stream",
     "text": [
      "<class 'pandas.core.frame.DataFrame'>\n",
      "Int64Index: 23565 entries, 0 to 23698\n",
      "Data columns (total 22 columns):\n",
      " #   Column                Non-Null Count  Dtype         \n",
      "---  ------                --------------  -----         \n",
      " 0   total_images          23565 non-null  int64         \n",
      " 1   last_price            23565 non-null  int64         \n",
      " 2   total_area            23565 non-null  float64       \n",
      " 3   first_day_exposition  23565 non-null  datetime64[ns]\n",
      " 4   rooms                 23565 non-null  int64         \n",
      " 5   ceiling_height        23565 non-null  float64       \n",
      " 6   floors_total          23565 non-null  int64         \n",
      " 7   living_area           23565 non-null  float64       \n",
      " 8   floor                 23565 non-null  int64         \n",
      " 9   is_apartment          23565 non-null  bool          \n",
      " 10  studio                23565 non-null  bool          \n",
      " 11  open_plan             23565 non-null  bool          \n",
      " 12  kitchen_area          23565 non-null  float64       \n",
      " 13  balcony               23565 non-null  int64         \n",
      " 14  locality_name         23565 non-null  object        \n",
      " 15  airports_nearest      23565 non-null  int64         \n",
      " 16  city_centers_nearest  23565 non-null  int64         \n",
      " 17  parks_around_3000     23565 non-null  int64         \n",
      " 18  parks_nearest         23565 non-null  float64       \n",
      " 19  ponds_around_3000     23565 non-null  int64         \n",
      " 20  ponds_nearest         23565 non-null  float64       \n",
      " 21  days_exposition       23565 non-null  int64         \n",
      "dtypes: bool(3), datetime64[ns](1), float64(6), int64(11), object(1)\n",
      "memory usage: 3.7+ MB\n"
     ]
    }
   ],
   "source": [
    "#проверка таблицы после изменений \n",
    "data.info()"
   ]
  },
  {
   "cell_type": "markdown",
   "id": "aecf289b",
   "metadata": {},
   "source": [
    "## 2.3 Удаление неявных дубликатов было в шаге 1\n"
   ]
  },
  {
   "cell_type": "markdown",
   "id": "c975fad9",
   "metadata": {},
   "source": [
    "## 2.4 Работа с выбивающимися значениями"
   ]
  },
  {
   "cell_type": "code",
   "execution_count": 50,
   "id": "507ad002",
   "metadata": {},
   "outputs": [],
   "source": [
    "#зададим функцию, по которой будем проверять выбросы:\n",
    "\n",
    "def blowouts (dataframe_new, column):\n",
    "    data_new = dataframe_new\n",
    "    #считаем 25 и 75 процентили как границы межквартильного размаха в первоначальном датафрейме:\n",
    "    blowouts_min = round(data[column].quantile(0.25),2) \n",
    "    blowouts_max = round(data[column].quantile(0.75),2)\n",
    "    #отсекаем выбросы столбца по значениям blowouts_min blowouts_max:\n",
    "    print(column, 'нижняя граница выбросов', blowouts_min)\n",
    "    print(column, 'верхняя граница выбросов', blowouts_max)\n",
    "    return data_new.loc[(data_new[column] >= blowouts_min) & (data_new[column] <= blowouts_max)]\n",
    "    "
   ]
  },
  {
   "cell_type": "code",
   "execution_count": 51,
   "id": "81fca900",
   "metadata": {},
   "outputs": [
    {
     "name": "stdout",
     "output_type": "stream",
     "text": [
      "last_price нижняя граница выбросов 3400000.0\n",
      "last_price верхняя граница выбросов 6790000.0\n"
     ]
    }
   ],
   "source": [
    "df_no_blowouts = data\n",
    "#посмотрим на выбросы столбец 'last_price' и очистим  от них\n",
    "df_no_blowouts = blowouts(df_no_blowouts, 'last_price')"
   ]
  },
  {
   "cell_type": "code",
   "execution_count": 52,
   "id": "eb74fc28",
   "metadata": {},
   "outputs": [
    {
     "name": "stdout",
     "output_type": "stream",
     "text": [
      "total_area нижняя граница выбросов 40.0\n",
      "total_area верхняя граница выбросов 69.7\n"
     ]
    }
   ],
   "source": [
    "#посмотрим на выбросы столбец 'total_area' и очистим  от них\n",
    "df_no_blowouts = blowouts(df_no_blowouts, 'total_area')"
   ]
  },
  {
   "cell_type": "code",
   "execution_count": 53,
   "id": "d7a58fcb",
   "metadata": {},
   "outputs": [
    {
     "name": "stdout",
     "output_type": "stream",
     "text": [
      "kitchen_area нижняя граница выбросов 7.0\n",
      "kitchen_area верхняя граница выбросов 11.64\n"
     ]
    }
   ],
   "source": [
    "#посмотрим на выбросы столбец 'kitchen_area' и очистим от них\n",
    "df_no_blowouts = blowouts(df_no_blowouts, 'kitchen_area')"
   ]
  },
  {
   "cell_type": "code",
   "execution_count": 54,
   "id": "68539a81",
   "metadata": {},
   "outputs": [
    {
     "name": "stdout",
     "output_type": "stream",
     "text": [
      "living_area нижняя граница выбросов 7.0\n",
      "living_area верхняя граница выбросов 11.64\n"
     ]
    }
   ],
   "source": [
    "#посмотрим на выбросы столбец 'living_area' и очистим от них\n",
    "df_no_blowouts = blowouts(df_no_blowouts, 'living_area')"
   ]
  },
  {
   "cell_type": "code",
   "execution_count": 55,
   "id": "acf5440b",
   "metadata": {},
   "outputs": [
    {
     "name": "stdout",
     "output_type": "stream",
     "text": [
      "days_exposition нижняя граница выбросов 45.0\n",
      "days_exposition верхняя граница выбросов 211.0\n"
     ]
    }
   ],
   "source": [
    "#посмотрим на выбросы столбец 'days_exposition' и очистим от них\n",
    "df_no_blowouts = blowouts(df_no_blowouts, 'days_exposition')"
   ]
  },
  {
   "cell_type": "code",
   "execution_count": 56,
   "id": "a3b876eb",
   "metadata": {},
   "outputs": [
    {
     "name": "stdout",
     "output_type": "stream",
     "text": [
      "ceiling_height нижняя граница выбросов 2.55\n",
      "ceiling_height верхняя граница выбросов 2.75\n"
     ]
    }
   ],
   "source": [
    "#посмотрим на выбросы столбец 'ceiling_height' и очистим от них \n",
    "df_no_blowouts = blowouts(df_no_blowouts, 'ceiling_height')"
   ]
  },
  {
   "cell_type": "code",
   "execution_count": 57,
   "id": "d245444f",
   "metadata": {},
   "outputs": [
    {
     "name": "stdout",
     "output_type": "stream",
     "text": [
      "rooms нижняя граница выбросов 1.0\n",
      "rooms верхняя граница выбросов 3.0\n"
     ]
    }
   ],
   "source": [
    "#посмотрим на выбросы столбец 'rooms' и очистим от них \n",
    "df_no_blowouts = blowouts(df_no_blowouts, 'rooms')"
   ]
  },
  {
   "cell_type": "code",
   "execution_count": 58,
   "id": "290d3454",
   "metadata": {},
   "outputs": [
    {
     "data": {
      "text/plain": [
       "array([2.55 , 2.75 , 2.65 , 2.6  , 2.7  , 2.61 , 2.57 , 2.575, 2.645,\n",
       "       2.58 , 2.725, 2.625, 2.62 , 2.745, 2.65 , 2.56 , 2.735, 2.59 ,\n",
       "       2.67 , 2.64 , 2.74 , 2.72 , 2.565, 2.68 , 2.73 , 2.69 , 2.675,\n",
       "       2.66 , 2.555])"
      ]
     },
     "execution_count": 58,
     "metadata": {},
     "output_type": "execute_result"
    }
   ],
   "source": [
    "#Вот датафрейм, который получился после применения фуннкции очистки от выбросов\n",
    "df_no_blowouts['ceiling_height'].unique()"
   ]
  },
  {
   "cell_type": "code",
   "execution_count": 59,
   "id": "4c6f8c9c",
   "metadata": {},
   "outputs": [
    {
     "data": {
      "text/plain": [
       "array([100.   ,  32.   ,  27.5  ,  27.   ,  26.   ,  25.   ,  24.   ,\n",
       "        22.6  ,  20.   ,  15.   ,  14.85 ,  14.   ,  10.3  ,   8.3  ,\n",
       "         8.   ,   6.   ,   5.8  ,   5.6  ,   5.5  ,   5.3  ,   5.2  ,\n",
       "         5.   ,   4.9  ,   4.8  ,   4.7  ,   4.65 ,   4.5  ,   4.45 ,\n",
       "         4.4  ,   4.37 ,   4.3  ,   4.25 ,   4.2  ,   4.19 ,   4.15 ,\n",
       "         4.14 ,   4.1  ,   4.06 ,   4.   ,   3.98 ,   3.95 ,   3.93 ,\n",
       "         3.9  ,   3.88 ,   3.87 ,   3.86 ,   3.85 ,   3.84 ,   3.83 ,\n",
       "         3.82 ,   3.8  ,   3.78 ,   3.76 ,   3.75 ,   3.7  ,   3.69 ,\n",
       "         3.68 ,   3.67 ,   3.66 ,   3.65 ,   3.63 ,   3.62 ,   3.6  ,\n",
       "         3.59 ,   3.58 ,   3.57 ,   3.56 ,   3.55 ,   3.54 ,   3.53 ,\n",
       "         3.52 ,   3.51 ,   3.5  ,   3.49 ,   3.48 ,   3.47 ,   3.46 ,\n",
       "         3.45 ,   3.44 ,   3.43 ,   3.42 ,   3.4  ,   3.39 ,   3.38 ,\n",
       "         3.37 ,   3.36 ,   3.35 ,   3.34 ,   3.33 ,   3.325,   3.32 ,\n",
       "         3.31 ,   3.3  ,   3.29 ,   3.28 ,   3.27 ,   3.26 ,   3.25 ,\n",
       "         3.24 ,   3.23 ,   3.22 ,   3.21 ,   3.2  ,   3.18 ,   3.17 ,\n",
       "         3.16 ,   3.15 ,   3.14 ,   3.13 ,   3.12 ,   3.11 ,   3.1  ,\n",
       "         3.09 ,   3.08 ,   3.07 ,   3.06 ,   3.05 ,   3.04 ,   3.03 ,\n",
       "         3.02 ,   3.01 ,   3.   ,   2.99 ,   2.98 ,   2.97 ,   2.96 ,\n",
       "         2.95 ,   2.94 ,   2.93 ,   2.92 ,   2.91 ,   2.9  ,   2.89 ,\n",
       "         2.88 ,   2.87 ,   2.86 ,   2.85 ,   2.84 ,   2.83 ,   2.82 ,\n",
       "         2.81 ,   2.8  ,   2.79 ,   2.785,   2.78 ,   2.775,   2.775,\n",
       "         2.77 ,   2.76 ,   2.75 ,   2.745,   2.74 ,   2.735,   2.73 ,\n",
       "         2.725,   2.72 ,   2.71 ,   2.7  ,   2.69 ,   2.68 ,   2.675,\n",
       "         2.67 ,   2.66 ,   2.65 ,   2.65 ,   2.645,   2.64 ,   2.63 ,\n",
       "         2.625,   2.62 ,   2.615,   2.61 ,   2.6  ,   2.59 ,   2.58 ,\n",
       "         2.575,   2.57 ,   2.565,   2.56 ,   2.555,   2.55 ,   2.54 ,\n",
       "         2.53 ,   2.525,   2.52 ,   2.51 ,   2.505,   2.5  ,   2.49 ,\n",
       "         2.48 ,   2.47 ,   2.46 ,   2.45 ,   2.4  ,   2.34 ,   2.3  ,\n",
       "         2.25 ,   2.2  ,   2.   ,   1.75 ,   1.2  ,   1.   ])"
      ]
     },
     "execution_count": 59,
     "metadata": {},
     "output_type": "execute_result"
    }
   ],
   "source": [
    "#в оригинальном датасете сохранены аномальные знаечния\n",
    "data['ceiling_height'].sort_values(ascending=False).unique()"
   ]
  },
  {
   "cell_type": "code",
   "execution_count": 60,
   "id": "b1196b64",
   "metadata": {
    "scrolled": true
   },
   "outputs": [
    {
     "data": {
      "text/html": [
       "<div>\n",
       "<style scoped>\n",
       "    .dataframe tbody tr th:only-of-type {\n",
       "        vertical-align: middle;\n",
       "    }\n",
       "\n",
       "    .dataframe tbody tr th {\n",
       "        vertical-align: top;\n",
       "    }\n",
       "\n",
       "    .dataframe thead th {\n",
       "        text-align: right;\n",
       "    }\n",
       "</style>\n",
       "<table border=\"1\" class=\"dataframe\">\n",
       "  <thead>\n",
       "    <tr style=\"text-align: right;\">\n",
       "      <th></th>\n",
       "      <th>total_images</th>\n",
       "      <th>last_price</th>\n",
       "      <th>total_area</th>\n",
       "      <th>first_day_exposition</th>\n",
       "      <th>rooms</th>\n",
       "      <th>ceiling_height</th>\n",
       "      <th>floors_total</th>\n",
       "      <th>living_area</th>\n",
       "      <th>floor</th>\n",
       "      <th>is_apartment</th>\n",
       "      <th>...</th>\n",
       "      <th>kitchen_area</th>\n",
       "      <th>balcony</th>\n",
       "      <th>locality_name</th>\n",
       "      <th>airports_nearest</th>\n",
       "      <th>city_centers_nearest</th>\n",
       "      <th>parks_around_3000</th>\n",
       "      <th>parks_nearest</th>\n",
       "      <th>ponds_around_3000</th>\n",
       "      <th>ponds_nearest</th>\n",
       "      <th>days_exposition</th>\n",
       "    </tr>\n",
       "  </thead>\n",
       "  <tbody>\n",
       "    <tr>\n",
       "      <th>0</th>\n",
       "      <td>20</td>\n",
       "      <td>13000000</td>\n",
       "      <td>108.00</td>\n",
       "      <td>2019-03-07</td>\n",
       "      <td>3</td>\n",
       "      <td>2.70</td>\n",
       "      <td>16</td>\n",
       "      <td>25.00</td>\n",
       "      <td>8</td>\n",
       "      <td>True</td>\n",
       "      <td>...</td>\n",
       "      <td>25.00</td>\n",
       "      <td>0</td>\n",
       "      <td>Санкт-Петербург</td>\n",
       "      <td>18863</td>\n",
       "      <td>16028</td>\n",
       "      <td>1</td>\n",
       "      <td>482.0</td>\n",
       "      <td>2</td>\n",
       "      <td>755.0</td>\n",
       "      <td>142</td>\n",
       "    </tr>\n",
       "    <tr>\n",
       "      <th>1</th>\n",
       "      <td>7</td>\n",
       "      <td>3350000</td>\n",
       "      <td>40.40</td>\n",
       "      <td>2018-12-04</td>\n",
       "      <td>1</td>\n",
       "      <td>2.65</td>\n",
       "      <td>11</td>\n",
       "      <td>11.00</td>\n",
       "      <td>1</td>\n",
       "      <td>True</td>\n",
       "      <td>...</td>\n",
       "      <td>11.00</td>\n",
       "      <td>2</td>\n",
       "      <td>Шушары</td>\n",
       "      <td>12817</td>\n",
       "      <td>18603</td>\n",
       "      <td>0</td>\n",
       "      <td>460.0</td>\n",
       "      <td>0</td>\n",
       "      <td>584.5</td>\n",
       "      <td>81</td>\n",
       "    </tr>\n",
       "    <tr>\n",
       "      <th>2</th>\n",
       "      <td>10</td>\n",
       "      <td>5196000</td>\n",
       "      <td>56.00</td>\n",
       "      <td>2015-08-20</td>\n",
       "      <td>2</td>\n",
       "      <td>2.60</td>\n",
       "      <td>5</td>\n",
       "      <td>8.30</td>\n",
       "      <td>4</td>\n",
       "      <td>True</td>\n",
       "      <td>...</td>\n",
       "      <td>8.30</td>\n",
       "      <td>0</td>\n",
       "      <td>Санкт-Петербург</td>\n",
       "      <td>21741</td>\n",
       "      <td>13933</td>\n",
       "      <td>1</td>\n",
       "      <td>90.0</td>\n",
       "      <td>2</td>\n",
       "      <td>574.0</td>\n",
       "      <td>558</td>\n",
       "    </tr>\n",
       "    <tr>\n",
       "      <th>3</th>\n",
       "      <td>0</td>\n",
       "      <td>64900000</td>\n",
       "      <td>159.00</td>\n",
       "      <td>2015-07-24</td>\n",
       "      <td>3</td>\n",
       "      <td>2.60</td>\n",
       "      <td>14</td>\n",
       "      <td>9.00</td>\n",
       "      <td>9</td>\n",
       "      <td>True</td>\n",
       "      <td>...</td>\n",
       "      <td>9.00</td>\n",
       "      <td>0</td>\n",
       "      <td>Санкт-Петербург</td>\n",
       "      <td>28098</td>\n",
       "      <td>6800</td>\n",
       "      <td>2</td>\n",
       "      <td>84.0</td>\n",
       "      <td>3</td>\n",
       "      <td>234.0</td>\n",
       "      <td>424</td>\n",
       "    </tr>\n",
       "    <tr>\n",
       "      <th>4</th>\n",
       "      <td>2</td>\n",
       "      <td>10000000</td>\n",
       "      <td>100.00</td>\n",
       "      <td>2018-06-19</td>\n",
       "      <td>2</td>\n",
       "      <td>3.03</td>\n",
       "      <td>14</td>\n",
       "      <td>41.00</td>\n",
       "      <td>13</td>\n",
       "      <td>True</td>\n",
       "      <td>...</td>\n",
       "      <td>41.00</td>\n",
       "      <td>0</td>\n",
       "      <td>Санкт-Петербург</td>\n",
       "      <td>31856</td>\n",
       "      <td>8098</td>\n",
       "      <td>2</td>\n",
       "      <td>112.0</td>\n",
       "      <td>1</td>\n",
       "      <td>48.0</td>\n",
       "      <td>121</td>\n",
       "    </tr>\n",
       "    <tr>\n",
       "      <th>...</th>\n",
       "      <td>...</td>\n",
       "      <td>...</td>\n",
       "      <td>...</td>\n",
       "      <td>...</td>\n",
       "      <td>...</td>\n",
       "      <td>...</td>\n",
       "      <td>...</td>\n",
       "      <td>...</td>\n",
       "      <td>...</td>\n",
       "      <td>...</td>\n",
       "      <td>...</td>\n",
       "      <td>...</td>\n",
       "      <td>...</td>\n",
       "      <td>...</td>\n",
       "      <td>...</td>\n",
       "      <td>...</td>\n",
       "      <td>...</td>\n",
       "      <td>...</td>\n",
       "      <td>...</td>\n",
       "      <td>...</td>\n",
       "      <td>...</td>\n",
       "    </tr>\n",
       "    <tr>\n",
       "      <th>23694</th>\n",
       "      <td>9</td>\n",
       "      <td>9700000</td>\n",
       "      <td>133.81</td>\n",
       "      <td>2017-03-21</td>\n",
       "      <td>3</td>\n",
       "      <td>3.70</td>\n",
       "      <td>5</td>\n",
       "      <td>13.83</td>\n",
       "      <td>3</td>\n",
       "      <td>True</td>\n",
       "      <td>...</td>\n",
       "      <td>13.83</td>\n",
       "      <td>0</td>\n",
       "      <td>Санкт-Петербург</td>\n",
       "      <td>24665</td>\n",
       "      <td>4232</td>\n",
       "      <td>1</td>\n",
       "      <td>796.0</td>\n",
       "      <td>3</td>\n",
       "      <td>381.0</td>\n",
       "      <td>97</td>\n",
       "    </tr>\n",
       "    <tr>\n",
       "      <th>23695</th>\n",
       "      <td>14</td>\n",
       "      <td>3100000</td>\n",
       "      <td>59.00</td>\n",
       "      <td>2018-01-15</td>\n",
       "      <td>3</td>\n",
       "      <td>2.50</td>\n",
       "      <td>5</td>\n",
       "      <td>8.50</td>\n",
       "      <td>4</td>\n",
       "      <td>True</td>\n",
       "      <td>...</td>\n",
       "      <td>8.50</td>\n",
       "      <td>0</td>\n",
       "      <td>Тосно</td>\n",
       "      <td>26763</td>\n",
       "      <td>13073</td>\n",
       "      <td>0</td>\n",
       "      <td>460.0</td>\n",
       "      <td>0</td>\n",
       "      <td>503.0</td>\n",
       "      <td>45</td>\n",
       "    </tr>\n",
       "    <tr>\n",
       "      <th>23696</th>\n",
       "      <td>18</td>\n",
       "      <td>2500000</td>\n",
       "      <td>56.70</td>\n",
       "      <td>2018-02-11</td>\n",
       "      <td>2</td>\n",
       "      <td>2.65</td>\n",
       "      <td>3</td>\n",
       "      <td>8.15</td>\n",
       "      <td>1</td>\n",
       "      <td>True</td>\n",
       "      <td>...</td>\n",
       "      <td>8.15</td>\n",
       "      <td>0</td>\n",
       "      <td>Рождествено</td>\n",
       "      <td>26763</td>\n",
       "      <td>13073</td>\n",
       "      <td>0</td>\n",
       "      <td>460.0</td>\n",
       "      <td>0</td>\n",
       "      <td>503.0</td>\n",
       "      <td>97</td>\n",
       "    </tr>\n",
       "    <tr>\n",
       "      <th>23697</th>\n",
       "      <td>13</td>\n",
       "      <td>11475000</td>\n",
       "      <td>76.75</td>\n",
       "      <td>2017-03-28</td>\n",
       "      <td>2</td>\n",
       "      <td>3.00</td>\n",
       "      <td>17</td>\n",
       "      <td>23.30</td>\n",
       "      <td>12</td>\n",
       "      <td>True</td>\n",
       "      <td>...</td>\n",
       "      <td>23.30</td>\n",
       "      <td>2</td>\n",
       "      <td>Санкт-Петербург</td>\n",
       "      <td>39140</td>\n",
       "      <td>10364</td>\n",
       "      <td>2</td>\n",
       "      <td>173.0</td>\n",
       "      <td>3</td>\n",
       "      <td>196.0</td>\n",
       "      <td>602</td>\n",
       "    </tr>\n",
       "    <tr>\n",
       "      <th>23698</th>\n",
       "      <td>4</td>\n",
       "      <td>1350000</td>\n",
       "      <td>32.30</td>\n",
       "      <td>2017-07-21</td>\n",
       "      <td>1</td>\n",
       "      <td>2.50</td>\n",
       "      <td>5</td>\n",
       "      <td>9.00</td>\n",
       "      <td>1</td>\n",
       "      <td>True</td>\n",
       "      <td>...</td>\n",
       "      <td>9.00</td>\n",
       "      <td>0</td>\n",
       "      <td>Новый Учхоз</td>\n",
       "      <td>26763</td>\n",
       "      <td>13073</td>\n",
       "      <td>0</td>\n",
       "      <td>460.0</td>\n",
       "      <td>0</td>\n",
       "      <td>503.0</td>\n",
       "      <td>97</td>\n",
       "    </tr>\n",
       "  </tbody>\n",
       "</table>\n",
       "<p>23565 rows × 22 columns</p>\n",
       "</div>"
      ],
      "text/plain": [
       "       total_images  last_price  total_area first_day_exposition  rooms  \\\n",
       "0                20    13000000      108.00           2019-03-07      3   \n",
       "1                 7     3350000       40.40           2018-12-04      1   \n",
       "2                10     5196000       56.00           2015-08-20      2   \n",
       "3                 0    64900000      159.00           2015-07-24      3   \n",
       "4                 2    10000000      100.00           2018-06-19      2   \n",
       "...             ...         ...         ...                  ...    ...   \n",
       "23694             9     9700000      133.81           2017-03-21      3   \n",
       "23695            14     3100000       59.00           2018-01-15      3   \n",
       "23696            18     2500000       56.70           2018-02-11      2   \n",
       "23697            13    11475000       76.75           2017-03-28      2   \n",
       "23698             4     1350000       32.30           2017-07-21      1   \n",
       "\n",
       "       ceiling_height  floors_total  living_area  floor  is_apartment  ...  \\\n",
       "0                2.70            16        25.00      8          True  ...   \n",
       "1                2.65            11        11.00      1          True  ...   \n",
       "2                2.60             5         8.30      4          True  ...   \n",
       "3                2.60            14         9.00      9          True  ...   \n",
       "4                3.03            14        41.00     13          True  ...   \n",
       "...               ...           ...          ...    ...           ...  ...   \n",
       "23694            3.70             5        13.83      3          True  ...   \n",
       "23695            2.50             5         8.50      4          True  ...   \n",
       "23696            2.65             3         8.15      1          True  ...   \n",
       "23697            3.00            17        23.30     12          True  ...   \n",
       "23698            2.50             5         9.00      1          True  ...   \n",
       "\n",
       "       kitchen_area  balcony    locality_name  airports_nearest  \\\n",
       "0             25.00        0  Санкт-Петербург             18863   \n",
       "1             11.00        2           Шушары             12817   \n",
       "2              8.30        0  Санкт-Петербург             21741   \n",
       "3              9.00        0  Санкт-Петербург             28098   \n",
       "4             41.00        0  Санкт-Петербург             31856   \n",
       "...             ...      ...              ...               ...   \n",
       "23694         13.83        0  Санкт-Петербург             24665   \n",
       "23695          8.50        0            Тосно             26763   \n",
       "23696          8.15        0      Рождествено             26763   \n",
       "23697         23.30        2  Санкт-Петербург             39140   \n",
       "23698          9.00        0      Новый Учхоз             26763   \n",
       "\n",
       "      city_centers_nearest  parks_around_3000  parks_nearest  \\\n",
       "0                    16028                  1          482.0   \n",
       "1                    18603                  0          460.0   \n",
       "2                    13933                  1           90.0   \n",
       "3                     6800                  2           84.0   \n",
       "4                     8098                  2          112.0   \n",
       "...                    ...                ...            ...   \n",
       "23694                 4232                  1          796.0   \n",
       "23695                13073                  0          460.0   \n",
       "23696                13073                  0          460.0   \n",
       "23697                10364                  2          173.0   \n",
       "23698                13073                  0          460.0   \n",
       "\n",
       "       ponds_around_3000  ponds_nearest  days_exposition  \n",
       "0                      2          755.0              142  \n",
       "1                      0          584.5               81  \n",
       "2                      2          574.0              558  \n",
       "3                      3          234.0              424  \n",
       "4                      1           48.0              121  \n",
       "...                  ...            ...              ...  \n",
       "23694                  3          381.0               97  \n",
       "23695                  0          503.0               45  \n",
       "23696                  0          503.0               97  \n",
       "23697                  3          196.0              602  \n",
       "23698                  0          503.0               97  \n",
       "\n",
       "[23565 rows x 22 columns]"
      ]
     },
     "execution_count": 60,
     "metadata": {},
     "output_type": "execute_result"
    }
   ],
   "source": [
    "data.replace({'ceiling_height': {100: 10, 32: 3.2, 27.5: 2.75, 27: 2.7, 26.5: 2.65, 25: 2.5, 24: 2.4, 22.6: 2.26, 20: 2.0}})"
   ]
  },
  {
   "cell_type": "code",
   "execution_count": 61,
   "id": "782bea52",
   "metadata": {},
   "outputs": [
    {
     "data": {
      "text/plain": [
       "total_images            3\n",
       "last_price              3\n",
       "total_area              3\n",
       "first_day_exposition    3\n",
       "rooms                   3\n",
       "ceiling_height          3\n",
       "floors_total            3\n",
       "living_area             3\n",
       "floor                   3\n",
       "is_apartment            3\n",
       "studio                  3\n",
       "open_plan               3\n",
       "kitchen_area            3\n",
       "balcony                 3\n",
       "locality_name           3\n",
       "airports_nearest        3\n",
       "city_centers_nearest    3\n",
       "parks_around_3000       3\n",
       "parks_nearest           3\n",
       "ponds_around_3000       3\n",
       "ponds_nearest           3\n",
       "days_exposition         3\n",
       "dtype: int64"
      ]
     },
     "execution_count": 61,
     "metadata": {},
     "output_type": "execute_result"
    }
   ],
   "source": [
    "#Также есть аномальные значения высоты потолков - до 2 метров. Посчитаем их количество\n",
    "data[data['ceiling_height'] < 2].count()"
   ]
  },
  {
   "cell_type": "code",
   "execution_count": 62,
   "id": "bb203cd8",
   "metadata": {},
   "outputs": [],
   "source": [
    "#Таких значений всего 3, поэтому удалим их из датасета\n",
    "data['ceiling_height'] = data[data['ceiling_height'] < 2]"
   ]
  },
  {
   "cell_type": "code",
   "execution_count": 63,
   "id": "2279e935",
   "metadata": {},
   "outputs": [
    {
     "data": {
      "text/plain": [
       "0"
      ]
     },
     "execution_count": 63,
     "metadata": {},
     "output_type": "execute_result"
    }
   ],
   "source": [
    "#проверка на явные дубликаты, которые не выявлены\n",
    "data.duplicated().sum()"
   ]
  },
  {
   "cell_type": "markdown",
   "id": "2c207d89",
   "metadata": {},
   "source": [
    "## Вывод\n",
    "Данные были довольно \"грязными\" - в 14 переменных отсутствовали значения, в трех из них доля пропусков была больше 50 %\n",
    "\n",
    "После очистки данных от выбросов ма получили \"портрет\" средней квартиры:\n",
    "* цена 3,4 млн руб. до 6,8 млн руб;\n",
    "* общей площадью от 40 до 70 квадратных метров;\n",
    "* высота потолоков средняя - 2,65;\n",
    "* от 1 до 3 комнат.\n"
   ]
  },
  {
   "cell_type": "markdown",
   "id": "a132fe59",
   "metadata": {},
   "source": [
    "# ШАГ 3 Расчеты и добавление данных в таблицу"
   ]
  },
  {
   "cell_type": "markdown",
   "id": "6489fb5a",
   "metadata": {},
   "source": [
    "## 3.1 Добавление цены квадратного метра"
   ]
  },
  {
   "cell_type": "code",
   "execution_count": 64,
   "id": "8f8b9f32",
   "metadata": {},
   "outputs": [],
   "source": [
    "#добавляем столбец price_sq_meter с расчетом 1 кв м\n",
    "data['price_sq_meter'] = data['last_price'] / data['total_area']"
   ]
  },
  {
   "cell_type": "markdown",
   "id": "a447421e",
   "metadata": {},
   "source": [
    "## 3.2 Добавление дня недели, месяца и года публикации объявления"
   ]
  },
  {
   "cell_type": "code",
   "execution_count": 65,
   "id": "e5475221",
   "metadata": {},
   "outputs": [],
   "source": [
    "#добавление столбца с днем недели публикации объявления\n",
    "data['weekday_exposition'] = data['first_day_exposition'].dt.weekday\n",
    "\n",
    "#добавление столбца с месяцем публикации объявления\n",
    "data['monht_exposition'] = data['first_day_exposition'].dt.month\n",
    "\n",
    "#добавление столбца с годом публикации\n",
    "data['year_exposition'] = data['first_day_exposition'].dt.year"
   ]
  },
  {
   "cell_type": "markdown",
   "id": "8a7287dc",
   "metadata": {},
   "source": [
    "## 3.3 Добавление этажа квартиры (первый, последний и другой)"
   ]
  },
  {
   "cell_type": "code",
   "execution_count": 66,
   "id": "102e43cd",
   "metadata": {},
   "outputs": [],
   "source": [
    "#функция для определения типа этажа:\n",
    "def floors_type(row):\n",
    "    if row['floor'] == 1:\n",
    "        return 'первый'\n",
    "    elif row['floor'] == row['floors_total']:\n",
    "        return 'последний'\n",
    "    else:\n",
    "        return 'другой'\n",
    "\n",
    "data['floor_type'] = data.apply(floors_type, axis=1) "
   ]
  },
  {
   "cell_type": "markdown",
   "id": "9e35866f",
   "metadata": {},
   "source": [
    "## 3.4 Добавление расстояние до центра города в километрах"
   ]
  },
  {
   "cell_type": "code",
   "execution_count": 67,
   "id": "af1d431f",
   "metadata": {},
   "outputs": [
    {
     "name": "stdout",
     "output_type": "stream",
     "text": [
      "city_centers_nearest_km ok\n"
     ]
    }
   ],
   "source": [
    "data['city_centers_nearest_km'] = round(data['city_centers_nearest'] / 1000)\n",
    "try:\n",
    "    data['city_centers_nearest_km'] =  data['city_centers_nearest_km'].astype('Int64')\n",
    "    print('city_centers_nearest_km ok')\n",
    "except:\n",
    "    print('city_centers_nearest_km Int64 type conversion fail')\n"
   ]
  },
  {
   "cell_type": "code",
   "execution_count": 68,
   "id": "78888d4f",
   "metadata": {},
   "outputs": [
    {
     "name": "stdout",
     "output_type": "stream",
     "text": [
      "<class 'pandas.core.frame.DataFrame'>\n",
      "Int64Index: 23565 entries, 0 to 23698\n",
      "Data columns (total 28 columns):\n",
      " #   Column                   Non-Null Count  Dtype         \n",
      "---  ------                   --------------  -----         \n",
      " 0   total_images             23565 non-null  int64         \n",
      " 1   last_price               23565 non-null  int64         \n",
      " 2   total_area               23565 non-null  float64       \n",
      " 3   first_day_exposition     23565 non-null  datetime64[ns]\n",
      " 4   rooms                    23565 non-null  int64         \n",
      " 5   ceiling_height           3 non-null      object        \n",
      " 6   floors_total             23565 non-null  int64         \n",
      " 7   living_area              23565 non-null  float64       \n",
      " 8   floor                    23565 non-null  int64         \n",
      " 9   is_apartment             23565 non-null  bool          \n",
      " 10  studio                   23565 non-null  bool          \n",
      " 11  open_plan                23565 non-null  bool          \n",
      " 12  kitchen_area             23565 non-null  float64       \n",
      " 13  balcony                  23565 non-null  int64         \n",
      " 14  locality_name            23565 non-null  object        \n",
      " 15  airports_nearest         23565 non-null  int64         \n",
      " 16  city_centers_nearest     23565 non-null  int64         \n",
      " 17  parks_around_3000        23565 non-null  int64         \n",
      " 18  parks_nearest            23565 non-null  float64       \n",
      " 19  ponds_around_3000        23565 non-null  int64         \n",
      " 20  ponds_nearest            23565 non-null  float64       \n",
      " 21  days_exposition          23565 non-null  int64         \n",
      " 22  price_sq_meter           23565 non-null  float64       \n",
      " 23  weekday_exposition       23565 non-null  int64         \n",
      " 24  monht_exposition         23565 non-null  int64         \n",
      " 25  year_exposition          23565 non-null  int64         \n",
      " 26  floor_type               23565 non-null  object        \n",
      " 27  city_centers_nearest_km  23565 non-null  Int64         \n",
      "dtypes: Int64(1), bool(3), datetime64[ns](1), float64(6), int64(14), object(3)\n",
      "memory usage: 4.8+ MB\n"
     ]
    }
   ],
   "source": [
    "data.info()"
   ]
  },
  {
   "cell_type": "markdown",
   "id": "d0d6ed95",
   "metadata": {},
   "source": [
    "<div class=\"alert alert-block alert-success\">✔️\n",
    "    \n",
    "\n",
    "__Комментарий от ревьюера №1__\n",
    "\n",
    "Этот раздел выполнен качественно\n",
    "</div>"
   ]
  },
  {
   "cell_type": "markdown",
   "id": "18770481",
   "metadata": {},
   "source": [
    "# 4 Исследовательский анализ данных"
   ]
  },
  {
   "cell_type": "markdown",
   "id": "b6f8a73c",
   "metadata": {},
   "source": [
    "## 4.1 Изучение основных параметров"
   ]
  },
  {
   "cell_type": "code",
   "execution_count": 69,
   "id": "82297087",
   "metadata": {},
   "outputs": [
    {
     "data": {
      "image/png": "[encoded data removed]",
      "text/plain": [
       "<Figure size 432x288 with 1 Axes>"
      ]
     },
     "metadata": {
      "needs_background": "light"
     },
     "output_type": "display_data"
    },
    {
     "name": "stdout",
     "output_type": "stream",
     "text": [
      "Квартиры с малой площадью:\n",
      "19540    900.0\n",
      "12859    631.2\n",
      "3117     631.0\n",
      "15651    618.0\n",
      "5358     590.0\n",
      "4237     517.0\n",
      "8018     507.0\n",
      "15016    500.0\n",
      "5893     500.0\n",
      "12401    495.0\n",
      "Name: total_area, dtype: float64\n",
      "Средняя общая площадь площадь: <bound method NDFrame._add_numeric_operations.<locals>.mean of 0        108.00\n",
      "1         40.40\n",
      "2         56.00\n",
      "3        159.00\n",
      "4        100.00\n",
      "          ...  \n",
      "23694    133.81\n",
      "23695     59.00\n",
      "23696     56.70\n",
      "23697     76.75\n",
      "23698     32.30\n",
      "Name: total_area, Length: 23565, dtype: float64>\n"
     ]
    },
    {
     "data": {
      "image/png": "[encoded data removed]",
      "text/plain": [
       "<Figure size 432x288 with 1 Axes>"
      ]
     },
     "metadata": {
      "needs_background": "light"
     },
     "output_type": "display_data"
    },
    {
     "name": "stdout",
     "output_type": "stream",
     "text": [
      "Квартиры с наибольшей площадью:\n"
     ]
    }
   ],
   "source": [
    "# Исследуем общую площадь\n",
    "plt.hist(data['total_area'], bins=30, range=(10,200))\n",
    "plt.title('Площадь квартир')\n",
    "plt.xlabel('Квадратные метры')\n",
    "plt.ylabel('Количество квартир')\n",
    "plt.show()\n",
    "print('Квартиры с малой площадью:')\n",
    "print(data['total_area'].sort_values(ascending=False).head(10))\n",
    "print('Средняя общая площадь площадь:', data['total_area'].mean)\n",
    "# Исследуем жилую площадь \n",
    "plt.hist(data['living_area'], bins=70, range=(10,80))\n",
    "plt.title('Жилая площадь')\n",
    "plt.xlabel('Квадратные метры')\n",
    "plt.ylabel('Количество квартир')\n",
    "plt.show()\n",
    "print('Квартиры с наибольшей площадью:')"
   ]
  },
  {
   "cell_type": "code",
   "execution_count": 70,
   "id": "a2969c40",
   "metadata": {},
   "outputs": [
    {
     "data": {
      "image/png": "[encoded data removed]",
      "text/plain": [
       "<Figure size 432x288 with 1 Axes>"
      ]
     },
     "metadata": {
      "needs_background": "light"
     },
     "output_type": "display_data"
    },
    {
     "name": "stdout",
     "output_type": "stream",
     "text": [
      "Квартиры с большими кухнями:\n",
      "19540    112.0\n",
      "20215    107.0\n",
      "2489     100.7\n",
      "5358     100.0\n",
      "16239     93.2\n",
      "16797     93.0\n",
      "10867     87.2\n",
      "4394      77.0\n",
      "492       77.0\n",
      "14644     75.0\n",
      "Name: kitchen_area, dtype: float64\n"
     ]
    },
    {
     "data": {
      "image/png": "[encoded data removed]",
      "text/plain": [
       "<Figure size 432x288 with 1 Axes>"
      ]
     },
     "metadata": {
      "needs_background": "light"
     },
     "output_type": "display_data"
    },
    {
     "name": "stdout",
     "output_type": "stream",
     "text": [
      "Самые дорогие квартиры:\n",
      "12971    763000000\n",
      "19540    420000000\n",
      "14706    401300000\n",
      "1436     330000000\n",
      "15651    300000000\n",
      "22831    289238400\n",
      "16461    245000000\n",
      "13749    240000000\n",
      "5893     230000000\n",
      "8900     190870000\n",
      "Name: last_price, dtype: int64\n"
     ]
    }
   ],
   "source": [
    "# Исследуем площадь кухни\n",
    "plt.hist(data['kitchen_area'], bins=30, range=(0,30))\n",
    "plt.title('Площадь кухни')\n",
    "plt.xlabel('Квадратные метры')\n",
    "plt.ylabel('Количество квартир')\n",
    "plt.show()\n",
    "print('Квартиры с большими кухнями:')\n",
    "print(data['kitchen_area'].sort_values(ascending=False).head(10))\n",
    "\n",
    "# Исследуем цену объекта\n",
    "plt.hist(data['last_price'], bins=10, range=(0,25000000))\n",
    "plt.title('Стоимость квартиры, руб.')\n",
    "plt.xlabel('Стоимость')\n",
    "plt.ylabel('Количество квартир')\n",
    "plt.show()\n",
    "print('Самые дорогие квартиры:')\n",
    "print((data['last_price']).sort_values(ascending=False).head(10))"
   ]
  },
  {
   "cell_type": "code",
   "execution_count": 71,
   "id": "c20eef37",
   "metadata": {},
   "outputs": [
    {
     "data": {
      "image/png": "[encoded data removed]",
      "text/plain": [
       "<Figure size 432x288 with 1 Axes>"
      ]
     },
     "metadata": {
      "needs_background": "light"
     },
     "output_type": "display_data"
    },
    {
     "name": "stdout",
     "output_type": "stream",
     "text": [
      "Квартиры с наибольшим числом комнат:\n",
      "14498    19\n",
      "18848    16\n",
      "5358     15\n",
      "20829    14\n",
      "866      14\n",
      "19540    12\n",
      "648      11\n",
      "9688     11\n",
      "18891    10\n",
      "18119    10\n",
      "Name: rooms, dtype: int64\n"
     ]
    },
    {
     "data": {
      "image/png": "[encoded data removed]",
      "text/plain": [
       "<Figure size 432x288 with 1 Axes>"
      ]
     },
     "metadata": {
      "needs_background": "light"
     },
     "output_type": "display_data"
    },
    {
     "name": "stdout",
     "output_type": "stream",
     "text": [
      "Квартиры с самыми низкими потолками:\n",
      "22590    16.0\n",
      "5712      5.0\n",
      "16934     5.0\n",
      "0         NaN\n",
      "1         NaN\n",
      "2         NaN\n",
      "3         NaN\n",
      "4         NaN\n",
      "5         NaN\n",
      "6         NaN\n",
      "Name: ceiling_height, dtype: object\n"
     ]
    }
   ],
   "source": [
    "# Исследуем количество комнат\n",
    "plt.hist(data['rooms'], bins=7, range=(1,7))\n",
    "plt.title('Комнаты')\n",
    "plt.xlabel('Количество комнат')\n",
    "plt.ylabel('Количество квартир')\n",
    "plt.show()\n",
    "print('Квартиры с наибольшим числом комнат:')\n",
    "print(data['rooms'].sort_values(ascending=False).head(10))\n",
    "\n",
    "# Исследуем высоту потолков\n",
    "plt.hist(data.query('(ceiling_height > 2) & (ceiling_height < 4)')['ceiling_height'], bins=20)\n",
    "plt.title('Высота потолков')\n",
    "plt.xlabel('Метры')\n",
    "plt.ylabel('Количество квартир')\n",
    "plt.show()\n",
    "print('Квартиры с самыми низкими потолками:')\n",
    "print(data['ceiling_height'].sort_values(ascending=False).head(10))"
   ]
  },
  {
   "cell_type": "code",
   "execution_count": 72,
   "id": "2aeedfd1",
   "metadata": {},
   "outputs": [
    {
     "data": {
      "image/png": "[encoded data removed]",
      "text/plain": [
       "<Figure size 432x288 with 1 Axes>"
      ]
     },
     "metadata": {
      "needs_background": "light"
     },
     "output_type": "display_data"
    },
    {
     "data": {
      "image/png": "[encoded data removed]",
      "text/plain": [
       "<Figure size 432x288 with 1 Axes>"
      ]
     },
     "metadata": {
      "needs_background": "light"
     },
     "output_type": "display_data"
    }
   ],
   "source": [
    "# Исследуем этаж квартиры\n",
    "plt.hist(data['floor'], bins=20, range=(1,50))\n",
    "plt.title('Этаж квартиры')\n",
    "plt.xlabel('номер этажа')\n",
    "plt.ylabel('Количество квартир')\n",
    "plt.show()\n",
    "\n",
    "\n",
    "# Исследуем тип этажа \n",
    "plt.hist(data['floor_type'], bins=5)\n",
    "plt.title('Тип этажа')\n",
    "plt.xlabel('Тип этажа')\n",
    "plt.ylabel('Количество квартир')\n",
    "plt.show()\n",
    "\n"
   ]
  },
  {
   "cell_type": "code",
   "execution_count": 73,
   "id": "374fa602",
   "metadata": {},
   "outputs": [
    {
     "data": {
      "image/png": "[encoded data removed]",
      "text/plain": [
       "<Figure size 432x288 with 1 Axes>"
      ]
     },
     "metadata": {
      "needs_background": "light"
     },
     "output_type": "display_data"
    },
    {
     "data": {
      "image/png": "[encoded data removed]",
      "text/plain": [
       "<Figure size 432x288 with 1 Axes>"
      ]
     },
     "metadata": {
      "needs_background": "light"
     },
     "output_type": "display_data"
    }
   ],
   "source": [
    "# Исследуем общее количество этажей в доме \n",
    "plt.hist(data['floors_total'], bins=20, range=(1,5))\n",
    "plt.title('Этажей в доме')\n",
    "plt.xlabel('всего этажей')\n",
    "plt.ylabel('Количество квартир')\n",
    "plt.show()\n",
    "\n",
    "# Исследуем расстояние до центра города в метрах \n",
    "plt.hist(data['city_centers_nearest'], bins=10)\n",
    "plt.title('Расстояние до центра города, м')\n",
    "plt.xlabel('Расстояние')\n",
    "plt.ylabel('Количество квартир')\n",
    "plt.show()\n",
    "\n"
   ]
  },
  {
   "cell_type": "code",
   "execution_count": 74,
   "id": "e8653715",
   "metadata": {},
   "outputs": [
    {
     "data": {
      "image/png": "[encoded data removed]",
      "text/plain": [
       "<Figure size 432x288 with 1 Axes>"
      ]
     },
     "metadata": {
      "needs_background": "light"
     },
     "output_type": "display_data"
    },
    {
     "data": {
      "image/png": "[encoded data removed]",
      "text/plain": [
       "<Figure size 432x288 with 1 Axes>"
      ]
     },
     "metadata": {
      "needs_background": "light"
     },
     "output_type": "display_data"
    }
   ],
   "source": [
    "# Исследуем расстояние до ближайшего аэропорта  \n",
    "plt.hist(data['airports_nearest'], bins=15)\n",
    "plt.title('Расстояние до ближайшего аэропорта, м')\n",
    "plt.xlabel('Расстояние')\n",
    "plt.ylabel('Количество квартир')\n",
    "plt.show()\n",
    "\n",
    "\n",
    "# Исследуем расстояние до ближайшего парка \n",
    "plt.hist(data['parks_nearest'], bins=10)\n",
    "plt.title('Расстояние до ближайшего парка, м')\n",
    "plt.xlabel('Расстояние')\n",
    "plt.ylabel('Количество квартир')\n",
    "plt.show()"
   ]
  },
  {
   "cell_type": "code",
   "execution_count": 75,
   "id": "84c83833",
   "metadata": {},
   "outputs": [
    {
     "data": {
      "image/png": "[encoded data removed]",
      "text/plain": [
       "<Figure size 432x288 with 1 Axes>"
      ]
     },
     "metadata": {
      "needs_background": "light"
     },
     "output_type": "display_data"
    },
    {
     "data": {
      "image/png": "[encoded data removed]",
      "text/plain": [
       "<Figure size 432x288 with 1 Axes>"
      ]
     },
     "metadata": {
      "needs_background": "light"
     },
     "output_type": "display_data"
    }
   ],
   "source": [
    "# Исследуем день публикации объявления  \n",
    "plt.hist(data['first_day_exposition'].dt.dayofweek, bins=15)\n",
    "plt.title('День публикации объявления')\n",
    "plt.xlabel('День')\n",
    "plt.ylabel('Количество квартир')\n",
    "plt.show()\n",
    "\n",
    "\n",
    "# Исследуем месяц публикации объявления \n",
    "\n",
    "plt.hist(data['first_day_exposition'].dt.month, bins=15)\n",
    "plt.title('Месяц публикации объявления')\n",
    "plt.xlabel('Месяц')\n",
    "plt.ylabel('Количество квартир')\n",
    "plt.show()"
   ]
  },
  {
   "cell_type": "code",
   "execution_count": 76,
   "id": "a37aa5fc",
   "metadata": {},
   "outputs": [
    {
     "name": "stdout",
     "output_type": "stream",
     "text": [
      "<class 'pandas.core.frame.DataFrame'>\n",
      "Int64Index: 23565 entries, 0 to 23698\n",
      "Data columns (total 28 columns):\n",
      " #   Column                   Non-Null Count  Dtype         \n",
      "---  ------                   --------------  -----         \n",
      " 0   total_images             23565 non-null  int64         \n",
      " 1   last_price               23565 non-null  int64         \n",
      " 2   total_area               23565 non-null  float64       \n",
      " 3   first_day_exposition     23565 non-null  datetime64[ns]\n",
      " 4   rooms                    23565 non-null  int64         \n",
      " 5   ceiling_height           3 non-null      object        \n",
      " 6   floors_total             23565 non-null  int64         \n",
      " 7   living_area              23565 non-null  float64       \n",
      " 8   floor                    23565 non-null  int64         \n",
      " 9   is_apartment             23565 non-null  bool          \n",
      " 10  studio                   23565 non-null  bool          \n",
      " 11  open_plan                23565 non-null  bool          \n",
      " 12  kitchen_area             23565 non-null  float64       \n",
      " 13  balcony                  23565 non-null  int64         \n",
      " 14  locality_name            23565 non-null  object        \n",
      " 15  airports_nearest         23565 non-null  int64         \n",
      " 16  city_centers_nearest     23565 non-null  int64         \n",
      " 17  parks_around_3000        23565 non-null  int64         \n",
      " 18  parks_nearest            23565 non-null  float64       \n",
      " 19  ponds_around_3000        23565 non-null  int64         \n",
      " 20  ponds_nearest            23565 non-null  float64       \n",
      " 21  days_exposition          23565 non-null  int64         \n",
      " 22  price_sq_meter           23565 non-null  float64       \n",
      " 23  weekday_exposition       23565 non-null  int64         \n",
      " 24  monht_exposition         23565 non-null  int64         \n",
      " 25  year_exposition          23565 non-null  int64         \n",
      " 26  floor_type               23565 non-null  object        \n",
      " 27  city_centers_nearest_km  23565 non-null  Int64         \n",
      "dtypes: Int64(1), bool(3), datetime64[ns](1), float64(6), int64(14), object(3)\n",
      "memory usage: 4.8+ MB\n"
     ]
    }
   ],
   "source": [
    "data.info()"
   ]
  },
  {
   "cell_type": "markdown",
   "id": "22899597",
   "metadata": {},
   "source": [
    "### Вывод\n",
    "Площадь\n",
    "\n",
    "Большинство квартир - менее 100 квадратных метров. В подборке есть несколько вариантов с площадью более 200 квадратных метров.\n",
    "\n",
    "Стоимость\n",
    "\n",
    "В основном стоимость квартир - порядка 5 миллионов. Больше 20 миллионов вариантов мало.\n",
    "\n",
    "Комнаты\n",
    "\n",
    "В основном квартиры состоят из 1, 2 и 3 комнат. Есть небольшая доля 4-комнатных квартир. Варианты, где больше 7 комнат выглядят странно и подозрительно. Даже при объединении нескольких квартир в одну это подозрительно. Возможно, это отдельный дом.\n",
    "\n",
    "Высота потолков\n",
    "\n",
    "Большинство вариантов имеют высоту потолков от 2,5 до 3 метров. Больше 4 метров высота потолков выглядит подозрительно. Есть значения в 27 метров (высота 9-этажного дома) - это может быть ошибкой данных и реальная высота 2,7 метра.\n",
    "\n",
    "Площадь кухни\n",
    "\n",
    "Самые распространённые кухни - от 5 до 15 метров. Больше 20 метров кухни практически не встречаются. Больше 30 - единичные случаи.\n",
    "\n",
    "Жилая площадь\n",
    "\n",
    "Самые распространённые варианты с жилой площадью от 10 до 50 метров. После 80 метров встречаются единичные случаи. Два пика графика вызваны, вероятно, тем, что это жилые площади для 1-комнатной, затем для 2-комнатной и после этого для 3-комнатной квартиры.\n",
    "\n",
    "Стоимость квадратного метра\n",
    "\n",
    "Имеет нормальное распределение с пиком в районе 100,000. Варианты дороже 250,000 являются единичными.\n",
    "\n",
    "Тип этажа \n",
    "\n",
    "Чаще всего продаются картиры между первым и последним этажами\n",
    "\n",
    "День и месяц публикации\n",
    "\n",
    "Чаще всего объявления выкладывают в понедельник и среду, а февраль и март - самые популярные месяцы продажи квартиры\n",
    "\n",
    "Расстояние до парка\n",
    "\n",
    "Самые частые объявления о квартирах которые находятся в пределах 500 от парка\n",
    "\n",
    "Раастояние до аэропорта\n",
    "\n",
    "Самые частые объявления о квартирах которые находятся в пределах 20 км от аэропорта\n",
    "\n",
    "Расстояние до центра города \n",
    "\n",
    "Больше всего квартир в пределах 10 км от центра города\n",
    "\n",
    "### Итог\n",
    "\n",
    "Средняя квартира - в 10 км от центра города (только для СПб) и 20 км от аэропорта. Рядом есть парк, до окторого идти не больше 500 метров. \n",
    "Квартира находится между первым и последним этажом 5-этажного дома, обшей площадью 50-55 кв.метров, двушка."
   ]
  },
  {
   "cell_type": "markdown",
   "id": "0d4e767a",
   "metadata": {},
   "source": [
    "# 4.2 Исследование скорости продажи квартиры"
   ]
  },
  {
   "cell_type": "code",
   "execution_count": 77,
   "id": "c0769b26",
   "metadata": {},
   "outputs": [
    {
     "data": {
      "text/plain": [
       "count    23565.000000\n",
       "mean       173.498578\n",
       "std        209.477640\n",
       "min          1.000000\n",
       "25%         45.000000\n",
       "50%         97.000000\n",
       "75%        211.000000\n",
       "max       1580.000000\n",
       "Name: days_exposition, dtype: float64"
      ]
     },
     "execution_count": 77,
     "metadata": {},
     "output_type": "execute_result"
    }
   ],
   "source": [
    "data['days_exposition'].describe()"
   ]
  },
  {
   "cell_type": "code",
   "execution_count": 78,
   "id": "37a04a82",
   "metadata": {},
   "outputs": [
    {
     "data": {
      "image/png": "[encoded data removed]",
      "text/plain": [
       "<Figure size 432x288 with 1 Axes>"
      ]
     },
     "metadata": {
      "needs_background": "light"
     },
     "output_type": "display_data"
    },
    {
     "data": {
      "image/png": "[encoded data removed]",
      "text/plain": [
       "<Figure size 432x288 with 1 Axes>"
      ]
     },
     "metadata": {
      "needs_background": "light"
     },
     "output_type": "display_data"
    }
   ],
   "source": [
    "#гистограмма времени продажи:\n",
    "data['days_exposition'].hist(bins=30).set(title='Время продажи квартиры (весь период)', \n",
    "    xlabel='дней продажи', ylabel='количество объектов');\n",
    "plt.show()\n",
    "\n",
    "#гистограмма по срезу времени продажи до 500 дней:\n",
    "data['days_exposition'].hist(bins=30, range=(0, 500)).set(\n",
    "    title='Время продажи квартиры (до 500 дней)', \n",
    "    xlabel='дней продажи', ylabel='количество объектов');"
   ]
  },
  {
   "cell_type": "code",
   "execution_count": 79,
   "id": "a89fd8db",
   "metadata": {},
   "outputs": [
    {
     "data": {
      "image/png": "[encoded data removed]",
      "text/plain": [
       "<Figure size 432x288 with 1 Axes>"
      ]
     },
     "metadata": {
      "needs_background": "light"
     },
     "output_type": "display_data"
    }
   ],
   "source": [
    "#Общее время продажи-до 1618 дней. При этом можно увидеть, что большинство квартир продается в первые 60-90 дней с момента публикации. Рассмотрим эту часть гистограммы подробнее:\n",
    "data['days_exposition'].hist(bins=30, range=(0, 60)).set(\n",
    "    title='Время продажи квартиры (до 60 дней)', \n",
    "    xlabel='кол-во дней продажи', ylabel='количество объектов');\n"
   ]
  },
  {
   "cell_type": "code",
   "execution_count": 80,
   "id": "0b75a5cf",
   "metadata": {},
   "outputs": [
    {
     "name": "stdout",
     "output_type": "stream",
     "text": [
      "Выбросы по нижней границе: 45.0 Выбросы по верхней границе: 211.0\n"
     ]
    }
   ],
   "source": [
    "# 2 пика - на 45 и 60 дни\n",
    "# определим выбросы как значения ниже 25 процентиля и выше 75 процентиля:\n",
    "minimal = round(data['days_exposition'].quantile(0.25),2) \n",
    "maximum = round(data['days_exposition'].quantile(0.75),2)\n",
    "\n",
    "print('Выбросы по нижней границе:', minimal, \n",
    "      'Выбросы по верхней границе:', maximum)"
   ]
  },
  {
   "cell_type": "markdown",
   "id": "7b6d461c",
   "metadata": {},
   "source": [
    "### Вывод\n",
    "\n",
    "Общее время продажи жилой недвижимости-до 1580 дней. Медианное время продажи - 95 дней, а среднее - 174 дня. При этом видно, что большинство квартир продается в первые 60 дней с момента публикации. Исходя из расчета выбросов можно сказать, что продажи прошли очень быстро, если сделки были оформлены в период до 45 дней и слишком долго, если до оформления сделки свыше 211 дней."
   ]
  },
  {
   "cell_type": "markdown",
   "id": "12d424e4",
   "metadata": {},
   "source": [
    "## 4.3 Факторы, влияющие на полную стоимость объекта"
   ]
  },
  {
   "cell_type": "code",
   "execution_count": 81,
   "id": "5ffa71d3",
   "metadata": {
    "scrolled": false
   },
   "outputs": [
    {
     "data": {
      "image/png": "[encoded data removed]",
      "text/plain": [
       "<Figure size 360x360 with 1 Axes>"
      ]
     },
     "metadata": {
      "needs_background": "light"
     },
     "output_type": "display_data"
    },
    {
     "name": "stdout",
     "output_type": "stream",
     "text": [
      "Корреляция цены и общей площади: \n",
      "\n",
      "            last_price  total_area\n",
      "last_price    1.000000    0.739123\n",
      "total_area    0.739123    1.000000 \n",
      "\n"
     ]
    },
    {
     "data": {
      "image/png": "[encoded data removed]",
      "text/plain": [
       "<Figure size 360x360 with 1 Axes>"
      ]
     },
     "metadata": {
      "needs_background": "light"
     },
     "output_type": "display_data"
    },
    {
     "name": "stdout",
     "output_type": "stream",
     "text": [
      "Корреляция цены и жилой площади: \n",
      "\n",
      "             last_price  living_area\n",
      "last_price     1.000000     0.317345\n",
      "living_area    0.317345     1.000000 \n",
      "\n"
     ]
    },
    {
     "data": {
      "image/png": "[encoded data removed]",
      "text/plain": [
       "<Figure size 360x360 with 1 Axes>"
      ]
     },
     "metadata": {
      "needs_background": "light"
     },
     "output_type": "display_data"
    },
    {
     "name": "stdout",
     "output_type": "stream",
     "text": [
      "Корреляция цены и площади кухни: \n",
      "\n",
      "              kitchen_area  last_price\n",
      "kitchen_area      1.000000    0.317345\n",
      "last_price        0.317345    1.000000 \n",
      "\n"
     ]
    },
    {
     "data": {
      "image/png": "[encoded data removed]",
      "text/plain": [
       "<Figure size 360x360 with 1 Axes>"
      ]
     },
     "metadata": {
      "needs_background": "light"
     },
     "output_type": "display_data"
    },
    {
     "name": "stdout",
     "output_type": "stream",
     "text": [
      "Корреляция цены и числа комнат: \n",
      "\n",
      "            last_price     rooms\n",
      "last_price    1.000000  0.435721\n",
      "rooms         0.435721  1.000000 \n",
      "\n"
     ]
    },
    {
     "data": {
      "image/png": "[encoded data removed]",
      "text/plain": [
       "<Figure size 360x360 with 1 Axes>"
      ]
     },
     "metadata": {
      "needs_background": "light"
     },
     "output_type": "display_data"
    },
    {
     "data": {
      "image/png": "[encoded data removed]",
      "text/plain": [
       "<Figure size 360x360 with 1 Axes>"
      ]
     },
     "metadata": {
      "needs_background": "light"
     },
     "output_type": "display_data"
    },
    {
     "data": {
      "image/png": "[encoded data removed]",
      "text/plain": [
       "<Figure size 720x360 with 1 Axes>"
      ]
     },
     "metadata": {
      "needs_background": "light"
     },
     "output_type": "display_data"
    },
    {
     "data": {
      "image/png": "[encoded data removed]",
      "text/plain": [
       "<Figure size 360x360 with 1 Axes>"
      ]
     },
     "metadata": {
      "needs_background": "light"
     },
     "output_type": "display_data"
    }
   ],
   "source": [
    "# Зависимость цены от общей площади\n",
    "(\n",
    "    data.pivot_table(index='total_area', values='last_price')\n",
    "    .plot(grid=True, style='o', figsize=(5, 5))\n",
    ")\n",
    "plt.show()\n",
    "print('Корреляция цены и общей площади:','\\n')\n",
    "print(data.pivot_table(index='floor', values=['total_area', 'last_price']).corr(),'\\n')\n",
    "\n",
    "# Зависимость цены от жилой площади\n",
    "(\n",
    "    data.pivot_table(index='living_area', values='last_price')\n",
    "    .plot(grid=True, style='o', figsize=(5, 5))\n",
    ")\n",
    "plt.show()\n",
    "print('Корреляция цены и жилой площади:','\\n')\n",
    "print(data.pivot_table(index='floor', values=['living_area', 'last_price']).corr(),'\\n')\n",
    "\n",
    "# Зависимость цены от площади кухни\n",
    "(\n",
    "    data.pivot_table(index='kitchen_area', values='last_price')\n",
    "    .plot(grid=True, style='o', figsize=(5, 5))\n",
    ")\n",
    "plt.show()\n",
    "print('Корреляция цены и площади кухни:','\\n')\n",
    "print(data.pivot_table(index='floor', values=['kitchen_area', 'last_price']).corr(),'\\n')\n",
    "\n",
    "\n",
    "# Зависимость цены от числа комнат\n",
    "(\n",
    "    data.query('rooms > 0').pivot_table(index='rooms', values='last_price')\n",
    "    .plot(grid=True, style='o-', figsize=(5, 5))\n",
    ")\n",
    "plt.show()\n",
    "print('Корреляция цены и числа комнат:','\\n')\n",
    "print(data.query('rooms > 0').pivot_table(index='floor', values=['rooms', 'last_price']).corr(),'\\n')\n",
    "\n",
    "\n",
    "# Зависимость цены от типа этажа\n",
    "(\n",
    "    data.pivot_table(index='floor_type', values='last_price', aggfunc='median')\n",
    "    .plot(grid=True, style='o-', figsize=(5, 5))\n",
    ")\n",
    "plt.show()\n",
    "\n",
    "\n",
    "\n",
    "# Зависимость от дня размещения\n",
    "(\n",
    "    data.pivot_table(index='weekday_exposition', values='last_price')\n",
    "    .plot(grid=True, style='o-', figsize=(5, 5))\n",
    ")\n",
    "plt.show()\n",
    "# Зависимость от месяца размещения\n",
    "(\n",
    "    data.pivot_table(index='monht_exposition', values='last_price')\n",
    "    .plot(grid=True, style='o-', xlim=(1,12), figsize=(10, 5))\n",
    ")\n",
    "plt.show()\n",
    "\n",
    "# Зависимость от года размещения\n",
    "(\n",
    "    data.pivot_table(index='year_exposition', values='last_price')\n",
    "    .plot(grid=True, style='o-', figsize=(5, 5))\n",
    ")\n",
    "plt.show()\n"
   ]
  },
  {
   "cell_type": "markdown",
   "id": "544708ab",
   "metadata": {},
   "source": [
    "### Вывод\n",
    "Чем больше площадь, тем выше стоимость. Корреляция этих параметров крайне высокая. Число комнат влияет на цену (больше комнат - больше цена), однако зависимость ниже, чем у площади. Можно сделать два вывода: бывают квартиры с большими по площади комнатами; квартиры в центре состоят из малого числа комнат, но стоят достаточно высоко.\n",
    "\n",
    "Самые дешевые квартиры находятся на первом этаже, а сымые дорогие - между первым и последним.\n",
    "\n",
    "Зависимость от дня, месяца и года\n",
    "День недели: дороже всего квартиры, опубликованные в среду, дешевле всего - в субботу.\n",
    "Месяц: дороже всего квартиры, продающиеся с апреля, дешевле всего - с июня.\n",
    "Год: квартиры очень сильно подешевели в 2016-2018 годах, В 2019 году цены снова стали повышаться."
   ]
  },
  {
   "cell_type": "code",
   "execution_count": 82,
   "id": "d1f507e4",
   "metadata": {
    "scrolled": true
   },
   "outputs": [
    {
     "data": {
      "image/png": "[encoded data removed]",
      "text/plain": [
       "<Figure size 864x1080 with 2 Axes>"
      ]
     },
     "metadata": {
      "needs_background": "light"
     },
     "output_type": "display_data"
    }
   ],
   "source": [
    "df1 = pd.DataFrame(data=data, columns=['year_exposition', 'last_price', 'total_area'])\n",
    "df1.reset_index(drop=True , inplace=True)\n",
    "df1.pivot_table(index='year_exposition', values=['last_price','total_area'] ,aggfunc='median').plot(subplots=True, figsize=(12, 15))\n",
    "plt.show();"
   ]
  },
  {
   "cell_type": "markdown",
   "id": "96898c58",
   "metadata": {},
   "source": [
    "## 4.4 Средняя цена одного квадратного метра в топ-10 городов по количеству объявлений"
   ]
  },
  {
   "cell_type": "code",
   "execution_count": 83,
   "id": "43894f89",
   "metadata": {},
   "outputs": [
    {
     "data": {
      "text/html": [
       "<div>\n",
       "<style scoped>\n",
       "    .dataframe tbody tr th:only-of-type {\n",
       "        vertical-align: middle;\n",
       "    }\n",
       "\n",
       "    .dataframe tbody tr th {\n",
       "        vertical-align: top;\n",
       "    }\n",
       "\n",
       "    .dataframe thead tr th {\n",
       "        text-align: left;\n",
       "    }\n",
       "\n",
       "    .dataframe thead tr:last-of-type th {\n",
       "        text-align: right;\n",
       "    }\n",
       "</style>\n",
       "<table border=\"1\" class=\"dataframe\">\n",
       "  <thead>\n",
       "    <tr>\n",
       "      <th></th>\n",
       "      <th>count</th>\n",
       "      <th>mean</th>\n",
       "    </tr>\n",
       "    <tr>\n",
       "      <th></th>\n",
       "      <th>last_price</th>\n",
       "      <th>last_price</th>\n",
       "    </tr>\n",
       "    <tr>\n",
       "      <th>locality_name</th>\n",
       "      <th></th>\n",
       "      <th></th>\n",
       "    </tr>\n",
       "  </thead>\n",
       "  <tbody>\n",
       "    <tr>\n",
       "      <th>Санкт-Петербург</th>\n",
       "      <td>15651</td>\n",
       "      <td>8.064895e+06</td>\n",
       "    </tr>\n",
       "    <tr>\n",
       "      <th>Мурино</th>\n",
       "      <td>586</td>\n",
       "      <td>3.680841e+06</td>\n",
       "    </tr>\n",
       "    <tr>\n",
       "      <th>Кудрово</th>\n",
       "      <td>470</td>\n",
       "      <td>4.354895e+06</td>\n",
       "    </tr>\n",
       "    <tr>\n",
       "      <th>Шушары</th>\n",
       "      <td>439</td>\n",
       "      <td>4.109809e+06</td>\n",
       "    </tr>\n",
       "    <tr>\n",
       "      <th>Всеволожск</th>\n",
       "      <td>398</td>\n",
       "      <td>3.789068e+06</td>\n",
       "    </tr>\n",
       "    <tr>\n",
       "      <th>Пушкин</th>\n",
       "      <td>369</td>\n",
       "      <td>6.469036e+06</td>\n",
       "    </tr>\n",
       "    <tr>\n",
       "      <th>Колпино</th>\n",
       "      <td>338</td>\n",
       "      <td>3.964021e+06</td>\n",
       "    </tr>\n",
       "    <tr>\n",
       "      <th>Парголово</th>\n",
       "      <td>327</td>\n",
       "      <td>4.488075e+06</td>\n",
       "    </tr>\n",
       "    <tr>\n",
       "      <th>Гатчина</th>\n",
       "      <td>307</td>\n",
       "      <td>3.488337e+06</td>\n",
       "    </tr>\n",
       "    <tr>\n",
       "      <th>Выборг</th>\n",
       "      <td>237</td>\n",
       "      <td>3.250983e+06</td>\n",
       "    </tr>\n",
       "  </tbody>\n",
       "</table>\n",
       "</div>"
      ],
      "text/plain": [
       "                     count          mean\n",
       "                last_price    last_price\n",
       "locality_name                           \n",
       "Санкт-Петербург      15651  8.064895e+06\n",
       "Мурино                 586  3.680841e+06\n",
       "Кудрово                470  4.354895e+06\n",
       "Шушары                 439  4.109809e+06\n",
       "Всеволожск             398  3.789068e+06\n",
       "Пушкин                 369  6.469036e+06\n",
       "Колпино                338  3.964021e+06\n",
       "Парголово              327  4.488075e+06\n",
       "Гатчина                307  3.488337e+06\n",
       "Выборг                 237  3.250983e+06"
      ]
     },
     "execution_count": 83,
     "metadata": {},
     "output_type": "execute_result"
    }
   ],
   "source": [
    "data['last_price'] = data['last_price']\n",
    "top_10_sale_pivot = data.pivot_table(index='locality_name', values=['last_price'], aggfunc=['count', 'mean'])\n",
    "top_10_sale_pivot_sorted = top_10_sale_pivot.reindex(top_10_sale_pivot['count'].sort_values(by='last_price', ascending=False).index)\n",
    "top_10_sale_pivot_sorted.head(10)"
   ]
  },
  {
   "cell_type": "code",
   "execution_count": 84,
   "id": "0d3c06d3",
   "metadata": {},
   "outputs": [
    {
     "data": {
      "image/png": "[encoded data removed]",
      "text/plain": [
       "<Figure size 432x288 with 1 Axes>"
      ]
     },
     "metadata": {
      "needs_background": "light"
     },
     "output_type": "display_data"
    }
   ],
   "source": [
    "top_10 = data.pivot_table(index='locality_name', values=['last_price','total_area'], aggfunc=['sum','count'])\n",
    "top_10.columns=['last_price_sum','total_area_sum','last_price_count','total_area_count']\n",
    "top_10.pop('total_area_count')\n",
    "top_10.sort_values(by=['last_price_count'],ascending=False, inplace=True)\n",
    "top_10 = top_10.iloc[:10]\n",
    "top_10['price_sq_meter'] = top_10['last_price_sum']/top_10['total_area_sum']\n",
    "top_10.sort_values(by=['price_sq_meter'],ascending=True, inplace=True)\n",
    "top_10['price_sq_meter'].plot(kind='barh')\n",
    "plt.show();"
   ]
  },
  {
   "cell_type": "markdown",
   "id": "8bd8aefa",
   "metadata": {},
   "source": [
    "## 4.5 Средняя цена километра от центра города в Спб"
   ]
  },
  {
   "cell_type": "code",
   "execution_count": 85,
   "id": "b0c6581e",
   "metadata": {},
   "outputs": [
    {
     "data": {
      "text/html": [
       "<div>\n",
       "<style scoped>\n",
       "    .dataframe tbody tr th:only-of-type {\n",
       "        vertical-align: middle;\n",
       "    }\n",
       "\n",
       "    .dataframe tbody tr th {\n",
       "        vertical-align: top;\n",
       "    }\n",
       "\n",
       "    .dataframe thead th {\n",
       "        text-align: right;\n",
       "    }\n",
       "</style>\n",
       "<table border=\"1\" class=\"dataframe\">\n",
       "  <thead>\n",
       "    <tr style=\"text-align: right;\">\n",
       "      <th></th>\n",
       "      <th>last_price</th>\n",
       "    </tr>\n",
       "    <tr>\n",
       "      <th>city_centers_nearest_km</th>\n",
       "      <th></th>\n",
       "    </tr>\n",
       "  </thead>\n",
       "  <tbody>\n",
       "    <tr>\n",
       "      <th>0</th>\n",
       "      <td>3.144912e+07</td>\n",
       "    </tr>\n",
       "    <tr>\n",
       "      <th>1</th>\n",
       "      <td>2.120672e+07</td>\n",
       "    </tr>\n",
       "    <tr>\n",
       "      <th>2</th>\n",
       "      <td>1.778832e+07</td>\n",
       "    </tr>\n",
       "    <tr>\n",
       "      <th>3</th>\n",
       "      <td>1.113739e+07</td>\n",
       "    </tr>\n",
       "    <tr>\n",
       "      <th>4</th>\n",
       "      <td>1.330428e+07</td>\n",
       "    </tr>\n",
       "    <tr>\n",
       "      <th>5</th>\n",
       "      <td>1.445600e+07</td>\n",
       "    </tr>\n",
       "    <tr>\n",
       "      <th>6</th>\n",
       "      <td>1.533842e+07</td>\n",
       "    </tr>\n",
       "    <tr>\n",
       "      <th>7</th>\n",
       "      <td>1.477515e+07</td>\n",
       "    </tr>\n",
       "    <tr>\n",
       "      <th>8</th>\n",
       "      <td>9.949111e+06</td>\n",
       "    </tr>\n",
       "    <tr>\n",
       "      <th>9</th>\n",
       "      <td>6.956583e+06</td>\n",
       "    </tr>\n",
       "    <tr>\n",
       "      <th>10</th>\n",
       "      <td>6.500434e+06</td>\n",
       "    </tr>\n",
       "    <tr>\n",
       "      <th>11</th>\n",
       "      <td>6.228108e+06</td>\n",
       "    </tr>\n",
       "    <tr>\n",
       "      <th>12</th>\n",
       "      <td>6.197926e+06</td>\n",
       "    </tr>\n",
       "    <tr>\n",
       "      <th>13</th>\n",
       "      <td>6.077643e+06</td>\n",
       "    </tr>\n",
       "    <tr>\n",
       "      <th>14</th>\n",
       "      <td>5.625173e+06</td>\n",
       "    </tr>\n",
       "    <tr>\n",
       "      <th>15</th>\n",
       "      <td>5.876323e+06</td>\n",
       "    </tr>\n",
       "    <tr>\n",
       "      <th>16</th>\n",
       "      <td>5.373131e+06</td>\n",
       "    </tr>\n",
       "    <tr>\n",
       "      <th>17</th>\n",
       "      <td>5.299496e+06</td>\n",
       "    </tr>\n",
       "    <tr>\n",
       "      <th>18</th>\n",
       "      <td>5.091331e+06</td>\n",
       "    </tr>\n",
       "    <tr>\n",
       "      <th>19</th>\n",
       "      <td>5.051410e+06</td>\n",
       "    </tr>\n",
       "    <tr>\n",
       "      <th>20</th>\n",
       "      <td>5.951465e+06</td>\n",
       "    </tr>\n",
       "    <tr>\n",
       "      <th>21</th>\n",
       "      <td>5.493469e+06</td>\n",
       "    </tr>\n",
       "    <tr>\n",
       "      <th>22</th>\n",
       "      <td>5.415524e+06</td>\n",
       "    </tr>\n",
       "    <tr>\n",
       "      <th>23</th>\n",
       "      <td>4.985376e+06</td>\n",
       "    </tr>\n",
       "    <tr>\n",
       "      <th>24</th>\n",
       "      <td>3.854430e+06</td>\n",
       "    </tr>\n",
       "    <tr>\n",
       "      <th>25</th>\n",
       "      <td>4.052840e+06</td>\n",
       "    </tr>\n",
       "    <tr>\n",
       "      <th>26</th>\n",
       "      <td>4.014287e+06</td>\n",
       "    </tr>\n",
       "    <tr>\n",
       "      <th>27</th>\n",
       "      <td>8.300000e+06</td>\n",
       "    </tr>\n",
       "    <tr>\n",
       "      <th>28</th>\n",
       "      <td>5.026429e+06</td>\n",
       "    </tr>\n",
       "    <tr>\n",
       "      <th>29</th>\n",
       "      <td>4.236667e+06</td>\n",
       "    </tr>\n",
       "  </tbody>\n",
       "</table>\n",
       "</div>"
      ],
      "text/plain": [
       "                           last_price\n",
       "city_centers_nearest_km              \n",
       "0                        3.144912e+07\n",
       "1                        2.120672e+07\n",
       "2                        1.778832e+07\n",
       "3                        1.113739e+07\n",
       "4                        1.330428e+07\n",
       "5                        1.445600e+07\n",
       "6                        1.533842e+07\n",
       "7                        1.477515e+07\n",
       "8                        9.949111e+06\n",
       "9                        6.956583e+06\n",
       "10                       6.500434e+06\n",
       "11                       6.228108e+06\n",
       "12                       6.197926e+06\n",
       "13                       6.077643e+06\n",
       "14                       5.625173e+06\n",
       "15                       5.876323e+06\n",
       "16                       5.373131e+06\n",
       "17                       5.299496e+06\n",
       "18                       5.091331e+06\n",
       "19                       5.051410e+06\n",
       "20                       5.951465e+06\n",
       "21                       5.493469e+06\n",
       "22                       5.415524e+06\n",
       "23                       4.985376e+06\n",
       "24                       3.854430e+06\n",
       "25                       4.052840e+06\n",
       "26                       4.014287e+06\n",
       "27                       8.300000e+06\n",
       "28                       5.026429e+06\n",
       "29                       4.236667e+06"
      ]
     },
     "execution_count": 85,
     "metadata": {},
     "output_type": "execute_result"
    }
   ],
   "source": [
    "distance_pivot =(\n",
    "    data[data['locality_name']=='Санкт-Петербург']\n",
    "    .pivot_table(\n",
    "        index='city_centers_nearest_km',\n",
    "        values='last_price',\n",
    "        aggfunc='mean')\n",
    ")\n",
    "\n",
    "distance_pivot"
   ]
  },
  {
   "cell_type": "code",
   "execution_count": 87,
   "id": "0c32f6df",
   "metadata": {},
   "outputs": [
    {
     "data": {
      "image/png": "[encoded data removed]",
      "text/plain": [
       "<Figure size 432x288 with 1 Axes>"
      ]
     },
     "metadata": {
      "needs_background": "light"
     },
     "output_type": "display_data"
    }
   ],
   "source": [
    "distance_pivot.plot.bar(title = 'Заголовок')\n",
    "plt.show();"
   ]
  },
  {
   "cell_type": "markdown",
   "id": "be882c32",
   "metadata": {},
   "source": [
    "# Общий вывод\n",
    "\n",
    "Проведенное исследование показало, что большинство квартир - менее 100 квадратных метров. В подборке есть несколько вариантов с площадью более 200 квадратных метров со стоимостью порядка 5 миллионов. \n",
    "\n",
    "В основном квартиры состоят из 1, 2 и 3 комнат с высотой потолков от 2,5 до 3 метров и кухней от 5 до 15 метров. Больше 20 метров кухни практически не встречаются. Больше 30 - единичные случаи.\n",
    "Самые распространённые варианты с жилой площадью около 50 метров. \n",
    "Чаще всего продаются картиры между первым и последним этажами\n",
    "Самые частые объявления о квартирах которые находятся в пределах 500 от парка и порядка 20 км от аэропорта и 10 км от центра города\n",
    "\n",
    "Портрет средней квартиры:\n",
    "* цена 3,4 млн руб. до 6,8 млн руб;\n",
    "* общей площадью от 40 до 70 квадратных метров;\n",
    "* высота потолоков средняя - 2,65;\n",
    "* от 1 до 3 комнат.\n",
    "\n",
    "Чаще всего объявления выкладывают в понедельник и среду, а февраль и март - самые популярные месяцы продажи квартиры\n"
   ]
  },
  {
   "cell_type": "code",
   "execution_count": null,
   "id": "f8283983",
   "metadata": {},
   "outputs": [],
   "source": []
  }
 ],
 "metadata": {
  "ExecuteTimeLog": [
   {
    "duration": 1146,
    "start_time": "2022-12-07T21:44:30.529Z"
   },
   {
    "duration": 44,
    "start_time": "2022-12-07T21:44:31.677Z"
   },
   {
    "duration": 0,
    "start_time": "2022-12-07T21:44:31.725Z"
   },
   {
    "duration": 0,
    "start_time": "2022-12-07T21:44:31.725Z"
   },
   {
    "duration": 0,
    "start_time": "2022-12-07T21:44:31.727Z"
   },
   {
    "duration": 0,
    "start_time": "2022-12-07T21:44:31.728Z"
   },
   {
    "duration": 0,
    "start_time": "2022-12-07T21:44:31.730Z"
   },
   {
    "duration": 0,
    "start_time": "2022-12-07T21:44:31.731Z"
   },
   {
    "duration": 0,
    "start_time": "2022-12-07T21:44:31.732Z"
   },
   {
    "duration": 0,
    "start_time": "2022-12-07T21:44:31.733Z"
   },
   {
    "duration": 0,
    "start_time": "2022-12-07T21:44:31.734Z"
   },
   {
    "duration": 0,
    "start_time": "2022-12-07T21:44:31.735Z"
   },
   {
    "duration": 0,
    "start_time": "2022-12-07T21:44:31.736Z"
   },
   {
    "duration": 0,
    "start_time": "2022-12-07T21:44:31.737Z"
   },
   {
    "duration": 0,
    "start_time": "2022-12-07T21:44:31.738Z"
   },
   {
    "duration": 0,
    "start_time": "2022-12-07T21:44:31.739Z"
   },
   {
    "duration": 0,
    "start_time": "2022-12-07T21:44:31.740Z"
   },
   {
    "duration": 0,
    "start_time": "2022-12-07T21:44:31.741Z"
   },
   {
    "duration": 0,
    "start_time": "2022-12-07T21:44:31.742Z"
   },
   {
    "duration": 0,
    "start_time": "2022-12-07T21:44:31.743Z"
   },
   {
    "duration": 0,
    "start_time": "2022-12-07T21:44:31.744Z"
   },
   {
    "duration": 0,
    "start_time": "2022-12-07T21:44:31.746Z"
   },
   {
    "duration": 0,
    "start_time": "2022-12-07T21:44:31.747Z"
   },
   {
    "duration": 0,
    "start_time": "2022-12-07T21:44:31.748Z"
   },
   {
    "duration": 0,
    "start_time": "2022-12-07T21:44:31.749Z"
   },
   {
    "duration": 0,
    "start_time": "2022-12-07T21:44:31.749Z"
   },
   {
    "duration": 0,
    "start_time": "2022-12-07T21:44:31.751Z"
   },
   {
    "duration": 0,
    "start_time": "2022-12-07T21:44:31.752Z"
   },
   {
    "duration": 0,
    "start_time": "2022-12-07T21:44:31.752Z"
   },
   {
    "duration": 0,
    "start_time": "2022-12-07T21:44:31.753Z"
   },
   {
    "duration": 0,
    "start_time": "2022-12-07T21:44:31.755Z"
   },
   {
    "duration": 0,
    "start_time": "2022-12-07T21:44:31.755Z"
   },
   {
    "duration": 0,
    "start_time": "2022-12-07T21:44:31.756Z"
   },
   {
    "duration": 0,
    "start_time": "2022-12-07T21:44:31.757Z"
   },
   {
    "duration": 0,
    "start_time": "2022-12-07T21:44:31.758Z"
   },
   {
    "duration": 0,
    "start_time": "2022-12-07T21:44:31.759Z"
   },
   {
    "duration": 0,
    "start_time": "2022-12-07T21:44:31.760Z"
   },
   {
    "duration": 0,
    "start_time": "2022-12-07T21:44:31.761Z"
   },
   {
    "duration": 0,
    "start_time": "2022-12-07T21:44:31.762Z"
   },
   {
    "duration": 0,
    "start_time": "2022-12-07T21:44:31.763Z"
   },
   {
    "duration": 0,
    "start_time": "2022-12-07T21:44:31.764Z"
   },
   {
    "duration": 0,
    "start_time": "2022-12-07T21:44:31.812Z"
   },
   {
    "duration": 0,
    "start_time": "2022-12-07T21:44:31.814Z"
   },
   {
    "duration": 0,
    "start_time": "2022-12-07T21:44:31.814Z"
   },
   {
    "duration": 0,
    "start_time": "2022-12-07T21:44:31.815Z"
   },
   {
    "duration": 0,
    "start_time": "2022-12-07T21:44:31.816Z"
   },
   {
    "duration": 0,
    "start_time": "2022-12-07T21:44:31.817Z"
   },
   {
    "duration": 0,
    "start_time": "2022-12-07T21:44:31.818Z"
   },
   {
    "duration": 0,
    "start_time": "2022-12-07T21:44:31.820Z"
   },
   {
    "duration": 0,
    "start_time": "2022-12-07T21:44:31.821Z"
   },
   {
    "duration": 0,
    "start_time": "2022-12-07T21:44:31.822Z"
   },
   {
    "duration": 0,
    "start_time": "2022-12-07T21:44:31.823Z"
   },
   {
    "duration": 0,
    "start_time": "2022-12-07T21:44:31.824Z"
   },
   {
    "duration": 0,
    "start_time": "2022-12-07T21:44:31.825Z"
   },
   {
    "duration": 0,
    "start_time": "2022-12-07T21:44:31.826Z"
   },
   {
    "duration": 0,
    "start_time": "2022-12-07T21:44:31.827Z"
   },
   {
    "duration": 0,
    "start_time": "2022-12-07T21:44:31.828Z"
   },
   {
    "duration": 0,
    "start_time": "2022-12-07T21:44:31.828Z"
   },
   {
    "duration": 0,
    "start_time": "2022-12-07T21:44:31.829Z"
   },
   {
    "duration": 0,
    "start_time": "2022-12-07T21:44:31.830Z"
   },
   {
    "duration": 0,
    "start_time": "2022-12-07T21:44:31.831Z"
   },
   {
    "duration": 0,
    "start_time": "2022-12-07T21:44:31.832Z"
   },
   {
    "duration": 1,
    "start_time": "2022-12-07T21:44:31.833Z"
   },
   {
    "duration": 0,
    "start_time": "2022-12-07T21:44:31.834Z"
   },
   {
    "duration": 0,
    "start_time": "2022-12-07T21:44:31.835Z"
   },
   {
    "duration": 0,
    "start_time": "2022-12-07T21:44:31.836Z"
   },
   {
    "duration": 0,
    "start_time": "2022-12-07T21:44:31.837Z"
   },
   {
    "duration": 0,
    "start_time": "2022-12-07T21:44:31.838Z"
   },
   {
    "duration": 0,
    "start_time": "2022-12-07T21:44:31.839Z"
   },
   {
    "duration": 0,
    "start_time": "2022-12-07T21:44:31.840Z"
   },
   {
    "duration": 0,
    "start_time": "2022-12-07T21:44:31.841Z"
   },
   {
    "duration": 186,
    "start_time": "2022-12-07T21:44:40.868Z"
   },
   {
    "duration": 12,
    "start_time": "2022-12-07T21:44:42.460Z"
   },
   {
    "duration": 1149,
    "start_time": "2022-12-07T21:45:30.080Z"
   },
   {
    "duration": 100,
    "start_time": "2022-12-07T21:45:31.231Z"
   },
   {
    "duration": 79,
    "start_time": "2022-12-07T21:45:31.333Z"
   },
   {
    "duration": 23,
    "start_time": "2022-12-07T21:45:31.415Z"
   },
   {
    "duration": 2015,
    "start_time": "2022-12-07T21:45:31.440Z"
   },
   {
    "duration": 152,
    "start_time": "2022-12-07T21:45:33.456Z"
   },
   {
    "duration": 5,
    "start_time": "2022-12-07T21:45:33.612Z"
   },
   {
    "duration": 103,
    "start_time": "2022-12-07T21:45:33.618Z"
   },
   {
    "duration": 3,
    "start_time": "2022-12-07T21:45:33.722Z"
   },
   {
    "duration": 8,
    "start_time": "2022-12-07T21:45:33.728Z"
   },
   {
    "duration": 48,
    "start_time": "2022-12-07T21:45:33.738Z"
   },
   {
    "duration": 25,
    "start_time": "2022-12-07T21:45:33.788Z"
   },
   {
    "duration": 135,
    "start_time": "2022-12-07T21:45:33.815Z"
   },
   {
    "duration": 8,
    "start_time": "2022-12-07T21:45:33.952Z"
   },
   {
    "duration": 21,
    "start_time": "2022-12-07T21:45:33.961Z"
   },
   {
    "duration": 10,
    "start_time": "2022-12-07T21:45:33.984Z"
   },
   {
    "duration": 10,
    "start_time": "2022-12-07T21:45:33.995Z"
   },
   {
    "duration": 8,
    "start_time": "2022-12-07T21:45:34.006Z"
   },
   {
    "duration": 13,
    "start_time": "2022-12-07T21:45:34.015Z"
   },
   {
    "duration": 121,
    "start_time": "2022-12-07T21:45:34.030Z"
   },
   {
    "duration": 0,
    "start_time": "2022-12-07T21:45:34.155Z"
   },
   {
    "duration": 0,
    "start_time": "2022-12-07T21:45:34.156Z"
   },
   {
    "duration": 0,
    "start_time": "2022-12-07T21:45:34.157Z"
   },
   {
    "duration": 0,
    "start_time": "2022-12-07T21:45:34.158Z"
   },
   {
    "duration": 0,
    "start_time": "2022-12-07T21:45:34.159Z"
   },
   {
    "duration": 0,
    "start_time": "2022-12-07T21:45:34.160Z"
   },
   {
    "duration": 0,
    "start_time": "2022-12-07T21:45:34.161Z"
   },
   {
    "duration": 0,
    "start_time": "2022-12-07T21:45:34.164Z"
   },
   {
    "duration": 0,
    "start_time": "2022-12-07T21:45:34.164Z"
   },
   {
    "duration": 0,
    "start_time": "2022-12-07T21:45:34.166Z"
   },
   {
    "duration": 0,
    "start_time": "2022-12-07T21:45:34.167Z"
   },
   {
    "duration": 0,
    "start_time": "2022-12-07T21:45:34.168Z"
   },
   {
    "duration": 0,
    "start_time": "2022-12-07T21:45:34.169Z"
   },
   {
    "duration": 0,
    "start_time": "2022-12-07T21:45:34.171Z"
   },
   {
    "duration": 0,
    "start_time": "2022-12-07T21:45:34.172Z"
   },
   {
    "duration": 0,
    "start_time": "2022-12-07T21:45:34.173Z"
   },
   {
    "duration": 0,
    "start_time": "2022-12-07T21:45:34.212Z"
   },
   {
    "duration": 0,
    "start_time": "2022-12-07T21:45:34.213Z"
   },
   {
    "duration": 0,
    "start_time": "2022-12-07T21:45:34.216Z"
   },
   {
    "duration": 0,
    "start_time": "2022-12-07T21:45:34.217Z"
   },
   {
    "duration": 0,
    "start_time": "2022-12-07T21:45:34.218Z"
   },
   {
    "duration": 0,
    "start_time": "2022-12-07T21:45:34.219Z"
   },
   {
    "duration": 0,
    "start_time": "2022-12-07T21:45:34.220Z"
   },
   {
    "duration": 0,
    "start_time": "2022-12-07T21:45:34.222Z"
   },
   {
    "duration": 0,
    "start_time": "2022-12-07T21:45:34.223Z"
   },
   {
    "duration": 0,
    "start_time": "2022-12-07T21:45:34.224Z"
   },
   {
    "duration": 0,
    "start_time": "2022-12-07T21:45:34.225Z"
   },
   {
    "duration": 0,
    "start_time": "2022-12-07T21:45:34.227Z"
   },
   {
    "duration": 0,
    "start_time": "2022-12-07T21:45:34.228Z"
   },
   {
    "duration": 0,
    "start_time": "2022-12-07T21:45:34.230Z"
   },
   {
    "duration": 0,
    "start_time": "2022-12-07T21:45:34.231Z"
   },
   {
    "duration": 0,
    "start_time": "2022-12-07T21:45:34.232Z"
   },
   {
    "duration": 0,
    "start_time": "2022-12-07T21:45:34.233Z"
   },
   {
    "duration": 0,
    "start_time": "2022-12-07T21:45:34.235Z"
   },
   {
    "duration": 0,
    "start_time": "2022-12-07T21:45:34.236Z"
   },
   {
    "duration": 0,
    "start_time": "2022-12-07T21:45:34.237Z"
   },
   {
    "duration": 0,
    "start_time": "2022-12-07T21:45:34.238Z"
   },
   {
    "duration": 0,
    "start_time": "2022-12-07T21:45:34.239Z"
   },
   {
    "duration": 0,
    "start_time": "2022-12-07T21:45:34.240Z"
   },
   {
    "duration": 0,
    "start_time": "2022-12-07T21:45:34.241Z"
   },
   {
    "duration": 0,
    "start_time": "2022-12-07T21:45:34.242Z"
   },
   {
    "duration": 0,
    "start_time": "2022-12-07T21:45:34.244Z"
   },
   {
    "duration": 1,
    "start_time": "2022-12-07T21:45:34.244Z"
   },
   {
    "duration": 0,
    "start_time": "2022-12-07T21:45:34.246Z"
   },
   {
    "duration": 0,
    "start_time": "2022-12-07T21:45:34.247Z"
   },
   {
    "duration": 0,
    "start_time": "2022-12-07T21:45:34.248Z"
   },
   {
    "duration": 0,
    "start_time": "2022-12-07T21:45:34.249Z"
   },
   {
    "duration": 0,
    "start_time": "2022-12-07T21:45:34.250Z"
   },
   {
    "duration": 0,
    "start_time": "2022-12-07T21:45:34.251Z"
   },
   {
    "duration": 0,
    "start_time": "2022-12-07T21:45:34.312Z"
   },
   {
    "duration": 0,
    "start_time": "2022-12-07T21:45:34.313Z"
   },
   {
    "duration": 46,
    "start_time": "2022-12-07T21:46:23.385Z"
   },
   {
    "duration": 1095,
    "start_time": "2022-12-07T21:46:32.369Z"
   },
   {
    "duration": 94,
    "start_time": "2022-12-07T21:46:33.466Z"
   },
   {
    "duration": 68,
    "start_time": "2022-12-07T21:46:33.562Z"
   },
   {
    "duration": 22,
    "start_time": "2022-12-07T21:46:33.632Z"
   },
   {
    "duration": 1979,
    "start_time": "2022-12-07T21:46:33.656Z"
   },
   {
    "duration": 155,
    "start_time": "2022-12-07T21:46:35.637Z"
   },
   {
    "duration": 4,
    "start_time": "2022-12-07T21:46:35.793Z"
   },
   {
    "duration": 102,
    "start_time": "2022-12-07T21:46:35.799Z"
   },
   {
    "duration": 9,
    "start_time": "2022-12-07T21:46:35.903Z"
   },
   {
    "duration": 10,
    "start_time": "2022-12-07T21:46:35.914Z"
   },
   {
    "duration": 58,
    "start_time": "2022-12-07T21:46:35.925Z"
   },
   {
    "duration": 8,
    "start_time": "2022-12-07T21:46:35.984Z"
   },
   {
    "duration": 138,
    "start_time": "2022-12-07T21:46:35.994Z"
   },
   {
    "duration": 8,
    "start_time": "2022-12-07T21:46:36.136Z"
   },
   {
    "duration": 8,
    "start_time": "2022-12-07T21:46:36.145Z"
   },
   {
    "duration": 8,
    "start_time": "2022-12-07T21:46:36.154Z"
   },
   {
    "duration": 4,
    "start_time": "2022-12-07T21:46:36.164Z"
   },
   {
    "duration": 13,
    "start_time": "2022-12-07T21:46:36.170Z"
   },
   {
    "duration": 11,
    "start_time": "2022-12-07T21:46:36.185Z"
   },
   {
    "duration": 52,
    "start_time": "2022-12-07T21:46:36.212Z"
   },
   {
    "duration": 4,
    "start_time": "2022-12-07T21:46:36.266Z"
   },
   {
    "duration": 452,
    "start_time": "2022-12-07T21:46:36.272Z"
   },
   {
    "duration": 7,
    "start_time": "2022-12-07T21:46:36.726Z"
   },
   {
    "duration": 5,
    "start_time": "2022-12-07T21:46:36.735Z"
   },
   {
    "duration": 12,
    "start_time": "2022-12-07T21:46:36.741Z"
   },
   {
    "duration": 2,
    "start_time": "2022-12-07T21:46:36.755Z"
   },
   {
    "duration": 9,
    "start_time": "2022-12-07T21:46:36.758Z"
   },
   {
    "duration": 10,
    "start_time": "2022-12-07T21:46:36.769Z"
   },
   {
    "duration": 33,
    "start_time": "2022-12-07T21:46:36.780Z"
   },
   {
    "duration": 13,
    "start_time": "2022-12-07T21:46:36.814Z"
   },
   {
    "duration": 9,
    "start_time": "2022-12-07T21:46:36.828Z"
   },
   {
    "duration": 452,
    "start_time": "2022-12-07T21:46:36.839Z"
   },
   {
    "duration": 26,
    "start_time": "2022-12-07T21:46:37.293Z"
   },
   {
    "duration": 3,
    "start_time": "2022-12-07T21:46:37.321Z"
   },
   {
    "duration": 39,
    "start_time": "2022-12-07T21:46:37.326Z"
   },
   {
    "duration": 2,
    "start_time": "2022-12-07T21:46:37.367Z"
   },
   {
    "duration": 180,
    "start_time": "2022-12-07T21:46:37.371Z"
   },
   {
    "duration": 178,
    "start_time": "2022-12-07T21:46:37.552Z"
   },
   {
    "duration": 9,
    "start_time": "2022-12-07T21:46:37.732Z"
   },
   {
    "duration": 334,
    "start_time": "2022-12-07T21:46:37.742Z"
   },
   {
    "duration": 3078,
    "start_time": "2022-12-07T21:46:38.080Z"
   },
   {
    "duration": 381,
    "start_time": "2022-12-07T21:46:41.159Z"
   },
   {
    "duration": 321,
    "start_time": "2022-12-07T21:46:41.541Z"
   },
   {
    "duration": 8,
    "start_time": "2022-12-07T21:46:41.863Z"
   },
   {
    "duration": 182,
    "start_time": "2022-12-07T21:46:41.872Z"
   },
   {
    "duration": 15,
    "start_time": "2022-12-07T21:46:42.056Z"
   },
   {
    "duration": 11,
    "start_time": "2022-12-07T21:46:42.073Z"
   },
   {
    "duration": 5,
    "start_time": "2022-12-07T21:46:42.111Z"
   },
   {
    "duration": 16,
    "start_time": "2022-12-07T21:46:42.117Z"
   },
   {
    "duration": 3,
    "start_time": "2022-12-07T21:46:42.135Z"
   },
   {
    "duration": 13,
    "start_time": "2022-12-07T21:46:42.140Z"
   },
   {
    "duration": 343,
    "start_time": "2022-12-07T21:46:42.154Z"
   },
   {
    "duration": 6,
    "start_time": "2022-12-07T21:46:42.499Z"
   },
   {
    "duration": 17,
    "start_time": "2022-12-07T21:46:42.507Z"
   },
   {
    "duration": 407,
    "start_time": "2022-12-07T21:46:42.526Z"
   },
   {
    "duration": 413,
    "start_time": "2022-12-07T21:46:42.935Z"
   },
   {
    "duration": 329,
    "start_time": "2022-12-07T21:46:43.349Z"
   },
   {
    "duration": 434,
    "start_time": "2022-12-07T21:46:43.680Z"
   },
   {
    "duration": 613,
    "start_time": "2022-12-07T21:46:44.116Z"
   },
   {
    "duration": 611,
    "start_time": "2022-12-07T21:46:44.731Z"
   },
   {
    "duration": 451,
    "start_time": "2022-12-07T21:46:45.344Z"
   },
   {
    "duration": 22,
    "start_time": "2022-12-07T21:46:45.797Z"
   },
   {
    "duration": 8,
    "start_time": "2022-12-07T21:46:45.821Z"
   },
   {
    "duration": 363,
    "start_time": "2022-12-07T21:46:45.831Z"
   },
   {
    "duration": 363,
    "start_time": "2022-12-07T21:46:46.196Z"
   },
   {
    "duration": 7,
    "start_time": "2022-12-07T21:46:46.561Z"
   },
   {
    "duration": 27,
    "start_time": "2022-12-07T21:46:46.569Z"
   },
   {
    "duration": 1727,
    "start_time": "2022-12-07T21:46:46.597Z"
   },
   {
    "duration": 319,
    "start_time": "2022-12-07T21:46:48.326Z"
   },
   {
    "duration": 65,
    "start_time": "2022-12-07T21:46:48.647Z"
   },
   {
    "duration": 211,
    "start_time": "2022-12-07T21:46:48.715Z"
   },
   {
    "duration": 13,
    "start_time": "2022-12-07T21:48:13.371Z"
   },
   {
    "duration": 7,
    "start_time": "2022-12-07T21:50:20.353Z"
   },
   {
    "duration": 19,
    "start_time": "2022-12-07T21:53:56.135Z"
   },
   {
    "duration": 22,
    "start_time": "2022-12-07T21:54:11.467Z"
   },
   {
    "duration": 14,
    "start_time": "2022-12-07T21:54:13.686Z"
   },
   {
    "duration": 29,
    "start_time": "2022-12-07T21:54:33.625Z"
   },
   {
    "duration": 23,
    "start_time": "2022-12-07T21:54:42.102Z"
   },
   {
    "duration": 44,
    "start_time": "2022-12-07T21:55:56.333Z"
   },
   {
    "duration": 8,
    "start_time": "2022-12-07T21:56:00.381Z"
   },
   {
    "duration": 1329,
    "start_time": "2022-12-08T16:52:18.434Z"
   },
   {
    "duration": 469,
    "start_time": "2022-12-08T16:52:22.289Z"
   },
   {
    "duration": 73,
    "start_time": "2022-12-08T16:52:27.708Z"
   },
   {
    "duration": 39,
    "start_time": "2022-12-08T16:52:33.889Z"
   },
   {
    "duration": 1949,
    "start_time": "2022-12-08T16:52:37.145Z"
   },
   {
    "duration": 2013,
    "start_time": "2022-12-08T16:53:02.234Z"
   },
   {
    "duration": 75,
    "start_time": "2022-12-08T16:54:02.975Z"
   },
   {
    "duration": 5,
    "start_time": "2022-12-08T16:54:04.392Z"
   },
   {
    "duration": 107,
    "start_time": "2022-12-08T16:54:05.958Z"
   },
   {
    "duration": 4,
    "start_time": "2022-12-08T16:54:47.826Z"
   },
   {
    "duration": 8,
    "start_time": "2022-12-08T16:54:49.371Z"
   },
   {
    "duration": 40,
    "start_time": "2022-12-08T16:54:51.637Z"
   },
   {
    "duration": 7,
    "start_time": "2022-12-08T16:54:55.546Z"
   },
   {
    "duration": 140,
    "start_time": "2022-12-08T16:54:59.168Z"
   },
   {
    "duration": 125,
    "start_time": "2022-12-08T16:55:31.366Z"
   },
   {
    "duration": 8,
    "start_time": "2022-12-08T16:55:33.141Z"
   },
   {
    "duration": 6,
    "start_time": "2022-12-08T16:55:35.884Z"
   },
   {
    "duration": 4,
    "start_time": "2022-12-08T16:55:39.822Z"
   },
   {
    "duration": 2,
    "start_time": "2022-12-08T16:55:44.925Z"
   },
   {
    "duration": 4,
    "start_time": "2022-12-08T16:55:54.319Z"
   },
   {
    "duration": 7,
    "start_time": "2022-12-08T16:55:55.727Z"
   },
   {
    "duration": 110,
    "start_time": "2022-12-08T16:55:57.427Z"
   },
   {
    "duration": 23,
    "start_time": "2022-12-08T16:58:41.135Z"
   },
   {
    "duration": 59,
    "start_time": "2022-12-08T17:00:23.094Z"
   },
   {
    "duration": 185,
    "start_time": "2022-12-08T17:01:41.175Z"
   },
   {
    "duration": 5,
    "start_time": "2022-12-08T17:02:11.282Z"
   },
   {
    "duration": 8,
    "start_time": "2022-12-08T17:05:02.055Z"
   },
   {
    "duration": 4,
    "start_time": "2022-12-08T17:05:02.672Z"
   },
   {
    "duration": 9,
    "start_time": "2022-12-08T17:05:04.721Z"
   },
   {
    "duration": 2,
    "start_time": "2022-12-08T17:05:05.474Z"
   },
   {
    "duration": 7,
    "start_time": "2022-12-08T17:05:06.533Z"
   },
   {
    "duration": 9,
    "start_time": "2022-12-08T17:05:08.130Z"
   },
   {
    "duration": 3,
    "start_time": "2022-12-08T17:05:08.853Z"
   },
   {
    "duration": 17,
    "start_time": "2022-12-08T17:05:09.506Z"
   },
   {
    "duration": 8,
    "start_time": "2022-12-08T17:05:10.769Z"
   },
   {
    "duration": 545,
    "start_time": "2022-12-08T17:05:14.721Z"
   },
   {
    "duration": 4,
    "start_time": "2022-12-08T17:05:26.479Z"
   },
   {
    "duration": 67,
    "start_time": "2022-12-08T17:05:39.689Z"
   },
   {
    "duration": 7,
    "start_time": "2022-12-08T17:05:46.217Z"
   },
   {
    "duration": 245,
    "start_time": "2022-12-08T17:05:47.779Z"
   },
   {
    "duration": 9,
    "start_time": "2022-12-08T17:05:49.882Z"
   },
   {
    "duration": 3,
    "start_time": "2022-12-08T17:05:50.239Z"
   },
   {
    "duration": 8,
    "start_time": "2022-12-08T17:05:51.265Z"
   },
   {
    "duration": 2,
    "start_time": "2022-12-08T17:05:51.656Z"
   },
   {
    "duration": 7,
    "start_time": "2022-12-08T17:05:52.035Z"
   },
   {
    "duration": 9,
    "start_time": "2022-12-08T17:05:52.955Z"
   },
   {
    "duration": 3,
    "start_time": "2022-12-08T17:05:53.360Z"
   },
   {
    "duration": 9,
    "start_time": "2022-12-08T17:05:53.734Z"
   },
   {
    "duration": 7,
    "start_time": "2022-12-08T17:05:54.466Z"
   },
   {
    "duration": 339,
    "start_time": "2022-12-08T17:05:54.638Z"
   },
   {
    "duration": 11,
    "start_time": "2022-12-08T17:05:57.027Z"
   },
   {
    "duration": 2,
    "start_time": "2022-12-08T17:05:57.558Z"
   },
   {
    "duration": 47,
    "start_time": "2022-12-08T17:05:58.081Z"
   },
   {
    "duration": 3,
    "start_time": "2022-12-08T17:05:58.656Z"
   },
   {
    "duration": 167,
    "start_time": "2022-12-08T17:05:59.220Z"
   },
   {
    "duration": 122,
    "start_time": "2022-12-08T17:06:01.009Z"
   },
   {
    "duration": 9,
    "start_time": "2022-12-08T17:06:02.773Z"
   },
   {
    "duration": 368,
    "start_time": "2022-12-08T17:06:03.453Z"
   },
   {
    "duration": 2796,
    "start_time": "2022-12-08T17:06:04.871Z"
   },
   {
    "duration": 371,
    "start_time": "2022-12-08T17:06:07.670Z"
   },
   {
    "duration": 386,
    "start_time": "2022-12-08T17:06:08.043Z"
   },
   {
    "duration": 10,
    "start_time": "2022-12-08T17:06:08.431Z"
   },
   {
    "duration": 122,
    "start_time": "2022-12-08T17:06:08.949Z"
   },
   {
    "duration": 14,
    "start_time": "2022-12-08T17:06:09.556Z"
   },
   {
    "duration": 14,
    "start_time": "2022-12-08T17:06:11.517Z"
   },
   {
    "duration": 4,
    "start_time": "2022-12-08T17:06:12.088Z"
   },
   {
    "duration": 14,
    "start_time": "2022-12-08T17:06:12.679Z"
   },
   {
    "duration": 18,
    "start_time": "2022-12-08T17:17:06.636Z"
   },
   {
    "duration": 18,
    "start_time": "2022-12-08T17:17:20.738Z"
   },
   {
    "duration": 46,
    "start_time": "2022-12-08T17:17:44.079Z"
   },
   {
    "duration": 30,
    "start_time": "2022-12-08T17:18:52.294Z"
   },
   {
    "duration": 9,
    "start_time": "2022-12-08T17:20:43.830Z"
   },
   {
    "duration": 11,
    "start_time": "2022-12-08T17:23:18.203Z"
   },
   {
    "duration": 11,
    "start_time": "2022-12-08T17:23:28.648Z"
   },
   {
    "duration": 9,
    "start_time": "2022-12-08T17:23:46.794Z"
   },
   {
    "duration": 233,
    "start_time": "2022-12-08T17:24:33.344Z"
   },
   {
    "duration": 15,
    "start_time": "2022-12-08T17:25:43.904Z"
   },
   {
    "duration": 14,
    "start_time": "2022-12-08T17:25:51.736Z"
   },
   {
    "duration": 1140,
    "start_time": "2022-12-08T17:25:57.962Z"
   },
   {
    "duration": 106,
    "start_time": "2022-12-08T17:25:59.104Z"
   },
   {
    "duration": 59,
    "start_time": "2022-12-08T17:25:59.212Z"
   },
   {
    "duration": 35,
    "start_time": "2022-12-08T17:25:59.273Z"
   },
   {
    "duration": 1789,
    "start_time": "2022-12-08T17:25:59.309Z"
   },
   {
    "duration": 169,
    "start_time": "2022-12-08T17:26:01.099Z"
   },
   {
    "duration": 4,
    "start_time": "2022-12-08T17:26:01.270Z"
   },
   {
    "duration": 116,
    "start_time": "2022-12-08T17:26:01.275Z"
   },
   {
    "duration": 3,
    "start_time": "2022-12-08T17:26:01.393Z"
   },
   {
    "duration": 29,
    "start_time": "2022-12-08T17:26:01.399Z"
   },
   {
    "duration": 59,
    "start_time": "2022-12-08T17:26:01.430Z"
   },
   {
    "duration": 6,
    "start_time": "2022-12-08T17:26:01.491Z"
   },
   {
    "duration": 130,
    "start_time": "2022-12-08T17:26:01.499Z"
   },
   {
    "duration": 8,
    "start_time": "2022-12-08T17:26:01.631Z"
   },
   {
    "duration": 10,
    "start_time": "2022-12-08T17:26:01.640Z"
   },
   {
    "duration": 13,
    "start_time": "2022-12-08T17:26:01.651Z"
   },
   {
    "duration": 7,
    "start_time": "2022-12-08T17:26:01.665Z"
   },
   {
    "duration": 10,
    "start_time": "2022-12-08T17:26:01.674Z"
   },
   {
    "duration": 19,
    "start_time": "2022-12-08T17:26:01.686Z"
   },
   {
    "duration": 45,
    "start_time": "2022-12-08T17:26:01.706Z"
   },
   {
    "duration": 4,
    "start_time": "2022-12-08T17:26:01.754Z"
   },
   {
    "duration": 251,
    "start_time": "2022-12-08T17:26:01.760Z"
   },
   {
    "duration": 7,
    "start_time": "2022-12-08T17:26:02.013Z"
   },
   {
    "duration": 4,
    "start_time": "2022-12-08T17:26:02.021Z"
   },
   {
    "duration": 15,
    "start_time": "2022-12-08T17:26:02.026Z"
   },
   {
    "duration": 8,
    "start_time": "2022-12-08T17:26:02.043Z"
   },
   {
    "duration": 8,
    "start_time": "2022-12-08T17:26:02.052Z"
   },
   {
    "duration": 8,
    "start_time": "2022-12-08T17:26:02.063Z"
   },
   {
    "duration": 24,
    "start_time": "2022-12-08T17:26:02.073Z"
   },
   {
    "duration": 16,
    "start_time": "2022-12-08T17:26:02.099Z"
   },
   {
    "duration": 7,
    "start_time": "2022-12-08T17:26:02.117Z"
   },
   {
    "duration": 321,
    "start_time": "2022-12-08T17:26:02.126Z"
   },
   {
    "duration": 11,
    "start_time": "2022-12-08T17:26:02.449Z"
   },
   {
    "duration": 3,
    "start_time": "2022-12-08T17:26:02.461Z"
   },
   {
    "duration": 57,
    "start_time": "2022-12-08T17:26:02.465Z"
   },
   {
    "duration": 3,
    "start_time": "2022-12-08T17:26:02.524Z"
   },
   {
    "duration": 156,
    "start_time": "2022-12-08T17:26:02.529Z"
   },
   {
    "duration": 107,
    "start_time": "2022-12-08T17:26:02.696Z"
   },
   {
    "duration": 8,
    "start_time": "2022-12-08T17:26:02.804Z"
   },
   {
    "duration": 325,
    "start_time": "2022-12-08T17:26:02.814Z"
   },
   {
    "duration": 2269,
    "start_time": "2022-12-08T17:26:03.141Z"
   },
   {
    "duration": 337,
    "start_time": "2022-12-08T17:26:05.412Z"
   },
   {
    "duration": 334,
    "start_time": "2022-12-08T17:26:05.750Z"
   },
   {
    "duration": 10,
    "start_time": "2022-12-08T17:26:06.096Z"
   },
   {
    "duration": 158,
    "start_time": "2022-12-08T17:26:06.108Z"
   },
   {
    "duration": 29,
    "start_time": "2022-12-08T17:26:06.268Z"
   },
   {
    "duration": 13,
    "start_time": "2022-12-08T17:26:06.299Z"
   },
   {
    "duration": 9,
    "start_time": "2022-12-08T17:26:06.314Z"
   },
   {
    "duration": 20,
    "start_time": "2022-12-08T17:26:06.325Z"
   },
   {
    "duration": 29,
    "start_time": "2022-12-08T17:26:06.347Z"
   },
   {
    "duration": 119,
    "start_time": "2022-12-08T17:26:06.378Z"
   },
   {
    "duration": 0,
    "start_time": "2022-12-08T17:26:06.499Z"
   },
   {
    "duration": 0,
    "start_time": "2022-12-08T17:26:06.501Z"
   },
   {
    "duration": 0,
    "start_time": "2022-12-08T17:26:06.502Z"
   },
   {
    "duration": 0,
    "start_time": "2022-12-08T17:26:06.503Z"
   },
   {
    "duration": 0,
    "start_time": "2022-12-08T17:26:06.503Z"
   },
   {
    "duration": 0,
    "start_time": "2022-12-08T17:26:06.504Z"
   },
   {
    "duration": 0,
    "start_time": "2022-12-08T17:26:06.505Z"
   },
   {
    "duration": 0,
    "start_time": "2022-12-08T17:26:06.506Z"
   },
   {
    "duration": 0,
    "start_time": "2022-12-08T17:26:06.507Z"
   },
   {
    "duration": 0,
    "start_time": "2022-12-08T17:26:06.508Z"
   },
   {
    "duration": 0,
    "start_time": "2022-12-08T17:26:06.509Z"
   },
   {
    "duration": 0,
    "start_time": "2022-12-08T17:26:06.510Z"
   },
   {
    "duration": 0,
    "start_time": "2022-12-08T17:26:06.511Z"
   },
   {
    "duration": 0,
    "start_time": "2022-12-08T17:26:06.513Z"
   },
   {
    "duration": 0,
    "start_time": "2022-12-08T17:26:06.514Z"
   },
   {
    "duration": 0,
    "start_time": "2022-12-08T17:26:06.515Z"
   },
   {
    "duration": 0,
    "start_time": "2022-12-08T17:26:06.516Z"
   },
   {
    "duration": 0,
    "start_time": "2022-12-08T17:26:06.517Z"
   },
   {
    "duration": 0,
    "start_time": "2022-12-08T17:26:06.518Z"
   },
   {
    "duration": 0,
    "start_time": "2022-12-08T17:26:06.519Z"
   },
   {
    "duration": 0,
    "start_time": "2022-12-08T17:26:06.520Z"
   },
   {
    "duration": 0,
    "start_time": "2022-12-08T17:26:06.521Z"
   },
   {
    "duration": 0,
    "start_time": "2022-12-08T17:26:06.522Z"
   },
   {
    "duration": 0,
    "start_time": "2022-12-08T17:26:06.523Z"
   },
   {
    "duration": 6,
    "start_time": "2022-12-08T17:27:52.139Z"
   },
   {
    "duration": 5,
    "start_time": "2022-12-08T17:27:54.941Z"
   },
   {
    "duration": 31,
    "start_time": "2022-12-08T17:27:57.812Z"
   },
   {
    "duration": 6,
    "start_time": "2022-12-08T17:27:58.388Z"
   },
   {
    "duration": 20,
    "start_time": "2022-12-08T17:30:57.676Z"
   },
   {
    "duration": 4,
    "start_time": "2022-12-08T17:33:38.033Z"
   },
   {
    "duration": 11,
    "start_time": "2022-12-08T17:35:31.242Z"
   },
   {
    "duration": 4,
    "start_time": "2022-12-08T17:36:05.472Z"
   },
   {
    "duration": 9,
    "start_time": "2022-12-08T17:36:07.649Z"
   },
   {
    "duration": 4,
    "start_time": "2022-12-08T17:36:46.240Z"
   },
   {
    "duration": 9,
    "start_time": "2022-12-08T17:36:47.067Z"
   },
   {
    "duration": 10,
    "start_time": "2022-12-08T17:37:22.840Z"
   },
   {
    "duration": 10,
    "start_time": "2022-12-08T17:42:11.799Z"
   },
   {
    "duration": 8,
    "start_time": "2022-12-08T17:43:07.814Z"
   },
   {
    "duration": 9,
    "start_time": "2022-12-08T17:43:08.491Z"
   },
   {
    "duration": 8,
    "start_time": "2022-12-08T17:43:09.129Z"
   },
   {
    "duration": 9,
    "start_time": "2022-12-08T17:43:19.893Z"
   },
   {
    "duration": 9,
    "start_time": "2022-12-08T17:43:20.877Z"
   },
   {
    "duration": 9,
    "start_time": "2022-12-08T17:43:21.657Z"
   },
   {
    "duration": 8,
    "start_time": "2022-12-08T17:43:22.390Z"
   },
   {
    "duration": 18,
    "start_time": "2022-12-08T17:44:00.419Z"
   },
   {
    "duration": 4,
    "start_time": "2022-12-08T17:44:10.098Z"
   },
   {
    "duration": 120,
    "start_time": "2022-12-08T17:44:11.468Z"
   },
   {
    "duration": 58,
    "start_time": "2022-12-08T17:44:13.084Z"
   },
   {
    "duration": 21,
    "start_time": "2022-12-08T17:44:13.936Z"
   },
   {
    "duration": 1866,
    "start_time": "2022-12-08T17:44:14.520Z"
   },
   {
    "duration": 66,
    "start_time": "2022-12-08T17:44:16.873Z"
   },
   {
    "duration": 4,
    "start_time": "2022-12-08T17:44:17.392Z"
   },
   {
    "duration": 91,
    "start_time": "2022-12-08T17:44:17.875Z"
   },
   {
    "duration": 4,
    "start_time": "2022-12-08T17:44:19.765Z"
   },
   {
    "duration": 7,
    "start_time": "2022-12-08T17:44:20.186Z"
   },
   {
    "duration": 42,
    "start_time": "2022-12-08T17:44:20.639Z"
   },
   {
    "duration": 6,
    "start_time": "2022-12-08T17:44:21.626Z"
   },
   {
    "duration": 120,
    "start_time": "2022-12-08T17:44:22.070Z"
   },
   {
    "duration": 8,
    "start_time": "2022-12-08T17:44:23.050Z"
   },
   {
    "duration": 6,
    "start_time": "2022-12-08T17:44:23.504Z"
   },
   {
    "duration": 4,
    "start_time": "2022-12-08T17:44:24.033Z"
   },
   {
    "duration": 2,
    "start_time": "2022-12-08T17:44:24.632Z"
   },
   {
    "duration": 4,
    "start_time": "2022-12-08T17:44:25.955Z"
   },
   {
    "duration": 11,
    "start_time": "2022-12-08T17:44:26.834Z"
   },
   {
    "duration": 74,
    "start_time": "2022-12-08T17:44:27.264Z"
   },
   {
    "duration": 5,
    "start_time": "2022-12-08T17:44:29.954Z"
   },
   {
    "duration": 204,
    "start_time": "2022-12-08T17:44:31.256Z"
   },
   {
    "duration": 8,
    "start_time": "2022-12-08T17:44:33.208Z"
   },
   {
    "duration": 3,
    "start_time": "2022-12-08T17:44:33.686Z"
   },
   {
    "duration": 10,
    "start_time": "2022-12-08T17:44:34.911Z"
   },
   {
    "duration": 2,
    "start_time": "2022-12-08T17:44:35.366Z"
   },
   {
    "duration": 7,
    "start_time": "2022-12-08T17:44:35.661Z"
   },
   {
    "duration": 9,
    "start_time": "2022-12-08T17:44:36.385Z"
   },
   {
    "duration": 2,
    "start_time": "2022-12-08T17:44:36.589Z"
   },
   {
    "duration": 8,
    "start_time": "2022-12-08T17:44:36.751Z"
   },
   {
    "duration": 8,
    "start_time": "2022-12-08T17:44:37.103Z"
   },
   {
    "duration": 328,
    "start_time": "2022-12-08T17:44:37.257Z"
   },
   {
    "duration": 12,
    "start_time": "2022-12-08T17:44:37.881Z"
   },
   {
    "duration": 2,
    "start_time": "2022-12-08T17:44:38.177Z"
   },
   {
    "duration": 36,
    "start_time": "2022-12-08T17:44:38.388Z"
   },
   {
    "duration": 2,
    "start_time": "2022-12-08T17:44:38.565Z"
   },
   {
    "duration": 152,
    "start_time": "2022-12-08T17:44:39.135Z"
   },
   {
    "duration": 201,
    "start_time": "2022-12-08T17:44:39.778Z"
   },
   {
    "duration": 8,
    "start_time": "2022-12-08T17:44:40.404Z"
   },
   {
    "duration": 225,
    "start_time": "2022-12-08T17:44:40.642Z"
   },
   {
    "duration": 2159,
    "start_time": "2022-12-08T17:44:41.111Z"
   },
   {
    "duration": 298,
    "start_time": "2022-12-08T17:44:43.273Z"
   },
   {
    "duration": 357,
    "start_time": "2022-12-08T17:44:43.572Z"
   },
   {
    "duration": 8,
    "start_time": "2022-12-08T17:44:43.931Z"
   },
   {
    "duration": 118,
    "start_time": "2022-12-08T17:44:43.941Z"
   },
   {
    "duration": 11,
    "start_time": "2022-12-08T17:44:44.061Z"
   },
   {
    "duration": 10,
    "start_time": "2022-12-08T17:44:47.003Z"
   },
   {
    "duration": 4,
    "start_time": "2022-12-08T17:44:47.681Z"
   },
   {
    "duration": 16,
    "start_time": "2022-12-08T17:44:48.342Z"
   },
   {
    "duration": 5,
    "start_time": "2022-12-08T17:44:52.001Z"
   },
   {
    "duration": 12,
    "start_time": "2022-12-08T17:44:52.507Z"
   },
   {
    "duration": 10,
    "start_time": "2022-12-08T17:44:53.038Z"
   },
   {
    "duration": 12,
    "start_time": "2022-12-08T17:44:53.583Z"
   },
   {
    "duration": 11,
    "start_time": "2022-12-08T17:44:54.103Z"
   },
   {
    "duration": 10,
    "start_time": "2022-12-08T17:44:54.556Z"
   },
   {
    "duration": 8,
    "start_time": "2022-12-08T17:44:55.107Z"
   },
   {
    "duration": 9,
    "start_time": "2022-12-08T17:44:57.265Z"
   },
   {
    "duration": 30,
    "start_time": "2022-12-08T17:45:01.918Z"
   },
   {
    "duration": 5,
    "start_time": "2022-12-08T17:51:17.923Z"
   },
   {
    "duration": 13,
    "start_time": "2022-12-08T17:51:19.651Z"
   },
   {
    "duration": 287,
    "start_time": "2022-12-08T17:51:23.002Z"
   },
   {
    "duration": 7,
    "start_time": "2022-12-08T17:51:24.707Z"
   },
   {
    "duration": 14,
    "start_time": "2022-12-08T17:51:25.390Z"
   },
   {
    "duration": 391,
    "start_time": "2022-12-08T17:51:27.742Z"
   },
   {
    "duration": 309,
    "start_time": "2022-12-08T17:51:29.228Z"
   },
   {
    "duration": 401,
    "start_time": "2022-12-08T17:51:29.922Z"
   },
   {
    "duration": 233,
    "start_time": "2022-12-08T17:51:30.449Z"
   },
   {
    "duration": 289,
    "start_time": "2022-12-08T17:51:31.966Z"
   },
   {
    "duration": 285,
    "start_time": "2022-12-08T17:51:32.670Z"
   },
   {
    "duration": 286,
    "start_time": "2022-12-08T17:51:33.396Z"
   },
   {
    "duration": 14,
    "start_time": "2022-12-08T17:51:34.610Z"
   },
   {
    "duration": 9,
    "start_time": "2022-12-08T17:51:37.145Z"
   },
   {
    "duration": 392,
    "start_time": "2022-12-08T17:51:37.722Z"
   },
   {
    "duration": 254,
    "start_time": "2022-12-08T17:51:38.617Z"
   },
   {
    "duration": 8,
    "start_time": "2022-12-08T17:51:39.209Z"
   },
   {
    "duration": 7,
    "start_time": "2022-12-08T17:51:56.670Z"
   },
   {
    "duration": 7,
    "start_time": "2022-12-08T17:53:23.145Z"
   },
   {
    "duration": 7,
    "start_time": "2022-12-08T17:53:28.974Z"
   },
   {
    "duration": 12,
    "start_time": "2022-12-08T17:54:21.573Z"
   },
   {
    "duration": 40,
    "start_time": "2022-12-08T17:55:01.056Z"
   },
   {
    "duration": 1229,
    "start_time": "2022-12-08T17:56:04.759Z"
   },
   {
    "duration": 210,
    "start_time": "2022-12-08T17:57:56.062Z"
   },
   {
    "duration": 215,
    "start_time": "2022-12-08T17:59:17.136Z"
   },
   {
    "duration": 268,
    "start_time": "2022-12-08T17:59:45.619Z"
   },
   {
    "duration": 236,
    "start_time": "2022-12-08T18:01:11.411Z"
   },
   {
    "duration": 12,
    "start_time": "2022-12-08T18:04:56.373Z"
   },
   {
    "duration": 13,
    "start_time": "2022-12-08T18:05:14.155Z"
   },
   {
    "duration": 19,
    "start_time": "2022-12-08T18:05:28.426Z"
   },
   {
    "duration": 14,
    "start_time": "2022-12-08T18:06:13.139Z"
   },
   {
    "duration": 15,
    "start_time": "2022-12-08T18:06:16.664Z"
   },
   {
    "duration": 15,
    "start_time": "2022-12-08T18:06:22.238Z"
   },
   {
    "duration": 895,
    "start_time": "2022-12-08T18:07:30.875Z"
   },
   {
    "duration": 18,
    "start_time": "2022-12-08T18:08:33.136Z"
   },
   {
    "duration": 24,
    "start_time": "2022-12-08T18:08:49.121Z"
   },
   {
    "duration": 30,
    "start_time": "2022-12-08T18:08:56.377Z"
   },
   {
    "duration": 29067,
    "start_time": "2022-12-08T18:09:15.802Z"
   },
   {
    "duration": 18,
    "start_time": "2022-12-08T18:10:45.991Z"
   },
   {
    "duration": 157,
    "start_time": "2022-12-08T18:10:53.721Z"
   },
   {
    "duration": 352,
    "start_time": "2022-12-08T18:11:11.644Z"
   },
   {
    "duration": 161,
    "start_time": "2022-12-08T18:17:48.733Z"
   },
   {
    "duration": 25,
    "start_time": "2022-12-08T18:18:57.274Z"
   },
   {
    "duration": 23,
    "start_time": "2022-12-08T18:18:59.834Z"
   },
   {
    "duration": 19,
    "start_time": "2022-12-08T18:19:08.988Z"
   },
   {
    "duration": 19,
    "start_time": "2022-12-08T18:19:16.466Z"
   },
   {
    "duration": 143,
    "start_time": "2022-12-08T18:19:24.515Z"
   },
   {
    "duration": 33,
    "start_time": "2022-12-08T18:20:01.254Z"
   },
   {
    "duration": 9,
    "start_time": "2022-12-08T18:21:15.397Z"
   },
   {
    "duration": 23,
    "start_time": "2022-12-08T18:21:28.856Z"
   },
   {
    "duration": 16,
    "start_time": "2022-12-08T18:21:40.015Z"
   },
   {
    "duration": 19,
    "start_time": "2022-12-08T18:21:56.661Z"
   },
   {
    "duration": 20,
    "start_time": "2022-12-08T18:22:02.968Z"
   },
   {
    "duration": 18,
    "start_time": "2022-12-08T18:22:29.013Z"
   },
   {
    "duration": 18,
    "start_time": "2022-12-08T18:22:34.748Z"
   },
   {
    "duration": 24,
    "start_time": "2022-12-08T18:22:47.595Z"
   },
   {
    "duration": 234,
    "start_time": "2022-12-08T18:22:57.848Z"
   },
   {
    "duration": 17,
    "start_time": "2022-12-08T18:23:13.519Z"
   },
   {
    "duration": 11,
    "start_time": "2022-12-08T18:24:25.529Z"
   },
   {
    "duration": 18,
    "start_time": "2022-12-08T18:24:50.215Z"
   },
   {
    "duration": 15,
    "start_time": "2022-12-08T18:25:17.802Z"
   },
   {
    "duration": 43,
    "start_time": "2022-12-08T18:27:24.371Z"
   },
   {
    "duration": 61,
    "start_time": "2022-12-08T18:27:34.452Z"
   },
   {
    "duration": 40,
    "start_time": "2022-12-08T18:27:54.791Z"
   },
   {
    "duration": 46,
    "start_time": "2022-12-08T18:28:13.416Z"
   },
   {
    "duration": 1123,
    "start_time": "2022-12-08T18:28:33.597Z"
   },
   {
    "duration": 110,
    "start_time": "2022-12-08T18:28:34.723Z"
   },
   {
    "duration": 69,
    "start_time": "2022-12-08T18:28:34.834Z"
   },
   {
    "duration": 20,
    "start_time": "2022-12-08T18:28:34.905Z"
   },
   {
    "duration": 1988,
    "start_time": "2022-12-08T18:28:34.926Z"
   },
   {
    "duration": 151,
    "start_time": "2022-12-08T18:28:36.915Z"
   },
   {
    "duration": 4,
    "start_time": "2022-12-08T18:28:37.067Z"
   },
   {
    "duration": 91,
    "start_time": "2022-12-08T18:28:37.073Z"
   },
   {
    "duration": 4,
    "start_time": "2022-12-08T18:28:37.165Z"
   },
   {
    "duration": 9,
    "start_time": "2022-12-08T18:28:37.171Z"
   },
   {
    "duration": 58,
    "start_time": "2022-12-08T18:28:37.181Z"
   },
   {
    "duration": 9,
    "start_time": "2022-12-08T18:28:37.241Z"
   },
   {
    "duration": 162,
    "start_time": "2022-12-08T18:28:37.252Z"
   },
   {
    "duration": 8,
    "start_time": "2022-12-08T18:28:37.415Z"
   },
   {
    "duration": 9,
    "start_time": "2022-12-08T18:28:37.425Z"
   },
   {
    "duration": 5,
    "start_time": "2022-12-08T18:28:37.436Z"
   },
   {
    "duration": 3,
    "start_time": "2022-12-08T18:28:37.443Z"
   },
   {
    "duration": 5,
    "start_time": "2022-12-08T18:28:37.448Z"
   },
   {
    "duration": 14,
    "start_time": "2022-12-08T18:28:37.455Z"
   },
   {
    "duration": 48,
    "start_time": "2022-12-08T18:28:37.497Z"
   },
   {
    "duration": 4,
    "start_time": "2022-12-08T18:28:37.546Z"
   },
   {
    "duration": 223,
    "start_time": "2022-12-08T18:28:37.552Z"
   },
   {
    "duration": 19,
    "start_time": "2022-12-08T18:28:37.777Z"
   },
   {
    "duration": 4,
    "start_time": "2022-12-08T18:28:37.798Z"
   },
   {
    "duration": 13,
    "start_time": "2022-12-08T18:28:37.804Z"
   },
   {
    "duration": 2,
    "start_time": "2022-12-08T18:28:37.820Z"
   },
   {
    "duration": 10,
    "start_time": "2022-12-08T18:28:37.824Z"
   },
   {
    "duration": 12,
    "start_time": "2022-12-08T18:28:37.840Z"
   },
   {
    "duration": 3,
    "start_time": "2022-12-08T18:28:37.854Z"
   },
   {
    "duration": 45,
    "start_time": "2022-12-08T18:28:37.858Z"
   },
   {
    "duration": 10,
    "start_time": "2022-12-08T18:28:37.905Z"
   },
   {
    "duration": 335,
    "start_time": "2022-12-08T18:28:37.916Z"
   },
   {
    "duration": 11,
    "start_time": "2022-12-08T18:28:38.253Z"
   },
   {
    "duration": 3,
    "start_time": "2022-12-08T18:28:38.266Z"
   },
   {
    "duration": 66,
    "start_time": "2022-12-08T18:28:38.271Z"
   },
   {
    "duration": 3,
    "start_time": "2022-12-08T18:28:38.339Z"
   },
   {
    "duration": 171,
    "start_time": "2022-12-08T18:28:38.344Z"
   },
   {
    "duration": 105,
    "start_time": "2022-12-08T18:28:38.518Z"
   },
   {
    "duration": 8,
    "start_time": "2022-12-08T18:28:38.624Z"
   },
   {
    "duration": 342,
    "start_time": "2022-12-08T18:28:38.634Z"
   },
   {
    "duration": 2405,
    "start_time": "2022-12-08T18:28:38.978Z"
   },
   {
    "duration": 321,
    "start_time": "2022-12-08T18:28:41.385Z"
   },
   {
    "duration": 315,
    "start_time": "2022-12-08T18:28:41.708Z"
   },
   {
    "duration": 8,
    "start_time": "2022-12-08T18:28:42.025Z"
   },
   {
    "duration": 117,
    "start_time": "2022-12-08T18:28:42.034Z"
   },
   {
    "duration": 19,
    "start_time": "2022-12-08T18:28:42.154Z"
   },
   {
    "duration": 28,
    "start_time": "2022-12-08T18:28:42.174Z"
   },
   {
    "duration": 14,
    "start_time": "2022-12-08T18:28:42.204Z"
   },
   {
    "duration": 18,
    "start_time": "2022-12-08T18:28:42.219Z"
   },
   {
    "duration": 4,
    "start_time": "2022-12-08T18:28:42.238Z"
   },
   {
    "duration": 17,
    "start_time": "2022-12-08T18:28:42.244Z"
   },
   {
    "duration": 10,
    "start_time": "2022-12-08T18:28:42.263Z"
   },
   {
    "duration": 29,
    "start_time": "2022-12-08T18:28:42.275Z"
   },
   {
    "duration": 10,
    "start_time": "2022-12-08T18:28:42.306Z"
   },
   {
    "duration": 11,
    "start_time": "2022-12-08T18:28:42.318Z"
   },
   {
    "duration": 8,
    "start_time": "2022-12-08T18:28:42.331Z"
   },
   {
    "duration": 8,
    "start_time": "2022-12-08T18:28:42.340Z"
   },
   {
    "duration": 58,
    "start_time": "2022-12-08T18:28:42.350Z"
   },
   {
    "duration": 4,
    "start_time": "2022-12-08T18:28:42.410Z"
   },
   {
    "duration": 32,
    "start_time": "2022-12-08T18:28:42.416Z"
   },
   {
    "duration": 313,
    "start_time": "2022-12-08T18:28:42.450Z"
   },
   {
    "duration": 7,
    "start_time": "2022-12-08T18:28:42.765Z"
   },
   {
    "duration": 27,
    "start_time": "2022-12-08T18:28:42.774Z"
   },
   {
    "duration": 455,
    "start_time": "2022-12-08T18:28:42.802Z"
   },
   {
    "duration": 307,
    "start_time": "2022-12-08T18:28:43.259Z"
   },
   {
    "duration": 328,
    "start_time": "2022-12-08T18:28:43.568Z"
   },
   {
    "duration": 270,
    "start_time": "2022-12-08T18:28:43.898Z"
   },
   {
    "duration": 289,
    "start_time": "2022-12-08T18:28:44.170Z"
   },
   {
    "duration": 377,
    "start_time": "2022-12-08T18:28:44.461Z"
   },
   {
    "duration": 294,
    "start_time": "2022-12-08T18:28:44.840Z"
   },
   {
    "duration": 15,
    "start_time": "2022-12-08T18:28:45.136Z"
   },
   {
    "duration": 11,
    "start_time": "2022-12-08T18:28:45.152Z"
   },
   {
    "duration": 364,
    "start_time": "2022-12-08T18:28:45.164Z"
   },
   {
    "duration": 173,
    "start_time": "2022-12-08T18:28:45.530Z"
   },
   {
    "duration": 8,
    "start_time": "2022-12-08T18:28:45.704Z"
   },
   {
    "duration": 931,
    "start_time": "2022-12-08T18:28:45.714Z"
   },
   {
    "duration": 0,
    "start_time": "2022-12-08T18:28:46.646Z"
   },
   {
    "duration": 0,
    "start_time": "2022-12-08T18:28:46.648Z"
   },
   {
    "duration": 0,
    "start_time": "2022-12-08T18:28:46.649Z"
   },
   {
    "duration": 948,
    "start_time": "2022-12-08T18:31:09.477Z"
   },
   {
    "duration": 1232,
    "start_time": "2022-12-08T18:31:38.653Z"
   },
   {
    "duration": 289,
    "start_time": "2022-12-08T18:31:44.343Z"
   },
   {
    "duration": 328,
    "start_time": "2022-12-08T18:32:00.181Z"
   },
   {
    "duration": 16,
    "start_time": "2022-12-08T18:32:13.238Z"
   },
   {
    "duration": 13,
    "start_time": "2022-12-08T18:32:16.789Z"
   },
   {
    "duration": 1244,
    "start_time": "2022-12-08T21:26:29.715Z"
   },
   {
    "duration": 213,
    "start_time": "2022-12-08T21:26:30.962Z"
   },
   {
    "duration": 12,
    "start_time": "2022-12-08T21:26:31.177Z"
   },
   {
    "duration": 52,
    "start_time": "2022-12-08T21:26:31.191Z"
   },
   {
    "duration": 153,
    "start_time": "2022-12-08T21:26:31.247Z"
   },
   {
    "duration": 0,
    "start_time": "2022-12-08T21:26:31.403Z"
   },
   {
    "duration": 0,
    "start_time": "2022-12-08T21:26:31.405Z"
   },
   {
    "duration": 0,
    "start_time": "2022-12-08T21:26:31.406Z"
   },
   {
    "duration": 0,
    "start_time": "2022-12-08T21:26:31.407Z"
   },
   {
    "duration": 0,
    "start_time": "2022-12-08T21:26:31.410Z"
   },
   {
    "duration": 0,
    "start_time": "2022-12-08T21:26:31.411Z"
   },
   {
    "duration": 0,
    "start_time": "2022-12-08T21:26:31.416Z"
   },
   {
    "duration": 0,
    "start_time": "2022-12-08T21:26:31.421Z"
   },
   {
    "duration": 0,
    "start_time": "2022-12-08T21:26:31.423Z"
   },
   {
    "duration": 0,
    "start_time": "2022-12-08T21:26:31.424Z"
   },
   {
    "duration": 0,
    "start_time": "2022-12-08T21:26:31.425Z"
   },
   {
    "duration": 0,
    "start_time": "2022-12-08T21:26:31.427Z"
   },
   {
    "duration": 0,
    "start_time": "2022-12-08T21:26:31.428Z"
   },
   {
    "duration": 0,
    "start_time": "2022-12-08T21:26:31.429Z"
   },
   {
    "duration": 0,
    "start_time": "2022-12-08T21:26:31.430Z"
   },
   {
    "duration": 0,
    "start_time": "2022-12-08T21:26:31.430Z"
   },
   {
    "duration": 0,
    "start_time": "2022-12-08T21:26:31.431Z"
   },
   {
    "duration": 0,
    "start_time": "2022-12-08T21:26:31.432Z"
   },
   {
    "duration": 0,
    "start_time": "2022-12-08T21:26:31.433Z"
   },
   {
    "duration": 0,
    "start_time": "2022-12-08T21:26:31.434Z"
   },
   {
    "duration": 0,
    "start_time": "2022-12-08T21:26:31.435Z"
   },
   {
    "duration": 0,
    "start_time": "2022-12-08T21:26:31.435Z"
   },
   {
    "duration": 0,
    "start_time": "2022-12-08T21:26:31.436Z"
   },
   {
    "duration": 0,
    "start_time": "2022-12-08T21:26:31.437Z"
   },
   {
    "duration": 0,
    "start_time": "2022-12-08T21:26:31.438Z"
   },
   {
    "duration": 0,
    "start_time": "2022-12-08T21:26:31.439Z"
   },
   {
    "duration": 0,
    "start_time": "2022-12-08T21:26:31.439Z"
   },
   {
    "duration": 0,
    "start_time": "2022-12-08T21:26:31.442Z"
   },
   {
    "duration": 0,
    "start_time": "2022-12-08T21:26:31.443Z"
   },
   {
    "duration": 0,
    "start_time": "2022-12-08T21:26:31.444Z"
   },
   {
    "duration": 0,
    "start_time": "2022-12-08T21:26:31.445Z"
   },
   {
    "duration": 0,
    "start_time": "2022-12-08T21:26:31.446Z"
   },
   {
    "duration": 0,
    "start_time": "2022-12-08T21:26:31.447Z"
   },
   {
    "duration": 0,
    "start_time": "2022-12-08T21:26:31.448Z"
   },
   {
    "duration": 0,
    "start_time": "2022-12-08T21:26:31.449Z"
   },
   {
    "duration": 0,
    "start_time": "2022-12-08T21:26:31.450Z"
   },
   {
    "duration": 0,
    "start_time": "2022-12-08T21:26:31.451Z"
   },
   {
    "duration": 0,
    "start_time": "2022-12-08T21:26:31.455Z"
   },
   {
    "duration": 0,
    "start_time": "2022-12-08T21:26:31.456Z"
   },
   {
    "duration": 0,
    "start_time": "2022-12-08T21:26:31.457Z"
   },
   {
    "duration": 0,
    "start_time": "2022-12-08T21:26:31.459Z"
   },
   {
    "duration": 0,
    "start_time": "2022-12-08T21:26:31.460Z"
   },
   {
    "duration": 0,
    "start_time": "2022-12-08T21:26:31.461Z"
   },
   {
    "duration": 0,
    "start_time": "2022-12-08T21:26:31.462Z"
   },
   {
    "duration": 0,
    "start_time": "2022-12-08T21:26:31.463Z"
   },
   {
    "duration": 0,
    "start_time": "2022-12-08T21:26:31.464Z"
   },
   {
    "duration": 0,
    "start_time": "2022-12-08T21:26:31.465Z"
   },
   {
    "duration": 0,
    "start_time": "2022-12-08T21:26:31.466Z"
   },
   {
    "duration": 0,
    "start_time": "2022-12-08T21:26:31.517Z"
   },
   {
    "duration": 0,
    "start_time": "2022-12-08T21:26:31.518Z"
   },
   {
    "duration": 0,
    "start_time": "2022-12-08T21:26:31.519Z"
   },
   {
    "duration": 0,
    "start_time": "2022-12-08T21:26:31.522Z"
   },
   {
    "duration": 0,
    "start_time": "2022-12-08T21:26:31.523Z"
   },
   {
    "duration": 0,
    "start_time": "2022-12-08T21:26:31.523Z"
   },
   {
    "duration": 0,
    "start_time": "2022-12-08T21:26:31.527Z"
   },
   {
    "duration": 0,
    "start_time": "2022-12-08T21:26:31.528Z"
   },
   {
    "duration": 0,
    "start_time": "2022-12-08T21:26:31.530Z"
   },
   {
    "duration": 0,
    "start_time": "2022-12-08T21:26:31.530Z"
   },
   {
    "duration": 0,
    "start_time": "2022-12-08T21:26:31.531Z"
   },
   {
    "duration": 0,
    "start_time": "2022-12-08T21:26:31.532Z"
   },
   {
    "duration": 0,
    "start_time": "2022-12-08T21:26:31.533Z"
   },
   {
    "duration": 0,
    "start_time": "2022-12-08T21:26:31.533Z"
   },
   {
    "duration": 0,
    "start_time": "2022-12-08T21:26:31.536Z"
   },
   {
    "duration": 0,
    "start_time": "2022-12-08T21:26:31.538Z"
   },
   {
    "duration": 0,
    "start_time": "2022-12-08T21:26:31.539Z"
   },
   {
    "duration": 0,
    "start_time": "2022-12-08T21:26:31.540Z"
   },
   {
    "duration": 0,
    "start_time": "2022-12-08T21:26:31.541Z"
   },
   {
    "duration": 0,
    "start_time": "2022-12-08T21:26:31.543Z"
   },
   {
    "duration": 0,
    "start_time": "2022-12-08T21:26:31.544Z"
   },
   {
    "duration": 0,
    "start_time": "2022-12-08T21:26:31.546Z"
   },
   {
    "duration": 0,
    "start_time": "2022-12-08T21:26:31.547Z"
   },
   {
    "duration": 0,
    "start_time": "2022-12-08T21:26:31.548Z"
   },
   {
    "duration": 0,
    "start_time": "2022-12-08T21:26:31.549Z"
   },
   {
    "duration": 0,
    "start_time": "2022-12-08T21:26:31.550Z"
   },
   {
    "duration": 1167,
    "start_time": "2022-12-08T21:26:43.127Z"
   },
   {
    "duration": 116,
    "start_time": "2022-12-08T21:26:44.296Z"
   },
   {
    "duration": 93,
    "start_time": "2022-12-08T21:26:44.414Z"
   },
   {
    "duration": 41,
    "start_time": "2022-12-08T21:26:44.509Z"
   },
   {
    "duration": 2101,
    "start_time": "2022-12-08T21:26:44.551Z"
   },
   {
    "duration": 201,
    "start_time": "2022-12-08T21:26:46.654Z"
   },
   {
    "duration": 4,
    "start_time": "2022-12-08T21:26:46.856Z"
   },
   {
    "duration": 99,
    "start_time": "2022-12-08T21:26:46.861Z"
   },
   {
    "duration": 3,
    "start_time": "2022-12-08T21:26:46.961Z"
   },
   {
    "duration": 9,
    "start_time": "2022-12-08T21:26:46.966Z"
   },
   {
    "duration": 70,
    "start_time": "2022-12-08T21:26:46.977Z"
   },
   {
    "duration": 7,
    "start_time": "2022-12-08T21:26:47.051Z"
   },
   {
    "duration": 150,
    "start_time": "2022-12-08T21:26:47.059Z"
   },
   {
    "duration": 16,
    "start_time": "2022-12-08T21:26:47.211Z"
   },
   {
    "duration": 28,
    "start_time": "2022-12-08T21:26:47.229Z"
   },
   {
    "duration": 5,
    "start_time": "2022-12-08T21:26:47.258Z"
   },
   {
    "duration": 4,
    "start_time": "2022-12-08T21:26:47.265Z"
   },
   {
    "duration": 4,
    "start_time": "2022-12-08T21:26:47.271Z"
   },
   {
    "duration": 13,
    "start_time": "2022-12-08T21:26:47.277Z"
   },
   {
    "duration": 49,
    "start_time": "2022-12-08T21:26:47.291Z"
   },
   {
    "duration": 6,
    "start_time": "2022-12-08T21:26:47.341Z"
   },
   {
    "duration": 238,
    "start_time": "2022-12-08T21:26:47.348Z"
   },
   {
    "duration": 7,
    "start_time": "2022-12-08T21:26:47.588Z"
   },
   {
    "duration": 24,
    "start_time": "2022-12-08T21:26:47.597Z"
   },
   {
    "duration": 38,
    "start_time": "2022-12-08T21:26:47.623Z"
   },
   {
    "duration": 4,
    "start_time": "2022-12-08T21:26:47.663Z"
   },
   {
    "duration": 11,
    "start_time": "2022-12-08T21:26:47.668Z"
   },
   {
    "duration": 9,
    "start_time": "2022-12-08T21:26:47.683Z"
   },
   {
    "duration": 5,
    "start_time": "2022-12-08T21:26:47.694Z"
   },
   {
    "duration": 11,
    "start_time": "2022-12-08T21:26:47.701Z"
   },
   {
    "duration": 18,
    "start_time": "2022-12-08T21:26:47.713Z"
   },
   {
    "duration": 346,
    "start_time": "2022-12-08T21:26:47.732Z"
   },
   {
    "duration": 13,
    "start_time": "2022-12-08T21:26:48.080Z"
   },
   {
    "duration": 2,
    "start_time": "2022-12-08T21:26:48.095Z"
   },
   {
    "duration": 69,
    "start_time": "2022-12-08T21:26:48.099Z"
   },
   {
    "duration": 6,
    "start_time": "2022-12-08T21:26:48.169Z"
   },
   {
    "duration": 172,
    "start_time": "2022-12-08T21:26:48.176Z"
   },
   {
    "duration": 111,
    "start_time": "2022-12-08T21:26:48.350Z"
   },
   {
    "duration": 9,
    "start_time": "2022-12-08T21:26:48.462Z"
   },
   {
    "duration": 357,
    "start_time": "2022-12-08T21:26:48.472Z"
   },
   {
    "duration": 2410,
    "start_time": "2022-12-08T21:26:48.836Z"
   },
   {
    "duration": 338,
    "start_time": "2022-12-08T21:26:51.248Z"
   },
   {
    "duration": 343,
    "start_time": "2022-12-08T21:26:51.588Z"
   },
   {
    "duration": 9,
    "start_time": "2022-12-08T21:26:51.933Z"
   },
   {
    "duration": 117,
    "start_time": "2022-12-08T21:26:51.945Z"
   },
   {
    "duration": 18,
    "start_time": "2022-12-08T21:26:52.064Z"
   },
   {
    "duration": 33,
    "start_time": "2022-12-08T21:26:52.083Z"
   },
   {
    "duration": 37,
    "start_time": "2022-12-08T21:26:52.118Z"
   },
   {
    "duration": 23,
    "start_time": "2022-12-08T21:26:52.158Z"
   },
   {
    "duration": 5,
    "start_time": "2022-12-08T21:26:52.183Z"
   },
   {
    "duration": 18,
    "start_time": "2022-12-08T21:26:52.190Z"
   },
   {
    "duration": 14,
    "start_time": "2022-12-08T21:26:52.210Z"
   },
   {
    "duration": 35,
    "start_time": "2022-12-08T21:26:52.228Z"
   },
   {
    "duration": 7,
    "start_time": "2022-12-08T21:26:52.265Z"
   },
   {
    "duration": 10,
    "start_time": "2022-12-08T21:26:52.274Z"
   },
   {
    "duration": 8,
    "start_time": "2022-12-08T21:26:52.286Z"
   },
   {
    "duration": 8,
    "start_time": "2022-12-08T21:26:52.296Z"
   },
   {
    "duration": 29,
    "start_time": "2022-12-08T21:26:52.306Z"
   },
   {
    "duration": 14,
    "start_time": "2022-12-08T21:26:52.336Z"
   },
   {
    "duration": 23,
    "start_time": "2022-12-08T21:26:52.352Z"
   },
   {
    "duration": 404,
    "start_time": "2022-12-08T21:26:52.377Z"
   },
   {
    "duration": 7,
    "start_time": "2022-12-08T21:26:52.783Z"
   },
   {
    "duration": 19,
    "start_time": "2022-12-08T21:26:52.791Z"
   },
   {
    "duration": 493,
    "start_time": "2022-12-08T21:26:52.817Z"
   },
   {
    "duration": 328,
    "start_time": "2022-12-08T21:26:53.317Z"
   },
   {
    "duration": 341,
    "start_time": "2022-12-08T21:26:53.647Z"
   },
   {
    "duration": 322,
    "start_time": "2022-12-08T21:26:53.990Z"
   },
   {
    "duration": 359,
    "start_time": "2022-12-08T21:26:54.313Z"
   },
   {
    "duration": 425,
    "start_time": "2022-12-08T21:26:54.674Z"
   },
   {
    "duration": 305,
    "start_time": "2022-12-08T21:26:55.101Z"
   },
   {
    "duration": 20,
    "start_time": "2022-12-08T21:26:55.415Z"
   },
   {
    "duration": 27,
    "start_time": "2022-12-08T21:26:55.436Z"
   },
   {
    "duration": 424,
    "start_time": "2022-12-08T21:26:55.464Z"
   },
   {
    "duration": 191,
    "start_time": "2022-12-08T21:26:55.890Z"
   },
   {
    "duration": 9,
    "start_time": "2022-12-08T21:26:56.083Z"
   },
   {
    "duration": 1556,
    "start_time": "2022-12-08T21:26:56.093Z"
   },
   {
    "duration": 337,
    "start_time": "2022-12-08T21:26:57.651Z"
   },
   {
    "duration": 31,
    "start_time": "2022-12-08T21:26:57.990Z"
   },
   {
    "duration": 15,
    "start_time": "2022-12-08T21:26:58.022Z"
   },
   {
    "duration": 998,
    "start_time": "2022-12-08T21:31:58.477Z"
   },
   {
    "duration": 8,
    "start_time": "2022-12-08T21:32:06.219Z"
   },
   {
    "duration": 176,
    "start_time": "2022-12-08T21:34:57.632Z"
   },
   {
    "duration": 5,
    "start_time": "2022-12-08T21:35:33.798Z"
   },
   {
    "duration": 24,
    "start_time": "2022-12-08T21:35:41.707Z"
   },
   {
    "duration": 13,
    "start_time": "2022-12-08T21:35:46.245Z"
   },
   {
    "duration": 21,
    "start_time": "2022-12-08T21:36:05.975Z"
   },
   {
    "duration": 12,
    "start_time": "2022-12-08T21:36:07.894Z"
   },
   {
    "duration": 59,
    "start_time": "2022-12-09T07:51:22.769Z"
   },
   {
    "duration": 1489,
    "start_time": "2022-12-09T07:51:34.174Z"
   },
   {
    "duration": 198,
    "start_time": "2022-12-09T07:51:35.672Z"
   },
   {
    "duration": 84,
    "start_time": "2022-12-09T07:51:35.872Z"
   },
   {
    "duration": 36,
    "start_time": "2022-12-09T07:51:35.959Z"
   },
   {
    "duration": 2257,
    "start_time": "2022-12-09T07:51:35.997Z"
   },
   {
    "duration": 173,
    "start_time": "2022-12-09T07:51:38.256Z"
   },
   {
    "duration": 5,
    "start_time": "2022-12-09T07:51:38.430Z"
   },
   {
    "duration": 137,
    "start_time": "2022-12-09T07:51:38.436Z"
   },
   {
    "duration": 4,
    "start_time": "2022-12-09T07:51:38.575Z"
   },
   {
    "duration": 8,
    "start_time": "2022-12-09T07:51:38.583Z"
   },
   {
    "duration": 70,
    "start_time": "2022-12-09T07:51:38.593Z"
   },
   {
    "duration": 10,
    "start_time": "2022-12-09T07:51:38.664Z"
   },
   {
    "duration": 155,
    "start_time": "2022-12-09T07:51:38.676Z"
   },
   {
    "duration": 9,
    "start_time": "2022-12-09T07:51:38.832Z"
   },
   {
    "duration": 28,
    "start_time": "2022-12-09T07:51:38.843Z"
   },
   {
    "duration": 6,
    "start_time": "2022-12-09T07:51:38.873Z"
   },
   {
    "duration": 5,
    "start_time": "2022-12-09T07:51:38.881Z"
   },
   {
    "duration": 7,
    "start_time": "2022-12-09T07:51:38.887Z"
   },
   {
    "duration": 13,
    "start_time": "2022-12-09T07:51:38.896Z"
   },
   {
    "duration": 76,
    "start_time": "2022-12-09T07:51:38.912Z"
   },
   {
    "duration": 8,
    "start_time": "2022-12-09T07:51:38.989Z"
   },
   {
    "duration": 272,
    "start_time": "2022-12-09T07:51:38.999Z"
   },
   {
    "duration": 9,
    "start_time": "2022-12-09T07:51:39.274Z"
   },
   {
    "duration": 5,
    "start_time": "2022-12-09T07:51:39.285Z"
   },
   {
    "duration": 15,
    "start_time": "2022-12-09T07:51:39.292Z"
   },
   {
    "duration": 4,
    "start_time": "2022-12-09T07:51:39.309Z"
   },
   {
    "duration": 16,
    "start_time": "2022-12-09T07:51:39.315Z"
   },
   {
    "duration": 30,
    "start_time": "2022-12-09T07:51:39.335Z"
   },
   {
    "duration": 7,
    "start_time": "2022-12-09T07:51:39.368Z"
   },
   {
    "duration": 13,
    "start_time": "2022-12-09T07:51:39.377Z"
   },
   {
    "duration": 11,
    "start_time": "2022-12-09T07:51:39.392Z"
   },
   {
    "duration": 470,
    "start_time": "2022-12-09T07:51:39.405Z"
   },
   {
    "duration": 17,
    "start_time": "2022-12-09T07:51:39.877Z"
   },
   {
    "duration": 4,
    "start_time": "2022-12-09T07:51:39.898Z"
   },
   {
    "duration": 71,
    "start_time": "2022-12-09T07:51:39.904Z"
   },
   {
    "duration": 5,
    "start_time": "2022-12-09T07:51:39.977Z"
   },
   {
    "duration": 205,
    "start_time": "2022-12-09T07:51:39.984Z"
   },
   {
    "duration": 130,
    "start_time": "2022-12-09T07:51:40.191Z"
   },
   {
    "duration": 8,
    "start_time": "2022-12-09T07:51:40.323Z"
   },
   {
    "duration": 383,
    "start_time": "2022-12-09T07:51:40.333Z"
   },
   {
    "duration": 2680,
    "start_time": "2022-12-09T07:51:40.718Z"
   },
   {
    "duration": 359,
    "start_time": "2022-12-09T07:51:43.400Z"
   },
   {
    "duration": 360,
    "start_time": "2022-12-09T07:51:43.760Z"
   },
   {
    "duration": 9,
    "start_time": "2022-12-09T07:51:44.122Z"
   },
   {
    "duration": 147,
    "start_time": "2022-12-09T07:51:44.133Z"
   },
   {
    "duration": 15,
    "start_time": "2022-12-09T07:51:44.281Z"
   },
   {
    "duration": 10,
    "start_time": "2022-12-09T07:51:44.298Z"
   },
   {
    "duration": 5,
    "start_time": "2022-12-09T07:51:44.310Z"
   },
   {
    "duration": 54,
    "start_time": "2022-12-09T07:51:44.316Z"
   },
   {
    "duration": 4,
    "start_time": "2022-12-09T07:51:44.373Z"
   },
   {
    "duration": 17,
    "start_time": "2022-12-09T07:51:44.378Z"
   },
   {
    "duration": 9,
    "start_time": "2022-12-09T07:51:44.397Z"
   },
   {
    "duration": 10,
    "start_time": "2022-12-09T07:51:44.407Z"
   },
   {
    "duration": 42,
    "start_time": "2022-12-09T07:51:44.419Z"
   },
   {
    "duration": 13,
    "start_time": "2022-12-09T07:51:44.464Z"
   },
   {
    "duration": 10,
    "start_time": "2022-12-09T07:51:44.479Z"
   },
   {
    "duration": 9,
    "start_time": "2022-12-09T07:51:44.491Z"
   },
   {
    "duration": 7,
    "start_time": "2022-12-09T07:51:44.502Z"
   },
   {
    "duration": 70,
    "start_time": "2022-12-09T07:51:44.510Z"
   },
   {
    "duration": 24,
    "start_time": "2022-12-09T07:51:44.581Z"
   },
   {
    "duration": 5,
    "start_time": "2022-12-09T07:51:44.606Z"
   },
   {
    "duration": 17,
    "start_time": "2022-12-09T07:51:44.612Z"
   },
   {
    "duration": 399,
    "start_time": "2022-12-09T07:51:44.631Z"
   },
   {
    "duration": 7,
    "start_time": "2022-12-09T07:51:45.032Z"
   },
   {
    "duration": 29,
    "start_time": "2022-12-09T07:51:45.041Z"
   },
   {
    "duration": 550,
    "start_time": "2022-12-09T07:51:45.073Z"
   },
   {
    "duration": 357,
    "start_time": "2022-12-09T07:51:45.625Z"
   },
   {
    "duration": 378,
    "start_time": "2022-12-09T07:51:45.983Z"
   },
   {
    "duration": 309,
    "start_time": "2022-12-09T07:51:46.365Z"
   },
   {
    "duration": 358,
    "start_time": "2022-12-09T07:51:46.677Z"
   },
   {
    "duration": 442,
    "start_time": "2022-12-09T07:51:47.037Z"
   },
   {
    "duration": 324,
    "start_time": "2022-12-09T07:51:47.481Z"
   },
   {
    "duration": 15,
    "start_time": "2022-12-09T07:51:47.807Z"
   },
   {
    "duration": 45,
    "start_time": "2022-12-09T07:51:47.825Z"
   },
   {
    "duration": 399,
    "start_time": "2022-12-09T07:51:47.872Z"
   },
   {
    "duration": 207,
    "start_time": "2022-12-09T07:51:48.272Z"
   },
   {
    "duration": 7,
    "start_time": "2022-12-09T07:51:48.481Z"
   },
   {
    "duration": 1591,
    "start_time": "2022-12-09T07:51:48.490Z"
   },
   {
    "duration": 364,
    "start_time": "2022-12-09T07:51:50.083Z"
   },
   {
    "duration": 32,
    "start_time": "2022-12-09T07:51:50.449Z"
   },
   {
    "duration": 222,
    "start_time": "2022-12-09T07:51:50.484Z"
   },
   {
    "duration": 6,
    "start_time": "2022-12-09T07:51:50.712Z"
   },
   {
    "duration": 15,
    "start_time": "2022-12-09T07:51:50.719Z"
   },
   {
    "duration": 26,
    "start_time": "2022-12-09T07:52:02.774Z"
   },
   {
    "duration": 1494,
    "start_time": "2022-12-09T07:53:55.774Z"
   },
   {
    "duration": 10,
    "start_time": "2022-12-09T07:54:07.464Z"
   },
   {
    "duration": 7,
    "start_time": "2022-12-09T07:54:16.947Z"
   },
   {
    "duration": 7,
    "start_time": "2022-12-09T08:00:55.779Z"
   },
   {
    "duration": 89,
    "start_time": "2022-12-09T08:01:40.709Z"
   },
   {
    "duration": 7,
    "start_time": "2022-12-09T08:01:48.589Z"
   },
   {
    "duration": 11,
    "start_time": "2022-12-09T08:06:01.333Z"
   },
   {
    "duration": 4,
    "start_time": "2022-12-09T08:06:57.334Z"
   },
   {
    "duration": 3,
    "start_time": "2022-12-09T08:07:00.399Z"
   },
   {
    "duration": 6,
    "start_time": "2022-12-09T08:07:12.578Z"
   },
   {
    "duration": 11,
    "start_time": "2022-12-09T08:07:25.678Z"
   },
   {
    "duration": 11,
    "start_time": "2022-12-09T08:07:37.778Z"
   },
   {
    "duration": 80,
    "start_time": "2022-12-09T08:09:45.963Z"
   },
   {
    "duration": 46,
    "start_time": "2022-12-09T08:09:58.467Z"
   },
   {
    "duration": 11,
    "start_time": "2022-12-09T08:11:57.801Z"
   },
   {
    "duration": 10,
    "start_time": "2022-12-09T08:12:11.499Z"
   },
   {
    "duration": 10,
    "start_time": "2022-12-09T08:12:23.109Z"
   },
   {
    "duration": 9,
    "start_time": "2022-12-09T08:12:33.409Z"
   },
   {
    "duration": 17,
    "start_time": "2022-12-09T08:12:46.050Z"
   },
   {
    "duration": 25,
    "start_time": "2022-12-09T08:12:56.878Z"
   },
   {
    "duration": 8,
    "start_time": "2022-12-09T08:13:10.892Z"
   },
   {
    "duration": 81,
    "start_time": "2022-12-09T08:16:01.119Z"
   },
   {
    "duration": 1267,
    "start_time": "2022-12-09T08:18:56.980Z"
   },
   {
    "duration": 103,
    "start_time": "2022-12-09T08:18:58.248Z"
   },
   {
    "duration": 72,
    "start_time": "2022-12-09T08:18:58.353Z"
   },
   {
    "duration": 45,
    "start_time": "2022-12-09T08:18:58.427Z"
   },
   {
    "duration": 2363,
    "start_time": "2022-12-09T08:18:58.474Z"
   },
   {
    "duration": 177,
    "start_time": "2022-12-09T08:19:00.839Z"
   },
   {
    "duration": 4,
    "start_time": "2022-12-09T08:19:01.017Z"
   },
   {
    "duration": 143,
    "start_time": "2022-12-09T08:19:01.024Z"
   },
   {
    "duration": 5,
    "start_time": "2022-12-09T08:19:01.169Z"
   },
   {
    "duration": 32,
    "start_time": "2022-12-09T08:19:01.177Z"
   },
   {
    "duration": 69,
    "start_time": "2022-12-09T08:19:01.211Z"
   },
   {
    "duration": 8,
    "start_time": "2022-12-09T08:19:01.283Z"
   },
   {
    "duration": 194,
    "start_time": "2022-12-09T08:19:01.292Z"
   },
   {
    "duration": 9,
    "start_time": "2022-12-09T08:19:01.489Z"
   },
   {
    "duration": 42,
    "start_time": "2022-12-09T08:19:01.500Z"
   },
   {
    "duration": 39,
    "start_time": "2022-12-09T08:19:01.544Z"
   },
   {
    "duration": 32,
    "start_time": "2022-12-09T08:19:01.585Z"
   },
   {
    "duration": 42,
    "start_time": "2022-12-09T08:19:01.619Z"
   },
   {
    "duration": 88,
    "start_time": "2022-12-09T08:19:01.663Z"
   },
   {
    "duration": 81,
    "start_time": "2022-12-09T08:19:01.756Z"
   },
   {
    "duration": 6,
    "start_time": "2022-12-09T08:19:01.838Z"
   },
   {
    "duration": 299,
    "start_time": "2022-12-09T08:19:01.845Z"
   },
   {
    "duration": 18,
    "start_time": "2022-12-09T08:19:02.145Z"
   },
   {
    "duration": 29,
    "start_time": "2022-12-09T08:19:02.167Z"
   },
   {
    "duration": 58,
    "start_time": "2022-12-09T08:19:02.197Z"
   },
   {
    "duration": 44,
    "start_time": "2022-12-09T08:19:02.262Z"
   },
   {
    "duration": 54,
    "start_time": "2022-12-09T08:19:02.308Z"
   },
   {
    "duration": 24,
    "start_time": "2022-12-09T08:19:02.371Z"
   },
   {
    "duration": 23,
    "start_time": "2022-12-09T08:19:02.397Z"
   },
   {
    "duration": 48,
    "start_time": "2022-12-09T08:19:02.422Z"
   },
   {
    "duration": 40,
    "start_time": "2022-12-09T08:19:02.472Z"
   },
   {
    "duration": 392,
    "start_time": "2022-12-09T08:19:02.514Z"
   },
   {
    "duration": 10,
    "start_time": "2022-12-09T08:19:02.909Z"
   },
   {
    "duration": 19,
    "start_time": "2022-12-09T08:19:02.921Z"
   },
   {
    "duration": 67,
    "start_time": "2022-12-09T08:19:02.941Z"
   },
   {
    "duration": 17,
    "start_time": "2022-12-09T08:19:03.009Z"
   },
   {
    "duration": 215,
    "start_time": "2022-12-09T08:19:03.028Z"
   },
   {
    "duration": 151,
    "start_time": "2022-12-09T08:19:03.245Z"
   },
   {
    "duration": 10,
    "start_time": "2022-12-09T08:19:03.399Z"
   },
   {
    "duration": 371,
    "start_time": "2022-12-09T08:19:03.411Z"
   },
   {
    "duration": 2598,
    "start_time": "2022-12-09T08:19:03.784Z"
   },
   {
    "duration": 375,
    "start_time": "2022-12-09T08:19:06.384Z"
   },
   {
    "duration": 382,
    "start_time": "2022-12-09T08:19:06.768Z"
   },
   {
    "duration": 13,
    "start_time": "2022-12-09T08:19:07.156Z"
   },
   {
    "duration": 130,
    "start_time": "2022-12-09T08:19:07.171Z"
   },
   {
    "duration": 15,
    "start_time": "2022-12-09T08:19:07.303Z"
   },
   {
    "duration": 17,
    "start_time": "2022-12-09T08:19:07.320Z"
   },
   {
    "duration": 23,
    "start_time": "2022-12-09T08:19:07.339Z"
   },
   {
    "duration": 21,
    "start_time": "2022-12-09T08:19:07.364Z"
   },
   {
    "duration": 9,
    "start_time": "2022-12-09T08:19:07.387Z"
   },
   {
    "duration": 17,
    "start_time": "2022-12-09T08:19:07.398Z"
   },
   {
    "duration": 14,
    "start_time": "2022-12-09T08:19:07.417Z"
   },
   {
    "duration": 26,
    "start_time": "2022-12-09T08:19:07.433Z"
   },
   {
    "duration": 24,
    "start_time": "2022-12-09T08:19:07.460Z"
   },
   {
    "duration": 28,
    "start_time": "2022-12-09T08:19:07.486Z"
   },
   {
    "duration": 45,
    "start_time": "2022-12-09T08:19:07.516Z"
   },
   {
    "duration": 24,
    "start_time": "2022-12-09T08:19:07.562Z"
   },
   {
    "duration": 6,
    "start_time": "2022-12-09T08:19:07.588Z"
   },
   {
    "duration": 11,
    "start_time": "2022-12-09T08:19:07.595Z"
   },
   {
    "duration": 56,
    "start_time": "2022-12-09T08:19:07.607Z"
   },
   {
    "duration": 10,
    "start_time": "2022-12-09T08:19:07.666Z"
   },
   {
    "duration": 86,
    "start_time": "2022-12-09T08:19:07.678Z"
   },
   {
    "duration": 22,
    "start_time": "2022-12-09T08:19:07.765Z"
   },
   {
    "duration": 4,
    "start_time": "2022-12-09T08:19:07.789Z"
   },
   {
    "duration": 20,
    "start_time": "2022-12-09T08:19:07.794Z"
   },
   {
    "duration": 390,
    "start_time": "2022-12-09T08:19:07.816Z"
   },
   {
    "duration": 7,
    "start_time": "2022-12-09T08:19:08.208Z"
   },
   {
    "duration": 21,
    "start_time": "2022-12-09T08:19:08.216Z"
   },
   {
    "duration": 532,
    "start_time": "2022-12-09T08:19:08.253Z"
   },
   {
    "duration": 372,
    "start_time": "2022-12-09T08:19:08.787Z"
   },
   {
    "duration": 344,
    "start_time": "2022-12-09T08:19:09.162Z"
   },
   {
    "duration": 380,
    "start_time": "2022-12-09T08:19:09.508Z"
   },
   {
    "duration": 388,
    "start_time": "2022-12-09T08:19:09.890Z"
   },
   {
    "duration": 474,
    "start_time": "2022-12-09T08:19:10.280Z"
   },
   {
    "duration": 357,
    "start_time": "2022-12-09T08:19:10.756Z"
   },
   {
    "duration": 18,
    "start_time": "2022-12-09T08:19:11.114Z"
   },
   {
    "duration": 28,
    "start_time": "2022-12-09T08:19:11.134Z"
   },
   {
    "duration": 403,
    "start_time": "2022-12-09T08:19:11.167Z"
   },
   {
    "duration": 217,
    "start_time": "2022-12-09T08:19:11.572Z"
   },
   {
    "duration": 8,
    "start_time": "2022-12-09T08:19:11.791Z"
   },
   {
    "duration": 1477,
    "start_time": "2022-12-09T08:19:11.801Z"
   },
   {
    "duration": 396,
    "start_time": "2022-12-09T08:19:13.284Z"
   },
   {
    "duration": 25,
    "start_time": "2022-12-09T08:19:13.682Z"
   },
   {
    "duration": 231,
    "start_time": "2022-12-09T08:19:13.709Z"
   },
   {
    "duration": 16,
    "start_time": "2022-12-09T08:19:13.942Z"
   },
   {
    "duration": 49,
    "start_time": "2022-12-09T08:19:13.960Z"
   },
   {
    "duration": 9,
    "start_time": "2022-12-09T08:20:42.063Z"
   },
   {
    "duration": 8,
    "start_time": "2022-12-09T08:20:58.799Z"
   },
   {
    "duration": 21,
    "start_time": "2022-12-09T08:21:00.789Z"
   },
   {
    "duration": 8,
    "start_time": "2022-12-09T08:21:12.317Z"
   },
   {
    "duration": 1304,
    "start_time": "2022-12-09T08:21:29.610Z"
   },
   {
    "duration": 108,
    "start_time": "2022-12-09T08:21:30.917Z"
   },
   {
    "duration": 82,
    "start_time": "2022-12-09T08:21:31.027Z"
   },
   {
    "duration": 24,
    "start_time": "2022-12-09T08:21:31.110Z"
   },
   {
    "duration": 2229,
    "start_time": "2022-12-09T08:21:31.155Z"
   },
   {
    "duration": 179,
    "start_time": "2022-12-09T08:21:33.386Z"
   },
   {
    "duration": 4,
    "start_time": "2022-12-09T08:21:33.567Z"
   },
   {
    "duration": 145,
    "start_time": "2022-12-09T08:21:33.573Z"
   },
   {
    "duration": 4,
    "start_time": "2022-12-09T08:21:33.719Z"
   },
   {
    "duration": 11,
    "start_time": "2022-12-09T08:21:33.725Z"
   },
   {
    "duration": 78,
    "start_time": "2022-12-09T08:21:33.738Z"
   },
   {
    "duration": 8,
    "start_time": "2022-12-09T08:21:33.817Z"
   },
   {
    "duration": 166,
    "start_time": "2022-12-09T08:21:33.827Z"
   },
   {
    "duration": 10,
    "start_time": "2022-12-09T08:21:33.998Z"
   },
   {
    "duration": 11,
    "start_time": "2022-12-09T08:21:34.010Z"
   },
   {
    "duration": 7,
    "start_time": "2022-12-09T08:21:34.023Z"
   },
   {
    "duration": 6,
    "start_time": "2022-12-09T08:21:34.050Z"
   },
   {
    "duration": 12,
    "start_time": "2022-12-09T08:21:34.063Z"
   },
   {
    "duration": 18,
    "start_time": "2022-12-09T08:21:34.076Z"
   },
   {
    "duration": 53,
    "start_time": "2022-12-09T08:21:34.096Z"
   },
   {
    "duration": 9,
    "start_time": "2022-12-09T08:21:34.153Z"
   },
   {
    "duration": 246,
    "start_time": "2022-12-09T08:21:34.164Z"
   },
   {
    "duration": 8,
    "start_time": "2022-12-09T08:21:34.412Z"
   },
   {
    "duration": 4,
    "start_time": "2022-12-09T08:21:34.422Z"
   },
   {
    "duration": 31,
    "start_time": "2022-12-09T08:21:34.428Z"
   },
   {
    "duration": 15,
    "start_time": "2022-12-09T08:21:34.461Z"
   },
   {
    "duration": 17,
    "start_time": "2022-12-09T08:21:34.478Z"
   },
   {
    "duration": 10,
    "start_time": "2022-12-09T08:21:34.497Z"
   },
   {
    "duration": 5,
    "start_time": "2022-12-09T08:21:34.508Z"
   },
   {
    "duration": 12,
    "start_time": "2022-12-09T08:21:34.514Z"
   },
   {
    "duration": 9,
    "start_time": "2022-12-09T08:21:34.528Z"
   },
   {
    "duration": 373,
    "start_time": "2022-12-09T08:21:34.554Z"
   },
   {
    "duration": 28,
    "start_time": "2022-12-09T08:21:34.928Z"
   },
   {
    "duration": 3,
    "start_time": "2022-12-09T08:21:34.960Z"
   },
   {
    "duration": 46,
    "start_time": "2022-12-09T08:21:34.967Z"
   },
   {
    "duration": 3,
    "start_time": "2022-12-09T08:21:35.015Z"
   },
   {
    "duration": 188,
    "start_time": "2022-12-09T08:21:35.020Z"
   },
   {
    "duration": 133,
    "start_time": "2022-12-09T08:21:35.210Z"
   },
   {
    "duration": 14,
    "start_time": "2022-12-09T08:21:35.355Z"
   },
   {
    "duration": 348,
    "start_time": "2022-12-09T08:21:35.371Z"
   },
   {
    "duration": 2604,
    "start_time": "2022-12-09T08:21:35.724Z"
   },
   {
    "duration": 356,
    "start_time": "2022-12-09T08:21:38.330Z"
   },
   {
    "duration": 358,
    "start_time": "2022-12-09T08:21:38.688Z"
   },
   {
    "duration": 19,
    "start_time": "2022-12-09T08:21:39.051Z"
   },
   {
    "duration": 131,
    "start_time": "2022-12-09T08:21:39.072Z"
   },
   {
    "duration": 17,
    "start_time": "2022-12-09T08:21:39.205Z"
   },
   {
    "duration": 37,
    "start_time": "2022-12-09T08:21:39.224Z"
   },
   {
    "duration": 9,
    "start_time": "2022-12-09T08:21:39.263Z"
   },
   {
    "duration": 29,
    "start_time": "2022-12-09T08:21:39.275Z"
   },
   {
    "duration": 4,
    "start_time": "2022-12-09T08:21:39.306Z"
   },
   {
    "duration": 22,
    "start_time": "2022-12-09T08:21:39.313Z"
   },
   {
    "duration": 14,
    "start_time": "2022-12-09T08:21:39.337Z"
   },
   {
    "duration": 18,
    "start_time": "2022-12-09T08:21:39.356Z"
   },
   {
    "duration": 9,
    "start_time": "2022-12-09T08:21:39.376Z"
   },
   {
    "duration": 10,
    "start_time": "2022-12-09T08:21:39.387Z"
   },
   {
    "duration": 9,
    "start_time": "2022-12-09T08:21:39.399Z"
   },
   {
    "duration": 9,
    "start_time": "2022-12-09T08:21:39.411Z"
   },
   {
    "duration": 40,
    "start_time": "2022-12-09T08:21:39.421Z"
   },
   {
    "duration": 17,
    "start_time": "2022-12-09T08:21:39.463Z"
   },
   {
    "duration": 50,
    "start_time": "2022-12-09T08:21:39.481Z"
   },
   {
    "duration": 32,
    "start_time": "2022-12-09T08:21:39.533Z"
   },
   {
    "duration": 87,
    "start_time": "2022-12-09T08:21:39.566Z"
   },
   {
    "duration": 30,
    "start_time": "2022-12-09T08:21:39.654Z"
   },
   {
    "duration": 13,
    "start_time": "2022-12-09T08:21:39.686Z"
   },
   {
    "duration": 27,
    "start_time": "2022-12-09T08:21:39.701Z"
   },
   {
    "duration": 435,
    "start_time": "2022-12-09T08:21:39.730Z"
   },
   {
    "duration": 8,
    "start_time": "2022-12-09T08:21:40.172Z"
   },
   {
    "duration": 20,
    "start_time": "2022-12-09T08:21:40.182Z"
   },
   {
    "duration": 565,
    "start_time": "2022-12-09T08:21:40.205Z"
   },
   {
    "duration": 355,
    "start_time": "2022-12-09T08:21:40.772Z"
   },
   {
    "duration": 345,
    "start_time": "2022-12-09T08:21:41.129Z"
   },
   {
    "duration": 313,
    "start_time": "2022-12-09T08:21:41.476Z"
   },
   {
    "duration": 340,
    "start_time": "2022-12-09T08:21:41.791Z"
   },
   {
    "duration": 458,
    "start_time": "2022-12-09T08:21:42.134Z"
   },
   {
    "duration": 339,
    "start_time": "2022-12-09T08:21:42.594Z"
   },
   {
    "duration": 34,
    "start_time": "2022-12-09T08:21:42.935Z"
   },
   {
    "duration": 11,
    "start_time": "2022-12-09T08:21:42.973Z"
   },
   {
    "duration": 419,
    "start_time": "2022-12-09T08:21:42.986Z"
   },
   {
    "duration": 186,
    "start_time": "2022-12-09T08:21:43.407Z"
   },
   {
    "duration": 8,
    "start_time": "2022-12-09T08:21:43.595Z"
   },
   {
    "duration": 1507,
    "start_time": "2022-12-09T08:21:43.606Z"
   },
   {
    "duration": 378,
    "start_time": "2022-12-09T08:21:45.115Z"
   },
   {
    "duration": 18,
    "start_time": "2022-12-09T08:21:45.495Z"
   },
   {
    "duration": 223,
    "start_time": "2022-12-09T08:21:45.515Z"
   },
   {
    "duration": 6,
    "start_time": "2022-12-09T08:21:45.740Z"
   },
   {
    "duration": 28,
    "start_time": "2022-12-09T08:21:45.751Z"
   },
   {
    "duration": 128,
    "start_time": "2022-12-09T08:22:31.919Z"
   },
   {
    "duration": 30,
    "start_time": "2022-12-09T08:22:59.140Z"
   },
   {
    "duration": 27,
    "start_time": "2022-12-09T08:23:11.679Z"
   },
   {
    "duration": 11,
    "start_time": "2022-12-09T08:23:19.090Z"
   },
   {
    "duration": 35,
    "start_time": "2022-12-09T08:23:20.349Z"
   },
   {
    "duration": 105,
    "start_time": "2022-12-09T08:24:18.718Z"
   },
   {
    "duration": 15,
    "start_time": "2022-12-09T08:24:24.699Z"
   },
   {
    "duration": 19,
    "start_time": "2022-12-09T08:24:33.778Z"
   },
   {
    "duration": 318,
    "start_time": "2022-12-09T08:25:14.809Z"
   },
   {
    "duration": 302,
    "start_time": "2022-12-09T08:25:26.689Z"
   },
   {
    "duration": 1269,
    "start_time": "2022-12-09T08:28:47.419Z"
   },
   {
    "duration": 3,
    "start_time": "2022-12-09T08:29:42.852Z"
   },
   {
    "duration": 4,
    "start_time": "2022-12-09T08:29:46.629Z"
   },
   {
    "duration": 295,
    "start_time": "2022-12-09T08:29:52.089Z"
   },
   {
    "duration": 433,
    "start_time": "2022-12-09T08:38:45.604Z"
   },
   {
    "duration": 22,
    "start_time": "2022-12-09T08:39:52.874Z"
   },
   {
    "duration": 17,
    "start_time": "2022-12-09T08:40:07.365Z"
   },
   {
    "duration": 29,
    "start_time": "2022-12-09T08:41:02.473Z"
   },
   {
    "duration": 31,
    "start_time": "2022-12-09T08:41:43.043Z"
   },
   {
    "duration": 28,
    "start_time": "2022-12-09T08:41:55.567Z"
   },
   {
    "duration": 31,
    "start_time": "2022-12-09T08:42:08.404Z"
   },
   {
    "duration": 46,
    "start_time": "2022-12-09T08:42:29.724Z"
   },
   {
    "duration": 20,
    "start_time": "2022-12-09T08:47:22.237Z"
   },
   {
    "duration": 31,
    "start_time": "2022-12-09T08:47:34.696Z"
   },
   {
    "duration": 179,
    "start_time": "2022-12-09T08:48:20.780Z"
   },
   {
    "duration": 1280,
    "start_time": "2022-12-09T09:05:06.325Z"
   },
   {
    "duration": 39,
    "start_time": "2022-12-09T09:05:31.775Z"
   },
   {
    "duration": 25,
    "start_time": "2022-12-09T09:06:09.125Z"
   },
   {
    "duration": 32,
    "start_time": "2022-12-09T09:06:21.395Z"
   },
   {
    "duration": 32,
    "start_time": "2022-12-09T09:07:19.504Z"
   },
   {
    "duration": 29,
    "start_time": "2022-12-09T09:08:15.415Z"
   },
   {
    "duration": 42,
    "start_time": "2022-12-09T09:08:26.845Z"
   },
   {
    "duration": 76,
    "start_time": "2022-12-09T09:10:04.945Z"
   },
   {
    "duration": 1331,
    "start_time": "2022-12-09T09:14:35.139Z"
   },
   {
    "duration": 99,
    "start_time": "2022-12-09T09:14:36.472Z"
   },
   {
    "duration": 83,
    "start_time": "2022-12-09T09:14:36.573Z"
   },
   {
    "duration": 25,
    "start_time": "2022-12-09T09:14:36.658Z"
   },
   {
    "duration": 2163,
    "start_time": "2022-12-09T09:14:36.685Z"
   },
   {
    "duration": 212,
    "start_time": "2022-12-09T09:14:38.851Z"
   },
   {
    "duration": 4,
    "start_time": "2022-12-09T09:14:39.065Z"
   },
   {
    "duration": 124,
    "start_time": "2022-12-09T09:14:39.071Z"
   },
   {
    "duration": 10,
    "start_time": "2022-12-09T09:14:39.197Z"
   },
   {
    "duration": 21,
    "start_time": "2022-12-09T09:14:39.211Z"
   },
   {
    "duration": 81,
    "start_time": "2022-12-09T09:14:39.235Z"
   },
   {
    "duration": 9,
    "start_time": "2022-12-09T09:14:39.318Z"
   },
   {
    "duration": 163,
    "start_time": "2022-12-09T09:14:39.330Z"
   },
   {
    "duration": 9,
    "start_time": "2022-12-09T09:14:39.495Z"
   },
   {
    "duration": 12,
    "start_time": "2022-12-09T09:14:39.506Z"
   },
   {
    "duration": 15,
    "start_time": "2022-12-09T09:14:39.521Z"
   },
   {
    "duration": 3,
    "start_time": "2022-12-09T09:14:39.552Z"
   },
   {
    "duration": 12,
    "start_time": "2022-12-09T09:14:39.557Z"
   },
   {
    "duration": 24,
    "start_time": "2022-12-09T09:14:39.571Z"
   },
   {
    "duration": 84,
    "start_time": "2022-12-09T09:14:39.598Z"
   },
   {
    "duration": 6,
    "start_time": "2022-12-09T09:14:39.685Z"
   },
   {
    "duration": 341,
    "start_time": "2022-12-09T09:14:39.693Z"
   },
   {
    "duration": 18,
    "start_time": "2022-12-09T09:14:40.036Z"
   },
   {
    "duration": 4,
    "start_time": "2022-12-09T09:14:40.057Z"
   },
   {
    "duration": 33,
    "start_time": "2022-12-09T09:14:40.062Z"
   },
   {
    "duration": 19,
    "start_time": "2022-12-09T09:14:40.097Z"
   },
   {
    "duration": 16,
    "start_time": "2022-12-09T09:14:40.118Z"
   },
   {
    "duration": 12,
    "start_time": "2022-12-09T09:14:40.141Z"
   },
   {
    "duration": 12,
    "start_time": "2022-12-09T09:14:40.155Z"
   },
   {
    "duration": 16,
    "start_time": "2022-12-09T09:14:40.169Z"
   },
   {
    "duration": 10,
    "start_time": "2022-12-09T09:14:40.187Z"
   },
   {
    "duration": 427,
    "start_time": "2022-12-09T09:14:40.200Z"
   },
   {
    "duration": 23,
    "start_time": "2022-12-09T09:14:40.629Z"
   },
   {
    "duration": 5,
    "start_time": "2022-12-09T09:14:40.654Z"
   },
   {
    "duration": 53,
    "start_time": "2022-12-09T09:14:40.661Z"
   },
   {
    "duration": 4,
    "start_time": "2022-12-09T09:14:40.717Z"
   },
   {
    "duration": 196,
    "start_time": "2022-12-09T09:14:40.722Z"
   },
   {
    "duration": 125,
    "start_time": "2022-12-09T09:14:40.920Z"
   },
   {
    "duration": 9,
    "start_time": "2022-12-09T09:14:41.051Z"
   },
   {
    "duration": 356,
    "start_time": "2022-12-09T09:14:41.063Z"
   },
   {
    "duration": 2689,
    "start_time": "2022-12-09T09:14:41.421Z"
   },
   {
    "duration": 382,
    "start_time": "2022-12-09T09:14:44.112Z"
   },
   {
    "duration": 375,
    "start_time": "2022-12-09T09:14:44.495Z"
   },
   {
    "duration": 11,
    "start_time": "2022-12-09T09:14:44.872Z"
   },
   {
    "duration": 327,
    "start_time": "2022-12-09T09:14:44.885Z"
   },
   {
    "duration": 21,
    "start_time": "2022-12-09T09:14:45.215Z"
   },
   {
    "duration": 14,
    "start_time": "2022-12-09T09:14:45.250Z"
   },
   {
    "duration": 6,
    "start_time": "2022-12-09T09:14:45.266Z"
   },
   {
    "duration": 21,
    "start_time": "2022-12-09T09:14:45.274Z"
   },
   {
    "duration": 5,
    "start_time": "2022-12-09T09:14:45.297Z"
   },
   {
    "duration": 17,
    "start_time": "2022-12-09T09:14:45.304Z"
   },
   {
    "duration": 35,
    "start_time": "2022-12-09T09:14:45.323Z"
   },
   {
    "duration": 14,
    "start_time": "2022-12-09T09:14:45.360Z"
   },
   {
    "duration": 10,
    "start_time": "2022-12-09T09:14:45.376Z"
   },
   {
    "duration": 13,
    "start_time": "2022-12-09T09:14:45.387Z"
   },
   {
    "duration": 9,
    "start_time": "2022-12-09T09:14:45.402Z"
   },
   {
    "duration": 45,
    "start_time": "2022-12-09T09:14:45.413Z"
   },
   {
    "duration": 8,
    "start_time": "2022-12-09T09:14:45.460Z"
   },
   {
    "duration": 15,
    "start_time": "2022-12-09T09:14:45.470Z"
   },
   {
    "duration": 69,
    "start_time": "2022-12-09T09:14:45.487Z"
   },
   {
    "duration": 10,
    "start_time": "2022-12-09T09:14:45.558Z"
   },
   {
    "duration": 65,
    "start_time": "2022-12-09T09:14:45.570Z"
   },
   {
    "duration": 27,
    "start_time": "2022-12-09T09:14:45.652Z"
   },
   {
    "duration": 5,
    "start_time": "2022-12-09T09:14:45.681Z"
   },
   {
    "duration": 33,
    "start_time": "2022-12-09T09:14:45.688Z"
   },
   {
    "duration": 386,
    "start_time": "2022-12-09T09:14:45.723Z"
   },
   {
    "duration": 9,
    "start_time": "2022-12-09T09:14:46.111Z"
   },
   {
    "duration": 31,
    "start_time": "2022-12-09T09:14:46.121Z"
   },
   {
    "duration": 513,
    "start_time": "2022-12-09T09:14:46.155Z"
   },
   {
    "duration": 350,
    "start_time": "2022-12-09T09:14:46.670Z"
   },
   {
    "duration": 345,
    "start_time": "2022-12-09T09:14:47.022Z"
   },
   {
    "duration": 295,
    "start_time": "2022-12-09T09:14:47.369Z"
   },
   {
    "duration": 357,
    "start_time": "2022-12-09T09:14:47.665Z"
   },
   {
    "duration": 538,
    "start_time": "2022-12-09T09:14:48.024Z"
   },
   {
    "duration": 330,
    "start_time": "2022-12-09T09:14:48.564Z"
   },
   {
    "duration": 17,
    "start_time": "2022-12-09T09:14:48.895Z"
   },
   {
    "duration": 8,
    "start_time": "2022-12-09T09:14:48.914Z"
   },
   {
    "duration": 474,
    "start_time": "2022-12-09T09:14:48.924Z"
   },
   {
    "duration": 232,
    "start_time": "2022-12-09T09:14:49.400Z"
   },
   {
    "duration": 16,
    "start_time": "2022-12-09T09:14:49.635Z"
   },
   {
    "duration": 2065,
    "start_time": "2022-12-09T09:14:49.653Z"
   },
   {
    "duration": 381,
    "start_time": "2022-12-09T09:14:51.724Z"
   },
   {
    "duration": 51,
    "start_time": "2022-12-09T09:14:52.107Z"
   },
   {
    "duration": 248,
    "start_time": "2022-12-09T09:14:52.161Z"
   },
   {
    "duration": 10,
    "start_time": "2022-12-09T09:14:52.411Z"
   },
   {
    "duration": 39,
    "start_time": "2022-12-09T09:14:52.423Z"
   },
   {
    "duration": 328,
    "start_time": "2022-12-09T09:14:52.464Z"
   },
   {
    "duration": 5907,
    "start_time": "2022-12-09T09:16:28.200Z"
   },
   {
    "duration": 34,
    "start_time": "2022-12-09T09:17:38.628Z"
   },
   {
    "duration": 33,
    "start_time": "2022-12-09T09:17:48.689Z"
   },
   {
    "duration": 1295,
    "start_time": "2022-12-09T09:18:02.760Z"
   },
   {
    "duration": 114,
    "start_time": "2022-12-09T09:18:04.057Z"
   },
   {
    "duration": 77,
    "start_time": "2022-12-09T09:18:04.174Z"
   },
   {
    "duration": 23,
    "start_time": "2022-12-09T09:18:04.253Z"
   },
   {
    "duration": 2170,
    "start_time": "2022-12-09T09:18:04.278Z"
   },
   {
    "duration": 185,
    "start_time": "2022-12-09T09:18:06.451Z"
   },
   {
    "duration": 4,
    "start_time": "2022-12-09T09:18:06.638Z"
   },
   {
    "duration": 104,
    "start_time": "2022-12-09T09:18:06.650Z"
   },
   {
    "duration": 3,
    "start_time": "2022-12-09T09:18:06.757Z"
   },
   {
    "duration": 13,
    "start_time": "2022-12-09T09:18:06.763Z"
   },
   {
    "duration": 48,
    "start_time": "2022-12-09T09:18:06.778Z"
   },
   {
    "duration": 28,
    "start_time": "2022-12-09T09:18:06.828Z"
   },
   {
    "duration": 150,
    "start_time": "2022-12-09T09:18:06.858Z"
   },
   {
    "duration": 10,
    "start_time": "2022-12-09T09:18:07.010Z"
   },
   {
    "duration": 14,
    "start_time": "2022-12-09T09:18:07.021Z"
   },
   {
    "duration": 20,
    "start_time": "2022-12-09T09:18:07.037Z"
   },
   {
    "duration": 8,
    "start_time": "2022-12-09T09:18:07.058Z"
   },
   {
    "duration": 7,
    "start_time": "2022-12-09T09:18:07.068Z"
   },
   {
    "duration": 18,
    "start_time": "2022-12-09T09:18:07.077Z"
   },
   {
    "duration": 69,
    "start_time": "2022-12-09T09:18:07.097Z"
   },
   {
    "duration": 6,
    "start_time": "2022-12-09T09:18:07.168Z"
   },
   {
    "duration": 299,
    "start_time": "2022-12-09T09:18:07.177Z"
   },
   {
    "duration": 8,
    "start_time": "2022-12-09T09:18:07.477Z"
   },
   {
    "duration": 9,
    "start_time": "2022-12-09T09:18:07.487Z"
   },
   {
    "duration": 25,
    "start_time": "2022-12-09T09:18:07.498Z"
   },
   {
    "duration": 12,
    "start_time": "2022-12-09T09:18:07.525Z"
   },
   {
    "duration": 22,
    "start_time": "2022-12-09T09:18:07.539Z"
   },
   {
    "duration": 14,
    "start_time": "2022-12-09T09:18:07.566Z"
   },
   {
    "duration": 8,
    "start_time": "2022-12-09T09:18:07.581Z"
   },
   {
    "duration": 17,
    "start_time": "2022-12-09T09:18:07.590Z"
   },
   {
    "duration": 9,
    "start_time": "2022-12-09T09:18:07.609Z"
   },
   {
    "duration": 362,
    "start_time": "2022-12-09T09:18:07.619Z"
   },
   {
    "duration": 13,
    "start_time": "2022-12-09T09:18:07.983Z"
   },
   {
    "duration": 3,
    "start_time": "2022-12-09T09:18:07.998Z"
   },
   {
    "duration": 68,
    "start_time": "2022-12-09T09:18:08.003Z"
   },
   {
    "duration": 3,
    "start_time": "2022-12-09T09:18:08.073Z"
   },
   {
    "duration": 196,
    "start_time": "2022-12-09T09:18:08.078Z"
   },
   {
    "duration": 126,
    "start_time": "2022-12-09T09:18:08.275Z"
   },
   {
    "duration": 8,
    "start_time": "2022-12-09T09:18:08.403Z"
   },
   {
    "duration": 367,
    "start_time": "2022-12-09T09:18:08.413Z"
   },
   {
    "duration": 2768,
    "start_time": "2022-12-09T09:18:08.783Z"
   },
   {
    "duration": 384,
    "start_time": "2022-12-09T09:18:11.553Z"
   },
   {
    "duration": 369,
    "start_time": "2022-12-09T09:18:11.939Z"
   },
   {
    "duration": 9,
    "start_time": "2022-12-09T09:18:12.310Z"
   },
   {
    "duration": 130,
    "start_time": "2022-12-09T09:18:12.321Z"
   },
   {
    "duration": 16,
    "start_time": "2022-12-09T09:18:12.453Z"
   },
   {
    "duration": 13,
    "start_time": "2022-12-09T09:18:12.471Z"
   },
   {
    "duration": 7,
    "start_time": "2022-12-09T09:18:12.485Z"
   },
   {
    "duration": 20,
    "start_time": "2022-12-09T09:18:12.493Z"
   },
   {
    "duration": 36,
    "start_time": "2022-12-09T09:18:12.515Z"
   },
   {
    "duration": 14,
    "start_time": "2022-12-09T09:18:12.553Z"
   },
   {
    "duration": 12,
    "start_time": "2022-12-09T09:18:12.569Z"
   },
   {
    "duration": 11,
    "start_time": "2022-12-09T09:18:12.583Z"
   },
   {
    "duration": 10,
    "start_time": "2022-12-09T09:18:12.596Z"
   },
   {
    "duration": 48,
    "start_time": "2022-12-09T09:18:12.608Z"
   },
   {
    "duration": 9,
    "start_time": "2022-12-09T09:18:12.658Z"
   },
   {
    "duration": 9,
    "start_time": "2022-12-09T09:18:12.669Z"
   },
   {
    "duration": 6,
    "start_time": "2022-12-09T09:18:12.680Z"
   },
   {
    "duration": 14,
    "start_time": "2022-12-09T09:18:12.689Z"
   },
   {
    "duration": 115,
    "start_time": "2022-12-09T09:18:12.705Z"
   },
   {
    "duration": 10,
    "start_time": "2022-12-09T09:18:12.823Z"
   },
   {
    "duration": 88,
    "start_time": "2022-12-09T09:18:12.835Z"
   },
   {
    "duration": 37,
    "start_time": "2022-12-09T09:18:12.925Z"
   },
   {
    "duration": 5,
    "start_time": "2022-12-09T09:18:12.964Z"
   },
   {
    "duration": 21,
    "start_time": "2022-12-09T09:18:12.971Z"
   },
   {
    "duration": 372,
    "start_time": "2022-12-09T09:18:12.995Z"
   },
   {
    "duration": 8,
    "start_time": "2022-12-09T09:18:13.369Z"
   },
   {
    "duration": 28,
    "start_time": "2022-12-09T09:18:13.379Z"
   },
   {
    "duration": 536,
    "start_time": "2022-12-09T09:18:13.410Z"
   },
   {
    "duration": 363,
    "start_time": "2022-12-09T09:18:13.948Z"
   },
   {
    "duration": 350,
    "start_time": "2022-12-09T09:18:14.313Z"
   },
   {
    "duration": 292,
    "start_time": "2022-12-09T09:18:14.665Z"
   },
   {
    "duration": 335,
    "start_time": "2022-12-09T09:18:14.959Z"
   },
   {
    "duration": 449,
    "start_time": "2022-12-09T09:18:15.296Z"
   },
   {
    "duration": 329,
    "start_time": "2022-12-09T09:18:15.750Z"
   },
   {
    "duration": 17,
    "start_time": "2022-12-09T09:18:16.081Z"
   },
   {
    "duration": 9,
    "start_time": "2022-12-09T09:18:16.100Z"
   },
   {
    "duration": 454,
    "start_time": "2022-12-09T09:18:16.111Z"
   },
   {
    "duration": 193,
    "start_time": "2022-12-09T09:18:16.569Z"
   },
   {
    "duration": 8,
    "start_time": "2022-12-09T09:18:16.763Z"
   },
   {
    "duration": 1452,
    "start_time": "2022-12-09T09:18:16.773Z"
   },
   {
    "duration": 362,
    "start_time": "2022-12-09T09:18:18.232Z"
   },
   {
    "duration": 32,
    "start_time": "2022-12-09T09:18:18.597Z"
   },
   {
    "duration": 207,
    "start_time": "2022-12-09T09:18:18.631Z"
   },
   {
    "duration": 12,
    "start_time": "2022-12-09T09:18:18.840Z"
   },
   {
    "duration": 27,
    "start_time": "2022-12-09T09:18:18.855Z"
   },
   {
    "duration": 340,
    "start_time": "2022-12-09T09:18:18.884Z"
   },
   {
    "duration": 1316,
    "start_time": "2022-12-09T09:25:37.459Z"
   },
   {
    "duration": 106,
    "start_time": "2022-12-09T09:25:38.778Z"
   },
   {
    "duration": 87,
    "start_time": "2022-12-09T09:25:38.886Z"
   },
   {
    "duration": 26,
    "start_time": "2022-12-09T09:25:38.976Z"
   },
   {
    "duration": 2488,
    "start_time": "2022-12-09T09:25:39.004Z"
   },
   {
    "duration": 189,
    "start_time": "2022-12-09T09:25:41.494Z"
   },
   {
    "duration": 5,
    "start_time": "2022-12-09T09:25:41.686Z"
   },
   {
    "duration": 121,
    "start_time": "2022-12-09T09:25:41.693Z"
   },
   {
    "duration": 5,
    "start_time": "2022-12-09T09:25:41.816Z"
   },
   {
    "duration": 32,
    "start_time": "2022-12-09T09:25:41.825Z"
   },
   {
    "duration": 50,
    "start_time": "2022-12-09T09:25:41.860Z"
   },
   {
    "duration": 8,
    "start_time": "2022-12-09T09:25:41.912Z"
   },
   {
    "duration": 204,
    "start_time": "2022-12-09T09:25:41.922Z"
   },
   {
    "duration": 22,
    "start_time": "2022-12-09T09:25:42.129Z"
   },
   {
    "duration": 7,
    "start_time": "2022-12-09T09:25:42.153Z"
   },
   {
    "duration": 16,
    "start_time": "2022-12-09T09:25:42.163Z"
   },
   {
    "duration": 8,
    "start_time": "2022-12-09T09:25:42.181Z"
   },
   {
    "duration": 13,
    "start_time": "2022-12-09T09:25:42.192Z"
   },
   {
    "duration": 31,
    "start_time": "2022-12-09T09:25:42.208Z"
   },
   {
    "duration": 72,
    "start_time": "2022-12-09T09:25:42.241Z"
   },
   {
    "duration": 7,
    "start_time": "2022-12-09T09:25:42.316Z"
   },
   {
    "duration": 279,
    "start_time": "2022-12-09T09:25:42.325Z"
   },
   {
    "duration": 8,
    "start_time": "2022-12-09T09:25:42.606Z"
   },
   {
    "duration": 7,
    "start_time": "2022-12-09T09:25:42.616Z"
   },
   {
    "duration": 32,
    "start_time": "2022-12-09T09:25:42.626Z"
   },
   {
    "duration": 3,
    "start_time": "2022-12-09T09:25:42.660Z"
   },
   {
    "duration": 12,
    "start_time": "2022-12-09T09:25:42.665Z"
   },
   {
    "duration": 16,
    "start_time": "2022-12-09T09:25:42.684Z"
   },
   {
    "duration": 8,
    "start_time": "2022-12-09T09:25:42.703Z"
   },
   {
    "duration": 47,
    "start_time": "2022-12-09T09:25:42.713Z"
   },
   {
    "duration": 11,
    "start_time": "2022-12-09T09:25:42.762Z"
   },
   {
    "duration": 385,
    "start_time": "2022-12-09T09:25:42.775Z"
   },
   {
    "duration": 16,
    "start_time": "2022-12-09T09:25:43.161Z"
   },
   {
    "duration": 3,
    "start_time": "2022-12-09T09:25:43.180Z"
   },
   {
    "duration": 67,
    "start_time": "2022-12-09T09:25:43.185Z"
   },
   {
    "duration": 3,
    "start_time": "2022-12-09T09:25:43.254Z"
   },
   {
    "duration": 252,
    "start_time": "2022-12-09T09:25:43.259Z"
   },
   {
    "duration": 127,
    "start_time": "2022-12-09T09:25:43.513Z"
   },
   {
    "duration": 14,
    "start_time": "2022-12-09T09:25:43.642Z"
   },
   {
    "duration": 471,
    "start_time": "2022-12-09T09:25:43.658Z"
   },
   {
    "duration": 2702,
    "start_time": "2022-12-09T09:25:44.131Z"
   },
   {
    "duration": 466,
    "start_time": "2022-12-09T09:25:46.838Z"
   },
   {
    "duration": 419,
    "start_time": "2022-12-09T09:25:47.306Z"
   },
   {
    "duration": 25,
    "start_time": "2022-12-09T09:25:47.726Z"
   },
   {
    "duration": 137,
    "start_time": "2022-12-09T09:25:47.753Z"
   },
   {
    "duration": 16,
    "start_time": "2022-12-09T09:25:47.892Z"
   },
   {
    "duration": 16,
    "start_time": "2022-12-09T09:25:47.910Z"
   },
   {
    "duration": 6,
    "start_time": "2022-12-09T09:25:47.950Z"
   },
   {
    "duration": 27,
    "start_time": "2022-12-09T09:25:47.958Z"
   },
   {
    "duration": 6,
    "start_time": "2022-12-09T09:25:47.987Z"
   },
   {
    "duration": 15,
    "start_time": "2022-12-09T09:25:47.995Z"
   },
   {
    "duration": 43,
    "start_time": "2022-12-09T09:25:48.013Z"
   },
   {
    "duration": 10,
    "start_time": "2022-12-09T09:25:48.058Z"
   },
   {
    "duration": 10,
    "start_time": "2022-12-09T09:25:48.070Z"
   },
   {
    "duration": 15,
    "start_time": "2022-12-09T09:25:48.083Z"
   },
   {
    "duration": 20,
    "start_time": "2022-12-09T09:25:48.100Z"
   },
   {
    "duration": 38,
    "start_time": "2022-12-09T09:25:48.122Z"
   },
   {
    "duration": 7,
    "start_time": "2022-12-09T09:25:48.162Z"
   },
   {
    "duration": 17,
    "start_time": "2022-12-09T09:25:48.171Z"
   },
   {
    "duration": 117,
    "start_time": "2022-12-09T09:25:48.191Z"
   },
   {
    "duration": 12,
    "start_time": "2022-12-09T09:25:48.310Z"
   },
   {
    "duration": 75,
    "start_time": "2022-12-09T09:25:48.324Z"
   },
   {
    "duration": 23,
    "start_time": "2022-12-09T09:25:48.401Z"
   },
   {
    "duration": 5,
    "start_time": "2022-12-09T09:25:48.425Z"
   },
   {
    "duration": 17,
    "start_time": "2022-12-09T09:25:48.452Z"
   },
   {
    "duration": 444,
    "start_time": "2022-12-09T09:25:48.472Z"
   },
   {
    "duration": 9,
    "start_time": "2022-12-09T09:25:48.918Z"
   },
   {
    "duration": 34,
    "start_time": "2022-12-09T09:25:48.929Z"
   },
   {
    "duration": 547,
    "start_time": "2022-12-09T09:25:48.965Z"
   },
   {
    "duration": 453,
    "start_time": "2022-12-09T09:25:49.515Z"
   },
   {
    "duration": 373,
    "start_time": "2022-12-09T09:25:49.971Z"
   },
   {
    "duration": 361,
    "start_time": "2022-12-09T09:25:50.351Z"
   },
   {
    "duration": 456,
    "start_time": "2022-12-09T09:25:50.714Z"
   },
   {
    "duration": 353,
    "start_time": "2022-12-09T09:25:51.172Z"
   },
   {
    "duration": 337,
    "start_time": "2022-12-09T09:25:51.527Z"
   },
   {
    "duration": 26,
    "start_time": "2022-12-09T09:25:51.868Z"
   },
   {
    "duration": 13,
    "start_time": "2022-12-09T09:25:51.897Z"
   },
   {
    "duration": 459,
    "start_time": "2022-12-09T09:25:51.912Z"
   },
   {
    "duration": 217,
    "start_time": "2022-12-09T09:25:52.373Z"
   },
   {
    "duration": 8,
    "start_time": "2022-12-09T09:25:52.593Z"
   },
   {
    "duration": 1528,
    "start_time": "2022-12-09T09:25:52.604Z"
   },
   {
    "duration": 410,
    "start_time": "2022-12-09T09:25:54.141Z"
   },
   {
    "duration": 35,
    "start_time": "2022-12-09T09:25:54.553Z"
   },
   {
    "duration": 238,
    "start_time": "2022-12-09T09:25:54.590Z"
   },
   {
    "duration": 38,
    "start_time": "2022-12-09T09:25:54.830Z"
   },
   {
    "duration": 306,
    "start_time": "2022-12-09T09:25:54.870Z"
   },
   {
    "duration": 1147,
    "start_time": "2022-12-09T14:58:41.076Z"
   },
   {
    "duration": 100,
    "start_time": "2022-12-09T14:58:42.225Z"
   },
   {
    "duration": 76,
    "start_time": "2022-12-09T14:58:42.327Z"
   },
   {
    "duration": 45,
    "start_time": "2022-12-09T14:58:42.406Z"
   },
   {
    "duration": 2050,
    "start_time": "2022-12-09T14:58:42.453Z"
   },
   {
    "duration": 172,
    "start_time": "2022-12-09T14:58:44.505Z"
   },
   {
    "duration": 4,
    "start_time": "2022-12-09T14:58:44.678Z"
   },
   {
    "duration": 101,
    "start_time": "2022-12-09T14:58:44.684Z"
   },
   {
    "duration": 4,
    "start_time": "2022-12-09T14:58:44.787Z"
   },
   {
    "duration": 10,
    "start_time": "2022-12-09T14:58:44.793Z"
   },
   {
    "duration": 54,
    "start_time": "2022-12-09T14:58:44.805Z"
   },
   {
    "duration": 7,
    "start_time": "2022-12-09T14:58:44.861Z"
   },
   {
    "duration": 145,
    "start_time": "2022-12-09T14:58:44.870Z"
   },
   {
    "duration": 8,
    "start_time": "2022-12-09T14:58:45.017Z"
   },
   {
    "duration": 29,
    "start_time": "2022-12-09T14:58:45.027Z"
   },
   {
    "duration": 14,
    "start_time": "2022-12-09T14:58:45.057Z"
   },
   {
    "duration": 8,
    "start_time": "2022-12-09T14:58:45.073Z"
   },
   {
    "duration": 12,
    "start_time": "2022-12-09T14:58:45.083Z"
   },
   {
    "duration": 18,
    "start_time": "2022-12-09T14:58:45.097Z"
   },
   {
    "duration": 50,
    "start_time": "2022-12-09T14:58:45.117Z"
   },
   {
    "duration": 5,
    "start_time": "2022-12-09T14:58:45.168Z"
   },
   {
    "duration": 237,
    "start_time": "2022-12-09T14:58:45.175Z"
   },
   {
    "duration": 6,
    "start_time": "2022-12-09T14:58:45.414Z"
   },
   {
    "duration": 4,
    "start_time": "2022-12-09T14:58:45.435Z"
   },
   {
    "duration": 22,
    "start_time": "2022-12-09T14:58:45.440Z"
   },
   {
    "duration": 6,
    "start_time": "2022-12-09T14:58:45.464Z"
   },
   {
    "duration": 26,
    "start_time": "2022-12-09T14:58:45.472Z"
   },
   {
    "duration": 18,
    "start_time": "2022-12-09T14:58:45.502Z"
   },
   {
    "duration": 7,
    "start_time": "2022-12-09T14:58:45.521Z"
   },
   {
    "duration": 16,
    "start_time": "2022-12-09T14:58:45.530Z"
   },
   {
    "duration": 32,
    "start_time": "2022-12-09T14:58:45.547Z"
   },
   {
    "duration": 341,
    "start_time": "2022-12-09T14:58:45.581Z"
   },
   {
    "duration": 22,
    "start_time": "2022-12-09T14:58:45.924Z"
   },
   {
    "duration": 9,
    "start_time": "2022-12-09T14:58:45.948Z"
   },
   {
    "duration": 58,
    "start_time": "2022-12-09T14:58:45.959Z"
   },
   {
    "duration": 3,
    "start_time": "2022-12-09T14:58:46.019Z"
   },
   {
    "duration": 162,
    "start_time": "2022-12-09T14:58:46.035Z"
   },
   {
    "duration": 120,
    "start_time": "2022-12-09T14:58:46.198Z"
   },
   {
    "duration": 15,
    "start_time": "2022-12-09T14:58:46.320Z"
   },
   {
    "duration": 347,
    "start_time": "2022-12-09T14:58:46.337Z"
   },
   {
    "duration": 2456,
    "start_time": "2022-12-09T14:58:46.686Z"
   },
   {
    "duration": 361,
    "start_time": "2022-12-09T14:58:49.144Z"
   },
   {
    "duration": 346,
    "start_time": "2022-12-09T14:58:49.507Z"
   },
   {
    "duration": 10,
    "start_time": "2022-12-09T14:58:49.854Z"
   },
   {
    "duration": 126,
    "start_time": "2022-12-09T14:58:49.865Z"
   },
   {
    "duration": 14,
    "start_time": "2022-12-09T14:58:49.993Z"
   },
   {
    "duration": 26,
    "start_time": "2022-12-09T14:58:50.009Z"
   },
   {
    "duration": 5,
    "start_time": "2022-12-09T14:58:50.038Z"
   },
   {
    "duration": 23,
    "start_time": "2022-12-09T14:58:50.045Z"
   },
   {
    "duration": 4,
    "start_time": "2022-12-09T14:58:50.070Z"
   },
   {
    "duration": 23,
    "start_time": "2022-12-09T14:58:50.076Z"
   },
   {
    "duration": 15,
    "start_time": "2022-12-09T14:58:50.101Z"
   },
   {
    "duration": 24,
    "start_time": "2022-12-09T14:58:50.117Z"
   },
   {
    "duration": 8,
    "start_time": "2022-12-09T14:58:50.143Z"
   },
   {
    "duration": 18,
    "start_time": "2022-12-09T14:58:50.153Z"
   },
   {
    "duration": 17,
    "start_time": "2022-12-09T14:58:50.172Z"
   },
   {
    "duration": 13,
    "start_time": "2022-12-09T14:58:50.191Z"
   },
   {
    "duration": 5,
    "start_time": "2022-12-09T14:58:50.206Z"
   },
   {
    "duration": 26,
    "start_time": "2022-12-09T14:58:50.212Z"
   },
   {
    "duration": 47,
    "start_time": "2022-12-09T14:58:50.239Z"
   },
   {
    "duration": 8,
    "start_time": "2022-12-09T14:58:50.288Z"
   },
   {
    "duration": 80,
    "start_time": "2022-12-09T14:58:50.298Z"
   },
   {
    "duration": 23,
    "start_time": "2022-12-09T14:58:50.380Z"
   },
   {
    "duration": 4,
    "start_time": "2022-12-09T14:58:50.405Z"
   },
   {
    "duration": 31,
    "start_time": "2022-12-09T14:58:50.410Z"
   },
   {
    "duration": 344,
    "start_time": "2022-12-09T14:58:50.444Z"
   },
   {
    "duration": 7,
    "start_time": "2022-12-09T14:58:50.790Z"
   },
   {
    "duration": 22,
    "start_time": "2022-12-09T14:58:50.798Z"
   },
   {
    "duration": 495,
    "start_time": "2022-12-09T14:58:50.821Z"
   },
   {
    "duration": 335,
    "start_time": "2022-12-09T14:58:51.318Z"
   },
   {
    "duration": 327,
    "start_time": "2022-12-09T14:58:51.655Z"
   },
   {
    "duration": 305,
    "start_time": "2022-12-09T14:58:51.984Z"
   },
   {
    "duration": 380,
    "start_time": "2022-12-09T14:58:52.291Z"
   },
   {
    "duration": 418,
    "start_time": "2022-12-09T14:58:52.673Z"
   },
   {
    "duration": 296,
    "start_time": "2022-12-09T14:58:53.093Z"
   },
   {
    "duration": 15,
    "start_time": "2022-12-09T14:58:53.391Z"
   },
   {
    "duration": 28,
    "start_time": "2022-12-09T14:58:53.408Z"
   },
   {
    "duration": 383,
    "start_time": "2022-12-09T14:58:53.438Z"
   },
   {
    "duration": 190,
    "start_time": "2022-12-09T14:58:53.823Z"
   },
   {
    "duration": 9,
    "start_time": "2022-12-09T14:58:54.015Z"
   },
   {
    "duration": 1309,
    "start_time": "2022-12-09T14:58:54.035Z"
   },
   {
    "duration": 326,
    "start_time": "2022-12-09T14:58:55.349Z"
   },
   {
    "duration": 31,
    "start_time": "2022-12-09T14:58:55.677Z"
   },
   {
    "duration": 184,
    "start_time": "2022-12-09T14:58:55.709Z"
   },
   {
    "duration": 19,
    "start_time": "2022-12-09T14:58:55.895Z"
   },
   {
    "duration": 292,
    "start_time": "2022-12-09T14:58:55.916Z"
   },
   {
    "duration": 31,
    "start_time": "2022-12-09T15:04:46.910Z"
   },
   {
    "duration": 26,
    "start_time": "2022-12-09T15:05:08.804Z"
   },
   {
    "duration": 1128,
    "start_time": "2022-12-09T15:05:24.448Z"
   },
   {
    "duration": 181,
    "start_time": "2022-12-09T15:05:25.579Z"
   },
   {
    "duration": 114,
    "start_time": "2022-12-09T15:05:25.761Z"
   },
   {
    "duration": 75,
    "start_time": "2022-12-09T15:05:25.877Z"
   },
   {
    "duration": 2628,
    "start_time": "2022-12-09T15:05:25.954Z"
   },
   {
    "duration": 155,
    "start_time": "2022-12-09T15:05:28.584Z"
   },
   {
    "duration": 4,
    "start_time": "2022-12-09T15:05:28.740Z"
   },
   {
    "duration": 95,
    "start_time": "2022-12-09T15:05:28.745Z"
   },
   {
    "duration": 3,
    "start_time": "2022-12-09T15:05:28.841Z"
   },
   {
    "duration": 10,
    "start_time": "2022-12-09T15:05:28.846Z"
   },
   {
    "duration": 48,
    "start_time": "2022-12-09T15:05:28.857Z"
   },
   {
    "duration": 6,
    "start_time": "2022-12-09T15:05:28.907Z"
   },
   {
    "duration": 134,
    "start_time": "2022-12-09T15:05:28.915Z"
   },
   {
    "duration": 7,
    "start_time": "2022-12-09T15:05:29.051Z"
   },
   {
    "duration": 12,
    "start_time": "2022-12-09T15:05:29.060Z"
   },
   {
    "duration": 6,
    "start_time": "2022-12-09T15:05:29.074Z"
   },
   {
    "duration": 5,
    "start_time": "2022-12-09T15:05:29.081Z"
   },
   {
    "duration": 7,
    "start_time": "2022-12-09T15:05:29.087Z"
   },
   {
    "duration": 12,
    "start_time": "2022-12-09T15:05:29.096Z"
   },
   {
    "duration": 65,
    "start_time": "2022-12-09T15:05:29.110Z"
   },
   {
    "duration": 4,
    "start_time": "2022-12-09T15:05:29.177Z"
   },
   {
    "duration": 210,
    "start_time": "2022-12-09T15:05:29.183Z"
   },
   {
    "duration": 7,
    "start_time": "2022-12-09T15:05:29.395Z"
   },
   {
    "duration": 4,
    "start_time": "2022-12-09T15:05:29.403Z"
   },
   {
    "duration": 29,
    "start_time": "2022-12-09T15:05:29.409Z"
   },
   {
    "duration": 2,
    "start_time": "2022-12-09T15:05:29.439Z"
   },
   {
    "duration": 10,
    "start_time": "2022-12-09T15:05:29.443Z"
   },
   {
    "duration": 9,
    "start_time": "2022-12-09T15:05:29.457Z"
   },
   {
    "duration": 4,
    "start_time": "2022-12-09T15:05:29.468Z"
   },
   {
    "duration": 10,
    "start_time": "2022-12-09T15:05:29.473Z"
   },
   {
    "duration": 8,
    "start_time": "2022-12-09T15:05:29.484Z"
   },
   {
    "duration": 338,
    "start_time": "2022-12-09T15:05:29.494Z"
   },
   {
    "duration": 11,
    "start_time": "2022-12-09T15:05:29.834Z"
   },
   {
    "duration": 3,
    "start_time": "2022-12-09T15:05:29.847Z"
   },
   {
    "duration": 35,
    "start_time": "2022-12-09T15:05:29.851Z"
   },
   {
    "duration": 3,
    "start_time": "2022-12-09T15:05:29.888Z"
   },
   {
    "duration": 187,
    "start_time": "2022-12-09T15:05:29.893Z"
   },
   {
    "duration": 107,
    "start_time": "2022-12-09T15:05:30.081Z"
   },
   {
    "duration": 7,
    "start_time": "2022-12-09T15:05:30.189Z"
   },
   {
    "duration": 319,
    "start_time": "2022-12-09T15:05:30.198Z"
   },
   {
    "duration": 2333,
    "start_time": "2022-12-09T15:05:30.518Z"
   },
   {
    "duration": 334,
    "start_time": "2022-12-09T15:05:32.852Z"
   },
   {
    "duration": 330,
    "start_time": "2022-12-09T15:05:33.188Z"
   },
   {
    "duration": 15,
    "start_time": "2022-12-09T15:05:33.520Z"
   },
   {
    "duration": 117,
    "start_time": "2022-12-09T15:05:33.536Z"
   },
   {
    "duration": 13,
    "start_time": "2022-12-09T15:05:33.654Z"
   },
   {
    "duration": 10,
    "start_time": "2022-12-09T15:05:33.668Z"
   },
   {
    "duration": 4,
    "start_time": "2022-12-09T15:05:33.680Z"
   },
   {
    "duration": 17,
    "start_time": "2022-12-09T15:05:33.685Z"
   },
   {
    "duration": 3,
    "start_time": "2022-12-09T15:05:33.704Z"
   },
   {
    "duration": 40,
    "start_time": "2022-12-09T15:05:33.708Z"
   },
   {
    "duration": 7,
    "start_time": "2022-12-09T15:05:33.750Z"
   },
   {
    "duration": 8,
    "start_time": "2022-12-09T15:05:33.759Z"
   },
   {
    "duration": 8,
    "start_time": "2022-12-09T15:05:33.768Z"
   },
   {
    "duration": 9,
    "start_time": "2022-12-09T15:05:33.778Z"
   },
   {
    "duration": 15,
    "start_time": "2022-12-09T15:05:33.788Z"
   },
   {
    "duration": 35,
    "start_time": "2022-12-09T15:05:33.805Z"
   },
   {
    "duration": 7,
    "start_time": "2022-12-09T15:05:33.841Z"
   },
   {
    "duration": 12,
    "start_time": "2022-12-09T15:05:33.850Z"
   },
   {
    "duration": 42,
    "start_time": "2022-12-09T15:05:33.864Z"
   },
   {
    "duration": 27,
    "start_time": "2022-12-09T15:05:33.908Z"
   },
   {
    "duration": 48,
    "start_time": "2022-12-09T15:05:33.937Z"
   },
   {
    "duration": 26,
    "start_time": "2022-12-09T15:05:33.987Z"
   },
   {
    "duration": 22,
    "start_time": "2022-12-09T15:05:34.015Z"
   },
   {
    "duration": 127,
    "start_time": "2022-12-09T15:05:34.039Z"
   },
   {
    "duration": 308,
    "start_time": "2022-12-09T15:05:34.167Z"
   },
   {
    "duration": 6,
    "start_time": "2022-12-09T15:05:34.477Z"
   },
   {
    "duration": 16,
    "start_time": "2022-12-09T15:05:34.484Z"
   },
   {
    "duration": 496,
    "start_time": "2022-12-09T15:05:34.502Z"
   },
   {
    "duration": 319,
    "start_time": "2022-12-09T15:05:35.000Z"
   },
   {
    "duration": 324,
    "start_time": "2022-12-09T15:05:35.321Z"
   },
   {
    "duration": 266,
    "start_time": "2022-12-09T15:05:35.647Z"
   },
   {
    "duration": 297,
    "start_time": "2022-12-09T15:05:35.915Z"
   },
   {
    "duration": 402,
    "start_time": "2022-12-09T15:05:36.214Z"
   },
   {
    "duration": 316,
    "start_time": "2022-12-09T15:05:36.619Z"
   },
   {
    "duration": 15,
    "start_time": "2022-12-09T15:05:36.937Z"
   },
   {
    "duration": 8,
    "start_time": "2022-12-09T15:05:36.954Z"
   },
   {
    "duration": 359,
    "start_time": "2022-12-09T15:05:36.963Z"
   },
   {
    "duration": 176,
    "start_time": "2022-12-09T15:05:37.323Z"
   },
   {
    "duration": 7,
    "start_time": "2022-12-09T15:05:37.501Z"
   },
   {
    "duration": 1396,
    "start_time": "2022-12-09T15:05:37.510Z"
   },
   {
    "duration": 351,
    "start_time": "2022-12-09T15:05:38.911Z"
   },
   {
    "duration": 32,
    "start_time": "2022-12-09T15:05:39.264Z"
   },
   {
    "duration": 196,
    "start_time": "2022-12-09T15:05:39.297Z"
   },
   {
    "duration": 29,
    "start_time": "2022-12-09T15:05:39.496Z"
   },
   {
    "duration": 283,
    "start_time": "2022-12-09T15:05:39.536Z"
   },
   {
    "duration": 281,
    "start_time": "2022-12-09T15:06:05.977Z"
   }
  ],
  "kernelspec": {
   "display_name": "Python 3 (ipykernel)",
   "language": "python",
   "name": "python3"
  },
  "language_info": {
   "codemirror_mode": {
    "name": "ipython",
    "version": 3
   },
   "file_extension": ".py",
   "mimetype": "text/x-python",
   "name": "python",
   "nbconvert_exporter": "python",
   "pygments_lexer": "ipython3",
   "version": "3.9.13"
  },
  "toc": {
   "base_numbering": 1,
   "nav_menu": {},
   "number_sections": true,
   "sideBar": true,
   "skip_h1_title": true,
   "title_cell": "Table of Contents",
   "title_sidebar": "Contents",
   "toc_cell": false,
   "toc_position": {
    "height": "calc(100% - 180px)",
    "left": "10px",
    "top": "150px",
    "width": "208px"
   },
   "toc_section_display": true,
   "toc_window_display": true
  }
 },
 "nbformat": 4,
 "nbformat_minor": 5
}
