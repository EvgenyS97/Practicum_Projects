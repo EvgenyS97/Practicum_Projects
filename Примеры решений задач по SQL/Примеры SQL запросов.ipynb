{
 "cells": [
  {
   "cell_type": "markdown",
   "id": "d9873fe4",
   "metadata": {},
   "source": [
    "# ЗАДАЧА 1\n",
    "Необходимо написать запрос, который выгрузит данные из БД о пользователях из Канады, при этом разделив их на три группы.\n",
    "\n",
    "РЕШЕНИЕ:\n",
    "\n",
    "    SELECT id, views,\n",
    "    CASE\n",
    "           WHEN views <100 THEN 3\n",
    "           WHEN views >=100 AND views <350 THEN 2\n",
    "           WHEN views>=350 THEN 1\n",
    "    END as group\n",
    "    FROM stackoverflow.users\n",
    "    WHERE location LIKE '%Canada%' AND views > 0"
   ]
  },
  {
   "cell_type": "markdown",
   "id": "2d712f41",
   "metadata": {},
   "source": [
    "# ЗАДАЧА 2\n",
    "\n",
    "Дополнить предыдущий запрос так, чтобы были отображены лидеры групп. Лидерство определяется наибольшим числом просмотров в группе.\n",
    "\n",
    "РЕШЕНИЕ:\n",
    "\n",
    "    WITH user_table AS (\n",
    "                        SELECT id,\n",
    "                               views,\n",
    "                               CASE\n",
    "                                   WHEN views <100 THEN 3\n",
    "                                   WHEN views >=100 AND views <350 THEN 2\n",
    "                                   WHEN views>=350 THEN 1\n",
    "                               END as user_group\n",
    "                        FROM stackoverflow.users\n",
    "                        WHERE location LIKE '%Canada%' AND views > 0\n",
    "                        )\n",
    "    SELECT id, user_group, views\n",
    "    FROM user_table\n",
    "    WHERE views IN (\n",
    "                    SELECT max_views\n",
    "                    FROM(\n",
    "                            SELECT user_group, MAX(views) as max_views\n",
    "                            FROM user_table\n",
    "                            GROUP BY user_group) as t1\n",
    "                    )\n",
    "    ORDER BY views DESC, id"
   ]
  },
  {
   "cell_type": "markdown",
   "id": "26438a85",
   "metadata": {},
   "source": [
    "# ЗАДАЧА 3\n",
    "\n",
    "Необходимо выяснить, какие пары товаров покупают вместе чаще всего.\n",
    "\n",
    "Пары товаров должны быть представлены в виде списков из двух наименований. Пары товаров внутри списков должны быть отсортированы в порядке возрастания наименования. Результат отсортируйте сначала по убыванию частоты встречаемости пары товаров в заказах, затем по колонке pair — по возрастанию.\n",
    "\n",
    "Сложность заключается в том, что товары внсены списком в поле product_ids, и их необходимо сначала выделить из списка.\n",
    "\n",
    "РЕШЕНИЕ:\n",
    "\n",
    "    WITH cte AS (\n",
    "                 SELECT order_id,\n",
    "                        name as product_name\n",
    "                 FROM   (\n",
    "                         SELECT order_id,\n",
    "                                unnest(product_ids) AS ids\n",
    "                         FROM   orders\n",
    "                         WHERE  order_id NOT IN (SELECT order_id\n",
    "                                                 FROM   user_actions\n",
    "                                                 WHERE  action = 'cancel_order')\n",
    "                         ) as sq1\n",
    "                     LEFT JOIN products as p ON p.product_id = sq1.ids\n",
    "                 ), \n",
    "         cte2 AS (\n",
    "                    SELECT DISTINCT order_id,\n",
    "                            array[t1.product_name, t2.product_name] as pair\n",
    "                    FROM   cte as t1 join cte as t2 using(order_id)\n",
    "                    WHERE  t1.order_id = t2.order_id\n",
    "                    AND t1.product_name <> t2.product_name\n",
    "                    AND t1.product_name < t2.product_name\n",
    "                 )\n",
    "        SELECT pair,\n",
    "               count(*) as count_pair\n",
    "        FROM   cte2\n",
    "        GROUP BY pair\n",
    "        ORDER BY count_pair desc, pair"
   ]
  },
  {
   "cell_type": "markdown",
   "id": "29fd5f41",
   "metadata": {},
   "source": [
    "# ЗАДАЧА 4\n",
    "Найти скользящее среднее по количеству заказов за 3 предыдущих дня\n",
    "\n",
    "    SELECT date,\n",
    "           orders_count,\n",
    "           round(avg(orders_count) OVER (ORDER BY date rows between 3 preceding and 1 preceding),\n",
    "                 2) as moving_avg\n",
    "    FROM   (SELECT creation_time::date as date,\n",
    "                   count(order_id) as orders_count\n",
    "            FROM   orders\n",
    "            WHERE  order_id not in (SELECT order_id\n",
    "                                    FROM   user_actions\n",
    "                                    WHERE  action = 'cancel_order')\n",
    "            GROUP BY date\n",
    "            ORDER BY date) as t"
   ]
  },
  {
   "cell_type": "code",
   "execution_count": null,
   "id": "375f281d",
   "metadata": {},
   "outputs": [],
   "source": []
  }
 ],
 "metadata": {
  "kernelspec": {
   "display_name": "Python 3 (ipykernel)",
   "language": "python",
   "name": "python3"
  },
  "language_info": {
   "codemirror_mode": {
    "name": "ipython",
    "version": 3
   },
   "file_extension": ".py",
   "mimetype": "text/x-python",
   "name": "python",
   "nbconvert_exporter": "python",
   "pygments_lexer": "ipython3",
   "version": "3.9.13"
  }
 },
 "nbformat": 4,
 "nbformat_minor": 5
}
